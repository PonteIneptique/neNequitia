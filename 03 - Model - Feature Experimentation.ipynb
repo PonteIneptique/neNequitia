{
 "cells": [
  {
   "cell_type": "code",
   "execution_count": 1,
   "id": "0985c57d",
   "metadata": {},
   "outputs": [],
   "source": [
    "import pandas as pd\n",
    "import numpy as np"
   ]
  },
  {
   "cell_type": "code",
   "execution_count": 2,
   "id": "5cdb2760",
   "metadata": {},
   "outputs": [
    {
     "name": "stdout",
     "output_type": "stream",
     "text": [
      "['Acceptable', 'Bad', 'Good', 'Very bad']\n"
     ]
    }
   ],
   "source": [
    "df = pd.read_hdf(\"features.hdf5\", key=\"df\", index_col=0)\n",
    "#df.drop(['manuscript', 'page_id', \"line_id\", \"transcription\"], axis=1, inplace=True)\n",
    "df[\"K\"] = 0\n",
    "print(sorted(df.bin.unique()))"
   ]
  },
  {
   "cell_type": "code",
   "execution_count": 3,
   "id": "bafb9b19",
   "metadata": {},
   "outputs": [
    {
     "data": {
      "text/html": [
       "<div>\n",
       "<style scoped>\n",
       "    .dataframe tbody tr th:only-of-type {\n",
       "        vertical-align: middle;\n",
       "    }\n",
       "\n",
       "    .dataframe tbody tr th {\n",
       "        vertical-align: top;\n",
       "    }\n",
       "\n",
       "    .dataframe thead th {\n",
       "        text-align: right;\n",
       "    }\n",
       "</style>\n",
       "<table border=\"1\" class=\"dataframe\">\n",
       "  <thead>\n",
       "    <tr style=\"text-align: right;\">\n",
       "      <th></th>\n",
       "      <th>idx</th>\n",
       "      <th>bin</th>\n",
       "      <th>lang</th>\n",
       "      <th>transcription</th>\n",
       "      <th>manuscript</th>\n",
       "      <th>page_id</th>\n",
       "      <th>line_id</th>\n",
       "      <th>CER</th>\n",
       "      <th>$_q̃</th>\n",
       "      <th>$q̃_</th>\n",
       "      <th>...</th>\n",
       "      <th>$iez</th>\n",
       "      <th>$gie</th>\n",
       "      <th>$loi</th>\n",
       "      <th>$uei</th>\n",
       "      <th>$aen</th>\n",
       "      <th>$nz_</th>\n",
       "      <th>$esc</th>\n",
       "      <th>$inz</th>\n",
       "      <th>$r_⁊</th>\n",
       "      <th>K</th>\n",
       "    </tr>\n",
       "  </thead>\n",
       "  <tbody>\n",
       "    <tr>\n",
       "      <th>0</th>\n",
       "      <td>184114</td>\n",
       "      <td>Good</td>\n",
       "      <td>fro</td>\n",
       "      <td>diuine chose.Apres ce bien lespace de.u.</td>\n",
       "      <td>bnf_fr_412_wauchier</td>\n",
       "      <td>50</td>\n",
       "      <td>44</td>\n",
       "      <td>4.878906</td>\n",
       "      <td>NaN</td>\n",
       "      <td>NaN</td>\n",
       "      <td>...</td>\n",
       "      <td>NaN</td>\n",
       "      <td>NaN</td>\n",
       "      <td>NaN</td>\n",
       "      <td>NaN</td>\n",
       "      <td>NaN</td>\n",
       "      <td>NaN</td>\n",
       "      <td>NaN</td>\n",
       "      <td>NaN</td>\n",
       "      <td>NaN</td>\n",
       "      <td>0</td>\n",
       "    </tr>\n",
       "    <tr>\n",
       "      <th>1</th>\n",
       "      <td>81772</td>\n",
       "      <td>Very bad</td>\n",
       "      <td>fro</td>\n",
       "      <td>t ts rs si t aẽl</td>\n",
       "      <td>bnf__arsenal3516_imagedumonde</td>\n",
       "      <td>6</td>\n",
       "      <td>163</td>\n",
       "      <td>58.625000</td>\n",
       "      <td>NaN</td>\n",
       "      <td>NaN</td>\n",
       "      <td>...</td>\n",
       "      <td>NaN</td>\n",
       "      <td>NaN</td>\n",
       "      <td>NaN</td>\n",
       "      <td>NaN</td>\n",
       "      <td>NaN</td>\n",
       "      <td>NaN</td>\n",
       "      <td>NaN</td>\n",
       "      <td>NaN</td>\n",
       "      <td>NaN</td>\n",
       "      <td>0</td>\n",
       "    </tr>\n",
       "    <tr>\n",
       "      <th>2</th>\n",
       "      <td>348290</td>\n",
       "      <td>Good</td>\n",
       "      <td>fro</td>\n",
       "      <td>signor ⁊agemir ⁊aplorer.por ce qe tant</td>\n",
       "      <td>bnf_fr_412_wauchier</td>\n",
       "      <td>38</td>\n",
       "      <td>36</td>\n",
       "      <td>0.000000</td>\n",
       "      <td>NaN</td>\n",
       "      <td>NaN</td>\n",
       "      <td>...</td>\n",
       "      <td>NaN</td>\n",
       "      <td>NaN</td>\n",
       "      <td>NaN</td>\n",
       "      <td>NaN</td>\n",
       "      <td>NaN</td>\n",
       "      <td>NaN</td>\n",
       "      <td>NaN</td>\n",
       "      <td>NaN</td>\n",
       "      <td>0.055542</td>\n",
       "      <td>0</td>\n",
       "    </tr>\n",
       "    <tr>\n",
       "      <th>3</th>\n",
       "      <td>51822</td>\n",
       "      <td>Acceptable</td>\n",
       "      <td>lat</td>\n",
       "      <td>¶louatibi due.qui natus</td>\n",
       "      <td>SBB_PK_Hdschr25</td>\n",
       "      <td>7</td>\n",
       "      <td>1</td>\n",
       "      <td>23.078125</td>\n",
       "      <td>NaN</td>\n",
       "      <td>NaN</td>\n",
       "      <td>...</td>\n",
       "      <td>NaN</td>\n",
       "      <td>NaN</td>\n",
       "      <td>NaN</td>\n",
       "      <td>NaN</td>\n",
       "      <td>NaN</td>\n",
       "      <td>NaN</td>\n",
       "      <td>NaN</td>\n",
       "      <td>NaN</td>\n",
       "      <td>NaN</td>\n",
       "      <td>0</td>\n",
       "    </tr>\n",
       "    <tr>\n",
       "      <th>4</th>\n",
       "      <td>52653</td>\n",
       "      <td>Acceptable</td>\n",
       "      <td>lat</td>\n",
       "      <td>ẽ ĩsinc malitie ⁊dic. Et cũẽ uũd aut spum...</td>\n",
       "      <td>CLM13027</td>\n",
       "      <td>0</td>\n",
       "      <td>36</td>\n",
       "      <td>17.734375</td>\n",
       "      <td>NaN</td>\n",
       "      <td>NaN</td>\n",
       "      <td>...</td>\n",
       "      <td>NaN</td>\n",
       "      <td>NaN</td>\n",
       "      <td>NaN</td>\n",
       "      <td>NaN</td>\n",
       "      <td>NaN</td>\n",
       "      <td>NaN</td>\n",
       "      <td>NaN</td>\n",
       "      <td>NaN</td>\n",
       "      <td>NaN</td>\n",
       "      <td>0</td>\n",
       "    </tr>\n",
       "  </tbody>\n",
       "</table>\n",
       "<p>5 rows × 1009 columns</p>\n",
       "</div>"
      ],
      "text/plain": [
       "      idx         bin lang                                      transcription  \\\n",
       "0  184114        Good  fro           diuine chose.Apres ce bien lespace de.u.   \n",
       "1   81772    Very bad  fro                                  t ts rs si t aẽl   \n",
       "2  348290        Good  fro             signor ⁊agemir ⁊aplorer.por ce qe tant   \n",
       "3   51822  Acceptable  lat                            ¶louatibi due.qui natus   \n",
       "4   52653  Acceptable  lat  ẽ ĩsinc malitie ⁊dic. Et cũẽ uũd aut spum...   \n",
       "\n",
       "                      manuscript  page_id  line_id        CER  $_q̃  $q̃_  \\\n",
       "0            bnf_fr_412_wauchier       50       44   4.878906   NaN   NaN   \n",
       "1  bnf__arsenal3516_imagedumonde        6      163  58.625000   NaN   NaN   \n",
       "2            bnf_fr_412_wauchier       38       36   0.000000   NaN   NaN   \n",
       "3                SBB_PK_Hdschr25        7        1  23.078125   NaN   NaN   \n",
       "4                       CLM13027        0       36  17.734375   NaN   NaN   \n",
       "\n",
       "   ...  $iez  $gie  $loi  $uei  $aen  $nz_  $esc  $inz      $r_⁊  K  \n",
       "0  ...   NaN   NaN   NaN   NaN   NaN   NaN   NaN   NaN       NaN  0  \n",
       "1  ...   NaN   NaN   NaN   NaN   NaN   NaN   NaN   NaN       NaN  0  \n",
       "2  ...   NaN   NaN   NaN   NaN   NaN   NaN   NaN   NaN  0.055542  0  \n",
       "3  ...   NaN   NaN   NaN   NaN   NaN   NaN   NaN   NaN       NaN  0  \n",
       "4  ...   NaN   NaN   NaN   NaN   NaN   NaN   NaN   NaN       NaN  0  \n",
       "\n",
       "[5 rows x 1009 columns]"
      ]
     },
     "execution_count": 3,
     "metadata": {},
     "output_type": "execute_result"
    }
   ],
   "source": [
    "df.head()"
   ]
  },
  {
   "cell_type": "code",
   "execution_count": 4,
   "id": "3b9a49f0",
   "metadata": {},
   "outputs": [
    {
     "data": {
      "text/plain": [
       "array(['Good', 'Very bad', 'Acceptable', 'Bad'], dtype=object)"
      ]
     },
     "execution_count": 4,
     "metadata": {},
     "output_type": "execute_result"
    }
   ],
   "source": [
    "df.bin.unique()"
   ]
  },
  {
   "cell_type": "markdown",
   "id": "3ed1e4fd",
   "metadata": {},
   "source": [
    "# Generate K-Folds class"
   ]
  },
  {
   "cell_type": "code",
   "execution_count": null,
   "id": "d429c12f",
   "metadata": {},
   "outputs": [],
   "source": []
  },
  {
   "cell_type": "code",
   "execution_count": null,
   "id": "c08dcee7",
   "metadata": {},
   "outputs": [],
   "source": []
  },
  {
   "cell_type": "markdown",
   "id": "f2484558",
   "metadata": {},
   "source": [
    "## Memory footprint"
   ]
  },
  {
   "cell_type": "code",
   "execution_count": 5,
   "id": "fe743528",
   "metadata": {
    "scrolled": true
   },
   "outputs": [
    {
     "name": "stdout",
     "output_type": "stream",
     "text": [
      "<class 'pandas.core.frame.DataFrame'>\n",
      "Int64Index: 265025 entries, 0 to 265024\n",
      "Columns: 1009 entries, idx to K\n",
      "dtypes: float16(1001), int16(2), int32(1), int64(1), object(4)\n",
      "memory usage: 593.9 MB\n",
      "Memory None\n"
     ]
    }
   ],
   "source": [
    "print(f\"Memory {df.info(memory_usage='deep')}\")"
   ]
  },
  {
   "cell_type": "markdown",
   "id": "2c8ed34b",
   "metadata": {},
   "source": [
    "## Function to retrieve a K-Fold set"
   ]
  },
  {
   "cell_type": "code",
   "execution_count": 6,
   "id": "c94ba70a",
   "metadata": {},
   "outputs": [
    {
     "data": {
      "text/plain": [
       "(           idx         bin lang                             transcription  \\\n",
       " 0       184114        Good  fro  diuine chose.Apres ce bien lespace de.u.   \n",
       " 2       348290        Good  fro    signor ⁊agemir ⁊aplorer.por ce qe tant   \n",
       " 3        51822  Acceptable  lat                   ¶louatibi due.qui natus   \n",
       " 5        98068         Bad  fro            mour layaole geudus auoit due.   \n",
       " 6       339931        Good  fro            u ltre li met lenseinie aliant   \n",
       " ...        ...         ...  ...                                       ...   \n",
       " 265019   24552        Good  lat       nũc exceamur. nc gestemur. nc pran   \n",
       " 265020   54456         Bad  lat   sts Otiñ de diisirate Ri dilisificac̃e   \n",
       " 265021  243905        Good  fro                gñt bien venir. Elle dist   \n",
       " 265022   99787         Bad  fro    quotreleou les rechez illor serourrele   \n",
       " 265024  219581         Bad  fro               eus mr hidite hion ił  eou   \n",
       " \n",
       "                      manuscript  page_id  line_id        CER  $_q̃  $q̃_  ...  \\\n",
       " 0           bnf_fr_412_wauchier       50       44   4.878906   NaN   NaN  ...   \n",
       " 2           bnf_fr_412_wauchier       38       36   0.000000   NaN   NaN  ...   \n",
       " 3               SBB_PK_Hdschr25        7        1  23.078125   NaN   NaN  ...   \n",
       " 5           bnf_fr_412_wauchier       51       72  31.421875   NaN   NaN  ...   \n",
       " 6             bodmer_168_otinel       21       82   0.000000   NaN   NaN  ...   \n",
       " ...                         ...      ...      ...        ...   ...   ...  ...   \n",
       " 265019                Arras-861        0       67   7.894531   NaN   NaN  ...   \n",
       " 265020               Latin16195        0      119  40.906250   NaN   NaN  ...   \n",
       " 265021  bnf_fr_22549_sept_sages        1       94   7.691406   NaN   NaN  ...   \n",
       " 265022      bnf_fr_412_wauchier       61       70  28.265625   NaN   NaN  ...   \n",
       " 265024        bodmer_168_otinel        7        1  46.875000   NaN   NaN  ...   \n",
       " \n",
       "         $iez  $gie  $loi  $uei  $aen  $nz_  $esc  $inz      $r_⁊  K  \n",
       " 0        NaN   NaN   NaN   NaN   NaN   NaN   NaN   NaN       NaN  0  \n",
       " 2        NaN   NaN   NaN   NaN   NaN   NaN   NaN   NaN  0.055542  0  \n",
       " 3        NaN   NaN   NaN   NaN   NaN   NaN   NaN   NaN       NaN  0  \n",
       " 5        NaN   NaN   NaN   NaN   NaN   NaN   NaN   NaN       NaN  0  \n",
       " 6        NaN   NaN   NaN   NaN   NaN   NaN   NaN   NaN       NaN  0  \n",
       " ...      ...   ...   ...   ...   ...   ...   ...   ...       ... ..  \n",
       " 265019   NaN   NaN   NaN   NaN   NaN   NaN   NaN   NaN       NaN  0  \n",
       " 265020   NaN   NaN   NaN   NaN   NaN   NaN   NaN   NaN       NaN  0  \n",
       " 265021   NaN   NaN   NaN   NaN   NaN   NaN   NaN   NaN       NaN  0  \n",
       " 265022   NaN   NaN   NaN   NaN   NaN   NaN   NaN   NaN       NaN  0  \n",
       " 265024   NaN   NaN   NaN   NaN   NaN   NaN   NaN   NaN       NaN  0  \n",
       " \n",
       " [206934 rows x 1009 columns],\n",
       "            idx         bin lang  \\\n",
       " 1        81772    Very bad  fro   \n",
       " 4        52653  Acceptable  lat   \n",
       " 11      236705         Bad  fro   \n",
       " 19       24785         Bad  lat   \n",
       " 23       22976         Bad  lat   \n",
       " ...        ...         ...  ...   \n",
       " 264980   52462         Bad  lat   \n",
       " 264989   10253    Very bad  lat   \n",
       " 264995  157357  Acceptable  fro   \n",
       " 265001   81394    Very bad  fro   \n",
       " 265017   23197         Bad  lat   \n",
       " \n",
       "                                             transcription  \\\n",
       " 1                                       t ts rs si t aẽl   \n",
       " 4       ẽ ĩsinc malitie ⁊dic. Et cũẽ uũd aut spum...   \n",
       " 11                         n fot ⁊ hoã r s̃ i fussã poa   \n",
       " 19      fuestantias aut ters sgus ioufitetur fiat frai...   \n",
       " 23      e q̃ sie n ggius ipcs mirabl resili q pcep ud̃...   \n",
       " ...                                                   ...   \n",
       " 264980  sal uata ciabmiet og̃uto aũ ploget eguudo. he...   \n",
       " 264989          moe cai e se a io e atlete da eet ceos fo   \n",
       " 264995                            slisimes ars est musiq̃   \n",
       " 265001                                   pẽ ptẽ de p nt   \n",
       " 265017                n flaat tl nacil ẽ aridit tormic   \n",
       " \n",
       "                            manuscript  page_id  line_id        CER      $_q̃  \\\n",
       " 1       bnf__arsenal3516_imagedumonde        6      163  58.625000       NaN   \n",
       " 4                            CLM13027        0       36  17.734375       NaN   \n",
       " 11                       BnF_fr_25516        1       14  37.843750       NaN   \n",
       " 19                       CCCC-MSS-165        3       13  28.812500       NaN   \n",
       " 23                           CLM13027        2       22  44.312500  0.016129   \n",
       " ...                               ...      ...      ...        ...       ...   \n",
       " 264980                       CLM13027        2       94  45.218750       NaN   \n",
       " 264989                       CLM13027        4        0  62.062500       NaN   \n",
       " 264995  bnf__arsenal3516_imagedumonde        8      202  12.500000       NaN   \n",
       " 265001  bnf__arsenal3516_imagedumonde        4      188  69.250000       NaN   \n",
       " 265017                       CLM13027        3      117  43.906250       NaN   \n",
       " \n",
       "             $q̃_  ...  $iez  $gie  $loi  $uei  $aen  $nz_  $esc  $inz  $r_⁊  K  \n",
       " 1            NaN  ...   NaN   NaN   NaN   NaN   NaN   NaN   NaN   NaN   NaN  0  \n",
       " 4            NaN  ...   NaN   NaN   NaN   NaN   NaN   NaN   NaN   NaN   NaN  0  \n",
       " 11           NaN  ...   NaN   NaN   NaN   NaN   NaN   NaN   NaN   NaN   NaN  0  \n",
       " 19           NaN  ...   NaN   NaN   NaN   NaN   NaN   NaN   NaN   NaN   NaN  0  \n",
       " 23      0.016129  ...   NaN   NaN   NaN   NaN   NaN   NaN   NaN   NaN   NaN  0  \n",
       " ...          ...  ...   ...   ...   ...   ...   ...   ...   ...   ...   ... ..  \n",
       " 264980       NaN  ...   NaN   NaN   NaN   NaN   NaN   NaN   NaN   NaN   NaN  0  \n",
       " 264989       NaN  ...   NaN   NaN   NaN   NaN   NaN   NaN   NaN   NaN   NaN  0  \n",
       " 264995       NaN  ...   NaN   NaN   NaN   NaN   NaN   NaN   NaN   NaN   NaN  0  \n",
       " 265001       NaN  ...   NaN   NaN   NaN   NaN   NaN   NaN   NaN   NaN   NaN  0  \n",
       " 265017       NaN  ...   NaN   NaN   NaN   NaN   NaN   NaN   NaN   NaN   NaN  0  \n",
       " \n",
       " [37111 rows x 1009 columns],\n",
       "            idx         bin lang  \\\n",
       " 8       321089        Good  fro   \n",
       " 9        62033    Very bad  lat   \n",
       " 46      211453         Bad  fro   \n",
       " 50       62058    Very bad  lat   \n",
       " 53      235348         Bad  fro   \n",
       " ...        ...         ...  ...   \n",
       " 264983  167238        Good  fro   \n",
       " 265007  215027  Acceptable  fro   \n",
       " 265013   42006    Very bad  lat   \n",
       " 265014  103199         Bad  fro   \n",
       " 265023   48566         Bad  lat   \n",
       " \n",
       "                                             transcription  \\\n",
       " 8                          J a nensera cuns seul enlamble   \n",
       " 9       s ̃tint᷑ dsitad. dmnlt. q dĩ at ⁊̃hut sonmni᷑...   \n",
       " 46                      qs dom qneemnẽz damedtn ili fore   \n",
       " 50      nẽt ad cip̃ p anũ moant̃ funiꝰ er hudiente h...   \n",
       " 53                                  saitits a delitonises   \n",
       " ...                                                   ...   \n",
       " 264983                        c ontre amalec se ꝯbatoient   \n",
       " 265007                   Mi lt ia gent si comi moi sãbie   \n",
       " 265013  ⁊iion seĩi si eti nele. detis. etr. aar oie s...   \n",
       " 265014                          6 ous lu entrauex en lami   \n",
       " 265023  dle. .⁊. susimi ⁊ sic ea sticet ⁊ ia mone uela...   \n",
       " \n",
       "                                manuscript  page_id  line_id        CER  $_q̃  \\\n",
       " 8                  bnf_fr_24428_bestiaire       10       52   6.667969   NaN   \n",
       " 9                                    H318        4       45  63.218750   NaN   \n",
       " 46      BnF_fr_411_saintLambert_microfilm        0       91  39.406250   NaN   \n",
       " 50                                   H318        4       70  52.062500   NaN   \n",
       " 53                 bnf_fr_24428_bestiaire        3        3  41.656250   NaN   \n",
       " ...                                   ...      ...      ...        ...   ...   \n",
       " 264983             bnf_fr_24428_bestiaire        2       18   3.703125   NaN   \n",
       " 265007             bnf_fr_24428_bestiaire       14       37  16.125000   NaN   \n",
       " 265013                               H318        2       25  62.343750   NaN   \n",
       " 265014             bnf_fr_24428_bestiaire        0       54  33.343750   NaN   \n",
       " 265023                               H318        2       59  47.875000   NaN   \n",
       " \n",
       "         $q̃_  ...  $iez  $gie  $loi  $uei  $aen  $nz_  $esc  $inz  $r_⁊  K  \n",
       " 8        NaN  ...   NaN   NaN   NaN   NaN   NaN   NaN   NaN   NaN   NaN  0  \n",
       " 9        NaN  ...   NaN   NaN   NaN   NaN   NaN   NaN   NaN   NaN   NaN  0  \n",
       " 46       NaN  ...   NaN   NaN   NaN   NaN   NaN   NaN   NaN   NaN   NaN  0  \n",
       " 50       NaN  ...   NaN   NaN   NaN   NaN   NaN   NaN   NaN   NaN   NaN  0  \n",
       " 53       NaN  ...   NaN   NaN   NaN   NaN   NaN   NaN   NaN   NaN   NaN  0  \n",
       " ...      ...  ...   ...   ...   ...   ...   ...   ...   ...   ...   ... ..  \n",
       " 264983   NaN  ...   NaN   NaN   NaN   NaN   NaN   NaN   NaN   NaN   NaN  0  \n",
       " 265007   NaN  ...   NaN   NaN   NaN   NaN   NaN   NaN   NaN   NaN   NaN  0  \n",
       " 265013   NaN  ...   NaN   NaN   NaN   NaN   NaN   NaN   NaN   NaN   NaN  0  \n",
       " 265014   NaN  ...   NaN   NaN   NaN   NaN   NaN   NaN   NaN   NaN   NaN  0  \n",
       " 265023   NaN  ...   NaN   NaN   NaN   NaN   NaN   NaN   NaN   NaN   NaN  0  \n",
       " \n",
       " [20980 rows x 1009 columns])"
      ]
     },
     "execution_count": 6,
     "metadata": {},
     "output_type": "execute_result"
    }
   ],
   "source": [
    "from nenequitia.contrib import get_manuscripts_and_lang_kfolds\n",
    "\n",
    "# get_manuscripts_and_lang_kfolds(df, k=1)"
   ]
  },
  {
   "cell_type": "markdown",
   "id": "6807af62",
   "metadata": {},
   "source": [
    "## Model"
   ]
  },
  {
   "cell_type": "code",
   "execution_count": 12,
   "id": "44f89500",
   "metadata": {},
   "outputs": [],
   "source": [
    "import json\n",
    "import random\n",
    "\n",
    "import tqdm\n",
    "import torch.nn as nn\n",
    "import torch\n",
    "from torch.autograd import Variable\n",
    "from sklearn.metrics import ConfusionMatrixDisplay, classification_report, accuracy_score\n",
    "from typing import List, Optional\n",
    "\n",
    "        \n",
    "def var(X):\n",
    "    return torch.from_numpy(X).cuda()\n",
    "\n",
    "\n",
    "class NgramModel(nn.Module):\n",
    "    def __init__(self, features, output_dim, device=\"cuda:0\"):\n",
    "        super(NgramModel, self).__init__()\n",
    "        self.out = output_dim\n",
    "        self.features = features or ()\n",
    "        self.inp = len(self.features)\n",
    "        self.net = nn.Sequential(\n",
    "            nn.Linear(self.inp, 128),\n",
    "            nn.Dropout(.1),\n",
    "            #nn.Linear(512, 128),\n",
    "            #nn.Dropout(.1),\n",
    "            nn.Linear(128, self.out)\n",
    "        )\n",
    "        self.to(device)\n",
    "        \n",
    "    def get_batches(\n",
    "        self,\n",
    "        dataframe,\n",
    "        indexes: Optional[List[int]],\n",
    "        has_truth: bool = False,\n",
    "        batch_size=256\n",
    "    ):\n",
    "        if has_truth:\n",
    "            random.shuffle(indexes)\n",
    "        samples = len(indexes)\n",
    "        \n",
    "        for batch_start in range(0, samples, batch_size):\n",
    "            batch_end = min(batch_start+batch_size, samples)\n",
    "            loc_indexes = indexes[batch_start:batch_end]\n",
    "            if has_truth:\n",
    "                yield (\n",
    "                    var(dataframe.loc[loc_indexes, self.features].fillna(.0).to_numpy()),\n",
    "                    var(dataframe.loc[loc_indexes, [\"bin\"]].to_numpy(dtype=\"l\")).squeeze(),\n",
    "                )\n",
    "            else:\n",
    "                yield (\n",
    "                    var(dataframe.loc[loc_indexes, self.features].fillna(.0).to_numpy()),\n",
    "                    None\n",
    "                )\n",
    "                \n",
    "    def forward(self, x):\n",
    "        return self.net(x.float())\n",
    "        \n",
    "    def fit(\n",
    "        self, \n",
    "        dataframe: pd.DataFrame,\n",
    "        train_indexes: List[int], dev_indexes: List[int],\n",
    "        epochs=1000, max_bad_epochs=20, batch_size=512, \n",
    "        lr=5e-3, delta=.005, use_loss: bool = True\n",
    "    ):\n",
    "        criterion = torch.nn.CrossEntropyLoss()\n",
    "        dev_loss = nn.CrossEntropyLoss()\n",
    "        optimizer = torch.optim.Adam(self.parameters(), lr=lr)\n",
    "\n",
    "        best = float(\"-inf\")\n",
    "        if use_loss:\n",
    "            best = float(\"inf\")\n",
    "\n",
    "        bad_epochs = 0\n",
    "        best_params = self.state_dict()\n",
    "\n",
    "        nb_batches = df.shape[0] // batch_size\n",
    "        for epoch in (pbar := tqdm.tqdm(range(epochs))):\n",
    "\n",
    "            for batch_idx, (xs, ys) in (pbar2 := tqdm.autonotebook.tqdm(enumerate(\n",
    "                self.get_batches(dataframe, train_indexes, batch_size=batch_size, has_truth=True)\n",
    "            ), leave=True, position=0)):\n",
    "                outputs = self(xs)\n",
    "                loss = criterion(outputs, ys)\n",
    "                loss.backward()\n",
    "                pbar2.set_description(f'Loss:{loss.item():.3f}')\n",
    "\n",
    "            # update parameters\n",
    "            optimizer.step()\n",
    "            optimizer.zero_grad()\n",
    "\n",
    "            self.eval()\n",
    "            predicted = []\n",
    "            total_ys = []\n",
    "            epoch_loss = torch.tensor(.0).cpu().item()\n",
    "\n",
    "            for batch_idx, (xs, ys) in tqdm.autonotebook.tqdm(enumerate(\n",
    "                self.get_batches(dataframe, dev_indexes, batch_size=batch_size, has_truth=True)\n",
    "            ), leave=True, position=1):\n",
    "                outputs = self(xs)\n",
    "                loss = dev_loss(outputs, ys)\n",
    "                epoch_loss += loss.item()\n",
    "\n",
    "                predicted.extend(outputs.argmax(dim=-1).cpu().flatten().tolist())\n",
    "                total_ys.extend(ys.tolist())\n",
    "\n",
    "\n",
    "            acc = accuracy_score(predicted, total_ys)\n",
    "            epoch_loss = epoch_loss / (batch_idx + 1)\n",
    "            self.train()\n",
    "\n",
    "            factor = 100\n",
    "\n",
    "            if use_loss:\n",
    "                factor = 1\n",
    "                if abs(epoch_loss - best) > delta and epoch_loss < best:\n",
    "                    best = epoch_loss\n",
    "                    bad_epochs = 0\n",
    "                    best_params = self.state_dict()\n",
    "                else:\n",
    "                    bad_epochs += 1\n",
    "                    if bad_epochs == max_bad_epochs + 1:\n",
    "                        break\n",
    "            else:\n",
    "                if abs(acc - best) > delta and acc > best:\n",
    "                    best = acc\n",
    "                    bad_epochs = 0\n",
    "                    best_params = self.state_dict()\n",
    "                else:\n",
    "                    bad_epochs += 1\n",
    "                    if bad_epochs == max_bad_epochs + 1:\n",
    "                        break\n",
    "\n",
    "            pbar.set_description(f'BAD:{bad_epochs:0>2} LOSS:{epoch_loss:.2f} ACC:{acc*100:.1f} BEST:{best*factor:.1f}')\n",
    "\n",
    "            #if accum_loss < 2e-5:\n",
    "            #    break\n",
    "        print(\"Loading best params...\")\n",
    "        self.load_state_dict(best_params)\n",
    "        self.eval()\n",
    "        \n",
    "    def pred_dataframe(self, dataframe: pd.DataFrame, indexes: List[int], batch_size=256, _verbose=False):\n",
    "        out = []\n",
    "        if _verbose:\n",
    "            deco = tqdm.tqdm\n",
    "        else:\n",
    "            deco = lambda x: x\n",
    "        for x, _ in deco(self.get_batches(dataframe, indexes, batch_size=batch_size)):\n",
    "            out.extend(self(x).argmax(dim=-1).cpu().flatten().tolist())\n",
    "        return np.array(out)\n",
    "        \n",
    "    def pred(self, inputs, batch_size=256, _verbose=False):\n",
    "        out = []\n",
    "        if _verbose:\n",
    "            deco = tqdm.autonotebook.tqdm\n",
    "        else:\n",
    "            deco = lambda x: x\n",
    "        for x, _ in deco(self.get_batches(inputs, batch_size=batch_size)):\n",
    "            out.extend(self(x.float()).argmax(dim=-1).cpu().flatten().tolist())\n",
    "        return np.array(out)\n",
    "    \n",
    "    def save(self, name):\n",
    "        torch.save(self.state_dict(), f\"{name}.pt\")\n",
    "        with open(f\"{name}.json\", \"w\") as f:\n",
    "            json.dump(self.features, f)"
   ]
  },
  {
   "cell_type": "markdown",
   "id": "0277a264",
   "metadata": {
    "scrolled": false
   },
   "source": [
    "## Function for training model"
   ]
  },
  {
   "cell_type": "code",
   "execution_count": null,
   "id": "295911b7",
   "metadata": {},
   "outputs": [],
   "source": [
    "import matplotlib.pyplot as plt\n",
    "import random\n",
    "\n",
    "def get_k_iterators(Ks, df):\n",
    "    def ret():\n",
    "        random.shuffle(Ks)\n",
    "        for k in ks:\n",
    "            ids, YCs, YNCs, Xs, XTranscriptions = get_features(train)\n",
    "            yield Xs, YCs\n",
    "    return ret\n",
    "\n",
    "def make_for_K(K, df):\n",
    "    train, dev, test = get_kfold_train_test(df, K)\n",
    "    \n",
    "    model = NgramModel(\n",
    "        output_dim=len(df.bin.unique()),\n",
    "        features=tuple([col for col in df.columns if col.startswith(\"$\")])\n",
    "    )\n",
    "    print(model)\n",
    "    model.fit(\n",
    "        df,\n",
    "        train_indexes=train,\n",
    "        dev_indexes=dev,\n",
    "        batch_size=4096*2,\n",
    "        delta=.01,\n",
    "        max_bad_epochs=10,\n",
    "        epochs=100,\n",
    "        lr=1e-1\n",
    "    )\n",
    "    model.net.eval()\n",
    "    \n",
    "    out = model.pred_dataframe(df, indexes=test, _verbose=True, batch_size=2048)\n",
    "    test_truthes = df.loc[test, \"bin\"].tolist()\n",
    "    \n",
    "    # This should plot...\n",
    "    figure, ax = plt.subplots(figsize=(10, 10), dpi=300)\n",
    "    ConfusionMatrixDisplay.from_predictions(test_truthes, out, ax=ax)\n",
    "    plt.show()\n",
    "    print(classification_report(test_truthes, out))\n",
    "    e_df = pd.DataFrame(zip(test_truthes, out), columns=[\"bin\", \"pred\"])\n",
    "    print(e_df.plot.box(by=\"bin\"))\n",
    "    for i in range(5):\n",
    "        e_df[f\"RectPred{i}\"] = abs(e_df[\"pred\"] - e_df[\"bin\"]) <= i\n",
    "        counts = e_df[f\"RectPred{i}\"].value_counts()\n",
    "        print(f\"Accuracy of CER predicted within {int(i*5)} \"\n",
    "              f\"of the GT: {counts.get(True, 0)/(counts.get(False, 0)+counts.get(True, 0))*100:.2f}%\")\n",
    "\n",
    "    e_df[f\"RectPredReadable\"] = (e_df[\"pred\"] < 2) & (e_df[\"bin\"] < 2)  # That's wrong ?\n",
    "    counts = e_df[(e_df[\"bin\"] < 2)][\"RectPredReadable\"].value_counts()\n",
    "    print(f\"Accuracy of predicted CER < 10% (Readable) \"\n",
    "          f\"of the GT: {counts.get(True, 0)/(counts.get(False, 0)+counts.get(True, 0))*100:.2f}%\")\n",
    "    \n",
    "    e_df[f\"RectPred85\"] = (e_df[\"pred\"] < 3) & (e_df[\"bin\"] < 3)  # That's wrong ?\n",
    "    counts = e_df[(e_df[\"bin\"] < 2)][\"RectPred85\"].value_counts()\n",
    "    print(f\"Accuracy of predicted CER < 15% (Readable) \"\n",
    "          f\"of the GT: {counts.get(True, 0)/(counts.get(False, 0)+counts.get(True, 0))*100:.2f}%\")\n",
    "    \n",
    "    model.save(f\"ngram-{K}\")\n",
    "    del model"
   ]
  },
  {
   "cell_type": "code",
   "execution_count": 15,
   "id": "9d464f89",
   "metadata": {
    "scrolled": false
   },
   "outputs": [
    {
     "name": "stdout",
     "output_type": "stream",
     "text": [
      "Dealing with 0\n",
      "NgramModel(\n",
      "  (net): Sequential(\n",
      "    (0): Linear(in_features=3567, out_features=512, bias=True)\n",
      "    (1): Dropout(p=0.1, inplace=False)\n",
      "    (2): Linear(in_features=512, out_features=128, bias=True)\n",
      "    (3): Dropout(p=0.1, inplace=False)\n",
      "    (4): Linear(in_features=128, out_features=20, bias=True)\n",
      "  )\n",
      ")\n"
     ]
    },
    {
     "name": "stderr",
     "output_type": "stream",
     "text": [
      "\r",
      "  0%|                                                                           | 0/100 [00:00<?, ?it/s]"
     ]
    },
    {
     "data": {
      "application/json": {
       "ascii": false,
       "bar_format": null,
       "colour": null,
       "elapsed": 0.008311986923217773,
       "initial": 0,
       "n": 0,
       "ncols": null,
       "nrows": 54,
       "postfix": null,
       "prefix": "",
       "rate": null,
       "total": null,
       "unit": "it",
       "unit_divisor": 1000,
       "unit_scale": false
      },
      "application/vnd.jupyter.widget-view+json": {
       "model_id": "5896a7efa4b0409ab0d651dd055775fa",
       "version_major": 2,
       "version_minor": 0
      },
      "text/plain": [
       "0it [00:00, ?it/s]"
      ]
     },
     "metadata": {},
     "output_type": "display_data"
    },
    {
     "data": {
      "application/json": {
       "ascii": false,
       "bar_format": null,
       "colour": null,
       "elapsed": 0.0071141719818115234,
       "initial": 0,
       "n": 0,
       "ncols": null,
       "nrows": 54,
       "postfix": null,
       "prefix": "",
       "rate": null,
       "total": null,
       "unit": "it",
       "unit_divisor": 1000,
       "unit_scale": false
      },
      "application/vnd.jupyter.widget-view+json": {
       "model_id": "2d4f0f6863014ac5899953eb7e1e8d4f",
       "version_major": 2,
       "version_minor": 0
      },
      "text/plain": [
       "0it [00:00, ?it/s]"
      ]
     },
     "metadata": {},
     "output_type": "display_data"
    },
    {
     "name": "stderr",
     "output_type": "stream",
     "text": [
      "BAD:00 LOSS:2.96 ACC:19.1 BEST:3.0:   1%|▎                            | 1/100 [00:36<1:00:34, 36.71s/it]"
     ]
    },
    {
     "data": {
      "application/json": {
       "ascii": false,
       "bar_format": null,
       "colour": null,
       "elapsed": 0.007382392883300781,
       "initial": 0,
       "n": 0,
       "ncols": null,
       "nrows": 54,
       "postfix": null,
       "prefix": "",
       "rate": null,
       "total": null,
       "unit": "it",
       "unit_divisor": 1000,
       "unit_scale": false
      },
      "application/vnd.jupyter.widget-view+json": {
       "model_id": "d32a20d46ef6474c82ba8b6059764938",
       "version_major": 2,
       "version_minor": 0
      },
      "text/plain": [
       "0it [00:00, ?it/s]"
      ]
     },
     "metadata": {},
     "output_type": "display_data"
    },
    {
     "data": {
      "application/json": {
       "ascii": false,
       "bar_format": null,
       "colour": null,
       "elapsed": 0.007054567337036133,
       "initial": 0,
       "n": 0,
       "ncols": null,
       "nrows": 54,
       "postfix": null,
       "prefix": "",
       "rate": null,
       "total": null,
       "unit": "it",
       "unit_divisor": 1000,
       "unit_scale": false
      },
      "application/vnd.jupyter.widget-view+json": {
       "model_id": "be006bdc7c3b4461af07794af7a39636",
       "version_major": 2,
       "version_minor": 0
      },
      "text/plain": [
       "0it [00:00, ?it/s]"
      ]
     },
     "metadata": {},
     "output_type": "display_data"
    },
    {
     "name": "stderr",
     "output_type": "stream",
     "text": [
      "BAD:00 LOSS:2.87 ACC:19.1 BEST:2.9:   2%|▌                            | 2/100 [01:13<1:00:03, 36.77s/it]"
     ]
    },
    {
     "data": {
      "application/json": {
       "ascii": false,
       "bar_format": null,
       "colour": null,
       "elapsed": 0.0069463253021240234,
       "initial": 0,
       "n": 0,
       "ncols": null,
       "nrows": 54,
       "postfix": null,
       "prefix": "",
       "rate": null,
       "total": null,
       "unit": "it",
       "unit_divisor": 1000,
       "unit_scale": false
      },
      "application/vnd.jupyter.widget-view+json": {
       "model_id": "e67392f511624bd0949ae1dd89407a44",
       "version_major": 2,
       "version_minor": 0
      },
      "text/plain": [
       "0it [00:00, ?it/s]"
      ]
     },
     "metadata": {},
     "output_type": "display_data"
    },
    {
     "data": {
      "application/json": {
       "ascii": false,
       "bar_format": null,
       "colour": null,
       "elapsed": 0.006992816925048828,
       "initial": 0,
       "n": 0,
       "ncols": null,
       "nrows": 54,
       "postfix": null,
       "prefix": "",
       "rate": null,
       "total": null,
       "unit": "it",
       "unit_divisor": 1000,
       "unit_scale": false
      },
      "application/vnd.jupyter.widget-view+json": {
       "model_id": "ab3d3d6695fe4cc1b9c6eced3df37a0f",
       "version_major": 2,
       "version_minor": 0
      },
      "text/plain": [
       "0it [00:00, ?it/s]"
      ]
     },
     "metadata": {},
     "output_type": "display_data"
    },
    {
     "name": "stderr",
     "output_type": "stream",
     "text": [
      "BAD:00 LOSS:2.78 ACC:19.1 BEST:2.8:   3%|▉                              | 3/100 [01:50<59:30, 36.80s/it]"
     ]
    },
    {
     "data": {
      "application/json": {
       "ascii": false,
       "bar_format": null,
       "colour": null,
       "elapsed": 0.00722956657409668,
       "initial": 0,
       "n": 0,
       "ncols": null,
       "nrows": 54,
       "postfix": null,
       "prefix": "",
       "rate": null,
       "total": null,
       "unit": "it",
       "unit_divisor": 1000,
       "unit_scale": false
      },
      "application/vnd.jupyter.widget-view+json": {
       "model_id": "3552aad04bbb4b53ab23a2c40145bfc9",
       "version_major": 2,
       "version_minor": 0
      },
      "text/plain": [
       "0it [00:00, ?it/s]"
      ]
     },
     "metadata": {},
     "output_type": "display_data"
    },
    {
     "data": {
      "application/json": {
       "ascii": false,
       "bar_format": null,
       "colour": null,
       "elapsed": 0.0070209503173828125,
       "initial": 0,
       "n": 0,
       "ncols": null,
       "nrows": 54,
       "postfix": null,
       "prefix": "",
       "rate": null,
       "total": null,
       "unit": "it",
       "unit_divisor": 1000,
       "unit_scale": false
      },
      "application/vnd.jupyter.widget-view+json": {
       "model_id": "73721f027d3c4672b1334100fcaab4ef",
       "version_major": 2,
       "version_minor": 0
      },
      "text/plain": [
       "0it [00:00, ?it/s]"
      ]
     },
     "metadata": {},
     "output_type": "display_data"
    },
    {
     "name": "stderr",
     "output_type": "stream",
     "text": [
      "BAD:01 LOSS:2.81 ACC:19.1 BEST:2.8:   4%|█▏                             | 4/100 [02:27<58:58, 36.86s/it]"
     ]
    },
    {
     "data": {
      "application/json": {
       "ascii": false,
       "bar_format": null,
       "colour": null,
       "elapsed": 0.007275104522705078,
       "initial": 0,
       "n": 0,
       "ncols": null,
       "nrows": 54,
       "postfix": null,
       "prefix": "",
       "rate": null,
       "total": null,
       "unit": "it",
       "unit_divisor": 1000,
       "unit_scale": false
      },
      "application/vnd.jupyter.widget-view+json": {
       "model_id": "497fa8bb214a4e5b99cf2aa0bbf51ed4",
       "version_major": 2,
       "version_minor": 0
      },
      "text/plain": [
       "0it [00:00, ?it/s]"
      ]
     },
     "metadata": {},
     "output_type": "display_data"
    },
    {
     "data": {
      "application/json": {
       "ascii": false,
       "bar_format": null,
       "colour": null,
       "elapsed": 0.0069882869720458984,
       "initial": 0,
       "n": 0,
       "ncols": null,
       "nrows": 54,
       "postfix": null,
       "prefix": "",
       "rate": null,
       "total": null,
       "unit": "it",
       "unit_divisor": 1000,
       "unit_scale": false
      },
      "application/vnd.jupyter.widget-view+json": {
       "model_id": "4dc7de92c3d5453d9acbff113e379924",
       "version_major": 2,
       "version_minor": 0
      },
      "text/plain": [
       "0it [00:00, ?it/s]"
      ]
     },
     "metadata": {},
     "output_type": "display_data"
    },
    {
     "name": "stderr",
     "output_type": "stream",
     "text": [
      "BAD:00 LOSS:2.73 ACC:19.1 BEST:2.7:   5%|█▌                             | 5/100 [03:04<58:20, 36.84s/it]"
     ]
    },
    {
     "data": {
      "application/json": {
       "ascii": false,
       "bar_format": null,
       "colour": null,
       "elapsed": 0.007181882858276367,
       "initial": 0,
       "n": 0,
       "ncols": null,
       "nrows": 54,
       "postfix": null,
       "prefix": "",
       "rate": null,
       "total": null,
       "unit": "it",
       "unit_divisor": 1000,
       "unit_scale": false
      },
      "application/vnd.jupyter.widget-view+json": {
       "model_id": "16a2271045f84805ab09f200ef589e77",
       "version_major": 2,
       "version_minor": 0
      },
      "text/plain": [
       "0it [00:00, ?it/s]"
      ]
     },
     "metadata": {},
     "output_type": "display_data"
    },
    {
     "data": {
      "application/json": {
       "ascii": false,
       "bar_format": null,
       "colour": null,
       "elapsed": 0.007048368453979492,
       "initial": 0,
       "n": 0,
       "ncols": null,
       "nrows": 54,
       "postfix": null,
       "prefix": "",
       "rate": null,
       "total": null,
       "unit": "it",
       "unit_divisor": 1000,
       "unit_scale": false
      },
      "application/vnd.jupyter.widget-view+json": {
       "model_id": "e376038868db46c79613c01d6cc3200f",
       "version_major": 2,
       "version_minor": 0
      },
      "text/plain": [
       "0it [00:00, ?it/s]"
      ]
     },
     "metadata": {},
     "output_type": "display_data"
    },
    {
     "name": "stderr",
     "output_type": "stream",
     "text": [
      "BAD:00 LOSS:2.69 ACC:19.1 BEST:2.7:   6%|█▊                             | 6/100 [03:41<57:57, 37.00s/it]"
     ]
    },
    {
     "data": {
      "application/json": {
       "ascii": false,
       "bar_format": null,
       "colour": null,
       "elapsed": 0.007486581802368164,
       "initial": 0,
       "n": 0,
       "ncols": null,
       "nrows": 54,
       "postfix": null,
       "prefix": "",
       "rate": null,
       "total": null,
       "unit": "it",
       "unit_divisor": 1000,
       "unit_scale": false
      },
      "application/vnd.jupyter.widget-view+json": {
       "model_id": "15ee7fea564f44449f6307137c9f1ff7",
       "version_major": 2,
       "version_minor": 0
      },
      "text/plain": [
       "0it [00:00, ?it/s]"
      ]
     },
     "metadata": {},
     "output_type": "display_data"
    },
    {
     "data": {
      "application/json": {
       "ascii": false,
       "bar_format": null,
       "colour": null,
       "elapsed": 0.0068471431732177734,
       "initial": 0,
       "n": 0,
       "ncols": null,
       "nrows": 54,
       "postfix": null,
       "prefix": "",
       "rate": null,
       "total": null,
       "unit": "it",
       "unit_divisor": 1000,
       "unit_scale": false
      },
      "application/vnd.jupyter.widget-view+json": {
       "model_id": "ccf8513298364cfc97583594c3b7a4d7",
       "version_major": 2,
       "version_minor": 0
      },
      "text/plain": [
       "0it [00:00, ?it/s]"
      ]
     },
     "metadata": {},
     "output_type": "display_data"
    },
    {
     "name": "stderr",
     "output_type": "stream",
     "text": [
      "BAD:00 LOSS:2.68 ACC:19.2 BEST:2.7:   7%|██▏                            | 7/100 [04:18<57:27, 37.07s/it]"
     ]
    },
    {
     "data": {
      "application/json": {
       "ascii": false,
       "bar_format": null,
       "colour": null,
       "elapsed": 0.007108926773071289,
       "initial": 0,
       "n": 0,
       "ncols": null,
       "nrows": 54,
       "postfix": null,
       "prefix": "",
       "rate": null,
       "total": null,
       "unit": "it",
       "unit_divisor": 1000,
       "unit_scale": false
      },
      "application/vnd.jupyter.widget-view+json": {
       "model_id": "f2c9053506694afbb95e1e95482cd269",
       "version_major": 2,
       "version_minor": 0
      },
      "text/plain": [
       "0it [00:00, ?it/s]"
      ]
     },
     "metadata": {},
     "output_type": "display_data"
    },
    {
     "data": {
      "application/json": {
       "ascii": false,
       "bar_format": null,
       "colour": null,
       "elapsed": 0.009441614151000977,
       "initial": 0,
       "n": 0,
       "ncols": null,
       "nrows": 54,
       "postfix": null,
       "prefix": "",
       "rate": null,
       "total": null,
       "unit": "it",
       "unit_divisor": 1000,
       "unit_scale": false
      },
      "application/vnd.jupyter.widget-view+json": {
       "model_id": "76dbaab7f1f04806bdc960185091756c",
       "version_major": 2,
       "version_minor": 0
      },
      "text/plain": [
       "0it [00:00, ?it/s]"
      ]
     },
     "metadata": {},
     "output_type": "display_data"
    },
    {
     "name": "stderr",
     "output_type": "stream",
     "text": [
      "BAD:00 LOSS:2.66 ACC:19.7 BEST:2.7:   8%|██▍                            | 8/100 [04:55<56:54, 37.12s/it]"
     ]
    },
    {
     "data": {
      "application/json": {
       "ascii": false,
       "bar_format": null,
       "colour": null,
       "elapsed": 0.007605314254760742,
       "initial": 0,
       "n": 0,
       "ncols": null,
       "nrows": 54,
       "postfix": null,
       "prefix": "",
       "rate": null,
       "total": null,
       "unit": "it",
       "unit_divisor": 1000,
       "unit_scale": false
      },
      "application/vnd.jupyter.widget-view+json": {
       "model_id": "d710060ad0174994b98897b77b2d9d4d",
       "version_major": 2,
       "version_minor": 0
      },
      "text/plain": [
       "0it [00:00, ?it/s]"
      ]
     },
     "metadata": {},
     "output_type": "display_data"
    },
    {
     "data": {
      "application/json": {
       "ascii": false,
       "bar_format": null,
       "colour": null,
       "elapsed": 0.007800579071044922,
       "initial": 0,
       "n": 0,
       "ncols": null,
       "nrows": 54,
       "postfix": null,
       "prefix": "",
       "rate": null,
       "total": null,
       "unit": "it",
       "unit_divisor": 1000,
       "unit_scale": false
      },
      "application/vnd.jupyter.widget-view+json": {
       "model_id": "ba2a8344450e49409bc72881e8c3e541",
       "version_major": 2,
       "version_minor": 0
      },
      "text/plain": [
       "0it [00:00, ?it/s]"
      ]
     },
     "metadata": {},
     "output_type": "display_data"
    },
    {
     "name": "stderr",
     "output_type": "stream",
     "text": [
      "BAD:00 LOSS:2.62 ACC:20.1 BEST:2.6:   9%|██▊                            | 9/100 [05:33<56:22, 37.17s/it]"
     ]
    },
    {
     "data": {
      "application/json": {
       "ascii": false,
       "bar_format": null,
       "colour": null,
       "elapsed": 0.00788426399230957,
       "initial": 0,
       "n": 0,
       "ncols": null,
       "nrows": 54,
       "postfix": null,
       "prefix": "",
       "rate": null,
       "total": null,
       "unit": "it",
       "unit_divisor": 1000,
       "unit_scale": false
      },
      "application/vnd.jupyter.widget-view+json": {
       "model_id": "030053b5acb248679040c50b09f673fa",
       "version_major": 2,
       "version_minor": 0
      },
      "text/plain": [
       "0it [00:00, ?it/s]"
      ]
     },
     "metadata": {},
     "output_type": "display_data"
    },
    {
     "data": {
      "application/json": {
       "ascii": false,
       "bar_format": null,
       "colour": null,
       "elapsed": 0.007242441177368164,
       "initial": 0,
       "n": 0,
       "ncols": null,
       "nrows": 54,
       "postfix": null,
       "prefix": "",
       "rate": null,
       "total": null,
       "unit": "it",
       "unit_divisor": 1000,
       "unit_scale": false
      },
      "application/vnd.jupyter.widget-view+json": {
       "model_id": "774ced5dbc7f475fa3b2e8accf71bb91",
       "version_major": 2,
       "version_minor": 0
      },
      "text/plain": [
       "0it [00:00, ?it/s]"
      ]
     },
     "metadata": {},
     "output_type": "display_data"
    },
    {
     "name": "stderr",
     "output_type": "stream",
     "text": [
      "BAD:00 LOSS:2.55 ACC:20.4 BEST:2.6:  10%|███                           | 10/100 [06:10<55:57, 37.31s/it]"
     ]
    },
    {
     "data": {
      "application/json": {
       "ascii": false,
       "bar_format": null,
       "colour": null,
       "elapsed": 0.007016181945800781,
       "initial": 0,
       "n": 0,
       "ncols": null,
       "nrows": 54,
       "postfix": null,
       "prefix": "",
       "rate": null,
       "total": null,
       "unit": "it",
       "unit_divisor": 1000,
       "unit_scale": false
      },
      "application/vnd.jupyter.widget-view+json": {
       "model_id": "519f34c78dd04c1490a1febe2fa03dd8",
       "version_major": 2,
       "version_minor": 0
      },
      "text/plain": [
       "0it [00:00, ?it/s]"
      ]
     },
     "metadata": {},
     "output_type": "display_data"
    },
    {
     "data": {
      "application/json": {
       "ascii": false,
       "bar_format": null,
       "colour": null,
       "elapsed": 0.007005929946899414,
       "initial": 0,
       "n": 0,
       "ncols": null,
       "nrows": 54,
       "postfix": null,
       "prefix": "",
       "rate": null,
       "total": null,
       "unit": "it",
       "unit_divisor": 1000,
       "unit_scale": false
      },
      "application/vnd.jupyter.widget-view+json": {
       "model_id": "52e8e50043bd43d3ab6382c1245fa895",
       "version_major": 2,
       "version_minor": 0
      },
      "text/plain": [
       "0it [00:00, ?it/s]"
      ]
     },
     "metadata": {},
     "output_type": "display_data"
    },
    {
     "name": "stderr",
     "output_type": "stream",
     "text": [
      "BAD:00 LOSS:2.49 ACC:20.8 BEST:2.5:  11%|███▎                          | 11/100 [06:48<55:35, 37.48s/it]"
     ]
    },
    {
     "data": {
      "application/json": {
       "ascii": false,
       "bar_format": null,
       "colour": null,
       "elapsed": 0.006976127624511719,
       "initial": 0,
       "n": 0,
       "ncols": null,
       "nrows": 54,
       "postfix": null,
       "prefix": "",
       "rate": null,
       "total": null,
       "unit": "it",
       "unit_divisor": 1000,
       "unit_scale": false
      },
      "application/vnd.jupyter.widget-view+json": {
       "model_id": "2c5e449e926d42b5b86d3f78af4fd6b6",
       "version_major": 2,
       "version_minor": 0
      },
      "text/plain": [
       "0it [00:00, ?it/s]"
      ]
     },
     "metadata": {},
     "output_type": "display_data"
    },
    {
     "data": {
      "application/json": {
       "ascii": false,
       "bar_format": null,
       "colour": null,
       "elapsed": 0.0070018768310546875,
       "initial": 0,
       "n": 0,
       "ncols": null,
       "nrows": 54,
       "postfix": null,
       "prefix": "",
       "rate": null,
       "total": null,
       "unit": "it",
       "unit_divisor": 1000,
       "unit_scale": false
      },
      "application/vnd.jupyter.widget-view+json": {
       "model_id": "85f6cb1d95e140e0a837e7e60cda05d7",
       "version_major": 2,
       "version_minor": 0
      },
      "text/plain": [
       "0it [00:00, ?it/s]"
      ]
     },
     "metadata": {},
     "output_type": "display_data"
    },
    {
     "name": "stderr",
     "output_type": "stream",
     "text": [
      "BAD:00 LOSS:2.45 ACC:21.6 BEST:2.4:  12%|███▌                          | 12/100 [07:26<55:16, 37.69s/it]"
     ]
    },
    {
     "data": {
      "application/json": {
       "ascii": false,
       "bar_format": null,
       "colour": null,
       "elapsed": 0.00724029541015625,
       "initial": 0,
       "n": 0,
       "ncols": null,
       "nrows": 54,
       "postfix": null,
       "prefix": "",
       "rate": null,
       "total": null,
       "unit": "it",
       "unit_divisor": 1000,
       "unit_scale": false
      },
      "application/vnd.jupyter.widget-view+json": {
       "model_id": "3b6147e4259a4f08a27ca5987fa14ee6",
       "version_major": 2,
       "version_minor": 0
      },
      "text/plain": [
       "0it [00:00, ?it/s]"
      ]
     },
     "metadata": {},
     "output_type": "display_data"
    },
    {
     "data": {
      "application/json": {
       "ascii": false,
       "bar_format": null,
       "colour": null,
       "elapsed": 0.007130622863769531,
       "initial": 0,
       "n": 0,
       "ncols": null,
       "nrows": 54,
       "postfix": null,
       "prefix": "",
       "rate": null,
       "total": null,
       "unit": "it",
       "unit_divisor": 1000,
       "unit_scale": false
      },
      "application/vnd.jupyter.widget-view+json": {
       "model_id": "865bad9595db42a6a4ce11948c6a9fef",
       "version_major": 2,
       "version_minor": 0
      },
      "text/plain": [
       "0it [00:00, ?it/s]"
      ]
     },
     "metadata": {},
     "output_type": "display_data"
    },
    {
     "name": "stderr",
     "output_type": "stream",
     "text": [
      "BAD:00 LOSS:2.40 ACC:22.9 BEST:2.4:  13%|███▉                          | 13/100 [08:04<54:50, 37.82s/it]"
     ]
    },
    {
     "data": {
      "application/json": {
       "ascii": false,
       "bar_format": null,
       "colour": null,
       "elapsed": 0.006925344467163086,
       "initial": 0,
       "n": 0,
       "ncols": null,
       "nrows": 54,
       "postfix": null,
       "prefix": "",
       "rate": null,
       "total": null,
       "unit": "it",
       "unit_divisor": 1000,
       "unit_scale": false
      },
      "application/vnd.jupyter.widget-view+json": {
       "model_id": "b869a446f1c24120af23ed10cd55bb44",
       "version_major": 2,
       "version_minor": 0
      },
      "text/plain": [
       "0it [00:00, ?it/s]"
      ]
     },
     "metadata": {},
     "output_type": "display_data"
    },
    {
     "data": {
      "application/json": {
       "ascii": false,
       "bar_format": null,
       "colour": null,
       "elapsed": 0.0077207088470458984,
       "initial": 0,
       "n": 0,
       "ncols": null,
       "nrows": 54,
       "postfix": null,
       "prefix": "",
       "rate": null,
       "total": null,
       "unit": "it",
       "unit_divisor": 1000,
       "unit_scale": false
      },
      "application/vnd.jupyter.widget-view+json": {
       "model_id": "bcc86c4441324446b6f26a4e546a0206",
       "version_major": 2,
       "version_minor": 0
      },
      "text/plain": [
       "0it [00:00, ?it/s]"
      ]
     },
     "metadata": {},
     "output_type": "display_data"
    },
    {
     "name": "stderr",
     "output_type": "stream",
     "text": [
      "BAD:00 LOSS:2.37 ACC:23.9 BEST:2.4:  14%|████▏                         | 14/100 [08:42<54:11, 37.81s/it]"
     ]
    },
    {
     "data": {
      "application/json": {
       "ascii": false,
       "bar_format": null,
       "colour": null,
       "elapsed": 0.006993293762207031,
       "initial": 0,
       "n": 0,
       "ncols": null,
       "nrows": 54,
       "postfix": null,
       "prefix": "",
       "rate": null,
       "total": null,
       "unit": "it",
       "unit_divisor": 1000,
       "unit_scale": false
      },
      "application/vnd.jupyter.widget-view+json": {
       "model_id": "028626f3dcce472aa7eb4a1a730e916f",
       "version_major": 2,
       "version_minor": 0
      },
      "text/plain": [
       "0it [00:00, ?it/s]"
      ]
     },
     "metadata": {},
     "output_type": "display_data"
    },
    {
     "data": {
      "application/json": {
       "ascii": false,
       "bar_format": null,
       "colour": null,
       "elapsed": 0.007091522216796875,
       "initial": 0,
       "n": 0,
       "ncols": null,
       "nrows": 54,
       "postfix": null,
       "prefix": "",
       "rate": null,
       "total": null,
       "unit": "it",
       "unit_divisor": 1000,
       "unit_scale": false
      },
      "application/vnd.jupyter.widget-view+json": {
       "model_id": "d305623914804c99a88e3e89d1f10452",
       "version_major": 2,
       "version_minor": 0
      },
      "text/plain": [
       "0it [00:00, ?it/s]"
      ]
     },
     "metadata": {},
     "output_type": "display_data"
    },
    {
     "name": "stderr",
     "output_type": "stream",
     "text": [
      "BAD:00 LOSS:2.35 ACC:24.2 BEST:2.4:  15%|████▌                         | 15/100 [09:20<53:36, 37.84s/it]"
     ]
    },
    {
     "data": {
      "application/json": {
       "ascii": false,
       "bar_format": null,
       "colour": null,
       "elapsed": 0.006963253021240234,
       "initial": 0,
       "n": 0,
       "ncols": null,
       "nrows": 54,
       "postfix": null,
       "prefix": "",
       "rate": null,
       "total": null,
       "unit": "it",
       "unit_divisor": 1000,
       "unit_scale": false
      },
      "application/vnd.jupyter.widget-view+json": {
       "model_id": "5a8ab132d1064191aee2318c7eaf2d00",
       "version_major": 2,
       "version_minor": 0
      },
      "text/plain": [
       "0it [00:00, ?it/s]"
      ]
     },
     "metadata": {},
     "output_type": "display_data"
    },
    {
     "data": {
      "application/json": {
       "ascii": false,
       "bar_format": null,
       "colour": null,
       "elapsed": 0.00694727897644043,
       "initial": 0,
       "n": 0,
       "ncols": null,
       "nrows": 54,
       "postfix": null,
       "prefix": "",
       "rate": null,
       "total": null,
       "unit": "it",
       "unit_divisor": 1000,
       "unit_scale": false
      },
      "application/vnd.jupyter.widget-view+json": {
       "model_id": "dfacf37c6c9847dfb859a059733d876a",
       "version_major": 2,
       "version_minor": 0
      },
      "text/plain": [
       "0it [00:00, ?it/s]"
      ]
     },
     "metadata": {},
     "output_type": "display_data"
    },
    {
     "name": "stderr",
     "output_type": "stream",
     "text": [
      "BAD:00 LOSS:2.32 ACC:24.2 BEST:2.3:  16%|████▊                         | 16/100 [09:59<53:13, 38.01s/it]"
     ]
    },
    {
     "data": {
      "application/json": {
       "ascii": false,
       "bar_format": null,
       "colour": null,
       "elapsed": 0.00751495361328125,
       "initial": 0,
       "n": 0,
       "ncols": null,
       "nrows": 54,
       "postfix": null,
       "prefix": "",
       "rate": null,
       "total": null,
       "unit": "it",
       "unit_divisor": 1000,
       "unit_scale": false
      },
      "application/vnd.jupyter.widget-view+json": {
       "model_id": "8006690306b7485888706570e274b06c",
       "version_major": 2,
       "version_minor": 0
      },
      "text/plain": [
       "0it [00:00, ?it/s]"
      ]
     },
     "metadata": {},
     "output_type": "display_data"
    },
    {
     "data": {
      "application/json": {
       "ascii": false,
       "bar_format": null,
       "colour": null,
       "elapsed": 0.006948947906494141,
       "initial": 0,
       "n": 0,
       "ncols": null,
       "nrows": 54,
       "postfix": null,
       "prefix": "",
       "rate": null,
       "total": null,
       "unit": "it",
       "unit_divisor": 1000,
       "unit_scale": false
      },
      "application/vnd.jupyter.widget-view+json": {
       "model_id": "1c147bdb329240368dd4d066a549dbf2",
       "version_major": 2,
       "version_minor": 0
      },
      "text/plain": [
       "0it [00:00, ?it/s]"
      ]
     },
     "metadata": {},
     "output_type": "display_data"
    },
    {
     "name": "stderr",
     "output_type": "stream",
     "text": [
      "BAD:00 LOSS:2.30 ACC:24.5 BEST:2.3:  17%|█████                         | 17/100 [10:37<52:44, 38.13s/it]"
     ]
    },
    {
     "data": {
      "application/json": {
       "ascii": false,
       "bar_format": null,
       "colour": null,
       "elapsed": 0.007061958312988281,
       "initial": 0,
       "n": 0,
       "ncols": null,
       "nrows": 54,
       "postfix": null,
       "prefix": "",
       "rate": null,
       "total": null,
       "unit": "it",
       "unit_divisor": 1000,
       "unit_scale": false
      },
      "application/vnd.jupyter.widget-view+json": {
       "model_id": "042fe6c6e2a745f092564b1fd50164ca",
       "version_major": 2,
       "version_minor": 0
      },
      "text/plain": [
       "0it [00:00, ?it/s]"
      ]
     },
     "metadata": {},
     "output_type": "display_data"
    },
    {
     "data": {
      "application/json": {
       "ascii": false,
       "bar_format": null,
       "colour": null,
       "elapsed": 0.007078647613525391,
       "initial": 0,
       "n": 0,
       "ncols": null,
       "nrows": 54,
       "postfix": null,
       "prefix": "",
       "rate": null,
       "total": null,
       "unit": "it",
       "unit_divisor": 1000,
       "unit_scale": false
      },
      "application/vnd.jupyter.widget-view+json": {
       "model_id": "21083390c66c4faaa3b95f9aee743334",
       "version_major": 2,
       "version_minor": 0
      },
      "text/plain": [
       "0it [00:00, ?it/s]"
      ]
     },
     "metadata": {},
     "output_type": "display_data"
    },
    {
     "name": "stderr",
     "output_type": "stream",
     "text": [
      "BAD:00 LOSS:2.28 ACC:25.1 BEST:2.3:  18%|█████▍                        | 18/100 [11:16<52:18, 38.27s/it]"
     ]
    },
    {
     "data": {
      "application/json": {
       "ascii": false,
       "bar_format": null,
       "colour": null,
       "elapsed": 0.00690913200378418,
       "initial": 0,
       "n": 0,
       "ncols": null,
       "nrows": 54,
       "postfix": null,
       "prefix": "",
       "rate": null,
       "total": null,
       "unit": "it",
       "unit_divisor": 1000,
       "unit_scale": false
      },
      "application/vnd.jupyter.widget-view+json": {
       "model_id": "78aa4fcd1c8e440187b4bb5ce546a93a",
       "version_major": 2,
       "version_minor": 0
      },
      "text/plain": [
       "0it [00:00, ?it/s]"
      ]
     },
     "metadata": {},
     "output_type": "display_data"
    },
    {
     "data": {
      "application/json": {
       "ascii": false,
       "bar_format": null,
       "colour": null,
       "elapsed": 0.006941318511962891,
       "initial": 0,
       "n": 0,
       "ncols": null,
       "nrows": 54,
       "postfix": null,
       "prefix": "",
       "rate": null,
       "total": null,
       "unit": "it",
       "unit_divisor": 1000,
       "unit_scale": false
      },
      "application/vnd.jupyter.widget-view+json": {
       "model_id": "37911da121d84ccda656d5b236a0971d",
       "version_major": 2,
       "version_minor": 0
      },
      "text/plain": [
       "0it [00:00, ?it/s]"
      ]
     },
     "metadata": {},
     "output_type": "display_data"
    },
    {
     "name": "stderr",
     "output_type": "stream",
     "text": [
      "BAD:01 LOSS:2.27 ACC:25.0 BEST:2.3:  19%|█████▋                        | 19/100 [11:54<51:44, 38.33s/it]"
     ]
    },
    {
     "data": {
      "application/json": {
       "ascii": false,
       "bar_format": null,
       "colour": null,
       "elapsed": 0.007119178771972656,
       "initial": 0,
       "n": 0,
       "ncols": null,
       "nrows": 54,
       "postfix": null,
       "prefix": "",
       "rate": null,
       "total": null,
       "unit": "it",
       "unit_divisor": 1000,
       "unit_scale": false
      },
      "application/vnd.jupyter.widget-view+json": {
       "model_id": "ba92526693364e0bb44d9b0af1f306d8",
       "version_major": 2,
       "version_minor": 0
      },
      "text/plain": [
       "0it [00:00, ?it/s]"
      ]
     },
     "metadata": {},
     "output_type": "display_data"
    },
    {
     "data": {
      "application/json": {
       "ascii": false,
       "bar_format": null,
       "colour": null,
       "elapsed": 0.006896495819091797,
       "initial": 0,
       "n": 0,
       "ncols": null,
       "nrows": 54,
       "postfix": null,
       "prefix": "",
       "rate": null,
       "total": null,
       "unit": "it",
       "unit_divisor": 1000,
       "unit_scale": false
      },
      "application/vnd.jupyter.widget-view+json": {
       "model_id": "c6f0299d7bf5458498145c8a2b9906a2",
       "version_major": 2,
       "version_minor": 0
      },
      "text/plain": [
       "0it [00:00, ?it/s]"
      ]
     },
     "metadata": {},
     "output_type": "display_data"
    },
    {
     "name": "stderr",
     "output_type": "stream",
     "text": [
      "BAD:00 LOSS:2.26 ACC:25.1 BEST:2.3:  20%|██████                        | 20/100 [12:32<51:03, 38.29s/it]"
     ]
    },
    {
     "data": {
      "application/json": {
       "ascii": false,
       "bar_format": null,
       "colour": null,
       "elapsed": 0.0069158077239990234,
       "initial": 0,
       "n": 0,
       "ncols": null,
       "nrows": 54,
       "postfix": null,
       "prefix": "",
       "rate": null,
       "total": null,
       "unit": "it",
       "unit_divisor": 1000,
       "unit_scale": false
      },
      "application/vnd.jupyter.widget-view+json": {
       "model_id": "fcab66dced52436090077cca468a8df7",
       "version_major": 2,
       "version_minor": 0
      },
      "text/plain": [
       "0it [00:00, ?it/s]"
      ]
     },
     "metadata": {},
     "output_type": "display_data"
    },
    {
     "data": {
      "application/json": {
       "ascii": false,
       "bar_format": null,
       "colour": null,
       "elapsed": 0.009588241577148438,
       "initial": 0,
       "n": 0,
       "ncols": null,
       "nrows": 54,
       "postfix": null,
       "prefix": "",
       "rate": null,
       "total": null,
       "unit": "it",
       "unit_divisor": 1000,
       "unit_scale": false
      },
      "application/vnd.jupyter.widget-view+json": {
       "model_id": "999d488c4ef6411bb3193387c5f0c04c",
       "version_major": 2,
       "version_minor": 0
      },
      "text/plain": [
       "0it [00:00, ?it/s]"
      ]
     },
     "metadata": {},
     "output_type": "display_data"
    },
    {
     "name": "stderr",
     "output_type": "stream",
     "text": [
      "BAD:00 LOSS:2.24 ACC:25.5 BEST:2.2:  21%|██████▎                       | 21/100 [13:11<50:26, 38.31s/it]"
     ]
    },
    {
     "data": {
      "application/json": {
       "ascii": false,
       "bar_format": null,
       "colour": null,
       "elapsed": 0.007145404815673828,
       "initial": 0,
       "n": 0,
       "ncols": null,
       "nrows": 54,
       "postfix": null,
       "prefix": "",
       "rate": null,
       "total": null,
       "unit": "it",
       "unit_divisor": 1000,
       "unit_scale": false
      },
      "application/vnd.jupyter.widget-view+json": {
       "model_id": "44a2c5b9331844888787ad6fbbb8c15f",
       "version_major": 2,
       "version_minor": 0
      },
      "text/plain": [
       "0it [00:00, ?it/s]"
      ]
     },
     "metadata": {},
     "output_type": "display_data"
    },
    {
     "data": {
      "application/json": {
       "ascii": false,
       "bar_format": null,
       "colour": null,
       "elapsed": 0.006910800933837891,
       "initial": 0,
       "n": 0,
       "ncols": null,
       "nrows": 54,
       "postfix": null,
       "prefix": "",
       "rate": null,
       "total": null,
       "unit": "it",
       "unit_divisor": 1000,
       "unit_scale": false
      },
      "application/vnd.jupyter.widget-view+json": {
       "model_id": "b15f697c26f34091bb8222be3cb50095",
       "version_major": 2,
       "version_minor": 0
      },
      "text/plain": [
       "0it [00:00, ?it/s]"
      ]
     },
     "metadata": {},
     "output_type": "display_data"
    },
    {
     "name": "stderr",
     "output_type": "stream",
     "text": [
      "BAD:00 LOSS:2.21 ACC:25.7 BEST:2.2:  22%|██████▌                       | 22/100 [13:49<49:54, 38.39s/it]"
     ]
    },
    {
     "data": {
      "application/json": {
       "ascii": false,
       "bar_format": null,
       "colour": null,
       "elapsed": 0.007178783416748047,
       "initial": 0,
       "n": 0,
       "ncols": null,
       "nrows": 54,
       "postfix": null,
       "prefix": "",
       "rate": null,
       "total": null,
       "unit": "it",
       "unit_divisor": 1000,
       "unit_scale": false
      },
      "application/vnd.jupyter.widget-view+json": {
       "model_id": "bd414999fb9b4dfcb57c6ded287611e4",
       "version_major": 2,
       "version_minor": 0
      },
      "text/plain": [
       "0it [00:00, ?it/s]"
      ]
     },
     "metadata": {},
     "output_type": "display_data"
    },
    {
     "data": {
      "application/json": {
       "ascii": false,
       "bar_format": null,
       "colour": null,
       "elapsed": 0.006858348846435547,
       "initial": 0,
       "n": 0,
       "ncols": null,
       "nrows": 54,
       "postfix": null,
       "prefix": "",
       "rate": null,
       "total": null,
       "unit": "it",
       "unit_divisor": 1000,
       "unit_scale": false
      },
      "application/vnd.jupyter.widget-view+json": {
       "model_id": "41e291929b2d420497d2c83880e17821",
       "version_major": 2,
       "version_minor": 0
      },
      "text/plain": [
       "0it [00:00, ?it/s]"
      ]
     },
     "metadata": {},
     "output_type": "display_data"
    },
    {
     "name": "stderr",
     "output_type": "stream",
     "text": [
      "BAD:01 LOSS:2.20 ACC:25.9 BEST:2.2:  23%|██████▉                       | 23/100 [14:27<49:11, 38.33s/it]"
     ]
    },
    {
     "data": {
      "application/json": {
       "ascii": false,
       "bar_format": null,
       "colour": null,
       "elapsed": 0.0074846744537353516,
       "initial": 0,
       "n": 0,
       "ncols": null,
       "nrows": 54,
       "postfix": null,
       "prefix": "",
       "rate": null,
       "total": null,
       "unit": "it",
       "unit_divisor": 1000,
       "unit_scale": false
      },
      "application/vnd.jupyter.widget-view+json": {
       "model_id": "ae15ff2188e944e0814468bacb425491",
       "version_major": 2,
       "version_minor": 0
      },
      "text/plain": [
       "0it [00:00, ?it/s]"
      ]
     },
     "metadata": {},
     "output_type": "display_data"
    },
    {
     "data": {
      "application/json": {
       "ascii": false,
       "bar_format": null,
       "colour": null,
       "elapsed": 0.006934404373168945,
       "initial": 0,
       "n": 0,
       "ncols": null,
       "nrows": 54,
       "postfix": null,
       "prefix": "",
       "rate": null,
       "total": null,
       "unit": "it",
       "unit_divisor": 1000,
       "unit_scale": false
      },
      "application/vnd.jupyter.widget-view+json": {
       "model_id": "ecaacda99367484b8e267050489142ef",
       "version_major": 2,
       "version_minor": 0
      },
      "text/plain": [
       "0it [00:00, ?it/s]"
      ]
     },
     "metadata": {},
     "output_type": "display_data"
    },
    {
     "name": "stderr",
     "output_type": "stream",
     "text": [
      "BAD:00 LOSS:2.18 ACC:26.1 BEST:2.2:  24%|███████▏                      | 24/100 [15:06<48:32, 38.32s/it]"
     ]
    },
    {
     "data": {
      "application/json": {
       "ascii": false,
       "bar_format": null,
       "colour": null,
       "elapsed": 0.007362842559814453,
       "initial": 0,
       "n": 0,
       "ncols": null,
       "nrows": 54,
       "postfix": null,
       "prefix": "",
       "rate": null,
       "total": null,
       "unit": "it",
       "unit_divisor": 1000,
       "unit_scale": false
      },
      "application/vnd.jupyter.widget-view+json": {
       "model_id": "acfff928b6d94253b2799a1fe53d72b9",
       "version_major": 2,
       "version_minor": 0
      },
      "text/plain": [
       "0it [00:00, ?it/s]"
      ]
     },
     "metadata": {},
     "output_type": "display_data"
    },
    {
     "data": {
      "application/json": {
       "ascii": false,
       "bar_format": null,
       "colour": null,
       "elapsed": 0.0070629119873046875,
       "initial": 0,
       "n": 0,
       "ncols": null,
       "nrows": 54,
       "postfix": null,
       "prefix": "",
       "rate": null,
       "total": null,
       "unit": "it",
       "unit_divisor": 1000,
       "unit_scale": false
      },
      "application/vnd.jupyter.widget-view+json": {
       "model_id": "df2c0378a0b248a782b935fbc5232fa7",
       "version_major": 2,
       "version_minor": 0
      },
      "text/plain": [
       "0it [00:00, ?it/s]"
      ]
     },
     "metadata": {},
     "output_type": "display_data"
    },
    {
     "name": "stderr",
     "output_type": "stream",
     "text": [
      "BAD:00 LOSS:2.16 ACC:26.3 BEST:2.2:  25%|███████▌                      | 25/100 [15:44<47:49, 38.25s/it]"
     ]
    },
    {
     "data": {
      "application/json": {
       "ascii": false,
       "bar_format": null,
       "colour": null,
       "elapsed": 0.008594512939453125,
       "initial": 0,
       "n": 0,
       "ncols": null,
       "nrows": 54,
       "postfix": null,
       "prefix": "",
       "rate": null,
       "total": null,
       "unit": "it",
       "unit_divisor": 1000,
       "unit_scale": false
      },
      "application/vnd.jupyter.widget-view+json": {
       "model_id": "bc9cc629407a42e49e827c7a2396dd5a",
       "version_major": 2,
       "version_minor": 0
      },
      "text/plain": [
       "0it [00:00, ?it/s]"
      ]
     },
     "metadata": {},
     "output_type": "display_data"
    },
    {
     "data": {
      "application/json": {
       "ascii": false,
       "bar_format": null,
       "colour": null,
       "elapsed": 0.0070345401763916016,
       "initial": 0,
       "n": 0,
       "ncols": null,
       "nrows": 54,
       "postfix": null,
       "prefix": "",
       "rate": null,
       "total": null,
       "unit": "it",
       "unit_divisor": 1000,
       "unit_scale": false
      },
      "application/vnd.jupyter.widget-view+json": {
       "model_id": "126e076014b0409c9bc88164df583860",
       "version_major": 2,
       "version_minor": 0
      },
      "text/plain": [
       "0it [00:00, ?it/s]"
      ]
     },
     "metadata": {},
     "output_type": "display_data"
    },
    {
     "name": "stderr",
     "output_type": "stream",
     "text": [
      "BAD:01 LOSS:2.16 ACC:26.4 BEST:2.2:  26%|███████▊                      | 26/100 [16:22<47:10, 38.26s/it]"
     ]
    },
    {
     "data": {
      "application/json": {
       "ascii": false,
       "bar_format": null,
       "colour": null,
       "elapsed": 0.006989002227783203,
       "initial": 0,
       "n": 0,
       "ncols": null,
       "nrows": 54,
       "postfix": null,
       "prefix": "",
       "rate": null,
       "total": null,
       "unit": "it",
       "unit_divisor": 1000,
       "unit_scale": false
      },
      "application/vnd.jupyter.widget-view+json": {
       "model_id": "b3d33bddbecb4ba392e7d7332ab03009",
       "version_major": 2,
       "version_minor": 0
      },
      "text/plain": [
       "0it [00:00, ?it/s]"
      ]
     },
     "metadata": {},
     "output_type": "display_data"
    },
    {
     "data": {
      "application/json": {
       "ascii": false,
       "bar_format": null,
       "colour": null,
       "elapsed": 0.007420063018798828,
       "initial": 0,
       "n": 0,
       "ncols": null,
       "nrows": 54,
       "postfix": null,
       "prefix": "",
       "rate": null,
       "total": null,
       "unit": "it",
       "unit_divisor": 1000,
       "unit_scale": false
      },
      "application/vnd.jupyter.widget-view+json": {
       "model_id": "3645bf5c42044cc48344d9addd70f0e2",
       "version_major": 2,
       "version_minor": 0
      },
      "text/plain": [
       "0it [00:00, ?it/s]"
      ]
     },
     "metadata": {},
     "output_type": "display_data"
    },
    {
     "name": "stderr",
     "output_type": "stream",
     "text": [
      "BAD:00 LOSS:2.15 ACC:26.4 BEST:2.1:  27%|████████                      | 27/100 [17:00<46:25, 38.15s/it]"
     ]
    },
    {
     "data": {
      "application/json": {
       "ascii": false,
       "bar_format": null,
       "colour": null,
       "elapsed": 0.007018327713012695,
       "initial": 0,
       "n": 0,
       "ncols": null,
       "nrows": 54,
       "postfix": null,
       "prefix": "",
       "rate": null,
       "total": null,
       "unit": "it",
       "unit_divisor": 1000,
       "unit_scale": false
      },
      "application/vnd.jupyter.widget-view+json": {
       "model_id": "6e23e94f185a48cd8f2d364f9f52cd51",
       "version_major": 2,
       "version_minor": 0
      },
      "text/plain": [
       "0it [00:00, ?it/s]"
      ]
     },
     "metadata": {},
     "output_type": "display_data"
    },
    {
     "data": {
      "application/json": {
       "ascii": false,
       "bar_format": null,
       "colour": null,
       "elapsed": 0.0076427459716796875,
       "initial": 0,
       "n": 0,
       "ncols": null,
       "nrows": 54,
       "postfix": null,
       "prefix": "",
       "rate": null,
       "total": null,
       "unit": "it",
       "unit_divisor": 1000,
       "unit_scale": false
      },
      "application/vnd.jupyter.widget-view+json": {
       "model_id": "6246175ff5374b66af2777628eb01227",
       "version_major": 2,
       "version_minor": 0
      },
      "text/plain": [
       "0it [00:00, ?it/s]"
      ]
     },
     "metadata": {},
     "output_type": "display_data"
    },
    {
     "name": "stderr",
     "output_type": "stream",
     "text": [
      "BAD:00 LOSS:2.14 ACC:26.6 BEST:2.1:  28%|████████▍                     | 28/100 [17:38<45:55, 38.28s/it]"
     ]
    },
    {
     "data": {
      "application/json": {
       "ascii": false,
       "bar_format": null,
       "colour": null,
       "elapsed": 0.00771784782409668,
       "initial": 0,
       "n": 0,
       "ncols": null,
       "nrows": 54,
       "postfix": null,
       "prefix": "",
       "rate": null,
       "total": null,
       "unit": "it",
       "unit_divisor": 1000,
       "unit_scale": false
      },
      "application/vnd.jupyter.widget-view+json": {
       "model_id": "1e589b65470d4085bac9a4b7252b28f3",
       "version_major": 2,
       "version_minor": 0
      },
      "text/plain": [
       "0it [00:00, ?it/s]"
      ]
     },
     "metadata": {},
     "output_type": "display_data"
    },
    {
     "data": {
      "application/json": {
       "ascii": false,
       "bar_format": null,
       "colour": null,
       "elapsed": 0.007161378860473633,
       "initial": 0,
       "n": 0,
       "ncols": null,
       "nrows": 54,
       "postfix": null,
       "prefix": "",
       "rate": null,
       "total": null,
       "unit": "it",
       "unit_divisor": 1000,
       "unit_scale": false
      },
      "application/vnd.jupyter.widget-view+json": {
       "model_id": "f53d4b81557c43c683feec13ef451405",
       "version_major": 2,
       "version_minor": 0
      },
      "text/plain": [
       "0it [00:00, ?it/s]"
      ]
     },
     "metadata": {},
     "output_type": "display_data"
    },
    {
     "name": "stderr",
     "output_type": "stream",
     "text": [
      "BAD:01 LOSS:2.14 ACC:26.6 BEST:2.1:  29%|████████▋                     | 29/100 [18:17<45:30, 38.46s/it]"
     ]
    },
    {
     "data": {
      "application/json": {
       "ascii": false,
       "bar_format": null,
       "colour": null,
       "elapsed": 0.006922721862792969,
       "initial": 0,
       "n": 0,
       "ncols": null,
       "nrows": 54,
       "postfix": null,
       "prefix": "",
       "rate": null,
       "total": null,
       "unit": "it",
       "unit_divisor": 1000,
       "unit_scale": false
      },
      "application/vnd.jupyter.widget-view+json": {
       "model_id": "90a45f3125ae44e087ca37a307b00138",
       "version_major": 2,
       "version_minor": 0
      },
      "text/plain": [
       "0it [00:00, ?it/s]"
      ]
     },
     "metadata": {},
     "output_type": "display_data"
    },
    {
     "data": {
      "application/json": {
       "ascii": false,
       "bar_format": null,
       "colour": null,
       "elapsed": 0.007416486740112305,
       "initial": 0,
       "n": 0,
       "ncols": null,
       "nrows": 54,
       "postfix": null,
       "prefix": "",
       "rate": null,
       "total": null,
       "unit": "it",
       "unit_divisor": 1000,
       "unit_scale": false
      },
      "application/vnd.jupyter.widget-view+json": {
       "model_id": "7af3ea873b134b5d8864720274ccc2b4",
       "version_major": 2,
       "version_minor": 0
      },
      "text/plain": [
       "0it [00:00, ?it/s]"
      ]
     },
     "metadata": {},
     "output_type": "display_data"
    },
    {
     "name": "stderr",
     "output_type": "stream",
     "text": [
      "BAD:02 LOSS:2.14 ACC:26.8 BEST:2.1:  30%|█████████                     | 30/100 [18:56<44:58, 38.55s/it]"
     ]
    },
    {
     "data": {
      "application/json": {
       "ascii": false,
       "bar_format": null,
       "colour": null,
       "elapsed": 0.0070247650146484375,
       "initial": 0,
       "n": 0,
       "ncols": null,
       "nrows": 54,
       "postfix": null,
       "prefix": "",
       "rate": null,
       "total": null,
       "unit": "it",
       "unit_divisor": 1000,
       "unit_scale": false
      },
      "application/vnd.jupyter.widget-view+json": {
       "model_id": "fe36e6e222a2486b9a1d10c8f8a4121d",
       "version_major": 2,
       "version_minor": 0
      },
      "text/plain": [
       "0it [00:00, ?it/s]"
      ]
     },
     "metadata": {},
     "output_type": "display_data"
    },
    {
     "data": {
      "application/json": {
       "ascii": false,
       "bar_format": null,
       "colour": null,
       "elapsed": 0.007092714309692383,
       "initial": 0,
       "n": 0,
       "ncols": null,
       "nrows": 54,
       "postfix": null,
       "prefix": "",
       "rate": null,
       "total": null,
       "unit": "it",
       "unit_divisor": 1000,
       "unit_scale": false
      },
      "application/vnd.jupyter.widget-view+json": {
       "model_id": "49bded96cc384977bc1749c0264fdc35",
       "version_major": 2,
       "version_minor": 0
      },
      "text/plain": [
       "0it [00:00, ?it/s]"
      ]
     },
     "metadata": {},
     "output_type": "display_data"
    },
    {
     "name": "stderr",
     "output_type": "stream",
     "text": [
      "BAD:03 LOSS:2.13 ACC:27.0 BEST:2.1:  31%|█████████▎                    | 31/100 [19:34<44:08, 38.38s/it]"
     ]
    },
    {
     "data": {
      "application/json": {
       "ascii": false,
       "bar_format": null,
       "colour": null,
       "elapsed": 0.007297515869140625,
       "initial": 0,
       "n": 0,
       "ncols": null,
       "nrows": 54,
       "postfix": null,
       "prefix": "",
       "rate": null,
       "total": null,
       "unit": "it",
       "unit_divisor": 1000,
       "unit_scale": false
      },
      "application/vnd.jupyter.widget-view+json": {
       "model_id": "bf7fb4e239204295bfdbd90b98d0c458",
       "version_major": 2,
       "version_minor": 0
      },
      "text/plain": [
       "0it [00:00, ?it/s]"
      ]
     },
     "metadata": {},
     "output_type": "display_data"
    },
    {
     "data": {
      "application/json": {
       "ascii": false,
       "bar_format": null,
       "colour": null,
       "elapsed": 0.0069200992584228516,
       "initial": 0,
       "n": 0,
       "ncols": null,
       "nrows": 54,
       "postfix": null,
       "prefix": "",
       "rate": null,
       "total": null,
       "unit": "it",
       "unit_divisor": 1000,
       "unit_scale": false
      },
      "application/vnd.jupyter.widget-view+json": {
       "model_id": "f8a299d29706428a967500e682c6cb41",
       "version_major": 2,
       "version_minor": 0
      },
      "text/plain": [
       "0it [00:00, ?it/s]"
      ]
     },
     "metadata": {},
     "output_type": "display_data"
    },
    {
     "name": "stderr",
     "output_type": "stream",
     "text": [
      "BAD:00 LOSS:2.11 ACC:27.1 BEST:2.1:  32%|█████████▌                    | 32/100 [20:12<43:15, 38.17s/it]"
     ]
    },
    {
     "data": {
      "application/json": {
       "ascii": false,
       "bar_format": null,
       "colour": null,
       "elapsed": 0.007071495056152344,
       "initial": 0,
       "n": 0,
       "ncols": null,
       "nrows": 54,
       "postfix": null,
       "prefix": "",
       "rate": null,
       "total": null,
       "unit": "it",
       "unit_divisor": 1000,
       "unit_scale": false
      },
      "application/vnd.jupyter.widget-view+json": {
       "model_id": "a50d7f16c83d4db6b20c207fcc559a53",
       "version_major": 2,
       "version_minor": 0
      },
      "text/plain": [
       "0it [00:00, ?it/s]"
      ]
     },
     "metadata": {},
     "output_type": "display_data"
    },
    {
     "data": {
      "application/json": {
       "ascii": false,
       "bar_format": null,
       "colour": null,
       "elapsed": 0.0071752071380615234,
       "initial": 0,
       "n": 0,
       "ncols": null,
       "nrows": 54,
       "postfix": null,
       "prefix": "",
       "rate": null,
       "total": null,
       "unit": "it",
       "unit_divisor": 1000,
       "unit_scale": false
      },
      "application/vnd.jupyter.widget-view+json": {
       "model_id": "9348b2904d144e45b16d9cfbdbb3e089",
       "version_major": 2,
       "version_minor": 0
      },
      "text/plain": [
       "0it [00:00, ?it/s]"
      ]
     },
     "metadata": {},
     "output_type": "display_data"
    },
    {
     "name": "stderr",
     "output_type": "stream",
     "text": [
      "BAD:01 LOSS:2.11 ACC:27.3 BEST:2.1:  33%|█████████▉                    | 33/100 [20:49<42:23, 37.97s/it]"
     ]
    },
    {
     "data": {
      "application/json": {
       "ascii": false,
       "bar_format": null,
       "colour": null,
       "elapsed": 0.0070226192474365234,
       "initial": 0,
       "n": 0,
       "ncols": null,
       "nrows": 54,
       "postfix": null,
       "prefix": "",
       "rate": null,
       "total": null,
       "unit": "it",
       "unit_divisor": 1000,
       "unit_scale": false
      },
      "application/vnd.jupyter.widget-view+json": {
       "model_id": "aac7f21c7173446b81dc0f9f472877f7",
       "version_major": 2,
       "version_minor": 0
      },
      "text/plain": [
       "0it [00:00, ?it/s]"
      ]
     },
     "metadata": {},
     "output_type": "display_data"
    },
    {
     "data": {
      "application/json": {
       "ascii": false,
       "bar_format": null,
       "colour": null,
       "elapsed": 0.006977558135986328,
       "initial": 0,
       "n": 0,
       "ncols": null,
       "nrows": 54,
       "postfix": null,
       "prefix": "",
       "rate": null,
       "total": null,
       "unit": "it",
       "unit_divisor": 1000,
       "unit_scale": false
      },
      "application/vnd.jupyter.widget-view+json": {
       "model_id": "aac780f4c269474d816093e599ba65ed",
       "version_major": 2,
       "version_minor": 0
      },
      "text/plain": [
       "0it [00:00, ?it/s]"
      ]
     },
     "metadata": {},
     "output_type": "display_data"
    },
    {
     "name": "stderr",
     "output_type": "stream",
     "text": [
      "BAD:02 LOSS:2.11 ACC:27.4 BEST:2.1:  34%|██████████▏                   | 34/100 [21:27<41:46, 37.98s/it]"
     ]
    },
    {
     "data": {
      "application/json": {
       "ascii": false,
       "bar_format": null,
       "colour": null,
       "elapsed": 0.0073888301849365234,
       "initial": 0,
       "n": 0,
       "ncols": null,
       "nrows": 54,
       "postfix": null,
       "prefix": "",
       "rate": null,
       "total": null,
       "unit": "it",
       "unit_divisor": 1000,
       "unit_scale": false
      },
      "application/vnd.jupyter.widget-view+json": {
       "model_id": "e8e214ea34674d6bb0d3a3ae520773da",
       "version_major": 2,
       "version_minor": 0
      },
      "text/plain": [
       "0it [00:00, ?it/s]"
      ]
     },
     "metadata": {},
     "output_type": "display_data"
    },
    {
     "data": {
      "application/json": {
       "ascii": false,
       "bar_format": null,
       "colour": null,
       "elapsed": 0.007028341293334961,
       "initial": 0,
       "n": 0,
       "ncols": null,
       "nrows": 54,
       "postfix": null,
       "prefix": "",
       "rate": null,
       "total": null,
       "unit": "it",
       "unit_divisor": 1000,
       "unit_scale": false
      },
      "application/vnd.jupyter.widget-view+json": {
       "model_id": "f87bf0b0b61b44ec81f863d72b7c98fd",
       "version_major": 2,
       "version_minor": 0
      },
      "text/plain": [
       "0it [00:00, ?it/s]"
      ]
     },
     "metadata": {},
     "output_type": "display_data"
    },
    {
     "name": "stderr",
     "output_type": "stream",
     "text": [
      "BAD:00 LOSS:2.10 ACC:27.4 BEST:2.1:  35%|██████████▌                   | 35/100 [22:05<41:04, 37.91s/it]"
     ]
    },
    {
     "data": {
      "application/json": {
       "ascii": false,
       "bar_format": null,
       "colour": null,
       "elapsed": 0.006994962692260742,
       "initial": 0,
       "n": 0,
       "ncols": null,
       "nrows": 54,
       "postfix": null,
       "prefix": "",
       "rate": null,
       "total": null,
       "unit": "it",
       "unit_divisor": 1000,
       "unit_scale": false
      },
      "application/vnd.jupyter.widget-view+json": {
       "model_id": "6133473ddc2f4480a8b26ffac2259303",
       "version_major": 2,
       "version_minor": 0
      },
      "text/plain": [
       "0it [00:00, ?it/s]"
      ]
     },
     "metadata": {},
     "output_type": "display_data"
    },
    {
     "name": "stderr",
     "output_type": "stream",
     "text": [
      "BAD:00 LOSS:2.10 ACC:27.4 BEST:2.1:  35%|██████████▌                   | 35/100 [22:16<41:22, 38.19s/it]\n"
     ]
    },
    {
     "ename": "KeyboardInterrupt",
     "evalue": "",
     "output_type": "error",
     "traceback": [
      "\u001b[0;31m---------------------------------------------------------------------------\u001b[0m",
      "\u001b[0;31mKeyboardInterrupt\u001b[0m                         Traceback (most recent call last)",
      "Input \u001b[0;32mIn [15]\u001b[0m, in \u001b[0;36m<cell line: 2>\u001b[0;34m()\u001b[0m\n\u001b[1;32m      2\u001b[0m \u001b[38;5;28;01mfor\u001b[39;00m i \u001b[38;5;129;01min\u001b[39;00m \u001b[38;5;28mrange\u001b[39m(KS):\n\u001b[1;32m      3\u001b[0m     \u001b[38;5;28mprint\u001b[39m(\u001b[38;5;124mf\u001b[39m\u001b[38;5;124m\"\u001b[39m\u001b[38;5;124mDealing with \u001b[39m\u001b[38;5;132;01m{\u001b[39;00mi\u001b[38;5;132;01m}\u001b[39;00m\u001b[38;5;124m\"\u001b[39m)\n\u001b[0;32m----> 4\u001b[0m     \u001b[43mmake_for_K\u001b[49m\u001b[43m(\u001b[49m\u001b[43mK\u001b[49m\u001b[38;5;241;43m=\u001b[39;49m\u001b[43mi\u001b[49m\u001b[43m,\u001b[49m\u001b[43m \u001b[49m\u001b[43mdf\u001b[49m\u001b[38;5;241;43m=\u001b[39;49m\u001b[43mdf\u001b[49m\u001b[43m)\u001b[49m\n\u001b[1;32m      5\u001b[0m     \u001b[38;5;28;01mif\u001b[39;00m i\u001b[38;5;241m+\u001b[39m\u001b[38;5;241m1\u001b[39m \u001b[38;5;241m==\u001b[39m NB_EXPS:\n\u001b[1;32m      6\u001b[0m         \u001b[38;5;28;01mbreak\u001b[39;00m\n",
      "Input \u001b[0;32mIn [13]\u001b[0m, in \u001b[0;36mmake_for_K\u001b[0;34m(K, df)\u001b[0m\n\u001b[1;32m     15\u001b[0m model \u001b[38;5;241m=\u001b[39m NgramModel(\n\u001b[1;32m     16\u001b[0m     output_dim\u001b[38;5;241m=\u001b[39m\u001b[38;5;28mlen\u001b[39m(df\u001b[38;5;241m.\u001b[39mbin\u001b[38;5;241m.\u001b[39munique()),\n\u001b[1;32m     17\u001b[0m     features\u001b[38;5;241m=\u001b[39m\u001b[38;5;28mtuple\u001b[39m([col \u001b[38;5;28;01mfor\u001b[39;00m col \u001b[38;5;129;01min\u001b[39;00m df\u001b[38;5;241m.\u001b[39mcolumns \u001b[38;5;28;01mif\u001b[39;00m col\u001b[38;5;241m.\u001b[39mstartswith(\u001b[38;5;124m\"\u001b[39m\u001b[38;5;124m$\u001b[39m\u001b[38;5;124m\"\u001b[39m)])\n\u001b[1;32m     18\u001b[0m )\n\u001b[1;32m     19\u001b[0m \u001b[38;5;28mprint\u001b[39m(model)\n\u001b[0;32m---> 20\u001b[0m \u001b[43mmodel\u001b[49m\u001b[38;5;241;43m.\u001b[39;49m\u001b[43mfit\u001b[49m\u001b[43m(\u001b[49m\n\u001b[1;32m     21\u001b[0m \u001b[43m    \u001b[49m\u001b[43mdf\u001b[49m\u001b[43m,\u001b[49m\n\u001b[1;32m     22\u001b[0m \u001b[43m    \u001b[49m\u001b[43mtrain_indexes\u001b[49m\u001b[38;5;241;43m=\u001b[39;49m\u001b[43mtrain\u001b[49m\u001b[43m,\u001b[49m\n\u001b[1;32m     23\u001b[0m \u001b[43m    \u001b[49m\u001b[43mdev_indexes\u001b[49m\u001b[38;5;241;43m=\u001b[39;49m\u001b[43mdev\u001b[49m\u001b[43m,\u001b[49m\n\u001b[1;32m     24\u001b[0m \u001b[43m    \u001b[49m\u001b[43mbatch_size\u001b[49m\u001b[38;5;241;43m=\u001b[39;49m\u001b[38;5;241;43m4096\u001b[39;49m\u001b[38;5;241;43m*\u001b[39;49m\u001b[38;5;241;43m2\u001b[39;49m\u001b[43m,\u001b[49m\n\u001b[1;32m     25\u001b[0m \u001b[43m    \u001b[49m\u001b[43mdelta\u001b[49m\u001b[38;5;241;43m=\u001b[39;49m\u001b[38;5;241;43m.01\u001b[39;49m\u001b[43m,\u001b[49m\n\u001b[1;32m     26\u001b[0m \u001b[43m    \u001b[49m\u001b[43mmax_bad_epochs\u001b[49m\u001b[38;5;241;43m=\u001b[39;49m\u001b[38;5;241;43m10\u001b[39;49m\u001b[43m,\u001b[49m\n\u001b[1;32m     27\u001b[0m \u001b[43m    \u001b[49m\u001b[43mepochs\u001b[49m\u001b[38;5;241;43m=\u001b[39;49m\u001b[38;5;241;43m100\u001b[39;49m\u001b[43m,\u001b[49m\n\u001b[1;32m     28\u001b[0m \u001b[43m    \u001b[49m\u001b[43mlr\u001b[49m\u001b[38;5;241;43m=\u001b[39;49m\u001b[38;5;241;43m5e-3\u001b[39;49m\n\u001b[1;32m     29\u001b[0m \u001b[43m\u001b[49m\u001b[43m)\u001b[49m\n\u001b[1;32m     30\u001b[0m model\u001b[38;5;241m.\u001b[39mnet\u001b[38;5;241m.\u001b[39meval()\n\u001b[1;32m     32\u001b[0m out \u001b[38;5;241m=\u001b[39m model\u001b[38;5;241m.\u001b[39mpred_dataframe(df, indexes\u001b[38;5;241m=\u001b[39mtest, _verbose\u001b[38;5;241m=\u001b[39m\u001b[38;5;28;01mTrue\u001b[39;00m, batch_size\u001b[38;5;241m=\u001b[39m\u001b[38;5;241m2048\u001b[39m)\n",
      "Input \u001b[0;32mIn [12]\u001b[0m, in \u001b[0;36mNgramModel.fit\u001b[0;34m(self, dataframe, train_indexes, dev_indexes, epochs, max_bad_epochs, batch_size, lr, delta, use_loss)\u001b[0m\n\u001b[1;32m     77\u001b[0m nb_batches \u001b[38;5;241m=\u001b[39m df\u001b[38;5;241m.\u001b[39mshape[\u001b[38;5;241m0\u001b[39m] \u001b[38;5;241m/\u001b[39m\u001b[38;5;241m/\u001b[39m batch_size\n\u001b[1;32m     78\u001b[0m \u001b[38;5;28;01mfor\u001b[39;00m epoch \u001b[38;5;129;01min\u001b[39;00m (pbar \u001b[38;5;241m:=\u001b[39m tqdm\u001b[38;5;241m.\u001b[39mtqdm(\u001b[38;5;28mrange\u001b[39m(epochs))):\n\u001b[0;32m---> 80\u001b[0m     \u001b[38;5;28;01mfor\u001b[39;00m batch_idx, (xs, ys) \u001b[38;5;129;01min\u001b[39;00m (pbar2 \u001b[38;5;241m:=\u001b[39m tqdm\u001b[38;5;241m.\u001b[39mautonotebook\u001b[38;5;241m.\u001b[39mtqdm(\u001b[38;5;28menumerate\u001b[39m(\n\u001b[1;32m     81\u001b[0m         \u001b[38;5;28mself\u001b[39m\u001b[38;5;241m.\u001b[39mget_batches(dataframe, train_indexes, batch_size\u001b[38;5;241m=\u001b[39mbatch_size, has_truth\u001b[38;5;241m=\u001b[39m\u001b[38;5;28;01mTrue\u001b[39;00m)\n\u001b[1;32m     82\u001b[0m     ), leave\u001b[38;5;241m=\u001b[39m\u001b[38;5;28;01mTrue\u001b[39;00m, position\u001b[38;5;241m=\u001b[39m\u001b[38;5;241m0\u001b[39m)):\n\u001b[1;32m     83\u001b[0m         outputs \u001b[38;5;241m=\u001b[39m \u001b[38;5;28mself\u001b[39m(xs)\n\u001b[1;32m     84\u001b[0m         loss \u001b[38;5;241m=\u001b[39m criterion(outputs, ys)\n",
      "File \u001b[0;32m~/dev/Medieval-Model/env/lib/python3.8/site-packages/tqdm/notebook.py:258\u001b[0m, in \u001b[0;36mtqdm_notebook.__iter__\u001b[0;34m(self)\u001b[0m\n\u001b[1;32m    256\u001b[0m \u001b[38;5;28;01mtry\u001b[39;00m:\n\u001b[1;32m    257\u001b[0m     it \u001b[38;5;241m=\u001b[39m \u001b[38;5;28msuper\u001b[39m(tqdm_notebook, \u001b[38;5;28mself\u001b[39m)\u001b[38;5;241m.\u001b[39m\u001b[38;5;21m__iter__\u001b[39m()\n\u001b[0;32m--> 258\u001b[0m     \u001b[38;5;28;01mfor\u001b[39;00m obj \u001b[38;5;129;01min\u001b[39;00m it:\n\u001b[1;32m    259\u001b[0m         \u001b[38;5;66;03m# return super(tqdm...) will not catch exception\u001b[39;00m\n\u001b[1;32m    260\u001b[0m         \u001b[38;5;28;01myield\u001b[39;00m obj\n\u001b[1;32m    261\u001b[0m \u001b[38;5;66;03m# NB: except ... [ as ...] breaks IPython async KeyboardInterrupt\u001b[39;00m\n",
      "File \u001b[0;32m~/dev/Medieval-Model/env/lib/python3.8/site-packages/tqdm/std.py:1195\u001b[0m, in \u001b[0;36mtqdm.__iter__\u001b[0;34m(self)\u001b[0m\n\u001b[1;32m   1192\u001b[0m time \u001b[38;5;241m=\u001b[39m \u001b[38;5;28mself\u001b[39m\u001b[38;5;241m.\u001b[39m_time\n\u001b[1;32m   1194\u001b[0m \u001b[38;5;28;01mtry\u001b[39;00m:\n\u001b[0;32m-> 1195\u001b[0m     \u001b[38;5;28;01mfor\u001b[39;00m obj \u001b[38;5;129;01min\u001b[39;00m iterable:\n\u001b[1;32m   1196\u001b[0m         \u001b[38;5;28;01myield\u001b[39;00m obj\n\u001b[1;32m   1197\u001b[0m         \u001b[38;5;66;03m# Update and possibly print the progressbar.\u001b[39;00m\n\u001b[1;32m   1198\u001b[0m         \u001b[38;5;66;03m# Note: does not call self.update(1) for speed optimisation.\u001b[39;00m\n",
      "Input \u001b[0;32mIn [12]\u001b[0m, in \u001b[0;36mNgramModel.get_batches\u001b[0;34m(self, dataframe, indexes, has_truth, batch_size)\u001b[0m\n\u001b[1;32m     44\u001b[0m loc_indexes \u001b[38;5;241m=\u001b[39m indexes[batch_start:batch_end]\n\u001b[1;32m     45\u001b[0m \u001b[38;5;28;01mif\u001b[39;00m has_truth:\n\u001b[1;32m     46\u001b[0m     \u001b[38;5;28;01myield\u001b[39;00m (\n\u001b[0;32m---> 47\u001b[0m         var(\u001b[43mdataframe\u001b[49m\u001b[38;5;241;43m.\u001b[39;49m\u001b[43mloc\u001b[49m\u001b[43m[\u001b[49m\u001b[43mloc_indexes\u001b[49m\u001b[43m,\u001b[49m\u001b[43m \u001b[49m\u001b[38;5;28;43mself\u001b[39;49m\u001b[38;5;241;43m.\u001b[39;49m\u001b[43mfeatures\u001b[49m\u001b[43m]\u001b[49m\u001b[38;5;241m.\u001b[39mfillna(\u001b[38;5;241m.0\u001b[39m)\u001b[38;5;241m.\u001b[39mto_numpy()),\n\u001b[1;32m     48\u001b[0m         var(dataframe\u001b[38;5;241m.\u001b[39mloc[loc_indexes, [\u001b[38;5;124m\"\u001b[39m\u001b[38;5;124mbin\u001b[39m\u001b[38;5;124m\"\u001b[39m]]\u001b[38;5;241m.\u001b[39mto_numpy(dtype\u001b[38;5;241m=\u001b[39m\u001b[38;5;124m\"\u001b[39m\u001b[38;5;124ml\u001b[39m\u001b[38;5;124m\"\u001b[39m))\u001b[38;5;241m.\u001b[39msqueeze(),\n\u001b[1;32m     49\u001b[0m     )\n\u001b[1;32m     50\u001b[0m \u001b[38;5;28;01melse\u001b[39;00m:\n\u001b[1;32m     51\u001b[0m     \u001b[38;5;28;01myield\u001b[39;00m (\n\u001b[1;32m     52\u001b[0m         var(dataframe\u001b[38;5;241m.\u001b[39mloc[loc_indexes, \u001b[38;5;28mself\u001b[39m\u001b[38;5;241m.\u001b[39mfeatures]\u001b[38;5;241m.\u001b[39mfillna(\u001b[38;5;241m.0\u001b[39m)\u001b[38;5;241m.\u001b[39mto_numpy()),\n\u001b[1;32m     53\u001b[0m         \u001b[38;5;28;01mNone\u001b[39;00m\n\u001b[1;32m     54\u001b[0m     )\n",
      "File \u001b[0;32m~/dev/Medieval-Model/env/lib/python3.8/site-packages/pandas/core/indexing.py:961\u001b[0m, in \u001b[0;36m_LocationIndexer.__getitem__\u001b[0;34m(self, key)\u001b[0m\n\u001b[1;32m    959\u001b[0m     \u001b[38;5;28;01mif\u001b[39;00m \u001b[38;5;28mself\u001b[39m\u001b[38;5;241m.\u001b[39m_is_scalar_access(key):\n\u001b[1;32m    960\u001b[0m         \u001b[38;5;28;01mreturn\u001b[39;00m \u001b[38;5;28mself\u001b[39m\u001b[38;5;241m.\u001b[39mobj\u001b[38;5;241m.\u001b[39m_get_value(\u001b[38;5;241m*\u001b[39mkey, takeable\u001b[38;5;241m=\u001b[39m\u001b[38;5;28mself\u001b[39m\u001b[38;5;241m.\u001b[39m_takeable)\n\u001b[0;32m--> 961\u001b[0m     \u001b[38;5;28;01mreturn\u001b[39;00m \u001b[38;5;28;43mself\u001b[39;49m\u001b[38;5;241;43m.\u001b[39;49m\u001b[43m_getitem_tuple\u001b[49m\u001b[43m(\u001b[49m\u001b[43mkey\u001b[49m\u001b[43m)\u001b[49m\n\u001b[1;32m    962\u001b[0m \u001b[38;5;28;01melse\u001b[39;00m:\n\u001b[1;32m    963\u001b[0m     \u001b[38;5;66;03m# we by definition only have the 0th axis\u001b[39;00m\n\u001b[1;32m    964\u001b[0m     axis \u001b[38;5;241m=\u001b[39m \u001b[38;5;28mself\u001b[39m\u001b[38;5;241m.\u001b[39maxis \u001b[38;5;129;01mor\u001b[39;00m \u001b[38;5;241m0\u001b[39m\n",
      "File \u001b[0;32m~/dev/Medieval-Model/env/lib/python3.8/site-packages/pandas/core/indexing.py:1147\u001b[0m, in \u001b[0;36m_LocIndexer._getitem_tuple\u001b[0;34m(self, tup)\u001b[0m\n\u001b[1;32m   1145\u001b[0m \u001b[38;5;66;03m# ugly hack for GH #836\u001b[39;00m\n\u001b[1;32m   1146\u001b[0m \u001b[38;5;28;01mif\u001b[39;00m \u001b[38;5;28mself\u001b[39m\u001b[38;5;241m.\u001b[39m_multi_take_opportunity(tup):\n\u001b[0;32m-> 1147\u001b[0m     \u001b[38;5;28;01mreturn\u001b[39;00m \u001b[38;5;28;43mself\u001b[39;49m\u001b[38;5;241;43m.\u001b[39;49m\u001b[43m_multi_take\u001b[49m\u001b[43m(\u001b[49m\u001b[43mtup\u001b[49m\u001b[43m)\u001b[49m\n\u001b[1;32m   1149\u001b[0m \u001b[38;5;28;01mreturn\u001b[39;00m \u001b[38;5;28mself\u001b[39m\u001b[38;5;241m.\u001b[39m_getitem_tuple_same_dim(tup)\n",
      "File \u001b[0;32m~/dev/Medieval-Model/env/lib/python3.8/site-packages/pandas/core/indexing.py:1102\u001b[0m, in \u001b[0;36m_LocIndexer._multi_take\u001b[0;34m(self, tup)\u001b[0m\n\u001b[1;32m   1097\u001b[0m \u001b[38;5;66;03m# GH 836\u001b[39;00m\n\u001b[1;32m   1098\u001b[0m d \u001b[38;5;241m=\u001b[39m {\n\u001b[1;32m   1099\u001b[0m     axis: \u001b[38;5;28mself\u001b[39m\u001b[38;5;241m.\u001b[39m_get_listlike_indexer(key, axis)\n\u001b[1;32m   1100\u001b[0m     \u001b[38;5;28;01mfor\u001b[39;00m (key, axis) \u001b[38;5;129;01min\u001b[39;00m \u001b[38;5;28mzip\u001b[39m(tup, \u001b[38;5;28mself\u001b[39m\u001b[38;5;241m.\u001b[39mobj\u001b[38;5;241m.\u001b[39m_AXIS_ORDERS)\n\u001b[1;32m   1101\u001b[0m }\n\u001b[0;32m-> 1102\u001b[0m \u001b[38;5;28;01mreturn\u001b[39;00m \u001b[38;5;28;43mself\u001b[39;49m\u001b[38;5;241;43m.\u001b[39;49m\u001b[43mobj\u001b[49m\u001b[38;5;241;43m.\u001b[39;49m\u001b[43m_reindex_with_indexers\u001b[49m\u001b[43m(\u001b[49m\u001b[43md\u001b[49m\u001b[43m,\u001b[49m\u001b[43m \u001b[49m\u001b[43mcopy\u001b[49m\u001b[38;5;241;43m=\u001b[39;49m\u001b[38;5;28;43;01mTrue\u001b[39;49;00m\u001b[43m,\u001b[49m\u001b[43m \u001b[49m\u001b[43mallow_dups\u001b[49m\u001b[38;5;241;43m=\u001b[39;49m\u001b[38;5;28;43;01mTrue\u001b[39;49;00m\u001b[43m)\u001b[49m\n",
      "File \u001b[0;32m~/dev/Medieval-Model/env/lib/python3.8/site-packages/pandas/core/generic.py:5032\u001b[0m, in \u001b[0;36mNDFrame._reindex_with_indexers\u001b[0;34m(self, reindexers, fill_value, copy, allow_dups)\u001b[0m\n\u001b[1;32m   5029\u001b[0m     indexer \u001b[38;5;241m=\u001b[39m ensure_platform_int(indexer)\n\u001b[1;32m   5031\u001b[0m \u001b[38;5;66;03m# TODO: speed up on homogeneous DataFrame objects (see _reindex_multi)\u001b[39;00m\n\u001b[0;32m-> 5032\u001b[0m new_data \u001b[38;5;241m=\u001b[39m \u001b[43mnew_data\u001b[49m\u001b[38;5;241;43m.\u001b[39;49m\u001b[43mreindex_indexer\u001b[49m\u001b[43m(\u001b[49m\n\u001b[1;32m   5033\u001b[0m \u001b[43m    \u001b[49m\u001b[43mindex\u001b[49m\u001b[43m,\u001b[49m\n\u001b[1;32m   5034\u001b[0m \u001b[43m    \u001b[49m\u001b[43mindexer\u001b[49m\u001b[43m,\u001b[49m\n\u001b[1;32m   5035\u001b[0m \u001b[43m    \u001b[49m\u001b[43maxis\u001b[49m\u001b[38;5;241;43m=\u001b[39;49m\u001b[43mbaxis\u001b[49m\u001b[43m,\u001b[49m\n\u001b[1;32m   5036\u001b[0m \u001b[43m    \u001b[49m\u001b[43mfill_value\u001b[49m\u001b[38;5;241;43m=\u001b[39;49m\u001b[43mfill_value\u001b[49m\u001b[43m,\u001b[49m\n\u001b[1;32m   5037\u001b[0m \u001b[43m    \u001b[49m\u001b[43mallow_dups\u001b[49m\u001b[38;5;241;43m=\u001b[39;49m\u001b[43mallow_dups\u001b[49m\u001b[43m,\u001b[49m\n\u001b[1;32m   5038\u001b[0m \u001b[43m    \u001b[49m\u001b[43mcopy\u001b[49m\u001b[38;5;241;43m=\u001b[39;49m\u001b[43mcopy\u001b[49m\u001b[43m,\u001b[49m\n\u001b[1;32m   5039\u001b[0m \u001b[43m\u001b[49m\u001b[43m)\u001b[49m\n\u001b[1;32m   5040\u001b[0m \u001b[38;5;66;03m# If we've made a copy once, no need to make another one\u001b[39;00m\n\u001b[1;32m   5041\u001b[0m copy \u001b[38;5;241m=\u001b[39m \u001b[38;5;28;01mFalse\u001b[39;00m\n",
      "File \u001b[0;32m~/dev/Medieval-Model/env/lib/python3.8/site-packages/pandas/core/internals/managers.py:685\u001b[0m, in \u001b[0;36mBaseBlockManager.reindex_indexer\u001b[0;34m(self, new_axis, indexer, axis, fill_value, allow_dups, copy, consolidate, only_slice, use_na_proxy)\u001b[0m\n\u001b[1;32m    682\u001b[0m     \u001b[38;5;28;01mraise\u001b[39;00m \u001b[38;5;167;01mIndexError\u001b[39;00m(\u001b[38;5;124m\"\u001b[39m\u001b[38;5;124mRequested axis not found in manager\u001b[39m\u001b[38;5;124m\"\u001b[39m)\n\u001b[1;32m    684\u001b[0m \u001b[38;5;28;01mif\u001b[39;00m axis \u001b[38;5;241m==\u001b[39m \u001b[38;5;241m0\u001b[39m:\n\u001b[0;32m--> 685\u001b[0m     new_blocks \u001b[38;5;241m=\u001b[39m \u001b[38;5;28;43mself\u001b[39;49m\u001b[38;5;241;43m.\u001b[39;49m\u001b[43m_slice_take_blocks_ax0\u001b[49m\u001b[43m(\u001b[49m\n\u001b[1;32m    686\u001b[0m \u001b[43m        \u001b[49m\u001b[43mindexer\u001b[49m\u001b[43m,\u001b[49m\n\u001b[1;32m    687\u001b[0m \u001b[43m        \u001b[49m\u001b[43mfill_value\u001b[49m\u001b[38;5;241;43m=\u001b[39;49m\u001b[43mfill_value\u001b[49m\u001b[43m,\u001b[49m\n\u001b[1;32m    688\u001b[0m \u001b[43m        \u001b[49m\u001b[43monly_slice\u001b[49m\u001b[38;5;241;43m=\u001b[39;49m\u001b[43monly_slice\u001b[49m\u001b[43m,\u001b[49m\n\u001b[1;32m    689\u001b[0m \u001b[43m        \u001b[49m\u001b[43muse_na_proxy\u001b[49m\u001b[38;5;241;43m=\u001b[39;49m\u001b[43muse_na_proxy\u001b[49m\u001b[43m,\u001b[49m\n\u001b[1;32m    690\u001b[0m \u001b[43m    \u001b[49m\u001b[43m)\u001b[49m\n\u001b[1;32m    691\u001b[0m \u001b[38;5;28;01melse\u001b[39;00m:\n\u001b[1;32m    692\u001b[0m     new_blocks \u001b[38;5;241m=\u001b[39m [\n\u001b[1;32m    693\u001b[0m         blk\u001b[38;5;241m.\u001b[39mtake_nd(\n\u001b[1;32m    694\u001b[0m             indexer,\n\u001b[0;32m   (...)\u001b[0m\n\u001b[1;32m    700\u001b[0m         \u001b[38;5;28;01mfor\u001b[39;00m blk \u001b[38;5;129;01min\u001b[39;00m \u001b[38;5;28mself\u001b[39m\u001b[38;5;241m.\u001b[39mblocks\n\u001b[1;32m    701\u001b[0m     ]\n",
      "File \u001b[0;32m~/dev/Medieval-Model/env/lib/python3.8/site-packages/pandas/core/internals/managers.py:844\u001b[0m, in \u001b[0;36mBaseBlockManager._slice_take_blocks_ax0\u001b[0;34m(self, slice_or_indexer, fill_value, only_slice, use_na_proxy)\u001b[0m\n\u001b[1;32m    842\u001b[0m                     blocks\u001b[38;5;241m.\u001b[39mappend(nb)\n\u001b[1;32m    843\u001b[0m             \u001b[38;5;28;01melse\u001b[39;00m:\n\u001b[0;32m--> 844\u001b[0m                 nb \u001b[38;5;241m=\u001b[39m \u001b[43mblk\u001b[49m\u001b[38;5;241;43m.\u001b[39;49m\u001b[43mtake_nd\u001b[49m\u001b[43m(\u001b[49m\u001b[43mtaker\u001b[49m\u001b[43m,\u001b[49m\u001b[43m \u001b[49m\u001b[43maxis\u001b[49m\u001b[38;5;241;43m=\u001b[39;49m\u001b[38;5;241;43m0\u001b[39;49m\u001b[43m,\u001b[49m\u001b[43m \u001b[49m\u001b[43mnew_mgr_locs\u001b[49m\u001b[38;5;241;43m=\u001b[39;49m\u001b[43mmgr_locs\u001b[49m\u001b[43m)\u001b[49m\n\u001b[1;32m    845\u001b[0m                 blocks\u001b[38;5;241m.\u001b[39mappend(nb)\n\u001b[1;32m    847\u001b[0m \u001b[38;5;28;01mreturn\u001b[39;00m blocks\n",
      "File \u001b[0;32m~/dev/Medieval-Model/env/lib/python3.8/site-packages/pandas/core/internals/blocks.py:1139\u001b[0m, in \u001b[0;36mBlock.take_nd\u001b[0;34m(self, indexer, axis, new_mgr_locs, fill_value)\u001b[0m\n\u001b[1;32m   1136\u001b[0m \u001b[38;5;28;01melse\u001b[39;00m:\n\u001b[1;32m   1137\u001b[0m     allow_fill \u001b[38;5;241m=\u001b[39m \u001b[38;5;28;01mTrue\u001b[39;00m\n\u001b[0;32m-> 1139\u001b[0m new_values \u001b[38;5;241m=\u001b[39m \u001b[43malgos\u001b[49m\u001b[38;5;241;43m.\u001b[39;49m\u001b[43mtake_nd\u001b[49m\u001b[43m(\u001b[49m\n\u001b[1;32m   1140\u001b[0m \u001b[43m    \u001b[49m\u001b[43mvalues\u001b[49m\u001b[43m,\u001b[49m\u001b[43m \u001b[49m\u001b[43mindexer\u001b[49m\u001b[43m,\u001b[49m\u001b[43m \u001b[49m\u001b[43maxis\u001b[49m\u001b[38;5;241;43m=\u001b[39;49m\u001b[43maxis\u001b[49m\u001b[43m,\u001b[49m\u001b[43m \u001b[49m\u001b[43mallow_fill\u001b[49m\u001b[38;5;241;43m=\u001b[39;49m\u001b[43mallow_fill\u001b[49m\u001b[43m,\u001b[49m\u001b[43m \u001b[49m\u001b[43mfill_value\u001b[49m\u001b[38;5;241;43m=\u001b[39;49m\u001b[43mfill_value\u001b[49m\n\u001b[1;32m   1141\u001b[0m \u001b[43m\u001b[49m\u001b[43m)\u001b[49m\n\u001b[1;32m   1143\u001b[0m \u001b[38;5;66;03m# Called from three places in managers, all of which satisfy\u001b[39;00m\n\u001b[1;32m   1144\u001b[0m \u001b[38;5;66;03m#  this assertion\u001b[39;00m\n\u001b[1;32m   1145\u001b[0m \u001b[38;5;28;01massert\u001b[39;00m \u001b[38;5;129;01mnot\u001b[39;00m (axis \u001b[38;5;241m==\u001b[39m \u001b[38;5;241m0\u001b[39m \u001b[38;5;129;01mand\u001b[39;00m new_mgr_locs \u001b[38;5;129;01mis\u001b[39;00m \u001b[38;5;28;01mNone\u001b[39;00m)\n",
      "File \u001b[0;32m~/dev/Medieval-Model/env/lib/python3.8/site-packages/pandas/core/array_algos/take.py:117\u001b[0m, in \u001b[0;36mtake_nd\u001b[0;34m(arr, indexer, axis, fill_value, allow_fill)\u001b[0m\n\u001b[1;32m    114\u001b[0m     \u001b[38;5;28;01mreturn\u001b[39;00m arr\u001b[38;5;241m.\u001b[39mtake(indexer, fill_value\u001b[38;5;241m=\u001b[39mfill_value, allow_fill\u001b[38;5;241m=\u001b[39mallow_fill)\n\u001b[1;32m    116\u001b[0m arr \u001b[38;5;241m=\u001b[39m np\u001b[38;5;241m.\u001b[39masarray(arr)\n\u001b[0;32m--> 117\u001b[0m \u001b[38;5;28;01mreturn\u001b[39;00m \u001b[43m_take_nd_ndarray\u001b[49m\u001b[43m(\u001b[49m\u001b[43marr\u001b[49m\u001b[43m,\u001b[49m\u001b[43m \u001b[49m\u001b[43mindexer\u001b[49m\u001b[43m,\u001b[49m\u001b[43m \u001b[49m\u001b[43maxis\u001b[49m\u001b[43m,\u001b[49m\u001b[43m \u001b[49m\u001b[43mfill_value\u001b[49m\u001b[43m,\u001b[49m\u001b[43m \u001b[49m\u001b[43mallow_fill\u001b[49m\u001b[43m)\u001b[49m\n",
      "File \u001b[0;32m~/dev/Medieval-Model/env/lib/python3.8/site-packages/pandas/core/array_algos/take.py:163\u001b[0m, in \u001b[0;36m_take_nd_ndarray\u001b[0;34m(arr, indexer, axis, fill_value, allow_fill)\u001b[0m\n\u001b[1;32m    158\u001b[0m     out \u001b[38;5;241m=\u001b[39m np\u001b[38;5;241m.\u001b[39mempty(out_shape, dtype\u001b[38;5;241m=\u001b[39mdtype)\n\u001b[1;32m    160\u001b[0m func \u001b[38;5;241m=\u001b[39m _get_take_nd_function(\n\u001b[1;32m    161\u001b[0m     arr\u001b[38;5;241m.\u001b[39mndim, arr\u001b[38;5;241m.\u001b[39mdtype, out\u001b[38;5;241m.\u001b[39mdtype, axis\u001b[38;5;241m=\u001b[39maxis, mask_info\u001b[38;5;241m=\u001b[39mmask_info\n\u001b[1;32m    162\u001b[0m )\n\u001b[0;32m--> 163\u001b[0m \u001b[43mfunc\u001b[49m\u001b[43m(\u001b[49m\u001b[43marr\u001b[49m\u001b[43m,\u001b[49m\u001b[43m \u001b[49m\u001b[43mindexer\u001b[49m\u001b[43m,\u001b[49m\u001b[43m \u001b[49m\u001b[43mout\u001b[49m\u001b[43m,\u001b[49m\u001b[43m \u001b[49m\u001b[43mfill_value\u001b[49m\u001b[43m)\u001b[49m\n\u001b[1;32m    165\u001b[0m \u001b[38;5;28;01mif\u001b[39;00m flip_order:\n\u001b[1;32m    166\u001b[0m     out \u001b[38;5;241m=\u001b[39m out\u001b[38;5;241m.\u001b[39mT\n",
      "File \u001b[0;32m~/dev/Medieval-Model/env/lib/python3.8/site-packages/pandas/core/array_algos/take.py:342\u001b[0m, in \u001b[0;36m_get_take_nd_function.<locals>.func\u001b[0;34m(arr, indexer, out, fill_value)\u001b[0m\n\u001b[1;32m    340\u001b[0m \u001b[38;5;28;01mdef\u001b[39;00m \u001b[38;5;21mfunc\u001b[39m(arr, indexer, out, fill_value\u001b[38;5;241m=\u001b[39mnp\u001b[38;5;241m.\u001b[39mnan):\n\u001b[1;32m    341\u001b[0m     indexer \u001b[38;5;241m=\u001b[39m ensure_platform_int(indexer)\n\u001b[0;32m--> 342\u001b[0m     \u001b[43m_take_nd_object\u001b[49m\u001b[43m(\u001b[49m\n\u001b[1;32m    343\u001b[0m \u001b[43m        \u001b[49m\u001b[43marr\u001b[49m\u001b[43m,\u001b[49m\u001b[43m \u001b[49m\u001b[43mindexer\u001b[49m\u001b[43m,\u001b[49m\u001b[43m \u001b[49m\u001b[43mout\u001b[49m\u001b[43m,\u001b[49m\u001b[43m \u001b[49m\u001b[43maxis\u001b[49m\u001b[38;5;241;43m=\u001b[39;49m\u001b[43maxis\u001b[49m\u001b[43m,\u001b[49m\u001b[43m \u001b[49m\u001b[43mfill_value\u001b[49m\u001b[38;5;241;43m=\u001b[39;49m\u001b[43mfill_value\u001b[49m\u001b[43m,\u001b[49m\u001b[43m \u001b[49m\u001b[43mmask_info\u001b[49m\u001b[38;5;241;43m=\u001b[39;49m\u001b[43mmask_info\u001b[49m\n\u001b[1;32m    344\u001b[0m \u001b[43m    \u001b[49m\u001b[43m)\u001b[49m\n",
      "File \u001b[0;32m~/dev/Medieval-Model/env/lib/python3.8/site-packages/pandas/core/array_algos/take.py:518\u001b[0m, in \u001b[0;36m_take_nd_object\u001b[0;34m(arr, indexer, out, axis, fill_value, mask_info)\u001b[0m\n\u001b[1;32m    516\u001b[0m     arr \u001b[38;5;241m=\u001b[39m arr\u001b[38;5;241m.\u001b[39mastype(out\u001b[38;5;241m.\u001b[39mdtype)\n\u001b[1;32m    517\u001b[0m \u001b[38;5;28;01mif\u001b[39;00m arr\u001b[38;5;241m.\u001b[39mshape[axis] \u001b[38;5;241m>\u001b[39m \u001b[38;5;241m0\u001b[39m:\n\u001b[0;32m--> 518\u001b[0m     \u001b[43marr\u001b[49m\u001b[38;5;241;43m.\u001b[39;49m\u001b[43mtake\u001b[49m\u001b[43m(\u001b[49m\u001b[43mindexer\u001b[49m\u001b[43m,\u001b[49m\u001b[43m \u001b[49m\u001b[43maxis\u001b[49m\u001b[38;5;241;43m=\u001b[39;49m\u001b[43maxis\u001b[49m\u001b[43m,\u001b[49m\u001b[43m \u001b[49m\u001b[43mout\u001b[49m\u001b[38;5;241;43m=\u001b[39;49m\u001b[43mout\u001b[49m\u001b[43m)\u001b[49m\n\u001b[1;32m    519\u001b[0m \u001b[38;5;28;01mif\u001b[39;00m needs_masking:\n\u001b[1;32m    520\u001b[0m     outindexer \u001b[38;5;241m=\u001b[39m [\u001b[38;5;28mslice\u001b[39m(\u001b[38;5;28;01mNone\u001b[39;00m)] \u001b[38;5;241m*\u001b[39m arr\u001b[38;5;241m.\u001b[39mndim\n",
      "\u001b[0;31mKeyboardInterrupt\u001b[0m: "
     ]
    }
   ],
   "source": [
    "NB_EXPS = 5\n",
    "for i in range(KS):\n",
    "    print(f\"Dealing with {i}\")\n",
    "    make_for_K(K=i, df=df)\n",
    "    if i+1 == NB_EXPS:\n",
    "        break"
   ]
  },
  {
   "cell_type": "code",
   "execution_count": null,
   "id": "0483ca74",
   "metadata": {},
   "outputs": [],
   "source": []
  },
  {
   "cell_type": "code",
   "execution_count": null,
   "id": "3ceaa9cf",
   "metadata": {},
   "outputs": [],
   "source": []
  }
 ],
 "metadata": {
  "kernelspec": {
   "display_name": "Python 3 (ipykernel)",
   "language": "python",
   "name": "python3"
  },
  "language_info": {
   "codemirror_mode": {
    "name": "ipython",
    "version": 3
   },
   "file_extension": ".py",
   "mimetype": "text/x-python",
   "name": "python",
   "nbconvert_exporter": "python",
   "pygments_lexer": "ipython3",
   "version": "3.8.13"
  }
 },
 "nbformat": 4,
 "nbformat_minor": 5
}
