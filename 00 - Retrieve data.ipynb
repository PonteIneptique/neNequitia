{
 "cells": [
  {
   "cell_type": "code",
   "execution_count": 1,
   "id": "950d154d",
   "metadata": {},
   "outputs": [],
   "source": [
    "import glob\n",
    "import tqdm\n",
    "import lxml.etree as ET\n",
    "import csv\n",
    "import collections\n",
    "import os\n",
    "from typing import List"
   ]
  },
  {
   "cell_type": "markdown",
   "id": "2379d33c",
   "metadata": {},
   "source": [
    "# Parse data"
   ]
  },
  {
   "cell_type": "code",
   "execution_count": 2,
   "id": "49c2c08d",
   "metadata": {},
   "outputs": [
    {
     "name": "stderr",
     "output_type": "stream",
     "text": [
      "  2%|███▏                                                                                                                                                                       | 80/4371 [00:00<00:16, 256.86it/s]"
     ]
    },
    {
     "name": "stdout",
     "output_type": "stream",
     "text": [
      "Document is empty, line 1, column 1 (e-codices_kba-WettF0015_109v_max.transc-manumffrench2.xml, line 1)\n"
     ]
    },
    {
     "name": "stderr",
     "output_type": "stream",
     "text": [
      "  4%|███████▌                                                                                                                                                                  | 193/4371 [00:01<00:22, 185.12it/s]"
     ]
    },
    {
     "name": "stdout",
     "output_type": "stream",
     "text": [
      "Document is empty, line 1, column 1 (e-codices_kba-WettF0015_109v_max.transc-0.xml, line 1)\n"
     ]
    },
    {
     "name": "stderr",
     "output_type": "stream",
     "text": [
      "  8%|█████████████▏                                                                                                                                                            | 339/4371 [00:02<00:35, 113.44it/s]"
     ]
    },
    {
     "name": "stdout",
     "output_type": "stream",
     "text": [
      "Document is empty, line 1, column 1 (BIS_00_00615_0447.transc-CREMMA-Medieval.xml, line 1)\n",
      "Document is empty, line 1, column 1 (e-codices_kba-WettF0015_109v_max.transc-2.xml, line 1)\n"
     ]
    },
    {
     "name": "stderr",
     "output_type": "stream",
     "text": [
      " 19%|████████████████████████████████▌                                                                                                                                         | 838/4371 [00:05<00:20, 169.80it/s]"
     ]
    },
    {
     "name": "stdout",
     "output_type": "stream",
     "text": [
      "Document is empty, line 1, column 1 (e-codices_kba-WettF0015_109v_max.transc-1.xml, line 1)\n"
     ]
    },
    {
     "name": "stderr",
     "output_type": "stream",
     "text": [
      " 26%|████████████████████████████████████████████                                                                                                                             | 1140/4371 [00:07<00:21, 152.49it/s]"
     ]
    },
    {
     "name": "stdout",
     "output_type": "stream",
     "text": [
      "Document is empty, line 1, column 1 (BIS_00_00615_0450.transc-1.xml, line 1)\n",
      "Document is empty, line 1, column 1 (e-codices_kba-WettF0015_109v_max.transc-0.xml, line 1)\n"
     ]
    },
    {
     "name": "stderr",
     "output_type": "stream",
     "text": [
      " 31%|████████████████████████████████████████████████████▌                                                                                                                    | 1359/4371 [00:08<00:16, 187.13it/s]"
     ]
    },
    {
     "name": "stdout",
     "output_type": "stream",
     "text": [
      "Document is empty, line 1, column 1 (42_4b433_default.transc-manumffrench2.mlmodel.xml, line 1)\n"
     ]
    },
    {
     "name": "stderr",
     "output_type": "stream",
     "text": [
      " 32%|██████████████████████████████████████████████████████                                                                                                                   | 1398/4371 [00:08<00:17, 168.40it/s]"
     ]
    },
    {
     "name": "stdout",
     "output_type": "stream",
     "text": [
      "Document is empty, line 1, column 1 (f.157r.transc-manumffrench2.mlmodel.xml, line 1)\n"
     ]
    },
    {
     "name": "stderr",
     "output_type": "stream",
     "text": [
      " 36%|████████████████████████████████████████████████████████████▏                                                                                                            | 1558/4371 [00:09<00:14, 192.66it/s]"
     ]
    },
    {
     "name": "stdout",
     "output_type": "stream",
     "text": [
      "Document is empty, line 1, column 1 (136_9a3bb_default.transc-manumffrench2.mlmodel.xml, line 1)\n"
     ]
    },
    {
     "name": "stderr",
     "output_type": "stream",
     "text": [
      " 38%|████████████████████████████████████████████████████████████████▋                                                                                                        | 1673/4371 [00:10<00:13, 198.31it/s]"
     ]
    },
    {
     "name": "stdout",
     "output_type": "stream",
     "text": [
      "Document is empty, line 1, column 1 (f.157r.transc-bad_0.mlmodel.xml, line 1)\n"
     ]
    },
    {
     "name": "stderr",
     "output_type": "stream",
     "text": [
      " 44%|██████████████████████████████████████████████████████████████████████████▍                                                                                              | 1924/4371 [00:11<00:13, 180.12it/s]"
     ]
    },
    {
     "name": "stdout",
     "output_type": "stream",
     "text": [
      "Document is empty, line 1, column 1 (f.157r.transc-CREMMA-Medieval.mlmodel.xml, line 1)\n"
     ]
    },
    {
     "name": "stderr",
     "output_type": "stream",
     "text": [
      " 50%|████████████████████████████████████████████████████████████████████████████████████▌                                                                                    | 2186/4371 [00:13<00:13, 159.39it/s]"
     ]
    },
    {
     "name": "stdout",
     "output_type": "stream",
     "text": [
      "Document is empty, line 1, column 1 (f.157r.transc-cremma-medieval_2.mlmodel.xml, line 1)\n"
     ]
    },
    {
     "name": "stderr",
     "output_type": "stream",
     "text": [
      " 56%|███████████████████████████████████████████████████████████████████████████████████████████████▏                                                                         | 2462/4371 [00:15<00:08, 234.92it/s]"
     ]
    },
    {
     "name": "stdout",
     "output_type": "stream",
     "text": [
      "Document is empty, line 1, column 1 (43_f552a_default.transc-bad_3.mlmodel.xml, line 1)\n"
     ]
    },
    {
     "name": "stderr",
     "output_type": "stream",
     "text": [
      " 57%|█████████████████████████████████████████████████████████████████████████████████████████████████                                                                        | 2509/4371 [00:15<00:10, 175.26it/s]"
     ]
    },
    {
     "name": "stdout",
     "output_type": "stream",
     "text": [
      "Document is empty, line 1, column 1 (f.157r.transc-bad_3.mlmodel.xml, line 1)\n"
     ]
    },
    {
     "name": "stderr",
     "output_type": "stream",
     "text": [
      " 62%|█████████████████████████████████████████████████████████████████████████████████████████████████████████                                                                | 2717/4371 [00:16<00:08, 202.21it/s]"
     ]
    },
    {
     "name": "stdout",
     "output_type": "stream",
     "text": [
      "Document is empty, line 1, column 1 (20_eaf8f_default.transc-bad_2.mlmodel.xml, line 1)\n"
     ]
    },
    {
     "name": "stderr",
     "output_type": "stream",
     "text": [
      " 63%|██████████████████████████████████████████████████████████████████████████████████████████████████████████▋                                                              | 2759/4371 [00:17<00:09, 166.82it/s]"
     ]
    },
    {
     "name": "stdout",
     "output_type": "stream",
     "text": [
      "Document is empty, line 1, column 1 (f.157r.transc-bad_2.mlmodel.xml, line 1)\n"
     ]
    },
    {
     "name": "stderr",
     "output_type": "stream",
     "text": [
      " 68%|███████████████████████████████████████████████████████████████████████████████████████████████████████████████████                                                      | 2975/4371 [00:18<00:05, 247.26it/s]"
     ]
    },
    {
     "name": "stdout",
     "output_type": "stream",
     "text": [
      "Document is empty, line 1, column 1 (43_f552a_default.transc-lat_only_5.mlmodel.xml, line 1)\n",
      "Document is empty, line 1, column 1 (46_fe906_default.transc-lat_only_5.mlmodel.xml, line 1)\n",
      "Document is empty, line 1, column 1 (33_e90ae_default.transc-lat_only_5.mlmodel.xml, line 1)\n",
      "Document is empty, line 1, column 1 (39_6ebce_default.transc-lat_only_5.mlmodel.xml, line 1)\n"
     ]
    },
    {
     "name": "stderr",
     "output_type": "stream",
     "text": [
      " 69%|████████████████████████████████████████████████████████████████████████████████████████████████████████████████████▉                                                    | 3023/4371 [00:18<00:07, 187.85it/s]"
     ]
    },
    {
     "name": "stdout",
     "output_type": "stream",
     "text": [
      "Document is empty, line 1, column 1 (f.157r.transc-lat_only_5.mlmodel.xml, line 1)\n"
     ]
    },
    {
     "name": "stderr",
     "output_type": "stream",
     "text": [
      " 75%|██████████████████████████████████████████████████████████████████████████████████████████████████████████████████████████████▋                                          | 3278/4371 [00:20<00:06, 175.70it/s]"
     ]
    },
    {
     "name": "stdout",
     "output_type": "stream",
     "text": [
      "Document is empty, line 1, column 1 (f.157r.transc-cremma-medieval_1.mlmodel.xml, line 1)\n"
     ]
    },
    {
     "name": "stderr",
     "output_type": "stream",
     "text": [
      " 80%|███████████████████████████████████████████████████████████████████████████████████████████████████████████████████████████████████████▏                                 | 3495/4371 [00:21<00:03, 239.34it/s]"
     ]
    },
    {
     "name": "stdout",
     "output_type": "stream",
     "text": [
      "Document is empty, line 1, column 1 (reg-lat-1616_109v.transc-cremma-medieval_1.mlmodel.xml, line 1)\n"
     ]
    },
    {
     "name": "stderr",
     "output_type": "stream",
     "text": [
      " 81%|█████████████████████████████████████████████████████████████████████████████████████████████████████████████████████████████████████████▋                               | 3562/4371 [00:21<00:04, 170.15it/s]"
     ]
    },
    {
     "name": "stdout",
     "output_type": "stream",
     "text": [
      "Document is empty, line 1, column 1 (f.157r.transc-lat_only_4.mlmodel.xml, line 1)\n"
     ]
    },
    {
     "name": "stderr",
     "output_type": "stream",
     "text": [
      " 88%|████████████████████████████████████████████████████████████████████████████████████████████████████████████████████████████████████████████████████▌                    | 3843/4371 [00:23<00:02, 212.70it/s]"
     ]
    },
    {
     "name": "stdout",
     "output_type": "stream",
     "text": [
      "Document is empty, line 1, column 1 (f.157r.transc-bad_1.mlmodel.xml, line 1)\n"
     ]
    },
    {
     "name": "stderr",
     "output_type": "stream",
     "text": [
      " 94%|███████████████████████████████████████████████████████████████████████████████████████████████████████████████████████████████████████████████████████████████▏         | 4116/4371 [00:25<00:01, 167.13it/s]"
     ]
    },
    {
     "name": "stdout",
     "output_type": "stream",
     "text": [
      "Document is empty, line 1, column 1 (f.157r.transc-cremma-medieval_0.mlmodel.xml, line 1)\n"
     ]
    },
    {
     "name": "stderr",
     "output_type": "stream",
     "text": [
      "100%|█████████████████████████████████████████████████████████████████████████████████████████████████████████████████████████████████████████████████████████████████████████| 4371/4371 [00:26<00:00, 163.78it/s]\n"
     ]
    }
   ],
   "source": [
    "models = ['data0',\n",
    "         'data-bad3',\n",
    "         'data-bad2',\n",
    "         'data1',\n",
    "         'data-bad1',\n",
    "         'data2',\n",
    "         'data-bad0',\n",
    "         'data-CREMMA-Medieval',\n",
    "         'data-manumffrench2']\n",
    "\n",
    "COLS = [\"model\", \"lang\", \"manuscript\", \"file\", \n",
    "                                     \"page_id\", \"line_id\", \n",
    "                                     \"baseline\", \n",
    "                                     \"transcription\"]\n",
    "Row = collections.namedtuple(\"Row\", [\"model\", \"lang\", \"manuscript\", \"file\", \n",
    "                                     \"page_id\", \"line_id\", \n",
    "                                     \"baseline\", \n",
    "                                     \"transcription\"])\n",
    "\n",
    "PageIds = collections.defaultdict(dict)\n",
    "LineIds = collections.defaultdict(lambda: collections.defaultdict(dict))\n",
    "\n",
    "def read_file(file: str, split_string: str = \".transc\", model=None, lang=None) -> List[Row]:\n",
    "    if not lang:\n",
    "        lang, infered_model, manuscript, *_ = file.split(os.sep)\n",
    "    else:\n",
    "        manuscript = os.path.dirname(file).split(os.sep)[-1]\n",
    "        \n",
    "    if not model:\n",
    "        model = infered_model\n",
    "    data = []\n",
    "    try:\n",
    "        xml = ET.parse(file)\n",
    "        fname = os.path.basename(file).split(split_string)[0]\n",
    "        # Page ID\n",
    "        if fname in PageIds[manuscript]:\n",
    "            pid = PageIds[manuscript][fname]\n",
    "        else:\n",
    "            pid = PageIds[manuscript][fname] = len(PageIds[manuscript])\n",
    "            \n",
    "        for line in xml.findall(\"//{*}TextBlock/{*}TextLine\"):\n",
    "                \n",
    "                \n",
    "            text = \" \".join([str(content.attrib.get(\"CONTENT\", \"\")) or \"\" for content in line.findall(\".//{*}String\")])\n",
    "            \n",
    "            if not text:\n",
    "                continue\n",
    "            \n",
    "            baseline = str(line.attrib[\"BASELINE\"])\n",
    "            # Line ID\n",
    "            if baseline in LineIds[manuscript][fname]:\n",
    "                lid = LineIds[manuscript][fname][baseline]\n",
    "            else:\n",
    "                lid = LineIds[manuscript][fname][baseline] = len(LineIds[manuscript][fname])\n",
    "                \n",
    "            data.append(Row(\n",
    "                model,\n",
    "                lang,\n",
    "                manuscript,\n",
    "                fname,\n",
    "                pid,\n",
    "                lid,\n",
    "                baseline,\n",
    "                text or \"\"))\n",
    "    except Exception as E:\n",
    "        print(E)\n",
    "    return data\n",
    "\n",
    "inputs = [\n",
    "    file\n",
    "    for file in glob.glob(f\"*/*/*/*transc*.xml\")\n",
    "]\n",
    "data = []\n",
    "for file in tqdm.tqdm(inputs):\n",
    "    data.extend(read_file(file))"
   ]
  },
  {
   "cell_type": "markdown",
   "id": "e996261a",
   "metadata": {},
   "source": [
    "## Retrieve GT"
   ]
  },
  {
   "cell_type": "code",
   "execution_count": 3,
   "id": "1e963f51",
   "metadata": {},
   "outputs": [
    {
     "name": "stderr",
     "output_type": "stream",
     "text": [
      "100%|██████████████████████████████████████████████████████████████████████████████████████████████████████████████████████████████████████████████████████████████████████████| 100/100 [00:00<00:00, 1996.91it/s]\n",
      "100%|██████████████████████████████████████████████████████████████████████████████████████████████████████████████████████████████████████████████████████████████████████████| 263/263 [00:00<00:00, 1703.20it/s]\n"
     ]
    }
   ],
   "source": [
    "for file in tqdm.tqdm(glob.glob(f\"../cremma/CREMMA-Medieval-LAT/data/*/*mufi*.xml\")):\n",
    "    data.extend(read_file(file, split_string=\".mufi\", model=\"GT\", lang=\"lat\"))\n",
    "    \n",
    "for file in tqdm.tqdm(glob.glob(f\"../cremma-medieval/*/*mufi*.xml\")):\n",
    "    \n",
    "    data.extend(read_file(file, split_string=\".mufi\", model=\"GT\", lang=\"fro\"))"
   ]
  },
  {
   "cell_type": "markdown",
   "id": "ac1a474f",
   "metadata": {},
   "source": [
    "# Export"
   ]
  },
  {
   "cell_type": "code",
   "execution_count": 4,
   "id": "bc6eb362",
   "metadata": {},
   "outputs": [],
   "source": [
    "import pandas as pd\n",
    "\n",
    "df = pd.DataFrame(data, columns=COLS)\n",
    "df.to_csv(\"annotations.csv.gzip\", compression=\"gzip\")"
   ]
  },
  {
   "cell_type": "code",
   "execution_count": 5,
   "id": "fe8c6a30",
   "metadata": {},
   "outputs": [
    {
     "data": {
      "text/html": [
       "<div>\n",
       "<style scoped>\n",
       "    .dataframe tbody tr th:only-of-type {\n",
       "        vertical-align: middle;\n",
       "    }\n",
       "\n",
       "    .dataframe tbody tr th {\n",
       "        vertical-align: top;\n",
       "    }\n",
       "\n",
       "    .dataframe thead th {\n",
       "        text-align: right;\n",
       "    }\n",
       "</style>\n",
       "<table border=\"1\" class=\"dataframe\">\n",
       "  <thead>\n",
       "    <tr style=\"text-align: right;\">\n",
       "      <th></th>\n",
       "      <th>model</th>\n",
       "      <th>lang</th>\n",
       "      <th>manuscript</th>\n",
       "      <th>file</th>\n",
       "      <th>page_id</th>\n",
       "      <th>line_id</th>\n",
       "      <th>baseline</th>\n",
       "      <th>transcription</th>\n",
       "    </tr>\n",
       "  </thead>\n",
       "  <tbody>\n",
       "    <tr>\n",
       "      <th>0</th>\n",
       "      <td>data-lat_only_3.mlmodel</td>\n",
       "      <td>lat</td>\n",
       "      <td>SBB_PK_Hdschr25</td>\n",
       "      <td>SBB_PK_Hdschr25_047v</td>\n",
       "      <td>0</td>\n",
       "      <td>0</td>\n",
       "      <td>175 203 417 206 640 204</td>\n",
       "      <td>a ⁊utl</td>\n",
       "    </tr>\n",
       "    <tr>\n",
       "      <th>1</th>\n",
       "      <td>data-lat_only_3.mlmodel</td>\n",
       "      <td>lat</td>\n",
       "      <td>SBB_PK_Hdschr25</td>\n",
       "      <td>SBB_PK_Hdschr25_047v</td>\n",
       "      <td>0</td>\n",
       "      <td>1</td>\n",
       "      <td>292 254 681 254</td>\n",
       "      <td>t ut t̃ ps p</td>\n",
       "    </tr>\n",
       "    <tr>\n",
       "      <th>2</th>\n",
       "      <td>data-lat_only_3.mlmodel</td>\n",
       "      <td>lat</td>\n",
       "      <td>SBB_PK_Hdschr25</td>\n",
       "      <td>SBB_PK_Hdschr25_047v</td>\n",
       "      <td>0</td>\n",
       "      <td>2</td>\n",
       "      <td>286 309 677 306</td>\n",
       "      <td>tas t̃</td>\n",
       "    </tr>\n",
       "    <tr>\n",
       "      <th>3</th>\n",
       "      <td>data-lat_only_3.mlmodel</td>\n",
       "      <td>lat</td>\n",
       "      <td>SBB_PK_Hdschr25</td>\n",
       "      <td>SBB_PK_Hdschr25_047v</td>\n",
       "      <td>0</td>\n",
       "      <td>3</td>\n",
       "      <td>177 357 461 360 674 356</td>\n",
       "      <td>e ult ut p̃ t</td>\n",
       "    </tr>\n",
       "    <tr>\n",
       "      <th>4</th>\n",
       "      <td>data-lat_only_3.mlmodel</td>\n",
       "      <td>lat</td>\n",
       "      <td>SBB_PK_Hdschr25</td>\n",
       "      <td>SBB_PK_Hdschr25_047v</td>\n",
       "      <td>0</td>\n",
       "      <td>4</td>\n",
       "      <td>173 408 670 409</td>\n",
       "      <td>ba tt ss ttta</td>\n",
       "    </tr>\n",
       "  </tbody>\n",
       "</table>\n",
       "</div>"
      ],
      "text/plain": [
       "                     model lang       manuscript                  file  \\\n",
       "0  data-lat_only_3.mlmodel  lat  SBB_PK_Hdschr25  SBB_PK_Hdschr25_047v   \n",
       "1  data-lat_only_3.mlmodel  lat  SBB_PK_Hdschr25  SBB_PK_Hdschr25_047v   \n",
       "2  data-lat_only_3.mlmodel  lat  SBB_PK_Hdschr25  SBB_PK_Hdschr25_047v   \n",
       "3  data-lat_only_3.mlmodel  lat  SBB_PK_Hdschr25  SBB_PK_Hdschr25_047v   \n",
       "4  data-lat_only_3.mlmodel  lat  SBB_PK_Hdschr25  SBB_PK_Hdschr25_047v   \n",
       "\n",
       "   page_id  line_id                 baseline  transcription  \n",
       "0        0        0  175 203 417 206 640 204         a ⁊utl  \n",
       "1        0        1          292 254 681 254   t ut t̃ ps p  \n",
       "2        0        2          286 309 677 306        tas t̃  \n",
       "3        0        3  177 357 461 360 674 356  e ult ut p̃ t  \n",
       "4        0        4          173 408 670 409  ba tt ss ttta  "
      ]
     },
     "execution_count": 5,
     "metadata": {},
     "output_type": "execute_result"
    }
   ],
   "source": [
    "df.head()"
   ]
  },
  {
   "cell_type": "code",
   "execution_count": 6,
   "id": "27dd086e",
   "metadata": {},
   "outputs": [
    {
     "data": {
      "text/html": [
       "<div>\n",
       "<style scoped>\n",
       "    .dataframe tbody tr th:only-of-type {\n",
       "        vertical-align: middle;\n",
       "    }\n",
       "\n",
       "    .dataframe tbody tr th {\n",
       "        vertical-align: top;\n",
       "    }\n",
       "\n",
       "    .dataframe thead th {\n",
       "        text-align: right;\n",
       "    }\n",
       "</style>\n",
       "<table border=\"1\" class=\"dataframe\">\n",
       "  <thead>\n",
       "    <tr style=\"text-align: right;\">\n",
       "      <th></th>\n",
       "      <th>model</th>\n",
       "      <th>lang</th>\n",
       "      <th>manuscript</th>\n",
       "      <th>file</th>\n",
       "      <th>page_id</th>\n",
       "      <th>line_id</th>\n",
       "      <th>baseline</th>\n",
       "      <th>transcription</th>\n",
       "    </tr>\n",
       "  </thead>\n",
       "  <tbody>\n",
       "    <tr>\n",
       "      <th>357897</th>\n",
       "      <td>GT</td>\n",
       "      <td>fro</td>\n",
       "      <td>vaticane_reg_lat_1616_otinel</td>\n",
       "      <td>reg-lat-1616_095r</td>\n",
       "      <td>22</td>\n",
       "      <td>30</td>\n",
       "      <td>302 2713 1269 2713</td>\n",
       "      <td>s ire dit il Otes li sarrasins</td>\n",
       "    </tr>\n",
       "    <tr>\n",
       "      <th>357898</th>\n",
       "      <td>GT</td>\n",
       "      <td>fro</td>\n",
       "      <td>vaticane_reg_lat_1616_otinel</td>\n",
       "      <td>reg-lat-1616_095r</td>\n",
       "      <td>22</td>\n",
       "      <td>31</td>\n",
       "      <td>321 2785 1255 2790</td>\n",
       "      <td>⁊ sui fiz galien au fier vis</td>\n",
       "    </tr>\n",
       "    <tr>\n",
       "      <th>357899</th>\n",
       "      <td>GT</td>\n",
       "      <td>fro</td>\n",
       "      <td>vaticane_reg_lat_1616_otinel</td>\n",
       "      <td>reg-lat-1616_095r</td>\n",
       "      <td>22</td>\n",
       "      <td>32</td>\n",
       "      <td>294 2862 1613 2878</td>\n",
       "      <td>m oie est ⁊ la marche ⁊ trestot le pais</td>\n",
       "    </tr>\n",
       "    <tr>\n",
       "      <th>357900</th>\n",
       "      <td>GT</td>\n",
       "      <td>fro</td>\n",
       "      <td>vaticane_reg_lat_1616_otinel</td>\n",
       "      <td>reg-lat-1616_095r</td>\n",
       "      <td>22</td>\n",
       "      <td>33</td>\n",
       "      <td>310 2952 1415 2960</td>\n",
       "      <td>⁊ benoas qͥ tant est de haut pͥs</td>\n",
       "    </tr>\n",
       "    <tr>\n",
       "      <th>357901</th>\n",
       "      <td>GT</td>\n",
       "      <td>fro</td>\n",
       "      <td>vaticane_reg_lat_1616_otinel</td>\n",
       "      <td>reg-lat-1616_095r</td>\n",
       "      <td>22</td>\n",
       "      <td>34</td>\n",
       "      <td>305 3032 1316 3037</td>\n",
       "      <td>u ne contree qͥ ml̃t est posteis</td>\n",
       "    </tr>\n",
       "  </tbody>\n",
       "</table>\n",
       "</div>"
      ],
      "text/plain": [
       "       model lang                    manuscript               file  page_id  \\\n",
       "357897    GT  fro  vaticane_reg_lat_1616_otinel  reg-lat-1616_095r       22   \n",
       "357898    GT  fro  vaticane_reg_lat_1616_otinel  reg-lat-1616_095r       22   \n",
       "357899    GT  fro  vaticane_reg_lat_1616_otinel  reg-lat-1616_095r       22   \n",
       "357900    GT  fro  vaticane_reg_lat_1616_otinel  reg-lat-1616_095r       22   \n",
       "357901    GT  fro  vaticane_reg_lat_1616_otinel  reg-lat-1616_095r       22   \n",
       "\n",
       "        line_id            baseline                            transcription  \n",
       "357897       30  302 2713 1269 2713           s ire dit il Otes li sarrasins  \n",
       "357898       31  321 2785 1255 2790             ⁊ sui fiz galien au fier vis  \n",
       "357899       32  294 2862 1613 2878  m oie est ⁊ la marche ⁊ trestot le pais  \n",
       "357900       33  310 2952 1415 2960         ⁊ benoas qͥ tant est de haut pͥs  \n",
       "357901       34  305 3032 1316 3037         u ne contree qͥ ml̃t est posteis  "
      ]
     },
     "execution_count": 6,
     "metadata": {},
     "output_type": "execute_result"
    }
   ],
   "source": [
    "df.tail()"
   ]
  },
  {
   "cell_type": "code",
   "execution_count": 7,
   "id": "8eb6132b",
   "metadata": {},
   "outputs": [
    {
     "data": {
      "text/plain": [
       "array(['SBB_PK_Hdschr25', 'Mazarine915', 'Arras-861', 'Latin16195',\n",
       "       'H318', 'LaurentianusPluteus39.34', 'PalLat373', 'CCCC-MSS-236',\n",
       "       'Latin8236', 'WettF0015', 'LaurentianusPluteus53.09', 'CLM13027',\n",
       "       'Egerton821', 'LaurentianusPluteus33.31', 'CCCC-MSS-165',\n",
       "       'LaurentianusPluteus53.08', 'Latin6395', 'Phi_10a135', 'BIS-193',\n",
       "       'BnF_17229_saintLambert_microfilm',\n",
       "       'bnf__arsenal3516_imagedumonde', 'bnf_fr_412_wauchier',\n",
       "       'bnf_fr_844_manuscrit_du_roi',\n",
       "       'BnF_fr_13496_saintJerome_microfilm', 'bodmer_168_otinel',\n",
       "       'bnf_fr_22549_sept_sages',\n",
       "       'university_of_pennsylvania_660_pelerinage_mademoiselle_sapience',\n",
       "       'BnF_fr_411_saintLambert_microfilm',\n",
       "       'uni_of_pennsylvania_ms_codex_909_Eneide',\n",
       "       'bnf_fr_24428_bestiaire', 'BnF_fr_25516',\n",
       "       'vaticane_reg_lat_1616_otinel'], dtype=object)"
      ]
     },
     "execution_count": 7,
     "metadata": {},
     "output_type": "execute_result"
    }
   ],
   "source": [
    "df.manuscript.unique()"
   ]
  }
 ],
 "metadata": {
  "kernelspec": {
   "display_name": "Python 3 (ipykernel)",
   "language": "python",
   "name": "python3"
  },
  "language_info": {
   "codemirror_mode": {
    "name": "ipython",
    "version": 3
   },
   "file_extension": ".py",
   "mimetype": "text/x-python",
   "name": "python",
   "nbconvert_exporter": "python",
   "pygments_lexer": "ipython3",
   "version": "3.8.13"
  }
 },
 "nbformat": 4,
 "nbformat_minor": 5
}
