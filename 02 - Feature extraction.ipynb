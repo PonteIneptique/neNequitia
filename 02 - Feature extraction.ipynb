{
 "cells": [
  {
   "cell_type": "code",
   "execution_count": 1,
   "id": "dfa69337",
   "metadata": {},
   "outputs": [],
   "source": [
    "import tqdm\n",
    "import pandas as pd\n",
    "from collections import Counter\n",
    "from unicodedata import normalize\n",
    "\n",
    "BIN_SIZE = 10\n",
    "\n",
    "def get_ngrams(string: str, _sizes = (3, ), prefix=\"$\"):\n",
    "    ret = {}\n",
    "    #string = normalize(\"NFC\", string)\n",
    "    for S in _sizes:\n",
    "        nb = len(string) - (S-1)\n",
    "        ret.update({\n",
    "            prefix+k.replace(\" \", \"_\"): v/nb\n",
    "            for k, v in Counter([string[i:i+S] for i in range(len(string)-S+1)]).items()\n",
    "        })\n",
    "    return ret\n",
    "\n",
    "\n",
    "df = pd.read_csv(\"cer.csv.gzip\", compression=\"gzip\", index_col=0)"
   ]
  },
  {
   "cell_type": "code",
   "execution_count": 2,
   "id": "0ff89935",
   "metadata": {},
   "outputs": [
    {
     "name": "stdout",
     "output_type": "stream",
     "text": [
      "(322903, 8)\n",
      "(300269, 8)\n"
     ]
    },
    {
     "data": {
      "text/html": [
       "<div>\n",
       "<style scoped>\n",
       "    .dataframe tbody tr th:only-of-type {\n",
       "        vertical-align: middle;\n",
       "    }\n",
       "\n",
       "    .dataframe tbody tr th {\n",
       "        vertical-align: top;\n",
       "    }\n",
       "\n",
       "    .dataframe thead th {\n",
       "        text-align: right;\n",
       "    }\n",
       "</style>\n",
       "<table border=\"1\" class=\"dataframe\">\n",
       "  <thead>\n",
       "    <tr style=\"text-align: right;\">\n",
       "      <th></th>\n",
       "      <th>model</th>\n",
       "      <th>lang</th>\n",
       "      <th>manuscript</th>\n",
       "      <th>page_id</th>\n",
       "      <th>line_id</th>\n",
       "      <th>transcription</th>\n",
       "      <th>CER</th>\n",
       "      <th>CER_NS</th>\n",
       "    </tr>\n",
       "  </thead>\n",
       "  <tbody>\n",
       "    <tr>\n",
       "      <th>0</th>\n",
       "      <td>data-lat_only_3.mlmodel</td>\n",
       "      <td>lat</td>\n",
       "      <td>SBB_PK_Hdschr25</td>\n",
       "      <td>0</td>\n",
       "      <td>0</td>\n",
       "      <td>a ⁊utl</td>\n",
       "      <td>82.3529</td>\n",
       "      <td>81.2500</td>\n",
       "    </tr>\n",
       "    <tr>\n",
       "      <th>1</th>\n",
       "      <td>data-lat_only_3.mlmodel</td>\n",
       "      <td>lat</td>\n",
       "      <td>SBB_PK_Hdschr25</td>\n",
       "      <td>0</td>\n",
       "      <td>1</td>\n",
       "      <td>t ut t̃ ps p</td>\n",
       "      <td>72.7273</td>\n",
       "      <td>83.3333</td>\n",
       "    </tr>\n",
       "    <tr>\n",
       "      <th>2</th>\n",
       "      <td>data-lat_only_3.mlmodel</td>\n",
       "      <td>lat</td>\n",
       "      <td>SBB_PK_Hdschr25</td>\n",
       "      <td>0</td>\n",
       "      <td>2</td>\n",
       "      <td>tas t̃</td>\n",
       "      <td>75.0000</td>\n",
       "      <td>76.1905</td>\n",
       "    </tr>\n",
       "    <tr>\n",
       "      <th>3</th>\n",
       "      <td>data-lat_only_3.mlmodel</td>\n",
       "      <td>lat</td>\n",
       "      <td>SBB_PK_Hdschr25</td>\n",
       "      <td>0</td>\n",
       "      <td>3</td>\n",
       "      <td>e ult ut p̃ t</td>\n",
       "      <td>68.0000</td>\n",
       "      <td>77.2727</td>\n",
       "    </tr>\n",
       "    <tr>\n",
       "      <th>4</th>\n",
       "      <td>data-lat_only_3.mlmodel</td>\n",
       "      <td>lat</td>\n",
       "      <td>SBB_PK_Hdschr25</td>\n",
       "      <td>0</td>\n",
       "      <td>4</td>\n",
       "      <td>ba tt ss ttta</td>\n",
       "      <td>70.9677</td>\n",
       "      <td>76.9231</td>\n",
       "    </tr>\n",
       "  </tbody>\n",
       "</table>\n",
       "</div>"
      ],
      "text/plain": [
       "                     model lang       manuscript  page_id  line_id  \\\n",
       "0  data-lat_only_3.mlmodel  lat  SBB_PK_Hdschr25        0        0   \n",
       "1  data-lat_only_3.mlmodel  lat  SBB_PK_Hdschr25        0        1   \n",
       "2  data-lat_only_3.mlmodel  lat  SBB_PK_Hdschr25        0        2   \n",
       "3  data-lat_only_3.mlmodel  lat  SBB_PK_Hdschr25        0        3   \n",
       "4  data-lat_only_3.mlmodel  lat  SBB_PK_Hdschr25        0        4   \n",
       "\n",
       "   transcription      CER   CER_NS  \n",
       "0         a ⁊utl  82.3529  81.2500  \n",
       "1   t ut t̃ ps p  72.7273  83.3333  \n",
       "2        tas t̃  75.0000  76.1905  \n",
       "3  e ult ut p̃ t  68.0000  77.2727  \n",
       "4  ba tt ss ttta  70.9677  76.9231  "
      ]
     },
     "execution_count": 2,
     "metadata": {},
     "output_type": "execute_result"
    }
   ],
   "source": [
    "print(df.shape)\n",
    "df.drop_duplicates(subset=[\"manuscript\", \"page_id\", \"line_id\", \"transcription\"], inplace=True)\n",
    "print(df.shape)\n",
    "df.head()"
   ]
  },
  {
   "cell_type": "markdown",
   "id": "719f621a",
   "metadata": {},
   "source": [
    "# Compute Bins"
   ]
  },
  {
   "cell_type": "code",
   "execution_count": 3,
   "id": "2ebb55e5",
   "metadata": {},
   "outputs": [
    {
     "data": {
      "text/plain": [
       "CER_BINS\n",
       "(-0.001, 10.0]    74658\n",
       "(10.0, 20.0]      33020\n",
       "(20.0, 30.0]      24344\n",
       "(30.0, 40.0]      24586\n",
       "(40.0, 50.0]      30691\n",
       "(50.0, 60.0]      29665\n",
       "(60.0, 70.0]      24833\n",
       "(70.0, 80.0]      20602\n",
       "(80.0, 90.0]      15283\n",
       "(90.0, 100.0]     22587\n",
       "dtype: int64"
      ]
     },
     "execution_count": 3,
     "metadata": {},
     "output_type": "execute_result"
    }
   ],
   "source": [
    "df['CER_BINS'] = pd.cut(df['CER_NS'], bins=list(range(0, 101, BIN_SIZE)), include_lowest=True)\n",
    "df.groupby('CER_BINS').size()"
   ]
  },
  {
   "cell_type": "code",
   "execution_count": 4,
   "id": "6334cb3a",
   "metadata": {},
   "outputs": [
    {
     "data": {
      "text/plain": [
       "[(80.0, 90.0], (70.0, 80.0], (90.0, 100.0], (40.0, 50.0], (60.0, 70.0], (50.0, 60.0], (30.0, 40.0], (20.0, 30.0], (10.0, 20.0], (-0.001, 10.0]]\n",
       "Categories (10, interval[float64, right]): [(-0.001, 10.0] < (10.0, 20.0] < (20.0, 30.0] < (30.0, 40.0] ... (60.0, 70.0] < (70.0, 80.0] < (80.0, 90.0] < (90.0, 100.0]]"
      ]
     },
     "execution_count": 4,
     "metadata": {},
     "output_type": "execute_result"
    }
   ],
   "source": [
    "df['CER_BINS'].unique()"
   ]
  },
  {
   "cell_type": "markdown",
   "id": "049c66ce",
   "metadata": {},
   "source": [
    "# Compute ngrams"
   ]
  },
  {
   "cell_type": "code",
   "execution_count": 5,
   "id": "ff76e1ac",
   "metadata": {},
   "outputs": [
    {
     "name": "stderr",
     "output_type": "stream",
     "text": [
      "100%|█████████████████████████████████████████████████████████| 300269/300269 [04:46<00:00, 1048.87it/s]\n"
     ]
    }
   ],
   "source": [
    "new_df = []\n",
    "\n",
    "total = Counter()\n",
    "\n",
    "\n",
    "for idx, row in tqdm.tqdm(df.iterrows(), total=len(df)):\n",
    "    if len(str(row.transcription)) > 15:\n",
    "        cnt = get_ngrams(str(row.transcription).lower())\n",
    "        total += cnt\n",
    "        new_df.append({\n",
    "            \"idx\": idx,\n",
    "            \"lang\": row.lang,\n",
    "            \"bin\": int(row.CER_BINS.left) // BIN_SIZE,\n",
    "            \"manuscript\": row.manuscript,\n",
    "            \"page_id\": row.page_id,\n",
    "            \"line_id\": row.line_id,\n",
    "            \"transcription\": row.transcription, \n",
    "            \"CER\": row.CER_NS,\n",
    "            **cnt\n",
    "        })\n",
    "    \n",
    "del df  # For memory sake"
   ]
  },
  {
   "cell_type": "markdown",
   "id": "aac9292b",
   "metadata": {},
   "source": [
    "## Cut ngrams appearing in less than .5% of the lines"
   ]
  },
  {
   "cell_type": "code",
   "execution_count": 6,
   "id": "1dfc2e13",
   "metadata": {},
   "outputs": [
    {
     "name": "stderr",
     "output_type": "stream",
     "text": [
      "100%|███████████████████████████████████████████████████████| 265025/265025 [00:00<00:00, 472881.89it/s]\n"
     ]
    },
    {
     "name": "stdout",
     "output_type": "stream",
     "text": [
      "34555\n"
     ]
    },
    {
     "name": "stderr",
     "output_type": "stream",
     "text": [
      "100%|██████████████████████████████████████████████████████████| 34555/34555 [00:01<00:00, 24909.38it/s]"
     ]
    },
    {
     "name": "stdout",
     "output_type": "stream",
     "text": [
      "4096\n"
     ]
    },
    {
     "name": "stderr",
     "output_type": "stream",
     "text": [
      "\n"
     ]
    }
   ],
   "source": [
    "total_presence = Counter([\n",
    "    key\n",
    "    for row in tqdm.tqdm(new_df)\n",
    "    for key in row \n",
    "    if key.startswith(\"$\")\n",
    "])\n",
    "print(len(total_presence))\n",
    "#filter_value = int(len(total_presence)/100)\n",
    "#max_value = total_presence.most_common(filter_values)[-1][1]\n",
    "#print(f\"1% {filter_value}\")\n",
    "\n",
    "most_common = [key for key, _ in total_presence.most_common(1024*4)]\n",
    "total_presence = {\n",
    "    key: value\n",
    "    for key, value in tqdm.tqdm(total_presence.items())\n",
    "    if key in most_common\n",
    "}\n",
    "print(len(total_presence))\n",
    "#del total"
   ]
  },
  {
   "cell_type": "markdown",
   "id": "2af3cc00",
   "metadata": {},
   "source": [
    "# Sentences"
   ]
  },
  {
   "cell_type": "code",
   "execution_count": 7,
   "id": "e75d1cf9",
   "metadata": {},
   "outputs": [
    {
     "data": {
      "text/html": [
       "<div>\n",
       "<style scoped>\n",
       "    .dataframe tbody tr th:only-of-type {\n",
       "        vertical-align: middle;\n",
       "    }\n",
       "\n",
       "    .dataframe tbody tr th {\n",
       "        vertical-align: top;\n",
       "    }\n",
       "\n",
       "    .dataframe thead th {\n",
       "        text-align: right;\n",
       "    }\n",
       "</style>\n",
       "<table border=\"1\" class=\"dataframe\">\n",
       "  <thead>\n",
       "    <tr style=\"text-align: right;\">\n",
       "      <th></th>\n",
       "      <th>idx</th>\n",
       "      <th>bin</th>\n",
       "      <th>lang</th>\n",
       "      <th>transcription</th>\n",
       "      <th>manuscript</th>\n",
       "      <th>page_id</th>\n",
       "      <th>line_id</th>\n",
       "      <th>CER</th>\n",
       "      <th>$__q</th>\n",
       "      <th>$_q̃</th>\n",
       "      <th>...</th>\n",
       "      <th>$.qe</th>\n",
       "      <th>$:⁊s</th>\n",
       "      <th>$eiz</th>\n",
       "      <th>$z.⁊</th>\n",
       "      <th>$ulx</th>\n",
       "      <th>$:ca</th>\n",
       "      <th>$ͥl_</th>\n",
       "      <th>$:si</th>\n",
       "      <th>$:qe</th>\n",
       "      <th>$:qi</th>\n",
       "    </tr>\n",
       "  </thead>\n",
       "  <tbody>\n",
       "    <tr>\n",
       "      <th>0</th>\n",
       "      <td>125720</td>\n",
       "      <td>6</td>\n",
       "      <td>fro</td>\n",
       "      <td>a pos man cee t mesore</td>\n",
       "      <td>BnF_fr_25516</td>\n",
       "      <td>3</td>\n",
       "      <td>50</td>\n",
       "      <td>62.96875</td>\n",
       "      <td>NaN</td>\n",
       "      <td>NaN</td>\n",
       "      <td>...</td>\n",
       "      <td>NaN</td>\n",
       "      <td>NaN</td>\n",
       "      <td>NaN</td>\n",
       "      <td>NaN</td>\n",
       "      <td>NaN</td>\n",
       "      <td>NaN</td>\n",
       "      <td>NaN</td>\n",
       "      <td>NaN</td>\n",
       "      <td>NaN</td>\n",
       "      <td>NaN</td>\n",
       "    </tr>\n",
       "    <tr>\n",
       "      <th>1</th>\n",
       "      <td>267356</td>\n",
       "      <td>7</td>\n",
       "      <td>fro</td>\n",
       "      <td>ũde ił peisetut due due</td>\n",
       "      <td>bnf__arsenal3516_imagedumonde</td>\n",
       "      <td>5</td>\n",
       "      <td>116</td>\n",
       "      <td>72.75000</td>\n",
       "      <td>NaN</td>\n",
       "      <td>NaN</td>\n",
       "      <td>...</td>\n",
       "      <td>NaN</td>\n",
       "      <td>NaN</td>\n",
       "      <td>NaN</td>\n",
       "      <td>NaN</td>\n",
       "      <td>NaN</td>\n",
       "      <td>NaN</td>\n",
       "      <td>NaN</td>\n",
       "      <td>NaN</td>\n",
       "      <td>NaN</td>\n",
       "      <td>NaN</td>\n",
       "    </tr>\n",
       "    <tr>\n",
       "      <th>2</th>\n",
       "      <td>201232</td>\n",
       "      <td>2</td>\n",
       "      <td>fro</td>\n",
       "      <td>se partist desi. Et qnaint ui</td>\n",
       "      <td>bnf_fr_22549_sept_sages</td>\n",
       "      <td>11</td>\n",
       "      <td>53</td>\n",
       "      <td>28.00000</td>\n",
       "      <td>NaN</td>\n",
       "      <td>NaN</td>\n",
       "      <td>...</td>\n",
       "      <td>NaN</td>\n",
       "      <td>NaN</td>\n",
       "      <td>NaN</td>\n",
       "      <td>NaN</td>\n",
       "      <td>NaN</td>\n",
       "      <td>NaN</td>\n",
       "      <td>NaN</td>\n",
       "      <td>NaN</td>\n",
       "      <td>NaN</td>\n",
       "      <td>NaN</td>\n",
       "    </tr>\n",
       "    <tr>\n",
       "      <th>3</th>\n",
       "      <td>184835</td>\n",
       "      <td>0</td>\n",
       "      <td>fro</td>\n",
       "      <td>uoir sopouture.Etse uos beaus signeurs</td>\n",
       "      <td>bnf_fr_412_wauchier</td>\n",
       "      <td>30</td>\n",
       "      <td>3</td>\n",
       "      <td>0.00000</td>\n",
       "      <td>NaN</td>\n",
       "      <td>NaN</td>\n",
       "      <td>...</td>\n",
       "      <td>NaN</td>\n",
       "      <td>NaN</td>\n",
       "      <td>NaN</td>\n",
       "      <td>NaN</td>\n",
       "      <td>NaN</td>\n",
       "      <td>NaN</td>\n",
       "      <td>NaN</td>\n",
       "      <td>NaN</td>\n",
       "      <td>NaN</td>\n",
       "      <td>NaN</td>\n",
       "    </tr>\n",
       "    <tr>\n",
       "      <th>4</th>\n",
       "      <td>183024</td>\n",
       "      <td>2</td>\n",
       "      <td>fro</td>\n",
       "      <td>du monde qm̃t il est fus</td>\n",
       "      <td>bnf__arsenal3516_imagedumonde</td>\n",
       "      <td>7</td>\n",
       "      <td>179</td>\n",
       "      <td>23.81250</td>\n",
       "      <td>NaN</td>\n",
       "      <td>NaN</td>\n",
       "      <td>...</td>\n",
       "      <td>NaN</td>\n",
       "      <td>NaN</td>\n",
       "      <td>NaN</td>\n",
       "      <td>NaN</td>\n",
       "      <td>NaN</td>\n",
       "      <td>NaN</td>\n",
       "      <td>NaN</td>\n",
       "      <td>NaN</td>\n",
       "      <td>NaN</td>\n",
       "      <td>NaN</td>\n",
       "    </tr>\n",
       "  </tbody>\n",
       "</table>\n",
       "<p>5 rows × 4104 columns</p>\n",
       "</div>"
      ],
      "text/plain": [
       "      idx  bin lang                           transcription  \\\n",
       "0  125720    6  fro                  a pos man cee t mesore   \n",
       "1  267356    7  fro               ũde ił peisetut due due   \n",
       "2  201232    2  fro           se partist desi. Et qnaint ui   \n",
       "3  184835    0  fro  uoir sopouture.Etse uos beaus signeurs   \n",
       "4  183024    2  fro                du monde qm̃t il est fus   \n",
       "\n",
       "                      manuscript  page_id  line_id       CER  $__q  $_q̃  ...  \\\n",
       "0                   BnF_fr_25516        3       50  62.96875   NaN   NaN  ...   \n",
       "1  bnf__arsenal3516_imagedumonde        5      116  72.75000   NaN   NaN  ...   \n",
       "2        bnf_fr_22549_sept_sages       11       53  28.00000   NaN   NaN  ...   \n",
       "3            bnf_fr_412_wauchier       30        3   0.00000   NaN   NaN  ...   \n",
       "4  bnf__arsenal3516_imagedumonde        7      179  23.81250   NaN   NaN  ...   \n",
       "\n",
       "   $.qe  $:⁊s  $eiz  $z.⁊  $ulx  $:ca  $ͥl_  $:si  $:qe  $:qi  \n",
       "0   NaN   NaN   NaN   NaN   NaN   NaN   NaN   NaN   NaN   NaN  \n",
       "1   NaN   NaN   NaN   NaN   NaN   NaN   NaN   NaN   NaN   NaN  \n",
       "2   NaN   NaN   NaN   NaN   NaN   NaN   NaN   NaN   NaN   NaN  \n",
       "3   NaN   NaN   NaN   NaN   NaN   NaN   NaN   NaN   NaN   NaN  \n",
       "4   NaN   NaN   NaN   NaN   NaN   NaN   NaN   NaN   NaN   NaN  \n",
       "\n",
       "[5 rows x 4104 columns]"
      ]
     },
     "execution_count": 7,
     "metadata": {},
     "output_type": "execute_result"
    }
   ],
   "source": [
    "import numpy as np\n",
    "import random\n",
    "\n",
    "random.shuffle(new_df)\n",
    "KEPT = [\"idx\", \"bin\", \"lang\", \"transcription\", \"manuscript\", \"page_id\", \"line_id\", \"CER\", *total_presence.keys()]\n",
    "# Optim\n",
    "DTYPES = {\n",
    "    \"idx\": np.int32,\n",
    "    \"bin\": np.int8,\n",
    "    \"page_id\": np.int16,\n",
    "    \"line_id\": np.int16,\n",
    "    \"CER\": np.float16,\n",
    "    **{\n",
    "        feat: np.float16\n",
    "        for feat in total_presence\n",
    "    }\n",
    "}\n",
    "\n",
    "df = pd.DataFrame({\n",
    "    key: pd.Series([\n",
    "        row.get(key, np.nan)\n",
    "        for row in new_df\n",
    "    ], dtype=DTYPES.get(key))\n",
    "    for key in KEPT})#, dtype={feature: np.float32 for feature in total_presence})\n",
    "df.head()"
   ]
  },
  {
   "cell_type": "code",
   "execution_count": 8,
   "id": "f0e67890",
   "metadata": {},
   "outputs": [
    {
     "data": {
      "text/plain": [
       "idx                int32\n",
       "bin                 int8\n",
       "lang              object\n",
       "transcription     object\n",
       "manuscript        object\n",
       "                  ...   \n",
       "$:ca             float16\n",
       "$ͥl_             float16\n",
       "$:si             float16\n",
       "$:qe             float16\n",
       "$:qi             float16\n",
       "Length: 4104, dtype: object"
      ]
     },
     "execution_count": 8,
     "metadata": {},
     "output_type": "execute_result"
    }
   ],
   "source": [
    "df.dtypes"
   ]
  },
  {
   "cell_type": "code",
   "execution_count": 9,
   "id": "2ed1def9",
   "metadata": {},
   "outputs": [
    {
     "name": "stdout",
     "output_type": "stream",
     "text": [
      "<class 'pandas.core.frame.DataFrame'>\n",
      "RangeIndex: 265025 entries, 0 to 265024\n",
      "Columns: 4104 entries, idx to $:qi\n",
      "dtypes: float16(4097), int16(2), int32(1), int8(1), object(3)\n",
      "memory usage: 2.0+ GB\n"
     ]
    }
   ],
   "source": [
    "df.info(memory_usage=True)"
   ]
  },
  {
   "cell_type": "code",
   "execution_count": 10,
   "id": "6597eed4",
   "metadata": {},
   "outputs": [
    {
     "data": {
      "text/html": [
       "<div>\n",
       "<style scoped>\n",
       "    .dataframe tbody tr th:only-of-type {\n",
       "        vertical-align: middle;\n",
       "    }\n",
       "\n",
       "    .dataframe tbody tr th {\n",
       "        vertical-align: top;\n",
       "    }\n",
       "\n",
       "    .dataframe thead th {\n",
       "        text-align: right;\n",
       "    }\n",
       "</style>\n",
       "<table border=\"1\" class=\"dataframe\">\n",
       "  <thead>\n",
       "    <tr style=\"text-align: right;\">\n",
       "      <th></th>\n",
       "      <th>idx</th>\n",
       "      <th>bin</th>\n",
       "      <th>lang</th>\n",
       "      <th>transcription</th>\n",
       "      <th>manuscript</th>\n",
       "      <th>page_id</th>\n",
       "      <th>line_id</th>\n",
       "      <th>CER</th>\n",
       "      <th>$__q</th>\n",
       "      <th>$_q̃</th>\n",
       "      <th>...</th>\n",
       "      <th>$.qe</th>\n",
       "      <th>$:⁊s</th>\n",
       "      <th>$eiz</th>\n",
       "      <th>$z.⁊</th>\n",
       "      <th>$ulx</th>\n",
       "      <th>$:ca</th>\n",
       "      <th>$ͥl_</th>\n",
       "      <th>$:si</th>\n",
       "      <th>$:qe</th>\n",
       "      <th>$:qi</th>\n",
       "    </tr>\n",
       "  </thead>\n",
       "  <tbody>\n",
       "    <tr>\n",
       "      <th>0</th>\n",
       "      <td>125720</td>\n",
       "      <td>6</td>\n",
       "      <td>fro</td>\n",
       "      <td>a pos man cee t mesore</td>\n",
       "      <td>BnF_fr_25516</td>\n",
       "      <td>3</td>\n",
       "      <td>50</td>\n",
       "      <td>62.96875</td>\n",
       "      <td>NaN</td>\n",
       "      <td>NaN</td>\n",
       "      <td>...</td>\n",
       "      <td>NaN</td>\n",
       "      <td>NaN</td>\n",
       "      <td>NaN</td>\n",
       "      <td>NaN</td>\n",
       "      <td>NaN</td>\n",
       "      <td>NaN</td>\n",
       "      <td>NaN</td>\n",
       "      <td>NaN</td>\n",
       "      <td>NaN</td>\n",
       "      <td>NaN</td>\n",
       "    </tr>\n",
       "    <tr>\n",
       "      <th>1</th>\n",
       "      <td>267356</td>\n",
       "      <td>7</td>\n",
       "      <td>fro</td>\n",
       "      <td>ũde ił peisetut due due</td>\n",
       "      <td>bnf__arsenal3516_imagedumonde</td>\n",
       "      <td>5</td>\n",
       "      <td>116</td>\n",
       "      <td>72.75000</td>\n",
       "      <td>NaN</td>\n",
       "      <td>NaN</td>\n",
       "      <td>...</td>\n",
       "      <td>NaN</td>\n",
       "      <td>NaN</td>\n",
       "      <td>NaN</td>\n",
       "      <td>NaN</td>\n",
       "      <td>NaN</td>\n",
       "      <td>NaN</td>\n",
       "      <td>NaN</td>\n",
       "      <td>NaN</td>\n",
       "      <td>NaN</td>\n",
       "      <td>NaN</td>\n",
       "    </tr>\n",
       "    <tr>\n",
       "      <th>2</th>\n",
       "      <td>201232</td>\n",
       "      <td>2</td>\n",
       "      <td>fro</td>\n",
       "      <td>se partist desi. Et qnaint ui</td>\n",
       "      <td>bnf_fr_22549_sept_sages</td>\n",
       "      <td>11</td>\n",
       "      <td>53</td>\n",
       "      <td>28.00000</td>\n",
       "      <td>NaN</td>\n",
       "      <td>NaN</td>\n",
       "      <td>...</td>\n",
       "      <td>NaN</td>\n",
       "      <td>NaN</td>\n",
       "      <td>NaN</td>\n",
       "      <td>NaN</td>\n",
       "      <td>NaN</td>\n",
       "      <td>NaN</td>\n",
       "      <td>NaN</td>\n",
       "      <td>NaN</td>\n",
       "      <td>NaN</td>\n",
       "      <td>NaN</td>\n",
       "    </tr>\n",
       "    <tr>\n",
       "      <th>3</th>\n",
       "      <td>184835</td>\n",
       "      <td>0</td>\n",
       "      <td>fro</td>\n",
       "      <td>uoir sopouture.Etse uos beaus signeurs</td>\n",
       "      <td>bnf_fr_412_wauchier</td>\n",
       "      <td>30</td>\n",
       "      <td>3</td>\n",
       "      <td>0.00000</td>\n",
       "      <td>NaN</td>\n",
       "      <td>NaN</td>\n",
       "      <td>...</td>\n",
       "      <td>NaN</td>\n",
       "      <td>NaN</td>\n",
       "      <td>NaN</td>\n",
       "      <td>NaN</td>\n",
       "      <td>NaN</td>\n",
       "      <td>NaN</td>\n",
       "      <td>NaN</td>\n",
       "      <td>NaN</td>\n",
       "      <td>NaN</td>\n",
       "      <td>NaN</td>\n",
       "    </tr>\n",
       "    <tr>\n",
       "      <th>4</th>\n",
       "      <td>183024</td>\n",
       "      <td>2</td>\n",
       "      <td>fro</td>\n",
       "      <td>du monde qm̃t il est fus</td>\n",
       "      <td>bnf__arsenal3516_imagedumonde</td>\n",
       "      <td>7</td>\n",
       "      <td>179</td>\n",
       "      <td>23.81250</td>\n",
       "      <td>NaN</td>\n",
       "      <td>NaN</td>\n",
       "      <td>...</td>\n",
       "      <td>NaN</td>\n",
       "      <td>NaN</td>\n",
       "      <td>NaN</td>\n",
       "      <td>NaN</td>\n",
       "      <td>NaN</td>\n",
       "      <td>NaN</td>\n",
       "      <td>NaN</td>\n",
       "      <td>NaN</td>\n",
       "      <td>NaN</td>\n",
       "      <td>NaN</td>\n",
       "    </tr>\n",
       "  </tbody>\n",
       "</table>\n",
       "<p>5 rows × 4104 columns</p>\n",
       "</div>"
      ],
      "text/plain": [
       "      idx  bin lang                           transcription  \\\n",
       "0  125720    6  fro                  a pos man cee t mesore   \n",
       "1  267356    7  fro               ũde ił peisetut due due   \n",
       "2  201232    2  fro           se partist desi. Et qnaint ui   \n",
       "3  184835    0  fro  uoir sopouture.Etse uos beaus signeurs   \n",
       "4  183024    2  fro                du monde qm̃t il est fus   \n",
       "\n",
       "                      manuscript  page_id  line_id       CER  $__q  $_q̃  ...  \\\n",
       "0                   BnF_fr_25516        3       50  62.96875   NaN   NaN  ...   \n",
       "1  bnf__arsenal3516_imagedumonde        5      116  72.75000   NaN   NaN  ...   \n",
       "2        bnf_fr_22549_sept_sages       11       53  28.00000   NaN   NaN  ...   \n",
       "3            bnf_fr_412_wauchier       30        3   0.00000   NaN   NaN  ...   \n",
       "4  bnf__arsenal3516_imagedumonde        7      179  23.81250   NaN   NaN  ...   \n",
       "\n",
       "   $.qe  $:⁊s  $eiz  $z.⁊  $ulx  $:ca  $ͥl_  $:si  $:qe  $:qi  \n",
       "0   NaN   NaN   NaN   NaN   NaN   NaN   NaN   NaN   NaN   NaN  \n",
       "1   NaN   NaN   NaN   NaN   NaN   NaN   NaN   NaN   NaN   NaN  \n",
       "2   NaN   NaN   NaN   NaN   NaN   NaN   NaN   NaN   NaN   NaN  \n",
       "3   NaN   NaN   NaN   NaN   NaN   NaN   NaN   NaN   NaN   NaN  \n",
       "4   NaN   NaN   NaN   NaN   NaN   NaN   NaN   NaN   NaN   NaN  \n",
       "\n",
       "[5 rows x 4104 columns]"
      ]
     },
     "execution_count": 10,
     "metadata": {},
     "output_type": "execute_result"
    }
   ],
   "source": [
    "df.to_hdf(\"features.hdf5\", key='df')\n",
    "df.head()"
   ]
  },
  {
   "cell_type": "code",
   "execution_count": 11,
   "id": "2853fb8d",
   "metadata": {},
   "outputs": [
    {
     "data": {
      "text/plain": [
       "0.026321    82\n",
       "0.027771    75\n",
       "0.029419    73\n",
       "0.041656    66\n",
       "0.025635    64\n",
       "            ..\n",
       "0.013336     1\n",
       "0.037750     1\n",
       "0.010307     1\n",
       "0.026672     1\n",
       "0.012817     1\n",
       "Name: $abi, Length: 88, dtype: int64"
      ]
     },
     "execution_count": 11,
     "metadata": {},
     "output_type": "execute_result"
    }
   ],
   "source": [
    "df[\"$abi\"].value_counts()"
   ]
  },
  {
   "cell_type": "code",
   "execution_count": 12,
   "id": "1df405a1",
   "metadata": {},
   "outputs": [
    {
     "data": {
      "text/plain": [
       "array([6, 7, 2, 0, 8, 4, 3, 5, 9, 1], dtype=int8)"
      ]
     },
     "execution_count": 12,
     "metadata": {},
     "output_type": "execute_result"
    }
   ],
   "source": [
    "df.bin.unique()"
   ]
  },
  {
   "cell_type": "code",
   "execution_count": 13,
   "id": "c7b2f619",
   "metadata": {},
   "outputs": [],
   "source": [
    "df[\"idx \tbin \ttranscription \tmanuscript \tpage_id \tline_id \tCER\".split()].to_hdf(\"texts.hdf5\", key='df')"
   ]
  }
 ],
 "metadata": {
  "kernelspec": {
   "display_name": "Python 3 (ipykernel)",
   "language": "python",
   "name": "python3"
  },
  "language_info": {
   "codemirror_mode": {
    "name": "ipython",
    "version": 3
   },
   "file_extension": ".py",
   "mimetype": "text/x-python",
   "name": "python",
   "nbconvert_exporter": "python",
   "pygments_lexer": "ipython3",
   "version": "3.8.13"
  }
 },
 "nbformat": 4,
 "nbformat_minor": 5
}
