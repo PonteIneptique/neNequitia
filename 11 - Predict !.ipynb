{
 "cells": [
  {
   "cell_type": "code",
   "execution_count": 1,
   "id": "642d2f90",
   "metadata": {},
   "outputs": [],
   "source": [
    "from pandas import read_hdf\n",
    "from nenequitia.datasets import DataFrameDataset\n",
    "from nenequitia.models import AttentionalModule, RnnModule\n",
    "\n",
    "model = RnnModule.load_from_checkpoint(\"explogs/RnnModule/3/checkpoints/sample-epoch=12.ckpt\")\n",
    "model.eval()\n",
    "encoder = model.encoder\n",
    "df = read_hdf(\"preds.hdf\")\n",
    "df[\"transcription\"] = df.text\n",
    "ds = DataFrameDataset(\n",
    "    df,\n",
    "    encoder=encoder,\n",
    "    is_gt=False\n",
    ")"
   ]
  },
  {
   "cell_type": "code",
   "execution_count": null,
   "id": "438333b6",
   "metadata": {},
   "outputs": [],
   "source": []
  },
  {
   "cell_type": "code",
   "execution_count": 7,
   "id": "45c79b3d",
   "metadata": {},
   "outputs": [
    {
     "name": "stderr",
     "output_type": "stream",
     "text": [
      "Using 16bit native Automatic Mixed Precision (AMP)\n",
      "GPU available: True (cuda), used: True\n",
      "TPU available: False, using: 0 TPU cores\n",
      "IPU available: False, using: 0 IPUs\n",
      "HPU available: False, using: 0 HPUs\n",
      "LOCAL_RANK: 0 - CUDA_VISIBLE_DEVICES: [0]\n"
     ]
    },
    {
     "data": {
      "application/json": {
       "ascii": false,
       "bar_format": null,
       "colour": null,
       "elapsed": 0.008784770965576172,
       "initial": 0,
       "n": 0,
       "ncols": 80,
       "nrows": 24,
       "postfix": null,
       "prefix": "Predicting",
       "rate": null,
       "total": null,
       "unit": "it",
       "unit_divisor": 1000,
       "unit_scale": false
      },
      "application/vnd.jupyter.widget-view+json": {
       "model_id": "50513bec567948afa12bd9e754b8b18e",
       "version_major": 2,
       "version_minor": 0
      },
      "text/plain": [
       "Predicting: 0it [00:00, ?it/s]"
      ]
     },
     "metadata": {},
     "output_type": "display_data"
    }
   ],
   "source": [
    "from pytorch_lightning import Trainer\n",
    "from torch.utils.data import DataLoader\n",
    "from torch.nn.utils.rnn import pad_sequence\n",
    "import torch\n",
    "\n",
    "t = Trainer(\n",
    "    accelerator=\"gpu\",\n",
    "    devices=1,\n",
    "    precision=16\n",
    ")\n",
    "preds = []\n",
    "\n",
    "def collate_pred(strings):\n",
    "    lengths = [string.shape[0] for string in strings]\n",
    "    return (\n",
    "        (\n",
    "           pad_sequence(strings, batch_first=True, padding_value=model.encoder.pad),\n",
    "           torch.tensor(lengths)\n",
    "        )\n",
    "    )\n",
    "    \n",
    "for batch in t.predict(\n",
    "    model, \n",
    "    dataloaders=DataLoader(\n",
    "        ds,\n",
    "        batch_size=256,\n",
    "        collate_fn=collate_pred\n",
    "    )\n",
    "):\n",
    "    preds.extend(batch)"
   ]
  },
  {
   "cell_type": "code",
   "execution_count": 8,
   "id": "5071d153",
   "metadata": {},
   "outputs": [],
   "source": [
    "df[\"Prediction\"] = preds"
   ]
  },
  {
   "cell_type": "code",
   "execution_count": 9,
   "id": "c1f1b85e",
   "metadata": {},
   "outputs": [],
   "source": [
    "df.to_hdf(\"preds-completed.hdf\", key=\"df\")"
   ]
  },
  {
   "cell_type": "code",
   "execution_count": 10,
   "id": "e3406c50",
   "metadata": {},
   "outputs": [
    {
     "data": {
      "text/html": [
       "<div>\n",
       "<style scoped>\n",
       "    .dataframe tbody tr th:only-of-type {\n",
       "        vertical-align: middle;\n",
       "    }\n",
       "\n",
       "    .dataframe tbody tr th {\n",
       "        vertical-align: top;\n",
       "    }\n",
       "\n",
       "    .dataframe thead th {\n",
       "        text-align: right;\n",
       "    }\n",
       "</style>\n",
       "<table border=\"1\" class=\"dataframe\">\n",
       "  <thead>\n",
       "    <tr style=\"text-align: right;\">\n",
       "      <th></th>\n",
       "      <th>lang</th>\n",
       "      <th>century</th>\n",
       "      <th>page</th>\n",
       "      <th>manuscript</th>\n",
       "      <th>text</th>\n",
       "      <th>transcription</th>\n",
       "      <th>Prediction</th>\n",
       "    </tr>\n",
       "  </thead>\n",
       "  <tbody>\n",
       "    <tr>\n",
       "      <th>0</th>\n",
       "      <td>lat</td>\n",
       "      <td>10</td>\n",
       "      <td>f14</td>\n",
       "      <td>btv1b10032123t</td>\n",
       "      <td>apparente. Iuno .i. aer splendore eꝰ. illustrat᷑.</td>\n",
       "      <td>apparente. Iuno .i. aer splendore eꝰ. illustrat᷑.</td>\n",
       "      <td>Good</td>\n",
       "    </tr>\n",
       "    <tr>\n",
       "      <th>1</th>\n",
       "      <td>lat</td>\n",
       "      <td>10</td>\n",
       "      <td>f14</td>\n",
       "      <td>btv1b10032123t</td>\n",
       "      <td>ẜlaciditatem quandam et serenttatẽ ab eo</td>\n",
       "      <td>ẜlaciditatem quandam et serenttatẽ ab eo</td>\n",
       "      <td>Good</td>\n",
       "    </tr>\n",
       "    <tr>\n",
       "      <th>2</th>\n",
       "      <td>lat</td>\n",
       "      <td>10</td>\n",
       "      <td>f14</td>\n",
       "      <td>btv1b10032123t</td>\n",
       "      <td>sus cipit. Quuntiq idem phoeb fecerat subuola</td>\n",
       "      <td>sus cipit. Quuntiq idem phoeb fecerat subuola</td>\n",
       "      <td>Good</td>\n",
       "    </tr>\n",
       "    <tr>\n",
       "      <th>3</th>\n",
       "      <td>lat</td>\n",
       "      <td>10</td>\n",
       "      <td>f14</td>\n",
       "      <td>btv1b10032123t</td>\n",
       "      <td>re: filias ad conspectum parentũ subuolare</td>\n",
       "      <td>re: filias ad conspectum parentũ subuolare</td>\n",
       "      <td>Good</td>\n",
       "    </tr>\n",
       "    <tr>\n",
       "      <th>4</th>\n",
       "      <td>lat</td>\n",
       "      <td>10</td>\n",
       "      <td>f14</td>\n",
       "      <td>btv1b10032123t</td>\n",
       "      <td>.. conscendere adconspectũ parentũ. iouis</td>\n",
       "      <td>.. conscendere adconspectũ parentũ. iouis</td>\n",
       "      <td>Acceptable</td>\n",
       "    </tr>\n",
       "  </tbody>\n",
       "</table>\n",
       "</div>"
      ],
      "text/plain": [
       "  lang century page      manuscript  \\\n",
       "0  lat      10  f14  btv1b10032123t   \n",
       "1  lat      10  f14  btv1b10032123t   \n",
       "2  lat      10  f14  btv1b10032123t   \n",
       "3  lat      10  f14  btv1b10032123t   \n",
       "4  lat      10  f14  btv1b10032123t   \n",
       "\n",
       "                                                text  \\\n",
       "0  apparente. Iuno .i. aer splendore eꝰ. illustrat᷑.   \n",
       "1          ẜlaciditatem quandam et serenttatẽ ab eo   \n",
       "2    sus cipit. Quuntiq idem phoeb fecerat subuola   \n",
       "3        re: filias ad conspectum parentũ subuolare   \n",
       "4        .. conscendere adconspectũ parentũ. iouis   \n",
       "\n",
       "                                       transcription  Prediction  \n",
       "0  apparente. Iuno .i. aer splendore eꝰ. illustrat᷑.        Good  \n",
       "1          ẜlaciditatem quandam et serenttatẽ ab eo        Good  \n",
       "2    sus cipit. Quuntiq idem phoeb fecerat subuola        Good  \n",
       "3        re: filias ad conspectum parentũ subuolare        Good  \n",
       "4        .. conscendere adconspectũ parentũ. iouis  Acceptable  "
      ]
     },
     "execution_count": 10,
     "metadata": {},
     "output_type": "execute_result"
    }
   ],
   "source": [
    "df.head()"
   ]
  },
  {
   "cell_type": "code",
   "execution_count": 11,
   "id": "c01f2305",
   "metadata": {},
   "outputs": [
    {
     "data": {
      "text/plain": [
       "<seaborn.axisgrid.FacetGrid at 0x7f8fca2b98e0>"
      ]
     },
     "execution_count": 11,
     "metadata": {},
     "output_type": "execute_result"
    },
    {
     "data": {
      "image/png": "[encoded data removed]",
      "text/plain": [
       "<Figure size 2100x600 with 14 Axes>"
      ]
     },
     "metadata": {},
     "output_type": "display_data"
    }
   ],
   "source": [
    "import seaborn as sns\n",
    "import matplotlib.pyplot as plt\n",
    "\n",
    "sns.displot(\n",
    "    df, x=\"Prediction\", col=\"century\", row=\"lang\",\n",
    "    binwidth=3, height=3, facet_kws=dict(margin_titles=True),\n",
    ")"
   ]
  }
 ],
 "metadata": {
  "kernelspec": {
   "display_name": "Python 3 (ipykernel)",
   "language": "python",
   "name": "python3"
  },
  "language_info": {
   "codemirror_mode": {
    "name": "ipython",
    "version": 3
   },
   "file_extension": ".py",
   "mimetype": "text/x-python",
   "name": "python",
   "nbconvert_exporter": "python",
   "pygments_lexer": "ipython3",
   "version": "3.8.13"
  }
 },
 "nbformat": 4,
 "nbformat_minor": 5
}
