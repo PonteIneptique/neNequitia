{
 "cells": [
  {
   "cell_type": "code",
   "execution_count": 24,
   "id": "150f748a",
   "metadata": {},
   "outputs": [
    {
     "name": "stderr",
     "output_type": "stream",
     "text": [
      "  0%|▏                                      | 70/18901 [00:00<03:05, 101.48it/s]"
     ]
    },
    {
     "name": "stdout",
     "output_type": "stream",
     "text": [
      "state/data/10/btv1b10033056c/f1.transc.xml list index out of range\n",
      "state/data/10/btv1b10033056c/f3.transc.xml list index out of range\n",
      "state/data/10/btv1b10033056c/f5.transc.xml list index out of range\n",
      "state/data/10/btv1b10033075r/f19.transc.xml Document is empty, line 1, column 1 (f19.transc.xml, line 1)\n"
     ]
    },
    {
     "name": "stderr",
     "output_type": "stream",
     "text": [
      "  1%|▎                                      | 122/18901 [00:01<05:07, 61.14it/s]"
     ]
    },
    {
     "name": "stdout",
     "output_type": "stream",
     "text": [
      "state/data/10/btv1b10034550x/f13.transc.xml list index out of range\n"
     ]
    },
    {
     "name": "stderr",
     "output_type": "stream",
     "text": [
      "  1%|▎                                     | 183/18901 [00:02<02:52, 108.67it/s]"
     ]
    },
    {
     "name": "stdout",
     "output_type": "stream",
     "text": [
      "state/data/10/btv1b10035688g/f19.transc.xml list index out of range\n",
      "state/data/10/btv1b10035688g/f20.transc.xml list index out of range\n",
      "state/data/10/btv1b10035688g/f21.transc.xml list index out of range\n",
      "state/data/10/btv1b10035688g/f24.transc.xml list index out of range\n"
     ]
    },
    {
     "name": "stderr",
     "output_type": "stream",
     "text": [
      "  1%|▍                                      | 207/18901 [00:02<04:41, 66.38it/s]"
     ]
    },
    {
     "name": "stdout",
     "output_type": "stream",
     "text": [
      "state/data/10/btv1b10036996g/f25.transc.xml Document is empty, line 1, column 1 (f25.transc.xml, line 1)\n"
     ]
    },
    {
     "name": "stderr",
     "output_type": "stream",
     "text": [
      "  1%|▌                                      | 247/18901 [00:03<06:07, 50.70it/s]"
     ]
    },
    {
     "name": "stdout",
     "output_type": "stream",
     "text": [
      "state/data/10/btv1b10037292c/f16.transc.xml Document is empty, line 1, column 1 (f16.transc.xml, line 1)\n"
     ]
    },
    {
     "name": "stderr",
     "output_type": "stream",
     "text": [
      "  2%|▌                                     | 307/18901 [00:04<03:05, 100.08it/s]"
     ]
    },
    {
     "name": "stdout",
     "output_type": "stream",
     "text": [
      "state/data/10/btv1b100386749/f17.transc.xml list index out of range\n",
      "state/data/10/btv1b100386749/f20.transc.xml list index out of range\n",
      "state/data/10/btv1b100386749/f24.transc.xml list index out of range\n",
      "state/data/10/btv1b10511073x/f37.transc.xml Document is empty, line 1, column 1 (f37.transc.xml, line 1)\n"
     ]
    },
    {
     "name": "stderr",
     "output_type": "stream",
     "text": [
      "  3%|▉                                     | 489/18901 [00:05<02:33, 120.24it/s]"
     ]
    },
    {
     "name": "stdout",
     "output_type": "stream",
     "text": [
      "state/data/10/btv1b105461623/f37.transc.xml list index out of range\n",
      "state/data/10/btv1b105461623/f38.transc.xml list index out of range\n",
      "state/data/10/btv1b10546763t/f31.transc.xml list index out of range\n"
     ]
    },
    {
     "name": "stderr",
     "output_type": "stream",
     "text": [
      "  3%|█                                     | 549/18901 [00:06<02:23, 127.49it/s]"
     ]
    },
    {
     "name": "stdout",
     "output_type": "stream",
     "text": [
      "state/data/10/btv1b10551126t/f42.transc.xml list index out of range\n",
      "state/data/10/btv1b10551126t/f43.transc.xml list index out of range\n",
      "state/data/10/btv1b105513148/f41.transc.xml Document is empty, line 1, column 1 (f41.transc.xml, line 1)\n",
      "state/data/10/btv1b105513237/f17.transc.xml Document is empty, line 1, column 1 (f17.transc.xml, line 1)\n"
     ]
    },
    {
     "name": "stderr",
     "output_type": "stream",
     "text": [
      "  4%|█▍                                    | 703/18901 [00:07<01:54, 158.98it/s]"
     ]
    },
    {
     "name": "stdout",
     "output_type": "stream",
     "text": [
      "state/data/10/btv1b525018769/f18.transc.xml list index out of range\n",
      "state/data/10/btv1b525018769/f20.transc.xml list index out of range\n",
      "state/data/10/btv1b525018769/f22.transc.xml list index out of range\n",
      "state/data/10/btv1b525018769/f24.transc.xml list index out of range\n",
      "state/data/10/btv1b525018769/f26.transc.xml list index out of range\n",
      "state/data/10/btv1b52502238m/f85.transc.xml list index out of range\n",
      "state/data/10/btv1b52502238m/f89.transc.xml list index out of range\n",
      "state/data/10/btv1b52502238m/f90.transc.xml list index out of range\n",
      "state/data/10/btv1b52502238m/f91.transc.xml list index out of range\n",
      "state/data/10/btv1b52502238m/f92.transc.xml list index out of range\n",
      "state/data/10/btv1b525095546/f79.transc.xml list index out of range\n",
      "state/data/10/btv1b525095546/f80.transc.xml list index out of range\n",
      "state/data/10/btv1b525095546/f81.transc.xml list index out of range\n",
      "state/data/10/btv1b525095546/f82.transc.xml list index out of range\n",
      "state/data/10/btv1b525095546/f84.transc.xml list index out of range\n"
     ]
    },
    {
     "name": "stderr",
     "output_type": "stream",
     "text": [
      "  4%|█▌                                    | 762/18901 [00:07<01:21, 222.78it/s]"
     ]
    },
    {
     "name": "stdout",
     "output_type": "stream",
     "text": [
      "state/data/10/btv1b84324568/f23.transc.xml list index out of range\n",
      "state/data/10/btv1b84324568/f26.transc.xml list index out of range\n"
     ]
    },
    {
     "name": "stderr",
     "output_type": "stream",
     "text": [
      "\r",
      "  4%|█▌                                    | 787/18901 [00:07<02:03, 147.25it/s]"
     ]
    },
    {
     "name": "stdout",
     "output_type": "stream",
     "text": [
      "state/data/10/btv1b85388130/f40.transc.xml list index out of range\n",
      "state/data/10/btv1b85388130/f42.transc.xml list index out of range\n"
     ]
    },
    {
     "name": "stderr",
     "output_type": "stream",
     "text": [
      "  5%|█▊                                    | 872/18901 [00:08<02:16, 132.41it/s]"
     ]
    },
    {
     "name": "stdout",
     "output_type": "stream",
     "text": [
      "state/data/10/btv1b9001106f/f14.transc.xml list index out of range\n",
      "state/data/10/btv1b9001106f/f16.transc.xml list index out of range\n",
      "state/data/10/btv1b9001106f/f18.transc.xml list index out of range\n",
      "state/data/10/btv1b9001106f/f19.transc.xml list index out of range\n",
      "state/data/10/btv1b9001106f/f20.transc.xml list index out of range\n",
      "state/data/10/btv1b90659137/f16.transc.xml list index out of range\n"
     ]
    },
    {
     "name": "stderr",
     "output_type": "stream",
     "text": [
      "  5%|█▉                                     | 960/18901 [00:09<03:04, 97.49it/s]"
     ]
    },
    {
     "name": "stdout",
     "output_type": "stream",
     "text": [
      "state/data/10/btv1b9066592s/f22.transc.xml list index out of range\n"
     ]
    },
    {
     "name": "stderr",
     "output_type": "stream",
     "text": [
      "  6%|██▏                                   | 1085/18901 [00:11<04:01, 73.90it/s]"
     ]
    },
    {
     "name": "stdout",
     "output_type": "stream",
     "text": [
      "state/data/10/btv1b9068477c/f12.transc.xml Document is empty, line 1, column 1 (f12.transc.xml, line 1)\n"
     ]
    },
    {
     "name": "stderr",
     "output_type": "stream",
     "text": [
      "  6%|██▏                                   | 1116/18901 [00:11<03:46, 78.63it/s]"
     ]
    },
    {
     "name": "stdout",
     "output_type": "stream",
     "text": [
      "state/data/10/btv1b90767119/f16.transc.xml Document is empty, line 1, column 1 (f16.transc.xml, line 1)\n",
      "state/data/10/btv1b90767119/f18.transc.xml Document is empty, line 1, column 1 (f18.transc.xml, line 1)\n"
     ]
    },
    {
     "name": "stderr",
     "output_type": "stream",
     "text": [
      "  6%|██▎                                   | 1161/18901 [00:12<03:49, 77.29it/s]"
     ]
    },
    {
     "name": "stdout",
     "output_type": "stream",
     "text": [
      "state/data/10/btv1b90778250/f20.transc.xml Document is empty, line 1, column 1 (f20.transc.xml, line 1)\n"
     ]
    },
    {
     "name": "stderr",
     "output_type": "stream",
     "text": [
      "  6%|██▍                                   | 1202/18901 [00:12<03:27, 85.40it/s]"
     ]
    },
    {
     "name": "stdout",
     "output_type": "stream",
     "text": [
      "state/data/10/btv1b90782576/f18.transc.xml list index out of range\n"
     ]
    },
    {
     "name": "stderr",
     "output_type": "stream",
     "text": [
      "\r",
      "  6%|██▍                                   | 1211/18901 [00:13<03:51, 76.49it/s]"
     ]
    },
    {
     "name": "stdout",
     "output_type": "stream",
     "text": [
      "state/data/11/btv1b10020321p/f12.transc.xml Document is empty, line 1, column 1 (f12.transc.xml, line 1)\n"
     ]
    },
    {
     "name": "stderr",
     "output_type": "stream",
     "text": [
      "  7%|██▌                                   | 1285/18901 [00:14<03:09, 92.91it/s]"
     ]
    },
    {
     "name": "stdout",
     "output_type": "stream",
     "text": [
      "state/data/11/btv1b10033025p/f11.transc.xml list index out of range\n",
      "state/data/11/btv1b10033025p/f17.transc.xml list index out of range\n",
      "state/data/11/btv1b10033025p/f19.transc.xml list index out of range\n",
      "state/data/11/btv1b10033027k/f11.transc.xml list index out of range\n",
      "state/data/11/btv1b10033027k/f12.transc.xml list index out of range\n",
      "state/data/11/btv1b10033027k/f14.transc.xml list index out of range\n",
      "state/data/11/btv1b10033027k/f15.transc.xml list index out of range\n",
      "state/data/11/btv1b10033027k/f19.transc.xml list index out of range\n"
     ]
    },
    {
     "name": "stderr",
     "output_type": "stream",
     "text": [
      "  7%|██▋                                   | 1325/18901 [00:14<03:00, 97.34it/s]"
     ]
    },
    {
     "name": "stdout",
     "output_type": "stream",
     "text": [
      "state/data/11/btv1b10033030v/f15.transc.xml list index out of range\n",
      "state/data/11/btv1b10033030v/f17.transc.xml list index out of range\n",
      "state/data/11/btv1b10033030v/f18.transc.xml list index out of range\n",
      "state/data/11/btv1b10033030v/f20.transc.xml list index out of range\n"
     ]
    },
    {
     "name": "stderr",
     "output_type": "stream",
     "text": [
      "  7%|██▋                                  | 1349/18901 [00:14<02:50, 102.75it/s]"
     ]
    },
    {
     "name": "stdout",
     "output_type": "stream",
     "text": [
      "state/data/11/btv1b100338945/f16.transc.xml list index out of range\n",
      "state/data/11/btv1b100338945/f20.transc.xml list index out of range\n",
      "state/data/11/btv1b100338945/f24.transc.xml list index out of range\n"
     ]
    },
    {
     "name": "stderr",
     "output_type": "stream",
     "text": [
      "  7%|██▊                                   | 1378/18901 [00:15<02:55, 99.96it/s]"
     ]
    },
    {
     "name": "stdout",
     "output_type": "stream",
     "text": [
      "state/data/11/btv1b10035533s/f20.transc.xml list index out of range\n",
      "state/data/11/btv1b10035533s/f22.transc.xml list index out of range\n",
      "state/data/11/btv1b10035533s/f24.transc.xml list index out of range\n",
      "state/data/11/btv1b10035533s/f28.transc.xml list index out of range\n"
     ]
    },
    {
     "name": "stderr",
     "output_type": "stream",
     "text": [
      "  7%|██▊                                   | 1399/18901 [00:15<05:43, 51.01it/s]"
     ]
    },
    {
     "name": "stdout",
     "output_type": "stream",
     "text": [
      "state/data/11/btv1b100364613/f18.transc.xml Document is empty, line 1, column 1 (f18.transc.xml, line 1)\n"
     ]
    },
    {
     "name": "stderr",
     "output_type": "stream",
     "text": [
      "  8%|██▉                                   | 1440/18901 [00:16<03:11, 91.09it/s]"
     ]
    },
    {
     "name": "stdout",
     "output_type": "stream",
     "text": [
      "state/data/11/btv1b10036721k/f16.transc.xml list index out of range\n",
      "state/data/11/btv1b10037089b/f12.transc.xml list index out of range\n"
     ]
    },
    {
     "name": "stderr",
     "output_type": "stream",
     "text": [
      "  8%|██▉                                   | 1485/18901 [00:16<03:09, 91.86it/s]"
     ]
    },
    {
     "name": "stdout",
     "output_type": "stream",
     "text": [
      "state/data/11/btv1b100385471/f25.transc.xml list index out of range\n",
      "state/data/11/btv1b100385471/f26.transc.xml list index out of range\n",
      "state/data/11/btv1b100385471/f27.transc.xml list index out of range\n",
      "state/data/11/btv1b100385471/f29.transc.xml list index out of range\n",
      "state/data/11/btv1b100385471/f30.transc.xml list index out of range\n",
      "state/data/11/btv1b100385471/f31.transc.xml list index out of range\n",
      "state/data/11/btv1b100385471/f32.transc.xml list index out of range\n",
      "state/data/11/btv1b100385471/f34.transc.xml list index out of range\n"
     ]
    },
    {
     "name": "stderr",
     "output_type": "stream",
     "text": [
      "  8%|███                                   | 1518/18901 [00:16<03:03, 94.93it/s]"
     ]
    },
    {
     "name": "stdout",
     "output_type": "stream",
     "text": [
      "state/data/11/btv1b10038889q/f18.transc.xml list index out of range\n",
      "state/data/11/btv1b10038889q/f20.transc.xml list index out of range\n"
     ]
    },
    {
     "name": "stderr",
     "output_type": "stream",
     "text": [
      "  9%|███▏                                 | 1615/18901 [00:17<01:59, 144.80it/s]"
     ]
    },
    {
     "name": "stdout",
     "output_type": "stream",
     "text": [
      "state/data/11/btv1b10509039d/f38.transc.xml list index out of range\n",
      "state/data/11/btv1b105157428/f11.transc.xml list index out of range\n",
      "state/data/11/btv1b105157428/f14.transc.xml list index out of range\n",
      "state/data/11/btv1b105157428/f15.transc.xml list index out of range\n",
      "state/data/11/btv1b105157428/f20.transc.xml list index out of range\n",
      "state/data/11/btv1b10539526g/f29.transc.xml list index out of range\n",
      "state/data/11/btv1b10539533j/f33.transc.xml list index out of range\n"
     ]
    },
    {
     "name": "stderr",
     "output_type": "stream",
     "text": [
      "  9%|███▍                                 | 1759/18901 [00:19<02:11, 130.06it/s]"
     ]
    },
    {
     "name": "stdout",
     "output_type": "stream",
     "text": [
      "state/data/11/btv1b10542083m/f21.transc.xml Document is empty, line 1, column 1 (f21.transc.xml, line 1)\n"
     ]
    },
    {
     "name": "stderr",
     "output_type": "stream",
     "text": [
      " 11%|████                                 | 2045/18901 [00:21<02:40, 104.70it/s]"
     ]
    },
    {
     "name": "stdout",
     "output_type": "stream",
     "text": [
      "state/data/11/btv1b105511278/f35.transc.xml list index out of range\n"
     ]
    },
    {
     "name": "stderr",
     "output_type": "stream",
     "text": [
      " 11%|████▏                                | 2142/18901 [00:22<01:27, 191.57it/s]"
     ]
    },
    {
     "name": "stdout",
     "output_type": "stream",
     "text": [
      "state/data/11/btv1b52505617w/f35.transc.xml list index out of range\n",
      "state/data/11/btv1b52505617w/f42.transc.xml list index out of range\n",
      "state/data/11/btv1b52510672q/f12.transc.xml list index out of range\n",
      "state/data/11/btv1b52510672q/f15.transc.xml list index out of range\n",
      "state/data/11/btv1b52510672q/f17.transc.xml list index out of range\n",
      "state/data/11/btv1b52510672q/f18.transc.xml list index out of range\n",
      "state/data/11/btv1b52510672q/f19.transc.xml list index out of range\n",
      "state/data/11/btv1b52510672q/f20.transc.xml list index out of range\n",
      "state/data/11/btv1b550059715/f14.transc.xml list index out of range\n",
      "state/data/11/btv1b550059715/f15.transc.xml list index out of range\n",
      "state/data/11/btv1b550059715/f16.transc.xml list index out of range\n",
      "state/data/11/btv1b550059715/f19.transc.xml list index out of range\n",
      "state/data/11/btv1b550059715/f20.transc.xml list index out of range\n",
      "state/data/11/btv1b550059715/f21.transc.xml list index out of range\n",
      "state/data/11/btv1b550059715/f23.transc.xml list index out of range\n"
     ]
    },
    {
     "name": "stderr",
     "output_type": "stream",
     "text": [
      " 13%|████▋                                | 2381/18901 [00:24<02:19, 118.19it/s]"
     ]
    },
    {
     "name": "stdout",
     "output_type": "stream",
     "text": [
      "state/data/11/btv1b9000750m/f42.transc.xml list index out of range\n",
      "state/data/11/btv1b9001146z/f32.transc.xml list index out of range\n"
     ]
    },
    {
     "name": "stderr",
     "output_type": "stream",
     "text": [
      " 13%|████▊                                 | 2421/18901 [00:24<02:47, 98.48it/s]"
     ]
    },
    {
     "name": "stdout",
     "output_type": "stream",
     "text": [
      "state/data/11/btv1b9066059f/f20.transc.xml list index out of range\n",
      "state/data/11/btv1b9066059f/f22.transc.xml list index out of range\n",
      "state/data/11/btv1b9066059f/f24.transc.xml list index out of range\n",
      "state/data/11/btv1b9066059f/f27.transc.xml list index out of range\n"
     ]
    },
    {
     "name": "stderr",
     "output_type": "stream",
     "text": [
      " 15%|█████▌                                | 2790/18901 [00:30<03:28, 77.34it/s]"
     ]
    },
    {
     "name": "stdout",
     "output_type": "stream",
     "text": [
      "state/data/12/btv1b10032488p/f22.transc.xml Document is empty, line 1, column 1 (f22.transc.xml, line 1)\n"
     ]
    },
    {
     "name": "stderr",
     "output_type": "stream",
     "text": [
      " 15%|█████▊                                | 2881/18901 [00:31<02:56, 90.70it/s]"
     ]
    },
    {
     "name": "stdout",
     "output_type": "stream",
     "text": [
      "state/data/12/btv1b10033880z/f11.transc.xml list index out of range\n",
      "state/data/12/btv1b10033880z/f12.transc.xml list index out of range\n",
      "state/data/12/btv1b10033880z/f15.transc.xml list index out of range\n",
      "state/data/12/btv1b10033880z/f17.transc.xml list index out of range\n",
      "state/data/12/btv1b10033880z/f19.transc.xml list index out of range\n",
      "state/data/12/btv1b10033895m/f21.transc.xml list index out of range\n",
      "state/data/12/btv1b10033895m/f23.transc.xml list index out of range\n",
      "state/data/12/btv1b10033895m/f25.transc.xml list index out of range\n",
      "state/data/12/btv1b10033895m/f28.transc.xml list index out of range\n"
     ]
    },
    {
     "name": "stderr",
     "output_type": "stream",
     "text": [
      " 16%|█████▉                                | 2957/18901 [00:33<03:15, 81.56it/s]"
     ]
    },
    {
     "name": "stdout",
     "output_type": "stream",
     "text": [
      "state/data/12/btv1b100348398/f21.transc.xml list index out of range\n"
     ]
    },
    {
     "name": "stderr",
     "output_type": "stream",
     "text": [
      " 16%|██████▏                               | 3084/18901 [00:35<03:47, 69.65it/s]"
     ]
    },
    {
     "name": "stdout",
     "output_type": "stream",
     "text": [
      "state/data/12/btv1b10036137d/f22.transc.xml list index out of range\n",
      "state/data/12/btv1b10036137d/f26.transc.xml list index out of range\n",
      "state/data/12/btv1b10036137d/f28.transc.xml list index out of range\n"
     ]
    },
    {
     "name": "stderr",
     "output_type": "stream",
     "text": [
      " 17%|██████▎                               | 3146/18901 [00:36<04:48, 54.55it/s]"
     ]
    },
    {
     "name": "stdout",
     "output_type": "stream",
     "text": [
      "state/data/12/btv1b100364971/f11.transc.xml list index out of range\n",
      "state/data/12/btv1b100364971/f12.transc.xml list index out of range\n",
      "state/data/12/btv1b100364971/f13.transc.xml list index out of range\n",
      "state/data/12/btv1b100364971/f14.transc.xml list index out of range\n",
      "state/data/12/btv1b100364971/f15.transc.xml list index out of range\n"
     ]
    },
    {
     "name": "stderr",
     "output_type": "stream",
     "text": [
      " 17%|██████▌                               | 3268/18901 [00:39<07:08, 36.49it/s]"
     ]
    },
    {
     "name": "stdout",
     "output_type": "stream",
     "text": [
      "state/data/12/btv1b10037127b/f24.transc.xml list index out of range\n"
     ]
    },
    {
     "name": "stderr",
     "output_type": "stream",
     "text": [
      " 18%|██████▊                               | 3399/18901 [00:41<04:11, 61.57it/s]"
     ]
    },
    {
     "name": "stdout",
     "output_type": "stream",
     "text": [
      "state/data/12/btv1b100390338/f19.transc.xml Document is empty, line 1, column 1 (f19.transc.xml, line 1)\n"
     ]
    },
    {
     "name": "stderr",
     "output_type": "stream",
     "text": [
      " 18%|██████▉                               | 3438/18901 [00:42<06:12, 41.48it/s]"
     ]
    },
    {
     "name": "stdout",
     "output_type": "stream",
     "text": [
      "state/data/12/btv1b100391684/f25.transc.xml Document is empty, line 1, column 1 (f25.transc.xml, line 1)\n"
     ]
    },
    {
     "name": "stderr",
     "output_type": "stream",
     "text": [
      " 18%|███████                               | 3482/18901 [00:43<05:06, 50.23it/s]"
     ]
    },
    {
     "name": "stdout",
     "output_type": "stream",
     "text": [
      "state/data/12/btv1b10039259j/f19.transc.xml Document is empty, line 1, column 1 (f19.transc.xml, line 1)\n"
     ]
    },
    {
     "name": "stderr",
     "output_type": "stream",
     "text": [
      " 19%|███████▏                             | 3643/18901 [00:45<02:13, 114.22it/s]"
     ]
    },
    {
     "name": "stdout",
     "output_type": "stream",
     "text": [
      "state/data/12/btv1b10543449h/f11.transc.xml list index out of range\n",
      "state/data/12/btv1b10543449h/f12.transc.xml list index out of range\n",
      "state/data/12/btv1b10543449h/f13.transc.xml list index out of range\n",
      "state/data/12/btv1b10543449h/f14.transc.xml list index out of range\n",
      "state/data/12/btv1b10543449h/f15.transc.xml list index out of range\n",
      "state/data/12/btv1b10543449h/f16.transc.xml list index out of range\n"
     ]
    },
    {
     "name": "stderr",
     "output_type": "stream",
     "text": [
      " 20%|███████▌                              | 3741/18901 [00:46<02:42, 93.34it/s]"
     ]
    },
    {
     "name": "stdout",
     "output_type": "stream",
     "text": [
      "state/data/12/btv1b10551125c/f43.transc.xml Document is empty, line 1, column 1 (f43.transc.xml, line 1)\n"
     ]
    },
    {
     "name": "stderr",
     "output_type": "stream",
     "text": [
      " 21%|███████▌                             | 3879/18901 [00:48<02:19, 107.47it/s]"
     ]
    },
    {
     "name": "stdout",
     "output_type": "stream",
     "text": [
      "state/data/12/btv1b52510066t/f27.transc.xml list index out of range\n",
      "state/data/12/btv1b52510066t/f28.transc.xml list index out of range\n",
      "state/data/12/btv1b52510066t/f31.transc.xml list index out of range\n",
      "state/data/12/btv1b52510066t/f32.transc.xml list index out of range\n"
     ]
    },
    {
     "name": "stderr",
     "output_type": "stream",
     "text": [
      " 21%|███████▋                             | 3952/18901 [00:49<01:55, 129.17it/s]"
     ]
    },
    {
     "name": "stdout",
     "output_type": "stream",
     "text": [
      "state/data/12/btv1b52511754h/f25.transc.xml list index out of range\n",
      "state/data/12/btv1b52511754h/f27.transc.xml list index out of range\n",
      "state/data/12/btv1b52511754h/f31.transc.xml list index out of range\n",
      "state/data/12/btv1b54100459b/f25.transc.xml list index out of range\n",
      "state/data/12/btv1b54100459b/f27.transc.xml list index out of range\n",
      "state/data/12/btv1b54100459b/f29.transc.xml list index out of range\n",
      "state/data/12/btv1b54100459b/f31.transc.xml list index out of range\n"
     ]
    },
    {
     "name": "stderr",
     "output_type": "stream",
     "text": [
      " 21%|███████▊                             | 3998/18901 [00:49<01:24, 175.38it/s]"
     ]
    },
    {
     "name": "stdout",
     "output_type": "stream",
     "text": [
      "state/data/12/btv1b54100459b/f33.transc.xml list index out of range\n",
      "state/data/12/btv1b54100460q/f35.transc.xml list index out of range\n",
      "state/data/12/btv1b54100460q/f37.transc.xml list index out of range\n",
      "state/data/12/btv1b54100460q/f39.transc.xml list index out of range\n",
      "state/data/12/btv1b54100460q/f41.transc.xml list index out of range\n",
      "state/data/12/btv1b54100460q/f43.transc.xml list index out of range\n"
     ]
    },
    {
     "name": "stderr",
     "output_type": "stream",
     "text": [
      " 22%|████████                             | 4104/18901 [00:49<01:18, 188.43it/s]"
     ]
    },
    {
     "name": "stdout",
     "output_type": "stream",
     "text": [
      "state/data/12/btv1b8442904j/f36.transc.xml Document is empty, line 1, column 1 (f36.transc.xml, line 1)\n",
      "state/data/12/btv1b84514679/f13.transc.xml list index out of range\n",
      "state/data/12/btv1b84514679/f14.transc.xml list index out of range\n",
      "state/data/12/btv1b84514679/f15.transc.xml list index out of range\n",
      "state/data/12/btv1b84514679/f16.transc.xml list index out of range\n"
     ]
    },
    {
     "name": "stderr",
     "output_type": "stream",
     "text": [
      " 22%|████████▎                             | 4155/18901 [00:50<02:39, 92.59it/s]"
     ]
    },
    {
     "name": "stdout",
     "output_type": "stream",
     "text": [
      "state/data/12/btv1b8455938j/f64.transc.xml Document is empty, line 1, column 1 (f64.transc.xml, line 1)\n"
     ]
    },
    {
     "name": "stderr",
     "output_type": "stream",
     "text": [
      " 22%|████████▍                             | 4177/18901 [00:50<03:03, 80.46it/s]"
     ]
    },
    {
     "name": "stdout",
     "output_type": "stream",
     "text": [
      "state/data/12/btv1b8479009h/f39.transc.xml Document is empty, line 1, column 1 (f39.transc.xml, line 1)\n"
     ]
    },
    {
     "name": "stderr",
     "output_type": "stream",
     "text": [
      " 22%|████████▍                             | 4202/18901 [00:51<02:43, 90.07it/s]"
     ]
    },
    {
     "name": "stdout",
     "output_type": "stream",
     "text": [
      "state/data/12/btv1b8530222d/f39.transc.xml list index out of range\n",
      "state/data/12/btv1b8530222d/f40.transc.xml list index out of range\n"
     ]
    },
    {
     "name": "stderr",
     "output_type": "stream",
     "text": [
      " 23%|████████▋                             | 4312/18901 [00:52<02:39, 91.38it/s]"
     ]
    },
    {
     "name": "stdout",
     "output_type": "stream",
     "text": [
      "state/data/12/btv1b9000207w/f11.transc.xml Document is empty, line 1, column 1 (f11.transc.xml, line 1)\n"
     ]
    },
    {
     "name": "stderr",
     "output_type": "stream",
     "text": [
      " 23%|████████▉                             | 4421/18901 [00:53<02:31, 95.58it/s]"
     ]
    },
    {
     "name": "stdout",
     "output_type": "stream",
     "text": [
      "state/data/12/btv1b9000218p/f15.transc.xml list index out of range\n",
      "state/data/12/btv1b9000218p/f20.transc.xml list index out of range\n",
      "state/data/12/btv1b90002193/f11.transc.xml list index out of range\n"
     ]
    },
    {
     "name": "stderr",
     "output_type": "stream",
     "text": [
      " 24%|████████▋                            | 4465/18901 [00:54<02:18, 104.33it/s]"
     ]
    },
    {
     "name": "stdout",
     "output_type": "stream",
     "text": [
      "state/data/12/btv1b9000222k/f14.transc.xml list index out of range\n",
      "state/data/12/btv1b9000222k/f17.transc.xml list index out of range\n",
      "state/data/12/btv1b9000222k/f20.transc.xml list index out of range\n",
      "state/data/12/btv1b90002230/f15.transc.xml list index out of range\n",
      "state/data/12/btv1b90002230/f16.transc.xml list index out of range\n"
     ]
    },
    {
     "name": "stderr",
     "output_type": "stream",
     "text": [
      " 24%|████████▊                            | 4501/18901 [00:54<02:12, 108.55it/s]"
     ]
    },
    {
     "name": "stdout",
     "output_type": "stream",
     "text": [
      "state/data/12/btv1b90002267/f13.transc.xml list index out of range\n"
     ]
    },
    {
     "name": "stderr",
     "output_type": "stream",
     "text": [
      " 24%|█████████                             | 4534/18901 [00:54<02:25, 98.66it/s]"
     ]
    },
    {
     "name": "stdout",
     "output_type": "stream",
     "text": [
      "state/data/12/btv1b9000229g/f14.transc.xml list index out of range\n",
      "state/data/12/btv1b9000229g/f20.transc.xml list index out of range\n"
     ]
    },
    {
     "name": "stderr",
     "output_type": "stream",
     "text": [
      " 24%|█████████▏                            | 4555/18901 [00:55<02:32, 93.96it/s]"
     ]
    },
    {
     "name": "stdout",
     "output_type": "stream",
     "text": [
      "state/data/12/btv1b9000231j/f14.transc.xml list index out of range\n",
      "state/data/12/btv1b9000231j/f18.transc.xml list index out of range\n",
      "state/data/12/btv1b9000233c/f13.transc.xml list index out of range\n"
     ]
    },
    {
     "name": "stderr",
     "output_type": "stream",
     "text": [
      " 24%|█████████▏                            | 4576/18901 [00:55<02:45, 86.78it/s]"
     ]
    },
    {
     "name": "stdout",
     "output_type": "stream",
     "text": [
      "state/data/12/btv1b9000233c/f17.transc.xml list index out of range\n"
     ]
    },
    {
     "name": "stderr",
     "output_type": "stream",
     "text": [
      " 24%|█████████▏                            | 4599/18901 [00:55<02:23, 99.74it/s]"
     ]
    },
    {
     "name": "stdout",
     "output_type": "stream",
     "text": [
      "state/data/12/btv1b9000236m/f11.transc.xml list index out of range\n",
      "state/data/12/btv1b9000236m/f17.transc.xml list index out of range\n",
      "state/data/12/btv1b9000236m/f19.transc.xml list index out of range\n"
     ]
    },
    {
     "name": "stderr",
     "output_type": "stream",
     "text": [
      " 25%|█████████▍                            | 4692/18901 [00:56<02:23, 98.83it/s]"
     ]
    },
    {
     "name": "stdout",
     "output_type": "stream",
     "text": [
      "state/data/12/btv1b9000245k/f14.transc.xml list index out of range\n"
     ]
    },
    {
     "name": "stderr",
     "output_type": "stream",
     "text": [
      " 25%|█████████▏                           | 4724/18901 [00:56<02:19, 101.83it/s]"
     ]
    },
    {
     "name": "stdout",
     "output_type": "stream",
     "text": [
      "state/data/12/btv1b9000248t/f16.transc.xml list index out of range\n",
      "state/data/12/btv1b9000250w/f13.transc.xml list index out of range\n"
     ]
    },
    {
     "name": "stderr",
     "output_type": "stream",
     "text": [
      " 25%|█████████▎                           | 4758/18901 [00:57<02:18, 101.93it/s]"
     ]
    },
    {
     "name": "stdout",
     "output_type": "stream",
     "text": [
      "state/data/12/btv1b90002519/f12.transc.xml list index out of range\n",
      "state/data/12/btv1b9000252q/f12.transc.xml list index out of range\n"
     ]
    },
    {
     "name": "stderr",
     "output_type": "stream",
     "text": [
      " 25%|█████████▎                           | 4781/18901 [00:57<02:17, 102.77it/s]"
     ]
    },
    {
     "name": "stdout",
     "output_type": "stream",
     "text": [
      "state/data/12/btv1b90002534/f18.transc.xml list index out of range\n",
      "state/data/12/btv1b9000254j/f19.transc.xml Document is empty, line 1, column 1 (f19.transc.xml, line 1)\n"
     ]
    },
    {
     "name": "stderr",
     "output_type": "stream",
     "text": [
      " 26%|█████████▍                           | 4827/18901 [00:57<02:12, 106.23it/s]"
     ]
    },
    {
     "name": "stdout",
     "output_type": "stream",
     "text": [
      "state/data/12/btv1b9000259m/f11.transc.xml list index out of range\n"
     ]
    },
    {
     "name": "stderr",
     "output_type": "stream",
     "text": [
      " 26%|█████████▊                            | 4859/18901 [00:58<02:24, 97.03it/s]"
     ]
    },
    {
     "name": "stdout",
     "output_type": "stream",
     "text": [
      "state/data/12/btv1b90002623/f14.transc.xml list index out of range\n"
     ]
    },
    {
     "name": "stderr",
     "output_type": "stream",
     "text": [
      " 26%|█████████▊                           | 4981/18901 [00:59<02:19, 100.14it/s]"
     ]
    },
    {
     "name": "stdout",
     "output_type": "stream",
     "text": [
      "state/data/12/btv1b90002749/f15.transc.xml Document is empty, line 1, column 1 (f15.transc.xml, line 1)\n",
      "state/data/12/btv1b9000275q/f12.transc.xml Document is empty, line 1, column 1 (f12.transc.xml, line 1)\n"
     ]
    },
    {
     "name": "stderr",
     "output_type": "stream",
     "text": [
      " 27%|██████████                            | 5033/18901 [01:00<02:33, 90.49it/s]"
     ]
    },
    {
     "name": "stdout",
     "output_type": "stream",
     "text": [
      "state/data/12/btv1b90002801/f14.transc.xml list index out of range\n",
      "state/data/12/btv1b90002801/f17.transc.xml list index out of range\n"
     ]
    },
    {
     "name": "stderr",
     "output_type": "stream",
     "text": [
      " 27%|██████████▎                           | 5136/18901 [01:01<02:31, 90.78it/s]"
     ]
    },
    {
     "name": "stdout",
     "output_type": "stream",
     "text": [
      "state/data/12/btv1b9000290d/f14.transc.xml list index out of range\n"
     ]
    },
    {
     "name": "stderr",
     "output_type": "stream",
     "text": [
      " 27%|██████████▍                           | 5187/18901 [01:01<02:32, 89.73it/s]"
     ]
    },
    {
     "name": "stdout",
     "output_type": "stream",
     "text": [
      "state/data/12/btv1b9000296w/f18.transc.xml list index out of range\n"
     ]
    },
    {
     "name": "stderr",
     "output_type": "stream",
     "text": [
      " 28%|██████████▌                           | 5229/18901 [01:02<02:20, 97.37it/s]"
     ]
    },
    {
     "name": "stdout",
     "output_type": "stream",
     "text": [
      "state/data/12/btv1b9000683n/f20.transc.xml list index out of range\n",
      "state/data/12/btv1b90006894/f14.transc.xml list index out of range\n",
      "state/data/12/btv1b90006894/f20.transc.xml list index out of range\n"
     ]
    },
    {
     "name": "stderr",
     "output_type": "stream",
     "text": [
      " 28%|██████████▌                           | 5270/18901 [01:02<02:26, 92.85it/s]"
     ]
    },
    {
     "name": "stdout",
     "output_type": "stream",
     "text": [
      "state/data/12/btv1b90011266/f40.transc.xml list index out of range\n",
      "state/data/12/btv1b90011266/f41.transc.xml list index out of range\n",
      "state/data/12/btv1b90011266/f44.transc.xml Document is empty, line 1, column 1 (f44.transc.xml, line 1)\n"
     ]
    },
    {
     "name": "stderr",
     "output_type": "stream",
     "text": [
      " 28%|██████████▋                           | 5332/18901 [01:03<02:45, 81.82it/s]"
     ]
    },
    {
     "name": "stdout",
     "output_type": "stream",
     "text": [
      "state/data/12/btv1b9065971p/f32.transc.xml Document is empty, line 1, column 1 (f32.transc.xml, line 1)\n",
      "state/data/12/btv1b9065971p/f35.transc.xml Document is empty, line 1, column 1 (f35.transc.xml, line 1)\n"
     ]
    },
    {
     "name": "stderr",
     "output_type": "stream",
     "text": [
      " 28%|██████████▊                           | 5349/18901 [01:03<04:18, 52.33it/s]"
     ]
    },
    {
     "name": "stdout",
     "output_type": "stream",
     "text": [
      "state/data/12/btv1b9066062x/f17.transc.xml Document is empty, line 1, column 1 (f17.transc.xml, line 1)\n"
     ]
    },
    {
     "name": "stderr",
     "output_type": "stream",
     "text": [
      " 30%|███████████▏                          | 5579/18901 [01:08<04:54, 45.29it/s]"
     ]
    },
    {
     "name": "stdout",
     "output_type": "stream",
     "text": [
      "state/data/12/btv1b9076492q/f12.transc.xml Document is empty, line 1, column 1 (f12.transc.xml, line 1)\n"
     ]
    },
    {
     "name": "stderr",
     "output_type": "stream",
     "text": [
      " 30%|███████████▏                          | 5589/18901 [01:09<06:38, 33.44it/s]"
     ]
    },
    {
     "name": "stdout",
     "output_type": "stream",
     "text": [
      "state/data/12/btv1b9076492q/f19.transc.xml Document is empty, line 1, column 1 (f19.transc.xml, line 1)\n"
     ]
    },
    {
     "name": "stderr",
     "output_type": "stream",
     "text": [
      " 32%|███████████▉                          | 5968/18901 [01:17<02:38, 81.73it/s]"
     ]
    },
    {
     "name": "stdout",
     "output_type": "stream",
     "text": [
      "state/data/13/btv1b100328740/f45.transc.xml list index out of range\n",
      "state/data/13/btv1b10032884d/f47.transc.xml list index out of range\n",
      "state/data/13/btv1b10032884d/f52.transc.xml list index out of range\n"
     ]
    },
    {
     "name": "stderr",
     "output_type": "stream",
     "text": [
      " 32%|████████████                          | 6003/18901 [01:17<02:19, 92.17it/s]"
     ]
    },
    {
     "name": "stdout",
     "output_type": "stream",
     "text": [
      "state/data/13/btv1b10032892x/f54.transc.xml list index out of range\n"
     ]
    },
    {
     "name": "stderr",
     "output_type": "stream",
     "text": [
      " 32%|███████████▊                         | 6035/18901 [01:17<01:58, 108.84it/s]"
     ]
    },
    {
     "name": "stdout",
     "output_type": "stream",
     "text": [
      "state/data/13/btv1b10033016q/f44.transc.xml list index out of range\n",
      "state/data/13/btv1b10033032r/f13.transc.xml list index out of range\n",
      "state/data/13/btv1b10033032r/f18.transc.xml list index out of range\n",
      "state/data/13/btv1b10033032r/f20.transc.xml list index out of range\n"
     ]
    },
    {
     "name": "stderr",
     "output_type": "stream",
     "text": [
      " 32%|████████████▏                         | 6058/18901 [01:18<04:11, 50.98it/s]"
     ]
    },
    {
     "name": "stdout",
     "output_type": "stream",
     "text": [
      "state/data/13/btv1b10033356h/f47.transc.xml Document is empty, line 1, column 1 (f47.transc.xml, line 1)\n"
     ]
    },
    {
     "name": "stderr",
     "output_type": "stream",
     "text": [
      " 32%|████████████▏                         | 6091/18901 [01:19<03:50, 55.49it/s]"
     ]
    },
    {
     "name": "stdout",
     "output_type": "stream",
     "text": [
      "state/data/13/btv1b100334078/f1.transc.xml list index out of range\n",
      "state/data/13/btv1b100334792/f35.transc.xml list index out of range\n"
     ]
    },
    {
     "name": "stderr",
     "output_type": "stream",
     "text": [
      " 32%|████████████▎                         | 6112/18901 [01:19<03:07, 68.08it/s]"
     ]
    },
    {
     "name": "stdout",
     "output_type": "stream",
     "text": [
      "state/data/13/btv1b100334792/f40.transc.xml list index out of range\n"
     ]
    },
    {
     "name": "stderr",
     "output_type": "stream",
     "text": [
      " 33%|████████████                         | 6186/18901 [01:20<02:03, 102.72it/s]"
     ]
    },
    {
     "name": "stdout",
     "output_type": "stream",
     "text": [
      "state/data/13/btv1b100340162/f54.transc.xml list index out of range\n",
      "state/data/13/btv1b100340162/f55.transc.xml list index out of range\n",
      "state/data/13/btv1b10034060f/f51.transc.xml list index out of range\n",
      "state/data/13/btv1b10034074n/f21.transc.xml list index out of range\n"
     ]
    },
    {
     "name": "stderr",
     "output_type": "stream",
     "text": [
      " 33%|████████████▏                        | 6228/18901 [01:20<01:26, 146.19it/s]"
     ]
    },
    {
     "name": "stdout",
     "output_type": "stream",
     "text": [
      "state/data/13/btv1b10034090p/f47.transc.xml list index out of range\n",
      "state/data/13/btv1b100341205/f24.transc.xml list index out of range\n",
      "state/data/13/btv1b10034137q/f61.transc.xml Document is empty, line 1, column 1 (f61.transc.xml, line 1)\n",
      "state/data/13/btv1b10034139m/f56.transc.xml list index out of range\n"
     ]
    },
    {
     "name": "stderr",
     "output_type": "stream",
     "text": [
      " 33%|████████████▎                        | 6283/18901 [01:20<00:59, 210.61it/s]"
     ]
    },
    {
     "name": "stdout",
     "output_type": "stream",
     "text": [
      "state/data/13/btv1b100341400/f58.transc.xml list index out of range\n",
      "state/data/13/btv1b100341400/f66.transc.xml list index out of range\n",
      "state/data/13/btv1b10034142w/f43.transc.xml list index out of range\n",
      "state/data/13/btv1b10034142w/f45.transc.xml list index out of range\n",
      "state/data/13/btv1b10034142w/f47.transc.xml Document is empty, line 1, column 1 (f47.transc.xml, line 1)\n",
      "state/data/13/btv1b10034143b/f56.transc.xml list index out of range\n",
      "state/data/13/btv1b10034143b/f58.transc.xml list index out of range\n",
      "state/data/13/btv1b10034143b/f60.transc.xml list index out of range\n",
      "state/data/13/btv1b10034144s/f40.transc.xml Document is empty, line 1, column 1 (f40.transc.xml, line 1)\n",
      "state/data/13/btv1b10034144s/f45.transc.xml list index out of range\n",
      "state/data/13/btv1b10034144s/f47.transc.xml list index out of range\n",
      "state/data/13/btv1b100341457/f49.transc.xml list index out of range\n",
      "state/data/13/btv1b100341457/f55.transc.xml list index out of range\n",
      "state/data/13/btv1b10034148k/f44.transc.xml list index out of range\n",
      "state/data/13/btv1b10034148k/f45.transc.xml list index out of range\n",
      "state/data/13/btv1b10034148k/f46.transc.xml list index out of range\n"
     ]
    },
    {
     "name": "stderr",
     "output_type": "stream",
     "text": [
      " 34%|████████████▍                        | 6333/18901 [01:21<00:57, 218.18it/s]"
     ]
    },
    {
     "name": "stdout",
     "output_type": "stream",
     "text": [
      "state/data/13/btv1b100341580/f41.transc.xml list index out of range\n",
      "state/data/13/btv1b100341580/f45.transc.xml list index out of range\n",
      "state/data/13/btv1b100341580/f47.transc.xml list index out of range\n",
      "state/data/13/btv1b10034160t/f45.transc.xml list index out of range\n",
      "state/data/13/btv1b10034160t/f47.transc.xml list index out of range\n",
      "state/data/13/btv1b10034160t/f48.transc.xml list index out of range\n",
      "state/data/13/btv1b100341618/f47.transc.xml list index out of range\n",
      "state/data/13/btv1b100341618/f55.transc.xml list index out of range\n",
      "state/data/13/btv1b10034162q/f63.transc.xml list index out of range\n",
      "state/data/13/btv1b10034162q/f64.transc.xml list index out of range\n",
      "state/data/13/btv1b10034162q/f69.transc.xml list index out of range\n"
     ]
    },
    {
     "name": "stderr",
     "output_type": "stream",
     "text": [
      "\r",
      " 34%|████████████▍                        | 6356/18901 [01:21<01:03, 198.58it/s]"
     ]
    },
    {
     "name": "stdout",
     "output_type": "stream",
     "text": [
      "state/data/13/btv1b100341635/f48.transc.xml list index out of range\n",
      "state/data/13/btv1b100341635/f49.transc.xml list index out of range\n"
     ]
    },
    {
     "name": "stderr",
     "output_type": "stream",
     "text": [
      "\r",
      " 34%|████████████▍                        | 6377/18901 [01:21<01:59, 104.65it/s]"
     ]
    },
    {
     "name": "stdout",
     "output_type": "stream",
     "text": [
      "state/data/13/btv1b10034527t/f18.transc.xml list index out of range\n",
      "state/data/13/btv1b10034527t/f19.transc.xml list index out of range\n",
      "state/data/13/btv1b10034527t/f20.transc.xml list index out of range\n"
     ]
    },
    {
     "name": "stderr",
     "output_type": "stream",
     "text": [
      " 34%|████████████▉                         | 6438/18901 [01:22<03:14, 63.93it/s]"
     ]
    },
    {
     "name": "stdout",
     "output_type": "stream",
     "text": [
      "state/data/13/btv1b10035091g/f19.transc.xml list index out of range\n",
      "state/data/13/btv1b10035091g/f20.transc.xml list index out of range\n",
      "state/data/13/btv1b10035091g/f21.transc.xml list index out of range\n",
      "state/data/13/btv1b10035091g/f22.transc.xml list index out of range\n",
      "state/data/13/btv1b10035091g/f23.transc.xml list index out of range\n",
      "state/data/13/btv1b10035091g/f24.transc.xml list index out of range\n",
      "state/data/13/btv1b10035091g/f25.transc.xml list index out of range\n",
      "state/data/13/btv1b10035091g/f26.transc.xml list index out of range\n",
      "state/data/13/btv1b10035091g/f27.transc.xml list index out of range\n"
     ]
    },
    {
     "name": "stderr",
     "output_type": "stream",
     "text": [
      " 34%|█████████████                         | 6473/18901 [01:23<03:21, 61.78it/s]"
     ]
    },
    {
     "name": "stdout",
     "output_type": "stream",
     "text": [
      "state/data/13/btv1b100353549/f70.transc.xml Document is empty, line 1, column 1 (f70.transc.xml, line 1)\n"
     ]
    },
    {
     "name": "stderr",
     "output_type": "stream",
     "text": [
      " 35%|█████████████▎                        | 6609/18901 [01:26<03:00, 67.91it/s]"
     ]
    },
    {
     "name": "stdout",
     "output_type": "stream",
     "text": [
      "state/data/13/btv1b10036386s/f16.transc.xml list index out of range\n"
     ]
    },
    {
     "name": "stderr",
     "output_type": "stream",
     "text": [
      " 36%|█████████████▍                        | 6714/18901 [01:28<04:16, 47.52it/s]"
     ]
    },
    {
     "name": "stdout",
     "output_type": "stream",
     "text": [
      "state/data/13/btv1b10036981t/f15.transc.xml Document is empty, line 1, column 1 (f15.transc.xml, line 1)\n"
     ]
    },
    {
     "name": "stderr",
     "output_type": "stream",
     "text": [
      " 36%|█████████████▌                        | 6737/18901 [01:29<04:13, 47.97it/s]"
     ]
    },
    {
     "name": "stdout",
     "output_type": "stream",
     "text": [
      "state/data/13/btv1b10036997x/f26.transc.xml list index out of range\n"
     ]
    },
    {
     "name": "stderr",
     "output_type": "stream",
     "text": [
      " 37%|█████████████▉                        | 6917/18901 [01:34<04:00, 49.84it/s]"
     ]
    },
    {
     "name": "stdout",
     "output_type": "stream",
     "text": [
      "state/data/13/btv1b10039047g/f13.transc.xml list index out of range\n",
      "state/data/13/btv1b10039047g/f19.transc.xml Document is empty, line 1, column 1 (f19.transc.xml, line 1)\n"
     ]
    },
    {
     "name": "stderr",
     "output_type": "stream",
     "text": [
      " 37%|█████████████▉                        | 6928/18901 [01:34<04:20, 45.91it/s]"
     ]
    },
    {
     "name": "stdout",
     "output_type": "stream",
     "text": [
      "state/data/13/btv1b100390516/f17.transc.xml Document is empty, line 1, column 1 (f17.transc.xml, line 1)\n"
     ]
    },
    {
     "name": "stderr",
     "output_type": "stream",
     "text": [
      " 37%|██████████████                        | 6998/18901 [01:36<04:07, 48.07it/s]"
     ]
    },
    {
     "name": "stdout",
     "output_type": "stream",
     "text": [
      "state/data/13/btv1b10039183q/f27.transc.xml Document is empty, line 1, column 1 (f27.transc.xml, line 1)\n"
     ]
    },
    {
     "name": "stderr",
     "output_type": "stream",
     "text": [
      " 37%|██████████████▏                       | 7066/18901 [01:38<04:44, 41.58it/s]"
     ]
    },
    {
     "name": "stdout",
     "output_type": "stream",
     "text": [
      "state/data/13/btv1b10039245b/f26.transc.xml Document is empty, line 1, column 1 (f26.transc.xml, line 1)\n"
     ]
    },
    {
     "name": "stderr",
     "output_type": "stream",
     "text": [
      " 38%|██████████████▎                       | 7123/18901 [01:39<02:19, 84.39it/s]"
     ]
    },
    {
     "name": "stdout",
     "output_type": "stream",
     "text": [
      "state/data/13/btv1b10084181n/f27.transc.xml list index out of range\n",
      "state/data/13/btv1b10084181n/f29.transc.xml list index out of range\n",
      "state/data/13/btv1b10085419t/f39.transc.xml list index out of range\n",
      "state/data/13/btv1b105065252/f18.transc.xml list index out of range\n",
      "state/data/13/btv1b105065252/f20.transc.xml list index out of range\n",
      "state/data/13/btv1b105065252/f22.transc.xml list index out of range\n",
      "state/data/13/btv1b105065252/f24.transc.xml list index out of range\n",
      "state/data/13/btv1b10506563t/f11.transc.xml list index out of range\n",
      "state/data/13/btv1b10506563t/f19.transc.xml list index out of range\n"
     ]
    },
    {
     "name": "stderr",
     "output_type": "stream",
     "text": [
      " 38%|██████████████                       | 7180/18901 [01:39<01:34, 124.53it/s]"
     ]
    },
    {
     "name": "stdout",
     "output_type": "stream",
     "text": [
      "state/data/13/btv1b10509685z/f11.transc.xml list index out of range\n"
     ]
    },
    {
     "name": "stderr",
     "output_type": "stream",
     "text": [
      " 40%|███████████████                       | 7511/18901 [01:44<03:10, 59.78it/s]"
     ]
    },
    {
     "name": "stdout",
     "output_type": "stream",
     "text": [
      "state/data/13/btv1b525025038/f15.transc.xml list index out of range\n"
     ]
    },
    {
     "name": "stderr",
     "output_type": "stream",
     "text": [
      " 40%|███████████████▍                      | 7653/18901 [01:46<01:56, 96.47it/s]"
     ]
    },
    {
     "name": "stdout",
     "output_type": "stream",
     "text": [
      "state/data/13/btv1b530121530/f90.transc.xml list index out of range\n"
     ]
    },
    {
     "name": "stderr",
     "output_type": "stream",
     "text": [
      " 41%|███████████████▌                      | 7759/18901 [01:47<01:55, 96.87it/s]"
     ]
    },
    {
     "name": "stdout",
     "output_type": "stream",
     "text": [
      "state/data/13/btv1b84192440/f49.transc.xml list index out of range\n"
     ]
    },
    {
     "name": "stderr",
     "output_type": "stream",
     "text": [
      " 41%|███████████████▎                     | 7843/18901 [01:48<01:38, 112.14it/s]"
     ]
    },
    {
     "name": "stdout",
     "output_type": "stream",
     "text": [
      "state/data/13/btv1b8449036k/f18.transc.xml list index out of range\n"
     ]
    },
    {
     "name": "stderr",
     "output_type": "stream",
     "text": [
      " 42%|███████████████▌                     | 7942/18901 [01:49<01:30, 120.55it/s]"
     ]
    },
    {
     "name": "stdout",
     "output_type": "stream",
     "text": [
      "state/data/13/btv1b9000723q/f25.transc.xml Document is empty, line 1, column 1 (f25.transc.xml, line 1)\n",
      "state/data/13/btv1b9000723q/f33.transc.xml list index out of range\n",
      "state/data/13/btv1b9000723q/f34.transc.xml list index out of range\n",
      "state/data/13/btv1b9001002f/f11.transc.xml list index out of range\n",
      "state/data/13/btv1b9001002f/f13.transc.xml list index out of range\n"
     ]
    },
    {
     "name": "stderr",
     "output_type": "stream",
     "text": [
      "\r",
      " 42%|███████████████▌                     | 7956/18901 [01:49<01:40, 109.19it/s]"
     ]
    },
    {
     "name": "stdout",
     "output_type": "stream",
     "text": [
      "state/data/13/btv1b9001104m/f44.transc.xml list index out of range\n",
      "state/data/13/btv1b90011214/f42.transc.xml list index out of range\n"
     ]
    },
    {
     "name": "stderr",
     "output_type": "stream",
     "text": [
      " 42%|████████████████                      | 7979/18901 [01:50<02:03, 88.28it/s]"
     ]
    },
    {
     "name": "stdout",
     "output_type": "stream",
     "text": [
      "state/data/13/btv1b90011444/f26.transc.xml list index out of range\n"
     ]
    },
    {
     "name": "stderr",
     "output_type": "stream",
     "text": [
      " 44%|████████████████▌                     | 8247/18901 [01:55<03:10, 55.86it/s]"
     ]
    },
    {
     "name": "stdout",
     "output_type": "stream",
     "text": [
      "state/data/13/btv1b90588354/f70.transc.xml Document is empty, line 1, column 1 (f70.transc.xml, line 1)\n"
     ]
    },
    {
     "name": "stderr",
     "output_type": "stream",
     "text": [
      " 46%|█████████████████▎                    | 8620/18901 [02:03<02:55, 58.52it/s]"
     ]
    },
    {
     "name": "stdout",
     "output_type": "stream",
     "text": [
      "state/data/13/btv1b9060747s/f11.transc.xml list index out of range\n",
      "state/data/13/btv1b9060747s/f12.transc.xml list index out of range\n"
     ]
    },
    {
     "name": "stderr",
     "output_type": "stream",
     "text": [
      " 47%|█████████████████▏                   | 8807/18901 [02:06<01:37, 103.79it/s]"
     ]
    },
    {
     "name": "stdout",
     "output_type": "stream",
     "text": [
      "state/data/13/btv1b90621265/f36.transc.xml list index out of range\n",
      "state/data/13/btv1b9062258g/f33.transc.xml list index out of range\n",
      "state/data/13/btv1b9062258g/f35.transc.xml list index out of range\n",
      "state/data/13/btv1b9062258g/f36.transc.xml list index out of range\n"
     ]
    },
    {
     "name": "stderr",
     "output_type": "stream",
     "text": [
      " 47%|█████████████████▊                    | 8851/18901 [02:07<03:35, 46.67it/s]"
     ]
    },
    {
     "name": "stdout",
     "output_type": "stream",
     "text": [
      "state/data/13/btv1b9063140r/f32.transc.xml list index out of range\n"
     ]
    },
    {
     "name": "stderr",
     "output_type": "stream",
     "text": [
      " 48%|██████████████████                    | 8987/18901 [02:10<04:05, 40.46it/s]"
     ]
    },
    {
     "name": "stdout",
     "output_type": "stream",
     "text": [
      "state/data/13/btv1b9066127t/f43.transc.xml list index out of range\n",
      "state/data/13/btv1b9066127t/f44.transc.xml list index out of range\n"
     ]
    },
    {
     "name": "stderr",
     "output_type": "stream",
     "text": [
      " 48%|██████████████████▎                   | 9134/18901 [02:16<05:00, 32.45it/s]"
     ]
    },
    {
     "name": "stdout",
     "output_type": "stream",
     "text": [
      "state/data/13/btv1b90672440/f38.transc.xml list index out of range\n",
      "state/data/13/btv1b90672440/f39.transc.xml list index out of range\n"
     ]
    },
    {
     "name": "stderr",
     "output_type": "stream",
     "text": [
      " 48%|██████████████████▍                   | 9160/18901 [02:16<05:26, 29.87it/s]"
     ]
    },
    {
     "name": "stdout",
     "output_type": "stream",
     "text": [
      "state/data/13/btv1b90672744/f29.transc.xml list index out of range\n",
      "state/data/13/btv1b90672744/f30.transc.xml list index out of range\n",
      "state/data/13/btv1b9067774v/f13.transc.xml Document is empty, line 1, column 1 (f13.transc.xml, line 1)\n"
     ]
    },
    {
     "name": "stderr",
     "output_type": "stream",
     "text": [
      " 49%|██████████████████▋                   | 9270/18901 [02:20<04:22, 36.63it/s]"
     ]
    },
    {
     "name": "stdout",
     "output_type": "stream",
     "text": [
      "state/data/13/btv1b9076603d/f40.transc.xml list index out of range\n"
     ]
    },
    {
     "name": "stderr",
     "output_type": "stream",
     "text": [
      " 50%|██████████████████▊                   | 9366/18901 [02:22<04:00, 39.62it/s]"
     ]
    },
    {
     "name": "stdout",
     "output_type": "stream",
     "text": [
      "state/data/13/btv1b90770042/f1.transc.xml list index out of range\n",
      "state/data/13/btv1b90770042/f2.transc.xml list index out of range\n"
     ]
    },
    {
     "name": "stderr",
     "output_type": "stream",
     "text": [
      " 50%|██████████████████▊                   | 9378/18901 [02:22<03:43, 42.53it/s]"
     ]
    },
    {
     "name": "stdout",
     "output_type": "stream",
     "text": [
      "state/data/13/btv1b9077722d/f18.transc.xml list index out of range\n",
      "state/data/13/btv1b9077722d/f20.transc.xml list index out of range\n"
     ]
    },
    {
     "name": "stderr",
     "output_type": "stream",
     "text": [
      " 50%|███████████████████                   | 9473/18901 [02:25<04:18, 36.43it/s]"
     ]
    },
    {
     "name": "stdout",
     "output_type": "stream",
     "text": [
      "state/data/13/btv1b9078043g/f11.transc.xml list index out of range\n",
      "state/data/13/btv1b9078043g/f12.transc.xml Document is empty, line 1, column 1 (f12.transc.xml, line 1)\n",
      "state/data/13/btv1b9078043g/f14.transc.xml Document is empty, line 1, column 1 (f14.transc.xml, line 1)\n"
     ]
    },
    {
     "name": "stderr",
     "output_type": "stream",
     "text": [
      " 52%|███████████████████▌                  | 9739/18901 [02:32<02:50, 53.75it/s]"
     ]
    },
    {
     "name": "stdout",
     "output_type": "stream",
     "text": [
      "state/data/14/btv1b10032672b/f55.transc.xml list index out of range\n",
      "state/data/14/btv1b10032672b/f56.transc.xml list index out of range\n",
      "state/data/14/btv1b10032672b/f61.transc.xml list index out of range\n",
      "state/data/14/btv1b10032672b/f62.transc.xml list index out of range\n"
     ]
    },
    {
     "name": "stderr",
     "output_type": "stream",
     "text": [
      " 53%|███████████████████▉                  | 9933/18901 [02:36<01:53, 78.69it/s]"
     ]
    },
    {
     "name": "stdout",
     "output_type": "stream",
     "text": [
      "state/data/14/btv1b10034757t/f23.transc.xml list index out of range\n",
      "state/data/14/btv1b10034761j/f34.transc.xml list index out of range\n",
      "state/data/14/btv1b10034761j/f35.transc.xml list index out of range\n",
      "state/data/14/btv1b10034761j/f36.transc.xml list index out of range\n"
     ]
    },
    {
     "name": "stderr",
     "output_type": "stream",
     "text": [
      " 53%|████████████████████                  | 9976/18901 [02:37<02:54, 51.11it/s]"
     ]
    },
    {
     "name": "stdout",
     "output_type": "stream",
     "text": [
      "state/data/14/btv1b100359284/f30.transc.xml Document is empty, line 1, column 1 (f30.transc.xml, line 1)\n"
     ]
    },
    {
     "name": "stderr",
     "output_type": "stream",
     "text": [
      " 54%|███████████████████▊                 | 10138/18901 [02:41<05:49, 25.07it/s]"
     ]
    },
    {
     "name": "stdout",
     "output_type": "stream",
     "text": [
      "state/data/14/btv1b10037257z/f20.transc.xml Document is empty, line 1, column 1 (f20.transc.xml, line 1)\n"
     ]
    },
    {
     "name": "stderr",
     "output_type": "stream",
     "text": [
      " 54%|███████████████████▉                 | 10191/18901 [02:41<01:32, 93.83it/s]"
     ]
    },
    {
     "name": "stdout",
     "output_type": "stream",
     "text": [
      "state/data/14/btv1b10037615x/f28.transc.xml list index out of range\n",
      "state/data/14/btv1b10037615x/f29.transc.xml list index out of range\n",
      "state/data/14/btv1b10037615x/f30.transc.xml list index out of range\n",
      "state/data/14/btv1b10037615x/f31.transc.xml list index out of range\n",
      "state/data/14/btv1b100376650/f30.transc.xml list index out of range\n",
      "state/data/14/btv1b100379313/f24.transc.xml list index out of range\n",
      "state/data/14/btv1b100379313/f28.transc.xml list index out of range\n"
     ]
    },
    {
     "name": "stderr",
     "output_type": "stream",
     "text": [
      "\r",
      " 54%|███████████████████▉                 | 10203/18901 [02:41<01:52, 77.09it/s]"
     ]
    },
    {
     "name": "stdout",
     "output_type": "stream",
     "text": [
      "state/data/14/btv1b10038203f/f43.transc.xml Document is empty, line 1, column 1 (f43.transc.xml, line 1)\n"
     ]
    },
    {
     "name": "stderr",
     "output_type": "stream",
     "text": [
      " 54%|████████████████████                 | 10258/18901 [02:43<03:35, 40.07it/s]"
     ]
    },
    {
     "name": "stdout",
     "output_type": "stream",
     "text": [
      "state/data/14/btv1b10038540w/f19.transc.xml list index out of range\n"
     ]
    },
    {
     "name": "stderr",
     "output_type": "stream",
     "text": [
      " 55%|████████████████████▎                | 10350/18901 [02:46<01:59, 71.81it/s]"
     ]
    },
    {
     "name": "stdout",
     "output_type": "stream",
     "text": [
      "state/data/14/btv1b10038963k/f1.transc.xml list index out of range\n",
      "state/data/14/btv1b10038963k/f2.transc.xml list index out of range\n",
      "state/data/14/btv1b10038963k/f4.transc.xml list index out of range\n",
      "state/data/14/btv1b10080062h/f29.transc.xml list index out of range\n"
     ]
    },
    {
     "name": "stderr",
     "output_type": "stream",
     "text": [
      " 55%|███████████████████▊                | 10409/18901 [02:46<00:47, 180.32it/s]"
     ]
    },
    {
     "name": "stdout",
     "output_type": "stream",
     "text": [
      "state/data/14/btv1b10080065v/f44.transc.xml list index out of range\n",
      "state/data/14/btv1b10080065v/f46.transc.xml list index out of range\n",
      "state/data/14/btv1b10080065v/f48.transc.xml list index out of range\n",
      "state/data/14/btv1b10080065v/f49.transc.xml list index out of range\n",
      "state/data/14/btv1b100800669/f44.transc.xml list index out of range\n",
      "state/data/14/btv1b100800758/f39.transc.xml list index out of range\n",
      "state/data/14/btv1b100800758/f40.transc.xml list index out of range\n",
      "state/data/14/btv1b100800758/f44.transc.xml list index out of range\n",
      "state/data/14/btv1b100800864/f34.transc.xml list index out of range\n",
      "state/data/14/btv1b100800864/f40.transc.xml list index out of range\n",
      "state/data/14/btv1b10080087k/f39.transc.xml list index out of range\n",
      "state/data/14/btv1b10080087k/f41.transc.xml list index out of range\n",
      "state/data/14/btv1b10080087k/f44.transc.xml list index out of range\n",
      "state/data/14/btv1b10080087k/f48.transc.xml list index out of range\n",
      "state/data/14/btv1b100800919/f29.transc.xml list index out of range\n"
     ]
    },
    {
     "name": "stderr",
     "output_type": "stream",
     "text": [
      " 55%|███████████████████▉                | 10452/18901 [02:46<00:48, 175.24it/s]"
     ]
    },
    {
     "name": "stdout",
     "output_type": "stream",
     "text": [
      "state/data/14/btv1b100800919/f35.transc.xml list index out of range\n",
      "state/data/14/btv1b100800919/f36.transc.xml list index out of range\n",
      "state/data/14/btv1b100800919/f37.transc.xml list index out of range\n",
      "state/data/14/btv1b100800919/f38.transc.xml list index out of range\n",
      "state/data/14/btv1b10080121s/f43.transc.xml list index out of range\n",
      "state/data/14/btv1b10080121s/f48.transc.xml list index out of range\n",
      "state/data/14/btv1b10080121s/f49.transc.xml list index out of range\n",
      "state/data/14/btv1b100801511/f41.transc.xml list index out of range\n",
      "state/data/14/btv1b10080163b/f28.transc.xml list index out of range\n",
      "state/data/14/btv1b10080163b/f31.transc.xml list index out of range\n",
      "state/data/14/btv1b10080163b/f32.transc.xml list index out of range\n",
      "state/data/14/btv1b100802986/f20.transc.xml list index out of range\n",
      "state/data/14/btv1b100802986/f22.transc.xml list index out of range\n",
      "state/data/14/btv1b100802986/f23.transc.xml list index out of range\n",
      "state/data/14/btv1b100802986/f24.transc.xml list index out of range\n",
      "state/data/14/btv1b100802986/f26.transc.xml list index out of range\n",
      "state/data/14/btv1b100802986/f27.transc.xml list index out of range\n"
     ]
    },
    {
     "name": "stderr",
     "output_type": "stream",
     "text": [
      "\r",
      " 55%|███████████████████▉                | 10473/18901 [02:46<00:52, 159.10it/s]"
     ]
    },
    {
     "name": "stdout",
     "output_type": "stream",
     "text": [
      "state/data/14/btv1b100805075/f22.transc.xml list index out of range\n"
     ]
    },
    {
     "name": "stderr",
     "output_type": "stream",
     "text": [
      "\r",
      " 56%|███████████████████▉                | 10491/18901 [02:47<01:01, 136.39it/s]"
     ]
    },
    {
     "name": "stdout",
     "output_type": "stream",
     "text": [
      "state/data/14/btv1b100806726/f25.transc.xml list index out of range\n",
      "state/data/14/btv1b100806726/f32.transc.xml list index out of range\n",
      "state/data/14/btv1b100806726/f33.transc.xml list index out of range\n",
      "state/data/14/btv1b100806726/f34.transc.xml list index out of range\n"
     ]
    },
    {
     "name": "stderr",
     "output_type": "stream",
     "text": [
      " 56%|████████████████████                | 10549/18901 [02:47<01:05, 126.80it/s]"
     ]
    },
    {
     "name": "stdout",
     "output_type": "stream",
     "text": [
      "state/data/14/btv1b100807803/f24.transc.xml list index out of range\n"
     ]
    },
    {
     "name": "stderr",
     "output_type": "stream",
     "text": [
      " 56%|████████████████████▏               | 10582/18901 [02:47<00:59, 138.99it/s]"
     ]
    },
    {
     "name": "stdout",
     "output_type": "stream",
     "text": [
      "state/data/14/btv1b100808111/f21.transc.xml list index out of range\n",
      "state/data/14/btv1b100808111/f23.transc.xml list index out of range\n",
      "state/data/14/btv1b100808111/f27.transc.xml list index out of range\n",
      "state/data/14/btv1b10080815t/f28.transc.xml list index out of range\n",
      "state/data/14/btv1b10080815t/f30.transc.xml list index out of range\n",
      "state/data/14/btv1b10080828k/f21.transc.xml list index out of range\n",
      "state/data/14/btv1b10080828k/f22.transc.xml list index out of range\n",
      "state/data/14/btv1b10080828k/f23.transc.xml list index out of range\n",
      "state/data/14/btv1b10080828k/f25.transc.xml list index out of range\n"
     ]
    },
    {
     "name": "stderr",
     "output_type": "stream",
     "text": [
      " 56%|████████████████████▏               | 10623/18901 [02:48<01:04, 128.32it/s]"
     ]
    },
    {
     "name": "stdout",
     "output_type": "stream",
     "text": [
      "state/data/14/btv1b10080846h/f28.transc.xml list index out of range\n",
      "state/data/14/btv1b10080846h/f29.transc.xml list index out of range\n",
      "state/data/14/btv1b10080848d/f31.transc.xml list index out of range\n",
      "state/data/14/btv1b10080848d/f36.transc.xml list index out of range\n"
     ]
    },
    {
     "name": "stderr",
     "output_type": "stream",
     "text": [
      "\r",
      " 56%|████████████████████▎               | 10638/18901 [02:48<01:15, 109.83it/s]"
     ]
    },
    {
     "name": "stdout",
     "output_type": "stream",
     "text": [
      "state/data/14/btv1b10080848d/f39.transc.xml list index out of range\n",
      "state/data/14/btv1b10080848d/f40.transc.xml list index out of range\n",
      "state/data/14/btv1b10080853k/f20.transc.xml list index out of range\n",
      "state/data/14/btv1b10080853k/f21.transc.xml list index out of range\n"
     ]
    },
    {
     "name": "stderr",
     "output_type": "stream",
     "text": [
      " 56%|████████████████████▎               | 10666/18901 [02:48<01:10, 116.38it/s]"
     ]
    },
    {
     "name": "stdout",
     "output_type": "stream",
     "text": [
      "state/data/14/btv1b10080853k/f25.transc.xml Document is empty, line 1, column 1 (f25.transc.xml, line 1)\n",
      "state/data/14/btv1b10080853k/f29.transc.xml list index out of range\n",
      "state/data/14/btv1b100808541/f34.transc.xml list index out of range\n",
      "state/data/14/btv1b10080869p/f24.transc.xml list index out of range\n",
      "state/data/14/btv1b10080869p/f25.transc.xml list index out of range\n",
      "state/data/14/btv1b10080869p/f26.transc.xml list index out of range\n",
      "state/data/14/btv1b10080869p/f27.transc.xml list index out of range\n",
      "state/data/14/btv1b10080869p/f29.transc.xml list index out of range\n"
     ]
    },
    {
     "name": "stderr",
     "output_type": "stream",
     "text": [
      " 57%|████████████████████▍               | 10731/18901 [02:48<00:46, 175.19it/s]"
     ]
    },
    {
     "name": "stdout",
     "output_type": "stream",
     "text": [
      "state/data/14/btv1b100808793/f24.transc.xml list index out of range\n",
      "state/data/14/btv1b100808793/f25.transc.xml list index out of range\n",
      "state/data/14/btv1b100808793/f28.transc.xml list index out of range\n",
      "state/data/14/btv1b100808793/f29.transc.xml list index out of range\n",
      "state/data/14/btv1b100808793/f31.transc.xml list index out of range\n",
      "state/data/14/btv1b100808865/f19.transc.xml list index out of range\n",
      "state/data/14/btv1b100808865/f20.transc.xml list index out of range\n",
      "state/data/14/btv1b100808865/f21.transc.xml list index out of range\n",
      "state/data/14/btv1b100808865/f28.transc.xml list index out of range\n",
      "state/data/14/btv1b10080887m/f29.transc.xml list index out of range\n",
      "state/data/14/btv1b10080887m/f31.transc.xml list index out of range\n",
      "state/data/14/btv1b10080887m/f34.transc.xml list index out of range\n"
     ]
    },
    {
     "name": "stderr",
     "output_type": "stream",
     "text": [
      " 57%|████████████████████▌               | 10777/18901 [02:49<00:43, 187.65it/s]"
     ]
    },
    {
     "name": "stdout",
     "output_type": "stream",
     "text": [
      "state/data/14/btv1b10080925m/f14.transc.xml list index out of range\n",
      "state/data/14/btv1b100810404/f28.transc.xml list index out of range\n",
      "state/data/14/btv1b100810478/f25.transc.xml list index out of range\n",
      "state/data/14/btv1b100810478/f30.transc.xml list index out of range\n",
      "state/data/14/btv1b100810478/f32.transc.xml list index out of range\n",
      "state/data/14/btv1b100810495/f32.transc.xml list index out of range\n"
     ]
    },
    {
     "name": "stderr",
     "output_type": "stream",
     "text": [
      "\r",
      " 57%|████████████████████▌               | 10797/18901 [02:49<01:04, 126.04it/s]"
     ]
    },
    {
     "name": "stdout",
     "output_type": "stream",
     "text": [
      "state/data/14/btv1b100810745/f36.transc.xml Document is empty, line 1, column 1 (f36.transc.xml, line 1)\n",
      "state/data/14/btv1b100810745/f38.transc.xml list index out of range\n",
      "state/data/14/btv1b100810745/f39.transc.xml list index out of range\n",
      "state/data/14/btv1b10081086g/f26.transc.xml list index out of range\n"
     ]
    },
    {
     "name": "stderr",
     "output_type": "stream",
     "text": [
      " 58%|████████████████████▋               | 10871/18901 [02:49<00:40, 197.99it/s]"
     ]
    },
    {
     "name": "stdout",
     "output_type": "stream",
     "text": [
      "state/data/14/btv1b10081172n/f26.transc.xml list index out of range\n",
      "state/data/14/btv1b10081177w/f29.transc.xml list index out of range\n",
      "state/data/14/btv1b100811968/f26.transc.xml list index out of range\n",
      "state/data/14/btv1b100811968/f27.transc.xml list index out of range\n",
      "state/data/14/btv1b100811968/f29.transc.xml list index out of range\n",
      "state/data/14/btv1b100811968/f30.transc.xml list index out of range\n",
      "state/data/14/btv1b100811968/f32.transc.xml list index out of range\n",
      "state/data/14/btv1b100811968/f35.transc.xml list index out of range\n",
      "state/data/14/btv1b10081206x/f23.transc.xml list index out of range\n",
      "state/data/14/btv1b10081206x/f24.transc.xml list index out of range\n"
     ]
    },
    {
     "name": "stderr",
     "output_type": "stream",
     "text": [
      " 58%|████████████████████▊               | 10914/18901 [02:50<00:49, 161.61it/s]"
     ]
    },
    {
     "name": "stdout",
     "output_type": "stream",
     "text": [
      "state/data/14/btv1b100812276/f19.transc.xml list index out of range\n",
      "state/data/14/btv1b10081233t/f24.transc.xml list index out of range\n"
     ]
    },
    {
     "name": "stderr",
     "output_type": "stream",
     "text": [
      " 58%|████████████████████▊               | 10957/18901 [02:50<00:46, 172.69it/s]"
     ]
    },
    {
     "name": "stdout",
     "output_type": "stream",
     "text": [
      "state/data/14/btv1b10081240w/f18.transc.xml list index out of range\n",
      "state/data/14/btv1b100813281/f21.transc.xml list index out of range\n",
      "state/data/14/btv1b100813281/f22.transc.xml list index out of range\n"
     ]
    },
    {
     "name": "stderr",
     "output_type": "stream",
     "text": [
      " 58%|████████████████████▉               | 10995/18901 [02:50<00:49, 159.12it/s]"
     ]
    },
    {
     "name": "stdout",
     "output_type": "stream",
     "text": [
      "state/data/14/btv1b10081427z/f24.transc.xml list index out of range\n",
      "state/data/14/btv1b10081487f/f30.transc.xml list index out of range\n",
      "state/data/14/btv1b100814932/f24.transc.xml list index out of range\n",
      "state/data/14/btv1b100814932/f26.transc.xml list index out of range\n"
     ]
    },
    {
     "name": "stderr",
     "output_type": "stream",
     "text": [
      " 59%|█████████████████████▏              | 11093/18901 [02:50<00:29, 268.59it/s]"
     ]
    },
    {
     "name": "stdout",
     "output_type": "stream",
     "text": [
      "state/data/14/btv1b10081620k/f40.transc.xml list index out of range\n",
      "state/data/14/btv1b10081620k/f43.transc.xml list index out of range\n",
      "state/data/14/btv1b100816211/f34.transc.xml list index out of range\n",
      "state/data/14/btv1b10081624c/f1.transc.xml list index out of range\n",
      "state/data/14/btv1b10081624c/f2.transc.xml list index out of range\n",
      "state/data/14/btv1b10081624c/f3.transc.xml list index out of range\n",
      "state/data/14/btv1b10081624c/f4.transc.xml list index out of range\n",
      "state/data/14/btv1b10081624c/f8.transc.xml list index out of range\n",
      "state/data/14/btv1b10081624c/f9.transc.xml list index out of range\n",
      "state/data/14/btv1b10081627q/f41.transc.xml list index out of range\n",
      "state/data/14/btv1b10081627q/f45.transc.xml list index out of range\n",
      "state/data/14/btv1b10081627q/f47.transc.xml list index out of range\n",
      "state/data/14/btv1b10081627q/f49.transc.xml list index out of range\n",
      "state/data/14/btv1b10081629m/f50.transc.xml list index out of range\n",
      "state/data/14/btv1b10081629m/f55.transc.xml list index out of range\n",
      "state/data/14/btv1b10081629m/f56.transc.xml list index out of range\n",
      "state/data/14/btv1b10081633b/f36.transc.xml list index out of range\n",
      "state/data/14/btv1b10081633b/f37.transc.xml list index out of range\n",
      "state/data/14/btv1b10081641v/f48.transc.xml list index out of range\n",
      "state/data/14/btv1b10081649f/f52.transc.xml list index out of range\n"
     ]
    },
    {
     "name": "stderr",
     "output_type": "stream",
     "text": [
      " 59%|█████████████████████▏              | 11152/18901 [02:51<00:28, 273.44it/s]"
     ]
    },
    {
     "name": "stdout",
     "output_type": "stream",
     "text": [
      "state/data/14/btv1b10081691x/f36.transc.xml list index out of range\n",
      "state/data/14/btv1b10081691x/f38.transc.xml list index out of range\n",
      "state/data/14/btv1b10081691x/f40.transc.xml list index out of range\n",
      "state/data/14/btv1b10081691x/f42.transc.xml list index out of range\n",
      "state/data/14/btv1b10081691x/f44.transc.xml list index out of range\n",
      "state/data/14/btv1b10081724r/f31.transc.xml list index out of range\n",
      "state/data/14/btv1b100817256/f22.transc.xml list index out of range\n",
      "state/data/14/btv1b100817256/f25.transc.xml list index out of range\n",
      "state/data/14/btv1b100817256/f26.transc.xml list index out of range\n",
      "state/data/14/btv1b100817256/f30.transc.xml list index out of range\n",
      "state/data/14/btv1b100817256/f31.transc.xml list index out of range\n",
      "state/data/14/btv1b100817417/f24.transc.xml list index out of range\n",
      "state/data/14/btv1b100817417/f25.transc.xml list index out of range\n",
      "state/data/14/btv1b100817417/f26.transc.xml list index out of range\n",
      "state/data/14/btv1b100817417/f27.transc.xml list index out of range\n",
      "state/data/14/btv1b100817417/f28.transc.xml list index out of range\n",
      "state/data/14/btv1b100817417/f30.transc.xml list index out of range\n",
      "state/data/14/btv1b100817434/f19.transc.xml list index out of range\n",
      "state/data/14/btv1b100817434/f24.transc.xml list index out of range\n",
      "state/data/14/btv1b100817506/f24.transc.xml list index out of range\n"
     ]
    },
    {
     "name": "stderr",
     "output_type": "stream",
     "text": [
      " 59%|█████████████████████▎              | 11219/18901 [02:51<00:26, 291.17it/s]"
     ]
    },
    {
     "name": "stdout",
     "output_type": "stream",
     "text": [
      "state/data/14/btv1b100817506/f30.transc.xml list index out of range\n",
      "state/data/14/btv1b10081751n/f28.transc.xml list index out of range\n",
      "state/data/14/btv1b10081751n/f29.transc.xml list index out of range\n",
      "state/data/14/btv1b10081751n/f30.transc.xml list index out of range\n",
      "state/data/14/btv1b10081751n/f32.transc.xml list index out of range\n",
      "state/data/14/btv1b10081751n/f36.transc.xml list index out of range\n",
      "state/data/14/btv1b100817540/f22.transc.xml list index out of range\n",
      "state/data/14/btv1b100817540/f24.transc.xml list index out of range\n",
      "state/data/14/btv1b100817540/f26.transc.xml list index out of range\n",
      "state/data/14/btv1b100817540/f28.transc.xml list index out of range\n",
      "state/data/14/btv1b100817540/f30.transc.xml list index out of range\n",
      "state/data/14/btv1b10081755f/f21.transc.xml list index out of range\n",
      "state/data/14/btv1b10081755f/f22.transc.xml list index out of range\n",
      "state/data/14/btv1b10081755f/f23.transc.xml list index out of range\n",
      "state/data/14/btv1b10081755f/f24.transc.xml list index out of range\n",
      "state/data/14/btv1b10081755f/f26.transc.xml list index out of range\n",
      "state/data/14/btv1b10081755f/f28.transc.xml list index out of range\n",
      "state/data/14/btv1b10081755f/f29.transc.xml list index out of range\n",
      "state/data/14/btv1b10081776q/f28.transc.xml list index out of range\n",
      "state/data/14/btv1b10081776q/f33.transc.xml list index out of range\n",
      "state/data/14/btv1b10081776q/f34.transc.xml list index out of range\n",
      "state/data/14/btv1b100818138/f27.transc.xml list index out of range\n",
      "state/data/14/btv1b100818138/f29.transc.xml list index out of range\n",
      "state/data/14/btv1b100818138/f32.transc.xml list index out of range\n",
      "state/data/14/btv1b100818138/f34.transc.xml list index out of range\n",
      "state/data/14/btv1b10081929r/f23.transc.xml list index out of range\n",
      "state/data/14/btv1b10081929r/f24.transc.xml list index out of range\n"
     ]
    },
    {
     "name": "stderr",
     "output_type": "stream",
     "text": [
      "\r",
      " 60%|█████████████████████▍              | 11252/18901 [02:51<00:25, 300.50it/s]"
     ]
    },
    {
     "name": "stdout",
     "output_type": "stream",
     "text": [
      "state/data/14/btv1b10081929r/f27.transc.xml list index out of range\n",
      "state/data/14/btv1b10082025w/f23.transc.xml list index out of range\n",
      "state/data/14/btv1b10082025w/f28.transc.xml list index out of range\n",
      "state/data/14/btv1b10082025w/f29.transc.xml list index out of range\n",
      "state/data/14/btv1b10082025w/f30.transc.xml list index out of range\n",
      "state/data/14/btv1b10082025w/f32.transc.xml list index out of range\n",
      "state/data/14/btv1b100832752/f23.transc.xml list index out of range\n",
      "state/data/14/btv1b100832752/f26.transc.xml list index out of range\n",
      "state/data/14/btv1b100832752/f29.transc.xml list index out of range\n",
      "state/data/14/btv1b100833901/f30.transc.xml list index out of range\n",
      "state/data/14/btv1b100833901/f31.transc.xml list index out of range\n",
      "state/data/14/btv1b10083443p/f21.transc.xml list index out of range\n",
      "state/data/14/btv1b10083443p/f22.transc.xml list index out of range\n",
      "state/data/14/btv1b10083443p/f23.transc.xml list index out of range\n"
     ]
    },
    {
     "name": "stderr",
     "output_type": "stream",
     "text": [
      " 60%|█████████████████████▌              | 11309/18901 [02:51<00:33, 223.54it/s]"
     ]
    },
    {
     "name": "stdout",
     "output_type": "stream",
     "text": [
      "state/data/14/btv1b100834696/f26.transc.xml list index out of range\n",
      "state/data/14/btv1b100834696/f27.transc.xml list index out of range\n",
      "state/data/14/btv1b10083529x/f15.transc.xml list index out of range\n",
      "state/data/14/btv1b10083529x/f17.transc.xml list index out of range\n",
      "state/data/14/btv1b10083529x/f21.transc.xml list index out of range\n",
      "state/data/14/btv1b10083529x/f22.transc.xml list index out of range\n",
      "state/data/14/btv1b10083529x/f23.transc.xml list index out of range\n",
      "state/data/14/btv1b10083529x/f24.transc.xml list index out of range\n",
      "state/data/14/btv1b100835360/f25.transc.xml list index out of range\n",
      "state/data/14/btv1b100835360/f26.transc.xml list index out of range\n",
      "state/data/14/btv1b10083538w/f31.transc.xml list index out of range\n",
      "state/data/14/btv1b10083565s/f21.transc.xml list index out of range\n"
     ]
    },
    {
     "name": "stderr",
     "output_type": "stream",
     "text": [
      "\r",
      " 60%|█████████████████████▌              | 11334/18901 [02:51<00:33, 225.87it/s]"
     ]
    },
    {
     "name": "stdout",
     "output_type": "stream",
     "text": [
      "state/data/14/btv1b10083598c/f27.transc.xml list index out of range\n",
      "state/data/14/btv1b10083599t/f34.transc.xml list index out of range\n",
      "state/data/14/btv1b10083599t/f39.transc.xml list index out of range\n"
     ]
    },
    {
     "name": "stderr",
     "output_type": "stream",
     "text": [
      " 60%|█████████████████████▋              | 11386/18901 [02:52<00:40, 184.57it/s]"
     ]
    },
    {
     "name": "stdout",
     "output_type": "stream",
     "text": [
      "state/data/14/btv1b100836225/f26.transc.xml list index out of range\n",
      "state/data/14/btv1b100836225/f29.transc.xml list index out of range\n",
      "state/data/14/btv1b100836225/f30.transc.xml list index out of range\n",
      "state/data/14/btv1b100836672/f15.transc.xml list index out of range\n",
      "state/data/14/btv1b100836672/f16.transc.xml list index out of range\n",
      "state/data/14/btv1b10083673p/f19.transc.xml list index out of range\n",
      "state/data/14/btv1b10083673p/f24.transc.xml list index out of range\n",
      "state/data/14/btv1b10083673p/f25.transc.xml list index out of range\n",
      "state/data/14/btv1b10083673p/f26.transc.xml list index out of range\n",
      "state/data/14/btv1b10083741x/f24.transc.xml list index out of range\n",
      "state/data/14/btv1b10083741x/f30.transc.xml list index out of range\n",
      "state/data/14/btv1b10083750w/f42.transc.xml list index out of range\n",
      "state/data/14/btv1b10083750w/f44.transc.xml list index out of range\n",
      "state/data/14/btv1b10083750w/f46.transc.xml list index out of range\n",
      "state/data/14/btv1b10083750w/f48.transc.xml list index out of range\n",
      "state/data/14/btv1b100838040/f25.transc.xml list index out of range\n",
      "state/data/14/btv1b100838040/f26.transc.xml list index out of range\n",
      "state/data/14/btv1b100838040/f27.transc.xml list index out of range\n",
      "state/data/14/btv1b100853129/f11.transc.xml list index out of range\n",
      "state/data/14/btv1b100853129/f12.transc.xml list index out of range\n",
      "state/data/14/btv1b100853129/f13.transc.xml list index out of range\n",
      "state/data/14/btv1b100853129/f14.transc.xml list index out of range\n",
      "state/data/14/btv1b100853129/f15.transc.xml list index out of range\n",
      "state/data/14/btv1b100853129/f16.transc.xml list index out of range\n",
      "state/data/14/btv1b100853129/f17.transc.xml Document is empty, line 1, column 1 (f17.transc.xml, line 1)\n"
     ]
    },
    {
     "name": "stderr",
     "output_type": "stream",
     "text": [
      "\r",
      " 60%|█████████████████████▊              | 11423/18901 [02:52<00:33, 220.39it/s]"
     ]
    },
    {
     "name": "stdout",
     "output_type": "stream",
     "text": [
      "state/data/14/btv1b100853129/f18.transc.xml list index out of range\n",
      "state/data/14/btv1b100853129/f19.transc.xml list index out of range\n",
      "state/data/14/btv1b100853129/f20.transc.xml list index out of range\n"
     ]
    },
    {
     "name": "stderr",
     "output_type": "stream",
     "text": [
      " 61%|█████████████████████▊              | 11469/18901 [02:52<00:54, 136.30it/s]"
     ]
    },
    {
     "name": "stdout",
     "output_type": "stream",
     "text": [
      "state/data/14/btv1b10532584n/f26.transc.xml list index out of range\n",
      "state/data/14/btv1b10532584n/f31.transc.xml list index out of range\n",
      "state/data/14/btv1b10532633h/f14.transc.xml list index out of range\n"
     ]
    },
    {
     "name": "stderr",
     "output_type": "stream",
     "text": [
      " 61%|██████████████████████▌              | 11517/18901 [02:53<01:15, 98.35it/s]"
     ]
    },
    {
     "name": "stdout",
     "output_type": "stream",
     "text": [
      "state/data/14/btv1b10720691n/f14.transc.xml list index out of range\n",
      "state/data/14/btv1b10720691n/f15.transc.xml list index out of range\n",
      "state/data/14/btv1b10720691n/f19.transc.xml list index out of range\n"
     ]
    },
    {
     "name": "stderr",
     "output_type": "stream",
     "text": [
      " 61%|██████████████████████▌              | 11550/18901 [02:54<01:44, 70.02it/s]"
     ]
    },
    {
     "name": "stdout",
     "output_type": "stream",
     "text": [
      "state/data/14/btv1b10720941q/f30.transc.xml list index out of range\n",
      "state/data/14/btv1b10720941q/f35.transc.xml list index out of range\n",
      "state/data/14/btv1b10720941q/f36.transc.xml list index out of range\n"
     ]
    },
    {
     "name": "stderr",
     "output_type": "stream",
     "text": [
      " 61%|██████████████████████▋              | 11582/18901 [02:55<03:13, 37.91it/s]"
     ]
    },
    {
     "name": "stdout",
     "output_type": "stream",
     "text": [
      "state/data/14/btv1b10721259d/f30.transc.xml Document is empty, line 1, column 1 (f30.transc.xml, line 1)\n"
     ]
    },
    {
     "name": "stderr",
     "output_type": "stream",
     "text": [
      " 62%|██████████████████████▊              | 11678/18901 [02:57<01:31, 78.55it/s]"
     ]
    },
    {
     "name": "stdout",
     "output_type": "stream",
     "text": [
      "state/data/14/btv1b52501349h/f1.transc.xml list index out of range\n",
      "state/data/14/btv1b52501349h/f2.transc.xml list index out of range\n",
      "state/data/14/btv1b52501349h/f8.transc.xml list index out of range\n"
     ]
    },
    {
     "name": "stderr",
     "output_type": "stream",
     "text": [
      " 62%|██████████████████████▉              | 11699/18901 [02:57<01:37, 73.79it/s]"
     ]
    },
    {
     "name": "stdout",
     "output_type": "stream",
     "text": [
      "state/data/14/btv1b525104687/f29.transc.xml list index out of range\n",
      "state/data/14/btv1b525104687/f30.transc.xml list index out of range\n",
      "state/data/14/btv1b525104687/f31.transc.xml list index out of range\n",
      "state/data/14/btv1b525104687/f33.transc.xml list index out of range\n"
     ]
    },
    {
     "name": "stderr",
     "output_type": "stream",
     "text": [
      " 62%|██████████████████████▉              | 11747/18901 [02:58<01:40, 71.46it/s]"
     ]
    },
    {
     "name": "stdout",
     "output_type": "stream",
     "text": [
      "state/data/14/btv1b53157002b/f14.transc.xml list index out of range\n",
      "state/data/14/btv1b53157002b/f20.transc.xml list index out of range\n",
      "state/data/14/btv1b541003142/f1.transc.xml list index out of range\n",
      "state/data/14/btv1b541003142/f2.transc.xml list index out of range\n",
      "state/data/14/btv1b541003142/f4.transc.xml list index out of range\n",
      "state/data/14/btv1b54100316z/f1.transc.xml list index out of range\n",
      "state/data/14/btv1b54100322k/f10.transc.xml list index out of range\n",
      "state/data/14/btv1b54100322k/f1.transc.xml list index out of range\n",
      "state/data/14/btv1b54100322k/f2.transc.xml list index out of range\n",
      "state/data/14/btv1b541003231/f1.transc.xml list index out of range\n",
      "state/data/14/btv1b541003231/f2.transc.xml list index out of range\n",
      "state/data/14/btv1b54100327t/f10.transc.xml list index out of range\n",
      "state/data/14/btv1b54100327t/f2.transc.xml list index out of range\n",
      "state/data/14/btv1b54100327t/f8.transc.xml list index out of range\n",
      "state/data/14/btv1b54100327t/f9.transc.xml list index out of range\n",
      "state/data/14/btv1b54100336s/f10.transc.xml list index out of range\n",
      "state/data/14/btv1b54100336s/f1.transc.xml list index out of range\n",
      "state/data/14/btv1b54100336s/f2.transc.xml list index out of range\n",
      "state/data/14/btv1b54100336s/f4.transc.xml list index out of range\n"
     ]
    },
    {
     "name": "stderr",
     "output_type": "stream",
     "text": [
      " 63%|██████████████████████▌             | 11847/18901 [02:58<00:35, 199.78it/s]"
     ]
    },
    {
     "name": "stdout",
     "output_type": "stream",
     "text": [
      "state/data/14/btv1b54100342d/f14.transc.xml list index out of range\n",
      "state/data/14/btv1b54100342d/f17.transc.xml list index out of range\n",
      "state/data/14/btv1b54100342d/f18.transc.xml list index out of range\n",
      "state/data/14/btv1b54100342d/f19.transc.xml list index out of range\n",
      "state/data/14/btv1b54100342d/f20.transc.xml list index out of range\n",
      "state/data/14/btv1b541003449/f1.transc.xml list index out of range\n",
      "state/data/14/btv1b541003449/f2.transc.xml list index out of range\n",
      "state/data/14/btv1b541003449/f5.transc.xml list index out of range\n",
      "state/data/14/btv1b541003449/f8.transc.xml list index out of range\n",
      "state/data/14/btv1b541003466/f1.transc.xml list index out of range\n",
      "state/data/14/btv1b541003466/f2.transc.xml list index out of range\n",
      "state/data/14/btv1b541003466/f3.transc.xml list index out of range\n",
      "state/data/14/btv1b541003466/f4.transc.xml list index out of range\n",
      "state/data/14/btv1b54100354q/f2.transc.xml list index out of range\n",
      "state/data/14/btv1b54100354q/f3.transc.xml list index out of range\n",
      "state/data/14/btv1b54100354q/f4.transc.xml list index out of range\n",
      "state/data/14/btv1b541003572/f1.transc.xml list index out of range\n",
      "state/data/14/btv1b541003572/f2.transc.xml list index out of range\n",
      "state/data/14/btv1b541003572/f4.transc.xml list index out of range\n",
      "state/data/14/btv1b54100617j/f44.transc.xml list index out of range\n",
      "state/data/14/btv1b54100617j/f46.transc.xml list index out of range\n",
      "state/data/14/btv1b54100617j/f48.transc.xml list index out of range\n",
      "state/data/14/btv1b54100617j/f50.transc.xml list index out of range\n"
     ]
    },
    {
     "name": "stderr",
     "output_type": "stream",
     "text": [
      " 63%|██████████████████████▋             | 11930/18901 [02:59<01:02, 111.77it/s]"
     ]
    },
    {
     "name": "stdout",
     "output_type": "stream",
     "text": [
      "state/data/14/btv1b6001327p/f113.transc.xml list index out of range\n",
      "state/data/14/btv1b6001327p/f114.transc.xml list index out of range\n",
      "state/data/14/btv1b6001327p/f115.transc.xml list index out of range\n",
      "state/data/14/btv1b6001327p/f119.transc.xml list index out of range\n",
      "state/data/14/btv1b84386273/f2.transc.xml list index out of range\n",
      "state/data/14/btv1b84386273/f3.transc.xml list index out of range\n",
      "state/data/14/btv1b84386273/f4.transc.xml list index out of range\n",
      "state/data/14/btv1b84386273/f9.transc.xml list index out of range\n"
     ]
    },
    {
     "name": "stderr",
     "output_type": "stream",
     "text": [
      " 64%|██████████████████████▊             | 12003/18901 [03:00<00:58, 118.71it/s]"
     ]
    },
    {
     "name": "stdout",
     "output_type": "stream",
     "text": [
      "state/data/14/btv1b84546905/f58.transc.xml list index out of range\n",
      "state/data/14/btv1b84546905/f59.transc.xml list index out of range\n",
      "state/data/14/btv1b84546905/f62.transc.xml list index out of range\n"
     ]
    },
    {
     "name": "stderr",
     "output_type": "stream",
     "text": [
      " 64%|███████████████████████             | 12079/18901 [03:01<00:51, 131.33it/s]"
     ]
    },
    {
     "name": "stdout",
     "output_type": "stream",
     "text": [
      "state/data/14/btv1b8551130g/f14.transc.xml list index out of range\n",
      "state/data/14/btv1b8551130g/f15.transc.xml list index out of range\n",
      "state/data/14/btv1b8551130g/f16.transc.xml list index out of range\n",
      "state/data/14/btv1b8551130g/f17.transc.xml list index out of range\n",
      "state/data/14/btv1b8551130g/f18.transc.xml list index out of range\n",
      "state/data/14/btv1b85856071/f39.transc.xml list index out of range\n",
      "state/data/14/btv1b85856071/f43.transc.xml list index out of range\n",
      "state/data/14/btv1b85856071/f44.transc.xml list index out of range\n",
      "state/data/14/btv1b85856071/f46.transc.xml list index out of range\n"
     ]
    },
    {
     "name": "stderr",
     "output_type": "stream",
     "text": [
      " 64%|███████████████████████▋             | 12117/18901 [03:01<01:28, 76.52it/s]"
     ]
    },
    {
     "name": "stdout",
     "output_type": "stream",
     "text": [
      "state/data/14/btv1b90574430/f13.transc.xml list index out of range\n",
      "state/data/14/btv1b90574430/f15.transc.xml list index out of range\n",
      "state/data/14/btv1b90574430/f16.transc.xml list index out of range\n",
      "state/data/14/btv1b90574467/f13.transc.xml list index out of range\n",
      "state/data/14/btv1b90574467/f17.transc.xml Document is empty, line 1, column 1 (f17.transc.xml, line 1)\n"
     ]
    },
    {
     "name": "stderr",
     "output_type": "stream",
     "text": [
      " 65%|████████████████████████             | 12310/18901 [03:05<01:09, 95.07it/s]"
     ]
    },
    {
     "name": "stdout",
     "output_type": "stream",
     "text": [
      "state/data/14/btv1b9061171p/f43.transc.xml list index out of range\n",
      "state/data/14/btv1b9061721v/f1.transc.xml list index out of range\n",
      "state/data/14/btv1b9061721v/f2.transc.xml list index out of range\n",
      "state/data/14/btv1b9061721v/f3.transc.xml list index out of range\n",
      "state/data/14/btv1b9063583w/f23.transc.xml list index out of range\n",
      "state/data/14/btv1b9063583w/f27.transc.xml list index out of range\n",
      "state/data/14/btv1b9063583w/f28.transc.xml list index out of range\n",
      "state/data/14/btv1b9063583w/f29.transc.xml list index out of range\n",
      "state/data/14/btv1b90635849/f23.transc.xml list index out of range\n"
     ]
    },
    {
     "name": "stderr",
     "output_type": "stream",
     "text": [
      "\r",
      " 65%|███████████████████████▍            | 12328/18901 [03:05<00:57, 114.97it/s]"
     ]
    },
    {
     "name": "stdout",
     "output_type": "stream",
     "text": [
      "state/data/14/btv1b9065881q/f11.transc.xml list index out of range\n",
      "state/data/14/btv1b9065881q/f13.transc.xml Document is empty, line 1, column 1 (f13.transc.xml, line 1)\n"
     ]
    },
    {
     "name": "stderr",
     "output_type": "stream",
     "text": [
      " 65%|████████████████████████▏            | 12370/18901 [03:07<04:27, 24.41it/s]"
     ]
    },
    {
     "name": "stdout",
     "output_type": "stream",
     "text": [
      "state/data/14/btv1b90665187/f14.transc.xml Document is empty, line 1, column 1 (f14.transc.xml, line 1)\n"
     ]
    },
    {
     "name": "stderr",
     "output_type": "stream",
     "text": [
      " 66%|████████████████████████▍            | 12452/18901 [03:10<04:05, 26.28it/s]"
     ]
    },
    {
     "name": "stdout",
     "output_type": "stream",
     "text": [
      "state/data/14/btv1b90676503/f18.transc.xml list index out of range\n"
     ]
    },
    {
     "name": "stderr",
     "output_type": "stream",
     "text": [
      " 66%|████████████████████████▌            | 12519/18901 [03:12<01:42, 62.07it/s]"
     ]
    },
    {
     "name": "stdout",
     "output_type": "stream",
     "text": [
      "state/data/14/btv1b9067938p/f15.transc.xml list index out of range\n",
      "state/data/14/btv1b9067938p/f16.transc.xml list index out of range\n",
      "state/data/14/btv1b9067938p/f17.transc.xml list index out of range\n",
      "state/data/14/btv1b9067938p/f18.transc.xml list index out of range\n",
      "state/data/14/btv1b90679823/f10.transc.xml list index out of range\n"
     ]
    },
    {
     "name": "stderr",
     "output_type": "stream",
     "text": [
      "\r",
      " 66%|████████████████████████▌            | 12531/18901 [03:12<01:23, 76.72it/s]"
     ]
    },
    {
     "name": "stdout",
     "output_type": "stream",
     "text": [
      "state/data/14/btv1b90679823/f2.transc.xml list index out of range\n"
     ]
    },
    {
     "name": "stderr",
     "output_type": "stream",
     "text": [
      " 67%|████████████████████████▊            | 12672/18901 [03:17<04:41, 22.11it/s]"
     ]
    },
    {
     "name": "stdout",
     "output_type": "stream",
     "text": [
      "state/data/14/btv1b9076924m/f32.transc.xml Document is empty, line 1, column 1 (f32.transc.xml, line 1)\n"
     ]
    },
    {
     "name": "stderr",
     "output_type": "stream",
     "text": [
      " 67%|████████████████████████▊            | 12703/18901 [03:19<04:39, 22.21it/s]"
     ]
    },
    {
     "name": "stdout",
     "output_type": "stream",
     "text": [
      "state/data/14/btv1b9076976b/f34.transc.xml Document is empty, line 1, column 1 (f34.transc.xml, line 1)\n"
     ]
    },
    {
     "name": "stderr",
     "output_type": "stream",
     "text": [
      " 67%|████████████████████████▉            | 12712/18901 [03:19<04:37, 22.33it/s]"
     ]
    },
    {
     "name": "stdout",
     "output_type": "stream",
     "text": [
      "state/data/14/btv1b9076986q/f16.transc.xml Document is empty, line 1, column 1 (f16.transc.xml, line 1)\n"
     ]
    },
    {
     "name": "stderr",
     "output_type": "stream",
     "text": [
      " 67%|████████████████████████▉            | 12735/18901 [03:20<02:59, 34.28it/s]"
     ]
    },
    {
     "name": "stdout",
     "output_type": "stream",
     "text": [
      "state/data/14/btv1b90776489/f40.transc.xml Document is empty, line 1, column 1 (f40.transc.xml, line 1)\n",
      "state/data/14/btv1b90776489/f41.transc.xml Document is empty, line 1, column 1 (f41.transc.xml, line 1)\n",
      "state/data/14/btv1b90776489/f45.transc.xml Document is empty, line 1, column 1 (f45.transc.xml, line 1)\n"
     ]
    },
    {
     "name": "stderr",
     "output_type": "stream",
     "text": [
      " 68%|█████████████████████████            | 12796/18901 [03:22<03:13, 31.55it/s]"
     ]
    },
    {
     "name": "stdout",
     "output_type": "stream",
     "text": [
      "state/data/14/btv1b9077990x/f11.transc.xml list index out of range\n",
      "state/data/14/btv1b9077990x/f12.transc.xml list index out of range\n",
      "state/data/14/btv1b9077990x/f13.transc.xml list index out of range\n",
      "state/data/14/btv1b9077990x/f14.transc.xml list index out of range\n"
     ]
    },
    {
     "name": "stderr",
     "output_type": "stream",
     "text": [
      " 68%|█████████████████████████▏           | 12872/18901 [03:23<01:50, 54.62it/s]"
     ]
    },
    {
     "name": "stdout",
     "output_type": "stream",
     "text": [
      "state/data/14/btv1b9080953r/f16.transc.xml list index out of range\n"
     ]
    },
    {
     "name": "stderr",
     "output_type": "stream",
     "text": [
      " 68%|█████████████████████████▎           | 12927/18901 [03:24<01:13, 81.67it/s]"
     ]
    },
    {
     "name": "stdout",
     "output_type": "stream",
     "text": [
      "state/data/15/btv1b10022331s/f34.transc.xml list index out of range\n",
      "state/data/15/btv1b10022331s/f35.transc.xml list index out of range\n",
      "state/data/15/btv1b10022331s/f36.transc.xml list index out of range\n",
      "state/data/15/btv1b10022331s/f37.transc.xml list index out of range\n",
      "state/data/15/btv1b10022331s/f38.transc.xml list index out of range\n",
      "state/data/15/btv1b10022331s/f39.transc.xml list index out of range\n",
      "state/data/15/btv1b10022331s/f40.transc.xml list index out of range\n",
      "state/data/15/btv1b10023795x/f35.transc.xml list index out of range\n",
      "state/data/15/btv1b10023795x/f40.transc.xml list index out of range\n"
     ]
    },
    {
     "name": "stderr",
     "output_type": "stream",
     "text": [
      " 69%|████████████████████████▊           | 12996/18901 [03:24<00:39, 151.32it/s]"
     ]
    },
    {
     "name": "stdout",
     "output_type": "stream",
     "text": [
      "state/data/15/btv1b100239195/f56.transc.xml list index out of range\n"
     ]
    },
    {
     "name": "stderr",
     "output_type": "stream",
     "text": [
      " 69%|█████████████████████████▌           | 13050/18901 [03:25<01:23, 69.96it/s]"
     ]
    },
    {
     "name": "stdout",
     "output_type": "stream",
     "text": [
      "state/data/15/btv1b10032369x/f17.transc.xml Document is empty, line 1, column 1 (f17.transc.xml, line 1)\n"
     ]
    },
    {
     "name": "stderr",
     "output_type": "stream",
     "text": [
      " 70%|█████████████████████████▉           | 13229/18901 [03:28<01:09, 82.20it/s]"
     ]
    },
    {
     "name": "stdout",
     "output_type": "stream",
     "text": [
      "state/data/15/btv1b100335763/f1.transc.xml list index out of range\n",
      "state/data/15/btv1b100335763/f9.transc.xml list index out of range\n"
     ]
    },
    {
     "name": "stderr",
     "output_type": "stream",
     "text": [
      " 70%|█████████████████████████▉           | 13279/18901 [03:29<01:21, 69.23it/s]"
     ]
    },
    {
     "name": "stdout",
     "output_type": "stream",
     "text": [
      "state/data/15/btv1b10033913s/f39.transc.xml list index out of range\n",
      "state/data/15/btv1b10033913s/f40.transc.xml list index out of range\n"
     ]
    },
    {
     "name": "stderr",
     "output_type": "stream",
     "text": [
      " 70%|██████████████████████████           | 13310/18901 [03:29<01:06, 83.55it/s]"
     ]
    },
    {
     "name": "stdout",
     "output_type": "stream",
     "text": [
      "state/data/15/btv1b10034508f/f11.transc.xml list index out of range\n",
      "state/data/15/btv1b10034508f/f16.transc.xml list index out of range\n",
      "state/data/15/btv1b10034508f/f19.transc.xml list index out of range\n"
     ]
    },
    {
     "name": "stderr",
     "output_type": "stream",
     "text": [
      " 71%|█████████████████████████▌          | 13448/18901 [03:31<00:48, 111.88it/s]"
     ]
    },
    {
     "name": "stdout",
     "output_type": "stream",
     "text": [
      "state/data/15/btv1b100359210/f11.transc.xml list index out of range\n",
      "state/data/15/btv1b100359210/f12.transc.xml list index out of range\n",
      "state/data/15/btv1b100359210/f13.transc.xml list index out of range\n",
      "state/data/15/btv1b100359210/f14.transc.xml list index out of range\n",
      "state/data/15/btv1b100359210/f16.transc.xml list index out of range\n",
      "state/data/15/btv1b100359210/f18.transc.xml list index out of range\n",
      "state/data/15/btv1b100359210/f20.transc.xml list index out of range\n",
      "state/data/15/btv1b10035924b/f24.transc.xml list index out of range\n"
     ]
    },
    {
     "name": "stderr",
     "output_type": "stream",
     "text": [
      " 73%|██████████████████████████▎         | 13835/18901 [03:35<00:22, 221.47it/s]"
     ]
    },
    {
     "name": "stdout",
     "output_type": "stream",
     "text": [
      "state/data/15/btv1b105276546/f11.transc.xml list index out of range\n",
      "state/data/15/btv1b105276546/f12.transc.xml list index out of range\n",
      "state/data/15/btv1b105276546/f18.transc.xml list index out of range\n",
      "state/data/15/btv1b105276546/f19.transc.xml list index out of range\n",
      "state/data/15/btv1b105276546/f20.transc.xml list index out of range\n",
      "state/data/15/btv1b10532602t/f28.transc.xml list index out of range\n",
      "state/data/15/btv1b105326055/f44.transc.xml list index out of range\n"
     ]
    },
    {
     "name": "stderr",
     "output_type": "stream",
     "text": [
      " 74%|██████████████████████████▋         | 14020/18901 [03:37<00:33, 144.99it/s]"
     ]
    },
    {
     "name": "stdout",
     "output_type": "stream",
     "text": [
      "state/data/15/btv1b525013465/f77.transc.xml Document is empty, line 1, column 1 (f77.transc.xml, line 1)\n",
      "state/data/15/btv1b52503713s/f52.transc.xml list index out of range\n",
      "state/data/15/btv1b52503713s/f59.transc.xml list index out of range\n"
     ]
    },
    {
     "name": "stderr",
     "output_type": "stream",
     "text": [
      " 75%|██████████████████████████▉         | 14112/18901 [03:38<00:28, 168.64it/s]"
     ]
    },
    {
     "name": "stdout",
     "output_type": "stream",
     "text": [
      "state/data/15/btv1b52506111n/f26.transc.xml list index out of range\n",
      "state/data/15/btv1b52506111n/f32.transc.xml list index out of range\n",
      "state/data/15/btv1b52506641s/f62.transc.xml list index out of range\n"
     ]
    },
    {
     "name": "stderr",
     "output_type": "stream",
     "text": [
      " 75%|███████████████████████████         | 14210/18901 [03:38<00:24, 190.30it/s]"
     ]
    },
    {
     "name": "stdout",
     "output_type": "stream",
     "text": [
      "state/data/15/btv1b52509771f/f12.transc.xml list index out of range\n",
      "state/data/15/btv1b52509771f/f19.transc.xml list index out of range\n",
      "state/data/15/btv1b52509771f/f20.transc.xml list index out of range\n",
      "state/data/15/btv1b52510536g/f38.transc.xml list index out of range\n",
      "state/data/15/btv1b52510820h/f35.transc.xml list index out of range\n"
     ]
    },
    {
     "name": "stderr",
     "output_type": "stream",
     "text": [
      "\r",
      " 75%|███████████████████████████         | 14231/18901 [03:38<00:25, 186.69it/s]"
     ]
    },
    {
     "name": "stdout",
     "output_type": "stream",
     "text": [
      "state/data/15/btv1b53000319s/f29.transc.xml list index out of range\n",
      "state/data/15/btv1b53023953p/f11.transc.xml list index out of range\n",
      "state/data/15/btv1b53023953p/f12.transc.xml list index out of range\n",
      "state/data/15/btv1b53023953p/f13.transc.xml list index out of range\n",
      "state/data/15/btv1b53023953p/f14.transc.xml list index out of range\n"
     ]
    },
    {
     "name": "stderr",
     "output_type": "stream",
     "text": [
      " 76%|███████████████████████████▍        | 14383/18901 [03:40<00:34, 131.36it/s]"
     ]
    },
    {
     "name": "stdout",
     "output_type": "stream",
     "text": [
      "state/data/15/btv1b8426259s/f11.transc.xml list index out of range\n",
      "state/data/15/btv1b8426259s/f12.transc.xml list index out of range\n",
      "state/data/15/btv1b8426259s/f13.transc.xml list index out of range\n",
      "state/data/15/btv1b8426259s/f14.transc.xml list index out of range\n",
      "state/data/15/btv1b8426259s/f15.transc.xml list index out of range\n",
      "state/data/15/btv1b8426259s/f16.transc.xml list index out of range\n"
     ]
    },
    {
     "name": "stderr",
     "output_type": "stream",
     "text": [
      " 77%|███████████████████████████▌        | 14482/18901 [03:40<00:31, 139.62it/s]"
     ]
    },
    {
     "name": "stdout",
     "output_type": "stream",
     "text": [
      "state/data/15/btv1b8451639p/f13.transc.xml list index out of range\n",
      "state/data/15/btv1b8451639p/f14.transc.xml list index out of range\n",
      "state/data/15/btv1b84528262/f36.transc.xml list index out of range\n",
      "state/data/15/btv1b84528262/f40.transc.xml list index out of range\n"
     ]
    },
    {
     "name": "stderr",
     "output_type": "stream",
     "text": [
      " 77%|███████████████████████████▋        | 14546/18901 [03:41<00:36, 120.12it/s]"
     ]
    },
    {
     "name": "stdout",
     "output_type": "stream",
     "text": [
      "state/data/15/btv1b8540953n/f11.transc.xml list index out of range\n",
      "state/data/15/btv1b8540953n/f12.transc.xml list index out of range\n"
     ]
    },
    {
     "name": "stderr",
     "output_type": "stream",
     "text": [
      " 78%|████████████████████████████▋        | 14672/18901 [03:43<00:55, 75.79it/s]"
     ]
    },
    {
     "name": "stdout",
     "output_type": "stream",
     "text": [
      "state/data/15/btv1b90095173/f14.transc.xml list index out of range\n",
      "state/data/15/btv1b90095173/f17.transc.xml list index out of range\n"
     ]
    },
    {
     "name": "stderr",
     "output_type": "stream",
     "text": [
      " 78%|████████████████████████████        | 14759/18901 [03:44<00:37, 111.49it/s]"
     ]
    },
    {
     "name": "stdout",
     "output_type": "stream",
     "text": [
      "state/data/15/btv1b9057269j/f64.transc.xml list index out of range\n",
      "state/data/15/btv1b9057269j/f69.transc.xml list index out of range\n"
     ]
    },
    {
     "name": "stderr",
     "output_type": "stream",
     "text": [
      " 78%|████████████████████████████▉        | 14805/18901 [03:45<01:22, 49.62it/s]"
     ]
    },
    {
     "name": "stdout",
     "output_type": "stream",
     "text": [
      "state/data/15/btv1b9058214w/f26.transc.xml list index out of range\n",
      "state/data/15/btv1b9058214w/f32.transc.xml list index out of range\n"
     ]
    },
    {
     "name": "stderr",
     "output_type": "stream",
     "text": [
      " 79%|█████████████████████████████        | 14855/18901 [03:46<00:40, 98.90it/s]"
     ]
    },
    {
     "name": "stdout",
     "output_type": "stream",
     "text": [
      "state/data/15/btv1b90583162/f24.transc.xml list index out of range\n"
     ]
    },
    {
     "name": "stderr",
     "output_type": "stream",
     "text": [
      " 79%|█████████████████████████████▏       | 14935/18901 [03:47<00:40, 98.80it/s]"
     ]
    },
    {
     "name": "stdout",
     "output_type": "stream",
     "text": [
      "state/data/15/btv1b90590593/f1.transc.xml list index out of range\n",
      "state/data/15/btv1b90590593/f9.transc.xml list index out of range\n"
     ]
    },
    {
     "name": "stderr",
     "output_type": "stream",
     "text": [
      " 79%|████████████████████████████▌       | 14965/18901 [03:47<00:35, 110.79it/s]"
     ]
    },
    {
     "name": "stdout",
     "output_type": "stream",
     "text": [
      "state/data/15/btv1b90593898/f1.transc.xml list index out of range\n",
      "state/data/15/btv1b90593898/f3.transc.xml list index out of range\n",
      "state/data/15/btv1b90593898/f4.transc.xml list index out of range\n"
     ]
    },
    {
     "name": "stderr",
     "output_type": "stream",
     "text": [
      " 80%|█████████████████████████████▌       | 15085/18901 [03:48<00:39, 97.27it/s]"
     ]
    },
    {
     "name": "stdout",
     "output_type": "stream",
     "text": [
      "state/data/15/btv1b9059867d/f19.transc.xml list index out of range\n",
      "state/data/15/btv1b9059879m/f12.transc.xml list index out of range\n",
      "state/data/15/btv1b9059879m/f14.transc.xml list index out of range\n",
      "state/data/15/btv1b9059879m/f19.transc.xml list index out of range\n",
      "state/data/15/btv1b9059879m/f20.transc.xml list index out of range\n"
     ]
    },
    {
     "name": "stderr",
     "output_type": "stream",
     "text": [
      " 80%|█████████████████████████████▌       | 15108/18901 [03:49<00:47, 79.42it/s]"
     ]
    },
    {
     "name": "stdout",
     "output_type": "stream",
     "text": [
      "state/data/15/btv1b9059969k/f17.transc.xml list index out of range\n",
      "state/data/15/btv1b9059969k/f18.transc.xml list index out of range\n",
      "state/data/15/btv1b9059969k/f20.transc.xml list index out of range\n",
      "state/data/15/btv1b9059969k/f21.transc.xml list index out of range\n",
      "state/data/15/btv1b9059969k/f23.transc.xml list index out of range\n",
      "state/data/15/btv1b9059969k/f24.transc.xml list index out of range\n",
      "state/data/15/btv1b9059969k/f26.transc.xml list index out of range\n"
     ]
    },
    {
     "name": "stderr",
     "output_type": "stream",
     "text": [
      " 81%|█████████████████████████████▏      | 15298/18901 [03:51<00:32, 109.83it/s]"
     ]
    },
    {
     "name": "stdout",
     "output_type": "stream",
     "text": [
      "state/data/15/btv1b9061864z/f1.transc.xml list index out of range\n",
      "state/data/15/btv1b9061864z/f2.transc.xml list index out of range\n",
      "state/data/15/btv1b9061864z/f3.transc.xml list index out of range\n"
     ]
    },
    {
     "name": "stderr",
     "output_type": "stream",
     "text": [
      " 81%|█████████████████████████████▎      | 15394/18901 [03:52<00:30, 114.56it/s]"
     ]
    },
    {
     "name": "stdout",
     "output_type": "stream",
     "text": [
      "state/data/15/btv1b9065943c/f14.transc.xml list index out of range\n"
     ]
    },
    {
     "name": "stderr",
     "output_type": "stream",
     "text": [
      " 82%|██████████████████████████████▍      | 15567/18901 [03:55<00:50, 66.45it/s]"
     ]
    },
    {
     "name": "stdout",
     "output_type": "stream",
     "text": [
      "state/data/15/btv1b9076509j/f31.transc.xml list index out of range\n"
     ]
    },
    {
     "name": "stderr",
     "output_type": "stream",
     "text": [
      " 83%|█████████████████████████████▉      | 15748/18901 [03:58<00:30, 104.82it/s]"
     ]
    },
    {
     "name": "stdout",
     "output_type": "stream",
     "text": [
      "state/data/9/btv1b10024568m/f16.transc.xml list index out of range\n"
     ]
    },
    {
     "name": "stderr",
     "output_type": "stream",
     "text": [
      " 84%|██████████████████████████████▎     | 15884/18901 [03:59<00:23, 130.44it/s]"
     ]
    },
    {
     "name": "stdout",
     "output_type": "stream",
     "text": [
      "state/data/9/btv1b10033165q/f20.transc.xml Document is empty, line 1, column 1 (f20.transc.xml, line 1)\n",
      "state/data/9/btv1b10033197v/f1.transc.xml list index out of range\n",
      "state/data/9/btv1b10033197v/f2.transc.xml list index out of range\n"
     ]
    },
    {
     "name": "stderr",
     "output_type": "stream",
     "text": [
      " 84%|██████████████████████████████▎     | 15937/18901 [03:59<00:26, 111.53it/s]"
     ]
    },
    {
     "name": "stdout",
     "output_type": "stream",
     "text": [
      "state/data/9/btv1b100334758/f23.transc.xml list index out of range\n"
     ]
    },
    {
     "name": "stderr",
     "output_type": "stream",
     "text": [
      " 85%|██████████████████████████████▍     | 16009/18901 [04:00<00:17, 166.30it/s]"
     ]
    },
    {
     "name": "stdout",
     "output_type": "stream",
     "text": [
      "state/data/9/btv1b10034230z/f61.transc.xml list index out of range\n",
      "state/data/9/btv1b10034230z/f63.transc.xml list index out of range\n",
      "state/data/9/btv1b10034232v/f56.transc.xml list index out of range\n",
      "state/data/9/btv1b100342339/f42.transc.xml list index out of range\n",
      "state/data/9/btv1b10034234r/f48.transc.xml list index out of range\n",
      "state/data/9/btv1b100342356/f52.transc.xml list index out of range\n"
     ]
    },
    {
     "name": "stderr",
     "output_type": "stream",
     "text": [
      " 85%|██████████████████████████████▌     | 16063/18901 [04:00<00:13, 209.69it/s]"
     ]
    },
    {
     "name": "stdout",
     "output_type": "stream",
     "text": [
      "state/data/9/btv1b100342356/f57.transc.xml list index out of range\n",
      "state/data/9/btv1b10034236n/f59.transc.xml list index out of range\n",
      "state/data/9/btv1b10034236n/f63.transc.xml list index out of range\n",
      "state/data/9/btv1b100342390/f66.transc.xml list index out of range\n"
     ]
    },
    {
     "name": "stderr",
     "output_type": "stream",
     "text": [
      "\r",
      " 85%|██████████████████████████████▋     | 16085/18901 [04:00<00:18, 152.37it/s]"
     ]
    },
    {
     "name": "stdout",
     "output_type": "stream",
     "text": [
      "state/data/9/btv1b10034559z/f11.transc.xml Document is empty, line 1, column 1 (f11.transc.xml, line 1)\n"
     ]
    },
    {
     "name": "stderr",
     "output_type": "stream",
     "text": [
      " 85%|██████████████████████████████▋     | 16138/18901 [04:01<00:13, 202.21it/s]"
     ]
    },
    {
     "name": "stdout",
     "output_type": "stream",
     "text": [
      "state/data/9/btv1b100350384/f32.transc.xml list index out of range\n",
      "state/data/9/btv1b100350384/f35.transc.xml list index out of range\n",
      "state/data/9/btv1b10035039k/f32.transc.xml list index out of range\n",
      "state/data/9/btv1b10035039k/f33.transc.xml list index out of range\n",
      "state/data/9/btv1b10035040z/f30.transc.xml list index out of range\n",
      "state/data/9/btv1b10035040z/f35.transc.xml list index out of range\n"
     ]
    },
    {
     "name": "stderr",
     "output_type": "stream",
     "text": [
      " 86%|██████████████████████████████▉     | 16238/18901 [04:01<00:15, 175.09it/s]"
     ]
    },
    {
     "name": "stdout",
     "output_type": "stream",
     "text": [
      "state/data/9/btv1b10035963j/f36.transc.xml list index out of range\n",
      "state/data/9/btv1b100359712/f62.transc.xml list index out of range\n",
      "state/data/9/btv1b100359712/f64.transc.xml list index out of range\n",
      "state/data/9/btv1b100359712/f65.transc.xml list index out of range\n",
      "state/data/9/btv1b100359712/f66.transc.xml list index out of range\n",
      "state/data/9/btv1b100359712/f67.transc.xml list index out of range\n",
      "state/data/9/btv1b100359712/f68.transc.xml list index out of range\n",
      "state/data/9/btv1b100359712/f69.transc.xml list index out of range\n",
      "state/data/9/btv1b100359712/f70.transc.xml list index out of range\n",
      "state/data/9/btv1b100359712/f71.transc.xml list index out of range\n",
      "state/data/9/btv1b10036005w/f31.transc.xml list index out of range\n",
      "state/data/9/btv1b10036006b/f36.transc.xml list index out of range\n",
      "state/data/9/btv1b10036007s/f31.transc.xml list index out of range\n",
      "state/data/9/btv1b10036007s/f35.transc.xml list index out of range\n",
      "state/data/9/btv1b100360087/f33.transc.xml list index out of range\n"
     ]
    },
    {
     "name": "stderr",
     "output_type": "stream",
     "text": [
      " 86%|███████████████████████████████     | 16311/18901 [04:02<00:12, 202.58it/s]"
     ]
    },
    {
     "name": "stdout",
     "output_type": "stream",
     "text": [
      "state/data/9/btv1b10036009p/f41.transc.xml list index out of range\n",
      "state/data/9/btv1b100360102/f37.transc.xml list index out of range\n",
      "state/data/9/btv1b100360102/f38.transc.xml list index out of range\n",
      "state/data/9/btv1b10036218d/f22.transc.xml Document is empty, line 1, column 1 (f22.transc.xml, line 1)\n"
     ]
    },
    {
     "name": "stderr",
     "output_type": "stream",
     "text": [
      " 87%|███████████████████████████████▎    | 16446/18901 [04:03<00:14, 168.96it/s]"
     ]
    },
    {
     "name": "stdout",
     "output_type": "stream",
     "text": [
      "state/data/9/btv1b100365156/f32.transc.xml list index out of range\n"
     ]
    },
    {
     "name": "stderr",
     "output_type": "stream",
     "text": [
      "\r",
      " 87%|███████████████████████████████▎    | 16471/18901 [04:03<00:12, 189.90it/s]"
     ]
    },
    {
     "name": "stdout",
     "output_type": "stream",
     "text": [
      "state/data/9/btv1b10036760s/f29.transc.xml list index out of range\n",
      "state/data/9/btv1b100367617/f36.transc.xml list index out of range\n",
      "state/data/9/btv1b10036762p/f36.transc.xml list index out of range\n",
      "state/data/9/btv1b10036773j/f33.transc.xml list index out of range\n"
     ]
    },
    {
     "name": "stderr",
     "output_type": "stream",
     "text": [
      " 87%|███████████████████████████████▍    | 16511/18901 [04:03<00:14, 162.48it/s]"
     ]
    },
    {
     "name": "stdout",
     "output_type": "stream",
     "text": [
      "state/data/9/btv1b10036843p/f12.transc.xml list index out of range\n",
      "state/data/9/btv1b10036843p/f13.transc.xml list index out of range\n",
      "state/data/9/btv1b10036843p/f15.transc.xml list index out of range\n"
     ]
    },
    {
     "name": "stderr",
     "output_type": "stream",
     "text": [
      " 88%|███████████████████████████████▌    | 16578/18901 [04:04<00:19, 117.29it/s]"
     ]
    },
    {
     "name": "stdout",
     "output_type": "stream",
     "text": [
      "state/data/9/btv1b10037189q/f1.transc.xml list index out of range\n",
      "state/data/9/btv1b10037189q/f2.transc.xml list index out of range\n",
      "state/data/9/btv1b10037189q/f3.transc.xml list index out of range\n",
      "state/data/9/btv1b100371903/f19.transc.xml list index out of range\n"
     ]
    },
    {
     "name": "stderr",
     "output_type": "stream",
     "text": [
      " 88%|████████████████████████████████▌    | 16624/18901 [04:04<00:28, 81.10it/s]"
     ]
    },
    {
     "name": "stdout",
     "output_type": "stream",
     "text": [
      "state/data/9/btv1b10038463p/f19.transc.xml Document is empty, line 1, column 1 (f19.transc.xml, line 1)\n"
     ]
    },
    {
     "name": "stderr",
     "output_type": "stream",
     "text": [
      " 89%|███████████████████████████████▉    | 16784/18901 [04:06<00:16, 125.77it/s]"
     ]
    },
    {
     "name": "stdout",
     "output_type": "stream",
     "text": [
      "state/data/9/btv1b10084122m/f14.transc.xml list index out of range\n",
      "state/data/9/btv1b10084122m/f21.transc.xml list index out of range\n",
      "state/data/9/btv1b10084122m/f22.transc.xml list index out of range\n"
     ]
    },
    {
     "name": "stderr",
     "output_type": "stream",
     "text": [
      " 89%|████████████████████████████████    | 16834/18901 [04:06<00:15, 136.67it/s]"
     ]
    },
    {
     "name": "stdout",
     "output_type": "stream",
     "text": [
      "state/data/9/btv1b10316418c/f100.transc.xml list index out of range\n",
      "state/data/9/btv1b10316418c/f102.transc.xml list index out of range\n"
     ]
    },
    {
     "name": "stderr",
     "output_type": "stream",
     "text": [
      " 90%|████████████████████████████████▏   | 16921/18901 [04:07<00:09, 202.40it/s]"
     ]
    },
    {
     "name": "stdout",
     "output_type": "stream",
     "text": [
      "state/data/9/btv1b10525474k/f36.transc.xml list index out of range\n",
      "state/data/9/btv1b10525474k/f40.transc.xml list index out of range\n"
     ]
    },
    {
     "name": "stderr",
     "output_type": "stream",
     "text": [
      " 90%|████████████████████████████████▍   | 17003/18901 [04:07<00:10, 186.84it/s]"
     ]
    },
    {
     "name": "stdout",
     "output_type": "stream",
     "text": [
      "state/data/9/btv1b105446322/f30.transc.xml list index out of range\n",
      "state/data/9/btv1b105446322/f31.transc.xml list index out of range\n",
      "state/data/9/btv1b105446322/f32.transc.xml list index out of range\n",
      "state/data/9/btv1b105446322/f33.transc.xml list index out of range\n",
      "state/data/9/btv1b105446322/f34.transc.xml list index out of range\n",
      "state/data/9/btv1b10545017j/f45.transc.xml Document is empty, line 1, column 1 (f45.transc.xml, line 1)\n"
     ]
    },
    {
     "name": "stderr",
     "output_type": "stream",
     "text": [
      " 90%|████████████████████████████████▍   | 17045/18901 [04:07<00:10, 174.21it/s]"
     ]
    },
    {
     "name": "stdout",
     "output_type": "stream",
     "text": [
      "state/data/9/btv1b10546772s/f25.transc.xml Document is empty, line 1, column 1 (f25.transc.xml, line 1)\n",
      "state/data/9/btv1b105467809/f52.transc.xml list index out of range\n"
     ]
    },
    {
     "name": "stderr",
     "output_type": "stream",
     "text": [
      " 91%|████████████████████████████████▊   | 17223/18901 [04:09<00:10, 160.42it/s]"
     ]
    },
    {
     "name": "stdout",
     "output_type": "stream",
     "text": [
      "state/data/9/btv1b52504541q/f12.transc.xml list index out of range\n",
      "state/data/9/btv1b52504541q/f14.transc.xml list index out of range\n",
      "state/data/9/btv1b52504541q/f17.transc.xml list index out of range\n",
      "state/data/9/btv1b52504541q/f18.transc.xml list index out of range\n",
      "state/data/9/btv1b52504541q/f19.transc.xml list index out of range\n",
      "state/data/9/btv1b52504541q/f20.transc.xml list index out of range\n",
      "state/data/9/btv1b52505561w/f12.transc.xml list index out of range\n",
      "state/data/9/btv1b52505561w/f14.transc.xml list index out of range\n",
      "state/data/9/btv1b52505561w/f15.transc.xml list index out of range\n"
     ]
    },
    {
     "name": "stderr",
     "output_type": "stream",
     "text": [
      " 92%|████████████████████████████████▉   | 17311/18901 [04:09<00:08, 198.65it/s]"
     ]
    },
    {
     "name": "stdout",
     "output_type": "stream",
     "text": [
      "state/data/9/btv1b525084620/f1.transc.xml list index out of range\n",
      "state/data/9/btv1b525084620/f2.transc.xml list index out of range\n",
      "state/data/9/btv1b525084620/f3.transc.xml list index out of range\n",
      "state/data/9/btv1b525084620/f4.transc.xml list index out of range\n",
      "state/data/9/btv1b525088078/f13.transc.xml list index out of range\n",
      "state/data/9/btv1b525088078/f17.transc.xml list index out of range\n",
      "state/data/9/btv1b525088078/f19.transc.xml list index out of range\n",
      "state/data/9/btv1b52509093h/f11.transc.xml list index out of range\n",
      "state/data/9/btv1b525106718/f11.transc.xml list index out of range\n",
      "state/data/9/btv1b525106718/f12.transc.xml list index out of range\n",
      "state/data/9/btv1b525106718/f13.transc.xml list index out of range\n",
      "state/data/9/btv1b525106718/f14.transc.xml list index out of range\n",
      "state/data/9/btv1b525106718/f16.transc.xml list index out of range\n",
      "state/data/9/btv1b525106718/f17.transc.xml list index out of range\n",
      "state/data/9/btv1b525106718/f18.transc.xml list index out of range\n",
      "state/data/9/btv1b525106718/f19.transc.xml list index out of range\n"
     ]
    },
    {
     "name": "stderr",
     "output_type": "stream",
     "text": [
      " 92%|█████████████████████████████████▏  | 17409/18901 [04:09<00:05, 283.98it/s]"
     ]
    },
    {
     "name": "stdout",
     "output_type": "stream",
     "text": [
      "state/data/9/btv1b54100608k/f69.transc.xml list index out of range\n",
      "state/data/9/btv1b54100608k/f70.transc.xml list index out of range\n",
      "state/data/9/btv1b54100608k/f71.transc.xml list index out of range\n",
      "state/data/9/btv1b54100608k/f72.transc.xml list index out of range\n",
      "state/data/9/btv1b54100608k/f73.transc.xml list index out of range\n",
      "state/data/9/btv1b541006091/f74.transc.xml list index out of range\n",
      "state/data/9/btv1b541006091/f75.transc.xml list index out of range\n",
      "state/data/9/btv1b541006091/f76.transc.xml list index out of range\n",
      "state/data/9/btv1b54100610d/f56.transc.xml list index out of range\n",
      "state/data/9/btv1b54100610d/f57.transc.xml list index out of range\n",
      "state/data/9/btv1b54100610d/f58.transc.xml list index out of range\n",
      "state/data/9/btv1b54100610d/f60.transc.xml list index out of range\n",
      "state/data/9/btv1b54100610d/f61.transc.xml list index out of range\n",
      "state/data/9/btv1b54100610d/f63.transc.xml list index out of range\n",
      "state/data/9/btv1b54100610d/f64.transc.xml list index out of range\n",
      "state/data/9/btv1b550014262/f61.transc.xml list index out of range\n",
      "state/data/9/btv1b55013088x/f44.transc.xml Document is empty, line 1, column 1 (f44.transc.xml, line 1)\n"
     ]
    },
    {
     "name": "stderr",
     "output_type": "stream",
     "text": [
      " 92%|█████████████████████████████████▎  | 17467/18901 [04:10<00:05, 245.93it/s]"
     ]
    },
    {
     "name": "stdout",
     "output_type": "stream",
     "text": [
      "state/data/9/btv1b60004321/f72.transc.xml list index out of range\n",
      "state/data/9/btv1b8423827z/f41.transc.xml list index out of range\n",
      "state/data/9/btv1b8423827z/f43.transc.xml list index out of range\n"
     ]
    },
    {
     "name": "stderr",
     "output_type": "stream",
     "text": [
      " 93%|█████████████████████████████████▍  | 17536/18901 [04:10<00:07, 192.31it/s]"
     ]
    },
    {
     "name": "stdout",
     "output_type": "stream",
     "text": [
      "state/data/9/btv1b84238343/f36.transc.xml list index out of range\n",
      "state/data/9/btv1b84238343/f37.transc.xml list index out of range\n",
      "state/data/9/btv1b84238343/f38.transc.xml list index out of range\n",
      "state/data/9/btv1b84238343/f39.transc.xml list index out of range\n",
      "state/data/9/btv1b8423840t/f44.transc.xml list index out of range\n",
      "state/data/9/btv1b8426037h/f39.transc.xml list index out of range\n",
      "state/data/9/btv1b8426037h/f40.transc.xml list index out of range\n",
      "state/data/9/btv1b8426037h/f41.transc.xml list index out of range\n",
      "state/data/9/btv1b8426037h/f42.transc.xml list index out of range\n",
      "state/data/9/btv1b8426037h/f43.transc.xml list index out of range\n"
     ]
    },
    {
     "name": "stderr",
     "output_type": "stream",
     "text": [
      " 93%|█████████████████████████████████▌  | 17644/18901 [04:11<00:07, 166.48it/s]"
     ]
    },
    {
     "name": "stdout",
     "output_type": "stream",
     "text": [
      "state/data/9/btv1b84262947/f67.transc.xml Document is empty, line 1, column 1 (f67.transc.xml, line 1)\n"
     ]
    },
    {
     "name": "stderr",
     "output_type": "stream",
     "text": [
      " 94%|█████████████████████████████████▋  | 17701/18901 [04:11<00:09, 128.95it/s]"
     ]
    },
    {
     "name": "stdout",
     "output_type": "stream",
     "text": [
      "state/data/9/btv1b84267924/f13.transc.xml list index out of range\n",
      "state/data/9/btv1b84267924/f14.transc.xml list index out of range\n",
      "state/data/9/btv1b84267924/f15.transc.xml list index out of range\n"
     ]
    },
    {
     "name": "stderr",
     "output_type": "stream",
     "text": [
      " 94%|█████████████████████████████████▊  | 17738/18901 [04:12<00:07, 146.38it/s]"
     ]
    },
    {
     "name": "stdout",
     "output_type": "stream",
     "text": [
      "state/data/9/btv1b8452764d/f16.transc.xml list index out of range\n",
      "state/data/9/btv1b8452764d/f22.transc.xml list index out of range\n"
     ]
    },
    {
     "name": "stderr",
     "output_type": "stream",
     "text": [
      " 94%|█████████████████████████████████▉  | 17823/18901 [04:12<00:07, 138.16it/s]"
     ]
    },
    {
     "name": "stdout",
     "output_type": "stream",
     "text": [
      "state/data/9/btv1b84790068/f24.transc.xml list index out of range\n",
      "state/data/9/btv1b84790068/f25.transc.xml list index out of range\n",
      "state/data/9/btv1b84790068/f29.transc.xml list index out of range\n"
     ]
    },
    {
     "name": "stderr",
     "output_type": "stream",
     "text": [
      " 94%|██████████████████████████████████  | 17857/18901 [04:13<00:09, 105.09it/s]"
     ]
    },
    {
     "name": "stdout",
     "output_type": "stream",
     "text": [
      "state/data/9/btv1b8490076p/f13.transc.xml list index out of range\n",
      "state/data/9/btv1b8490076p/f14.transc.xml list index out of range\n",
      "state/data/9/btv1b8490076p/f16.transc.xml list index out of range\n",
      "state/data/9/btv1b8490076p/f18.transc.xml list index out of range\n",
      "state/data/9/btv1b8490076p/f20.transc.xml list index out of range\n"
     ]
    },
    {
     "name": "stderr",
     "output_type": "stream",
     "text": [
      " 95%|██████████████████████████████████▎ | 18008/18901 [04:14<00:04, 192.34it/s]"
     ]
    },
    {
     "name": "stdout",
     "output_type": "stream",
     "text": [
      "state/data/9/btv1b8529701g/f18.transc.xml list index out of range\n",
      "state/data/9/btv1b8529701g/f19.transc.xml list index out of range\n",
      "state/data/9/btv1b85297054/f42.transc.xml Document is empty, line 1, column 1 (f42.transc.xml, line 1)\n"
     ]
    },
    {
     "name": "stderr",
     "output_type": "stream",
     "text": [
      " 96%|██████████████████████████████████▌ | 18158/18901 [04:15<00:05, 129.19it/s]"
     ]
    },
    {
     "name": "stdout",
     "output_type": "stream",
     "text": [
      "state/data/9/btv1b9000752f/f13.transc.xml list index out of range\n",
      "state/data/9/btv1b9000752f/f15.transc.xml list index out of range\n",
      "state/data/9/btv1b9000753v/f17.transc.xml list index out of range\n"
     ]
    },
    {
     "name": "stderr",
     "output_type": "stream",
     "text": [
      " 96%|██████████████████████████████████▋ | 18211/18901 [04:15<00:06, 103.16it/s]"
     ]
    },
    {
     "name": "stdout",
     "output_type": "stream",
     "text": [
      "state/data/9/btv1b9001145j/f21.transc.xml list index out of range\n"
     ]
    },
    {
     "name": "stderr",
     "output_type": "stream",
     "text": [
      " 97%|███████████████████████████████████▊ | 18296/18901 [04:16<00:06, 88.69it/s]"
     ]
    },
    {
     "name": "stdout",
     "output_type": "stream",
     "text": [
      "state/data/9/btv1b9066792g/f35.transc.xml list index out of range\n"
     ]
    },
    {
     "name": "stderr",
     "output_type": "stream",
     "text": [
      " 98%|████████████████████████████████████ | 18446/18901 [04:18<00:06, 66.01it/s]"
     ]
    },
    {
     "name": "stdout",
     "output_type": "stream",
     "text": [
      "state/data/9/btv1b90682694/f14.transc.xml Document is empty, line 1, column 1 (f14.transc.xml, line 1)\n",
      "state/data/9/btv1b90682694/f19.transc.xml Document is empty, line 1, column 1 (f19.transc.xml, line 1)\n"
     ]
    },
    {
     "name": "stderr",
     "output_type": "stream",
     "text": [
      " 99%|████████████████████████████████████▌| 18650/18901 [04:21<00:03, 82.08it/s]"
     ]
    },
    {
     "name": "stdout",
     "output_type": "stream",
     "text": [
      "state/data/9/btv1b90767527/f26.transc.xml list index out of range\n"
     ]
    },
    {
     "name": "stderr",
     "output_type": "stream",
     "text": [
      " 99%|████████████████████████████████████▌| 18708/18901 [04:22<00:02, 89.20it/s]"
     ]
    },
    {
     "name": "stdout",
     "output_type": "stream",
     "text": [
      "state/data/9/btv1b9077727g/f1.transc.xml list index out of range\n",
      "state/data/9/btv1b9077727g/f2.transc.xml list index out of range\n",
      "state/data/9/btv1b9077740b/f12.transc.xml list index out of range\n",
      "state/data/9/btv1b9077740b/f17.transc.xml list index out of range\n"
     ]
    },
    {
     "name": "stderr",
     "output_type": "stream",
     "text": [
      " 99%|████████████████████████████████████▊| 18783/18901 [04:23<00:01, 76.81it/s]"
     ]
    },
    {
     "name": "stdout",
     "output_type": "stream",
     "text": [
      "state/data/9/btv1b9078151c/f15.transc.xml list index out of range\n",
      "state/data/9/btv1b9078151c/f17.transc.xml list index out of range\n"
     ]
    },
    {
     "name": "stderr",
     "output_type": "stream",
     "text": [
      "100%|█████████████████████████████████████| 18901/18901 [04:24<00:00, 71.36it/s]IOPub data rate exceeded.\n",
      "The notebook server will temporarily stop sending output\n",
      "to the client in order to avoid crashing it.\n",
      "To change this limit, set the config variable\n",
      "`--NotebookApp.iopub_data_rate_limit`.\n",
      "\n",
      "Current values:\n",
      "NotebookApp.iopub_data_rate_limit=1000000.0 (bytes/sec)\n",
      "NotebookApp.rate_limit_window=3.0 (secs)\n",
      "\n",
      "\n"
     ]
    }
   ],
   "source": [
    "from zipfile import ZipFile\n",
    "from lxml import etree as ET\n",
    "import tqdm\n",
    "\n",
    "NS = dict(namespaces={\"a\": \"http://www.loc.gov/standards/alto/ns-v4#\"})\n",
    "\n",
    "lines = [\n",
    "    \n",
    "]\n",
    "with ZipFile('../state-of-htr/pred-segm.zip') as myzip:\n",
    "    for name in tqdm.tqdm(myzip.namelist()):\n",
    "        *_, century, mss, page = name.split(\"/\")\n",
    "        try:\n",
    "            xml = ET.parse(myzip.open(name))\n",
    "            #print(ET.tostring(xml, encoding=str))\n",
    "            zone = xml.xpath(\"//a:OtherTag[@LABEL='MainZone']\", **NS)[0].attrib[\"ID\"]\n",
    "            for line in xml.xpath(f\"//a:TextBlock[@TAGREFS='{zone}']/a:TextLine\", **NS):\n",
    "                text = \" \".join(\n",
    "                    [\n",
    "                        str(content.attrib.get(\"CONTENT\", \"\")) or \"\" \n",
    "                        for content in line.findall(\".//{*}String\")\n",
    "                    ]\n",
    "                )\n",
    "                lines.append({\n",
    "                    \"century\": century,\n",
    "                    \"page\": page.split(\".\")[0],\n",
    "                    \"manuscript\": mss,\n",
    "                    \"text\": text\n",
    "                })\n",
    "        except Exception as E:\n",
    "            print(name, E)\n",
    "            \n",
    "print(lines)"
   ]
  },
  {
   "cell_type": "code",
   "execution_count": 40,
   "id": "679769fa",
   "metadata": {},
   "outputs": [
    {
     "data": {
      "text/plain": [
       "{'btv1b550014262': 'Latin',\n",
       " 'btv1b525084620': 'Latin',\n",
       " 'btv1b90766947': 'Latin',\n",
       " 'btv1b8530354q': 'Latin',\n",
       " 'btv1b8529696m': 'Latin',\n",
       " 'btv1b10036600x': 'Latin',\n",
       " 'btv1b10033740x': 'Latin',\n",
       " 'btv1b100371369': 'Latin',\n",
       " 'btv1b105446322': 'French',\n",
       " 'btv1b100321839': 'Latin',\n",
       " 'btv1b52506596q': 'Latin',\n",
       " 'btv1b100338102': 'Latin',\n",
       " 'btv1b100382361': 'Latin',\n",
       " 'btv1b8572239d': 'Latin',\n",
       " 'btv1b100385778': 'Latin',\n",
       " 'btv1b8479002m': 'Latin',\n",
       " 'btv1b52511306t': 'Latin',\n",
       " 'btv1b8492144p': 'Latin',\n",
       " 'btv1b10033147s': 'Latin',\n",
       " 'btv1b10036384w': 'Latin',\n",
       " 'btv1b100330749': 'Latin',\n",
       " 'btv1b52504521w': 'Latin',\n",
       " 'btv1b84262910': 'Latin',\n",
       " 'btv1b90765032': 'Latin',\n",
       " 'btv1b85409594': 'Latin',\n",
       " 'btv1b10035724k': 'Latin',\n",
       " 'btv1b10032698v': 'Latin',\n",
       " 'btv1b100329372': 'Latin',\n",
       " 'btv1b8541011h': 'Latin',\n",
       " 'btv1b10039088k': 'Latin',\n",
       " 'btv1b85297054': 'Latin',\n",
       " 'btv1b10032327c': 'Latin',\n",
       " 'btv1b8510028n': 'Latin',\n",
       " 'btv1b8426281m': 'Latin',\n",
       " 'btv1b52511263k': 'Latin',\n",
       " 'btv1b9076522d': 'Latin',\n",
       " 'btv1b8479005v': 'Latin',\n",
       " 'btv1b9066860v': 'Latin',\n",
       " 'btv1b90769859': 'Latin',\n",
       " 'btv1b10034270m': 'Latin',\n",
       " 'btv1b84238395': 'Latin',\n",
       " 'btv1b8455903b': 'Latin',\n",
       " 'btv1b8426041d': 'Latin',\n",
       " 'btv1b84267887': 'Latin',\n",
       " 'btv1b8492150d': 'Latin',\n",
       " 'btv1b90781232': 'Latin',\n",
       " 'btv1b84260400': 'Latin',\n",
       " 'btv1b8492148b': 'Latin',\n",
       " 'btv1b100357469': 'Latin',\n",
       " 'btv1b100357486': 'Latin',\n",
       " 'btv1b10510447n': 'Latin',\n",
       " 'btv1b84262947': 'Latin',\n",
       " 'btv1b9072596g': 'Latin',\n",
       " 'btv1b9065912t': 'Latin',\n",
       " 'btv1b10033748h': 'Latin',\n",
       " 'btv1b107209620': 'Latin',\n",
       " 'btv1b8452764d': 'Latin',\n",
       " 'btv1b90683096': 'Latin',\n",
       " 'btv1b105467809': 'Latin',\n",
       " 'btv1b9066136s': 'Latin',\n",
       " 'btv1b10038458h': 'Latin',\n",
       " 'btv1b52506564k': 'Latin',\n",
       " 'btv1b90766806': 'Latin',\n",
       " 'btv1b9065920c': 'Latin',\n",
       " 'btv1b90767349': 'Latin',\n",
       " 'btv1b9080761m': 'Latin',\n",
       " 'btv1b9072585p': 'Latin',\n",
       " 'btv1b8423827z': 'Latin',\n",
       " 'btv1b8479004f': 'Latin',\n",
       " 'btv1b90668529': 'Latin',\n",
       " 'btv1b10318625w': 'Latin',\n",
       " 'btv1b10037097v': 'Latin',\n",
       " 'btv1b100238563': 'Latin',\n",
       " 'btv1b105276385': 'Latin',\n",
       " 'btv1b100386872': 'Latin',\n",
       " 'btv1b8426787t': 'Latin',\n",
       " 'btv1b55005656f': 'Latin',\n",
       " 'btv1b84238343': 'Latin',\n",
       " 'btv1b8492141f': 'Latin',\n",
       " 'btv1b8529701g': 'Latin',\n",
       " 'btv1b90682694': 'Latin',\n",
       " 'btv1b10038896s': 'Latin',\n",
       " 'btv1b9077889x': 'Latin',\n",
       " 'btv1b9068468d': 'Latin',\n",
       " 'btv1b85287653': 'Latin',\n",
       " 'btv1b10724077m': 'Latin',\n",
       " 'btv1b10544636v': 'Latin',\n",
       " 'btv1b6001294r': 'Latin',\n",
       " 'btv1b9078025j': 'Latin',\n",
       " 'btv1b9067873s': 'Latin',\n",
       " 'btv1b10721144c': 'Latin',\n",
       " 'btv1b9067051f': 'Latin',\n",
       " 'btv1b10033093p': 'Latin',\n",
       " 'btv1b84386770': 'Latin',\n",
       " 'btv1b10036970z': 'Latin',\n",
       " 'btv1b525062687': 'Latin',\n",
       " 'btv1b100331989': 'Latin',\n",
       " 'btv1b9078367x': 'Latin',\n",
       " 'btv1b10548489w': 'Latin',\n",
       " 'btv1b10032844r': 'Latin',\n",
       " 'btv1b10542353h': 'Latin',\n",
       " 'btv1b10034559z': 'Latin',\n",
       " 'btv1b100390963': 'Latin',\n",
       " 'btv1b9080778w': 'Latin',\n",
       " 'btv1b10034685s': 'Latin',\n",
       " 'btv1b90768834': 'Latin',\n",
       " 'btv1b10546772s': 'Latin',\n",
       " 'btv1b90726428': 'Latin',\n",
       " 'btv1b10551086x': 'Latin',\n",
       " 'btv1b8551122x': 'Latin',\n",
       " 'btv1b9068371j': 'Latin',\n",
       " 'btv1b8552414q': 'Latin',\n",
       " 'btv1b9078102w': 'Latin',\n",
       " 'btv1b10038656c': 'Latin',\n",
       " 'btv1b85524243': 'Latin',\n",
       " 'btv1b10032697d': 'Latin',\n",
       " 'btv1b90807747': 'Latin',\n",
       " 'btv1b8452776m': 'Latin',\n",
       " 'btv1b10543238w': 'Latin',\n",
       " 'btv1b52505561w': 'Latin',\n",
       " 'btv1b9078380s': 'Latin',\n",
       " 'btv1b90767527': 'Latin',\n",
       " 'btv1b90670731': 'Latin',\n",
       " 'btv1b9078151c': 'Latin',\n",
       " 'btv1b8572242w': 'Latin',\n",
       " 'btv1b105000058': 'Latin',\n",
       " 'btv1b10038851w': 'Latin',\n",
       " 'btv1b10315686s': 'Latin',\n",
       " 'btv1b100371903': 'Latin',\n",
       " 'btv1b84921438': 'Latin',\n",
       " 'btv1b10550782f': 'Latin',\n",
       " 'btv1b10038604d': 'Latin',\n",
       " 'btv1b9066043k': 'Latin',\n",
       " 'btv1b10033221n': 'Latin',\n",
       " 'btv1b85722380': 'Latin',\n",
       " 'btv1b10036367d': 'Latin',\n",
       " 'btv1b10038463p': 'Latin',\n",
       " 'btv1b10033197v': 'Latin',\n",
       " 'btv1b8539723b': 'Latin',\n",
       " 'btv1b105254751': 'Latin',\n",
       " 'btv1b8492151t': 'Latin',\n",
       " 'btv1b52503985b': 'Latin',\n",
       " 'btv1b100841071': 'Latin',\n",
       " 'btv1b10037148m': 'Latin',\n",
       " 'btv1b84323098': 'Latin',\n",
       " 'btv1b550056533': 'Latin',\n",
       " 'btv1b9078378q': 'Latin',\n",
       " 'btv1b84790068': 'Latin',\n",
       " 'btv1b84267924': 'Latin',\n",
       " 'btv1b9066820b': 'Latin',\n",
       " 'btv1b52504541q': 'Latin',\n",
       " 'btv1b100334758': 'Latin',\n",
       " 'btv1b10084122m': 'Latin',\n",
       " 'btv1b8492147x': 'Latin',\n",
       " 'btv1b8492142v': 'Latin',\n",
       " 'btv1b84267909': 'Latin',\n",
       " 'btv1b10525474k': 'Latin',\n",
       " 'btv1b84546957': 'Latin',\n",
       " 'btv1b10721273j': 'Latin',\n",
       " 'btv1b105513271': 'Latin',\n",
       " 'btv1b10036218d': 'Latin',\n",
       " 'btv1b100362207': 'Latin',\n",
       " 'btv1b10036259h': 'Latin',\n",
       " 'btv1b9066808w': 'Latin',\n",
       " 'btv1b8426290k': 'Latin',\n",
       " 'btv1b9078418s': 'Latin',\n",
       " 'btv1b52508162v': 'Latin',\n",
       " 'btv1b10038580j': 'Latin',\n",
       " 'btv1b8423830f': 'Latin',\n",
       " 'btv1b85721911': 'Latin',\n",
       " 'btv1b8426288h': 'Latin',\n",
       " 'btv1b9068399m': 'Latin',\n",
       " 'btv1b60000317': 'Latin',\n",
       " 'btv1b90683771': 'Latin',\n",
       " 'btv1b90666761': 'Latin',\n",
       " 'btv1b9076764f': 'Latin',\n",
       " 'btv1b8479007p': 'Latin',\n",
       " 'btv1b10720821h': 'Latin',\n",
       " 'btv1b9066792g': 'Latin',\n",
       " 'btv1b8490069j': 'Latin',\n",
       " 'btv1b10032734z': 'Latin',\n",
       " 'btv1b8423829s': 'Latin',\n",
       " 'btv1b10036843p': 'Latin',\n",
       " 'btv1b52509093h': 'Latin',\n",
       " 'btv1b8438662j': 'Latin',\n",
       " 'btv1b10036444m': 'Latin',\n",
       " 'btv1b9066770w': 'Latin',\n",
       " 'btv1b105422015': 'Latin',\n",
       " 'btv1b84267798': 'Latin',\n",
       " 'btv1b9078401h': 'Latin',\n",
       " 'btv1b90778858': 'Latin',\n",
       " 'btv1b10537357q': 'Latin',\n",
       " 'btv1b9078140k': 'Latin',\n",
       " 'btv1b10038477w': 'Latin',\n",
       " 'btv1b55013088x': 'Latin',\n",
       " 'btv1b8426786d': 'Latin',\n",
       " 'btv1b10545017j': 'Latin',\n",
       " 'btv1b10038416z': 'Latin',\n",
       " 'btv1b10037189q': 'Latin',\n",
       " 'btv1b9076675w': 'Latin',\n",
       " 'btv1b9072578j': 'Latin',\n",
       " 'btv1b8426042t': 'Latin',\n",
       " 'btv1b90684744': 'Latin',\n",
       " 'btv1b8455929k': 'Latin',\n",
       " 'btv1b10036453k': 'Latin',\n",
       " 'btv1b525088078': 'Latin',\n",
       " 'btv1b10038618m': 'Latin',\n",
       " 'btv1b10032229w': 'Latin',\n",
       " 'btv1b9066996t': 'Latin',\n",
       " 'btv1b105467737': 'Latin',\n",
       " 'btv1b525105512': 'Latin',\n",
       " 'btv1b9078016k': 'Latin',\n",
       " 'btv1b9066719b': 'Latin',\n",
       " 'btv1b9072677g': 'Latin',\n",
       " 'btv1b9078242r': 'Latin',\n",
       " 'btv1b10510443v': 'Latin',\n",
       " 'btv1b525072066': 'Latin',\n",
       " 'btv1b10036412g': 'Latin',\n",
       " 'btv1b9068096b': 'Latin',\n",
       " 'btv1b10035855n': 'Latin',\n",
       " 'btv1b9076787f': 'Latin',\n",
       " 'btv1b10548484n': 'Latin',\n",
       " 'btv1b105467843': 'Latin',\n",
       " 'btv1b10510416z': 'Latin',\n",
       " 'btv1b8423831v': 'Latin',\n",
       " 'btv1b10033165q': 'Latin',\n",
       " 'btv1b84238328': 'Latin',\n",
       " 'btv1b100360354': 'Latin',\n",
       " 'btv1b90667059': 'Latin',\n",
       " 'btv1b90725900': 'Latin',\n",
       " 'btv1b90661539': 'Latin',\n",
       " 'btv1b9066998n': 'Latin',\n",
       " 'btv1b10036886p': 'Latin',\n",
       " 'btv1b90678583': 'Latin',\n",
       " 'btv1b105423611': 'Latin',\n",
       " 'btv1b8514398k': 'Latin',\n",
       " 'btv1b10546788w': 'Latin',\n",
       " 'btv1b8438667m': 'Latin',\n",
       " 'btv1b9066947b': 'Latin',\n",
       " 'btv1b60004321': 'Latin',\n",
       " 'btv1b8426037h': 'Latin',\n",
       " 'btv1b55001425m': 'Latin',\n",
       " 'btv1b8423840t': 'Latin',\n",
       " 'btv1b9077740b': 'Latin',\n",
       " 'btv1b525106718': 'Latin',\n",
       " 'btv1b9077727g': 'Latin',\n",
       " 'btv1b9067058b': 'Latin',\n",
       " 'btv1b90807925': 'Latin',\n",
       " 'btv1b10033354m': 'Latin',\n",
       " 'btv1b10032326x': 'Latin',\n",
       " 'btv1b100363877': 'Latin',\n",
       " 'btv1b6001307x': 'Latin',\n",
       " 'btv1b105450235': 'Latin',\n",
       " 'btv1b10539522p': 'French',\n",
       " 'btv1b10021496j': 'Latin',\n",
       " 'btv1b52507194n': 'Latin',\n",
       " 'btv1b8572241g': 'Latin',\n",
       " 'btv1b8490076p': 'Latin',\n",
       " 'btv1b9076857n': 'Latin',\n",
       " 'btv1b10084104p': 'Latin',\n",
       " 'btv1b9078172j': 'Latin',\n",
       " 'btv1b9066891d': 'Latin',\n",
       " 'btv1b8572192f': 'Latin',\n",
       " 'btv1b8594593d': 'Latin',\n",
       " 'btv1b105238210': 'Latin',\n",
       " 'btv1b10539563s': 'Latin',\n",
       " 'btv1b10033836k': 'Latin',\n",
       " 'btv1b9078168n': 'Latin',\n",
       " 'btv1b105395575': 'Latin',\n",
       " 'btv1b10038578q': 'Latin',\n",
       " 'btv1b8538805f': 'Latin',\n",
       " 'btv1b100323046': 'Latin',\n",
       " 'btv1b10024568m': 'Latin',\n",
       " 'btv1b85287638': 'Latin',\n",
       " 'btv1b10039036m': 'Latin',\n",
       " 'btv1b10546763t': 'Latin',\n",
       " 'btv1b550014245': 'Latin',\n",
       " 'btv1b84514716': 'Latin',\n",
       " 'btv1b84324568': 'Latin',\n",
       " 'btv1b9067057x': 'Latin',\n",
       " 'btv1b10545842k': 'Latin',\n",
       " 'btv1b105421959': 'Latin',\n",
       " 'btv1b10541978h': 'Latin',\n",
       " 'btv1b105399495': 'Latin',\n",
       " 'btv1b10032123t': 'Latin',\n",
       " 'btv1b100337527': 'Latin',\n",
       " 'btv1b10523823w': 'Latin',\n",
       " 'btv1b8585604s': 'Latin',\n",
       " 'btv1b100372480': 'Latin',\n",
       " 'btv1b52507114b': 'Latin',\n",
       " 'btv1b10721181p': 'Latin',\n",
       " 'btv1b100359015': 'Latin',\n",
       " 'btv1b10037137r': 'Latin',\n",
       " 'btv1b9068477c': 'Latin',\n",
       " 'btv1b10032726f': 'Latin',\n",
       " 'btv1b90668863': 'Latin',\n",
       " 'btv1b90660262': 'Latin',\n",
       " 'btv1b10038652k': 'Latin',\n",
       " 'btv1b107212278': 'Latin',\n",
       " 'btv1b9066544q': 'Latin',\n",
       " 'btv1b10034714t': 'Latin',\n",
       " 'btv1b10034713c': 'Latin',\n",
       " 'btv1b85388130': 'Latin',\n",
       " 'btv1b10543769g': 'Latin',\n",
       " 'btv1b10546359k': 'Latin',\n",
       " 'btv1b9067917h': 'Latin',\n",
       " 'btv1b9072639s': 'Latin',\n",
       " 'btv1b90778250': 'Latin',\n",
       " 'btv1b90725811': 'Latin',\n",
       " 'btv1b105461623': 'Latin',\n",
       " 'btv1b10551324p': 'Latin',\n",
       " 'btv1b84324798': 'Latin',\n",
       " 'btv1b10539536w': 'Latin',\n",
       " 'btv1b8432277r': 'Latin',\n",
       " 'btv1b10539535f': 'Latin',\n",
       " 'btv1b10547742w': 'Latin',\n",
       " 'btv1b9066592s': 'Latin',\n",
       " 'btv1b9068470g': 'Latin',\n",
       " 'btv1b105419950': 'Latin',\n",
       " 'btv1b10542288m': 'Latin',\n",
       " 'btv1b9068413f': 'Latin',\n",
       " 'btv1b100344567': 'Latin',\n",
       " 'btv1b90782576': 'Latin',\n",
       " 'btv1b10037292c': 'Latin',\n",
       " 'btv1b10547743b': 'Latin',\n",
       " 'btv1b9078246d': 'Latin',\n",
       " 'btv1b9066490m': 'Latin',\n",
       " 'btv1b10547735t': 'Latin',\n",
       " 'btv1b10721209b': 'Latin',\n",
       " 'btv1b9067841t': 'Latin',\n",
       " 'btv1b90807495': 'Latin',\n",
       " 'btv1b9066978w': 'Latin',\n",
       " 'btv1b10540995n': 'Latin',\n",
       " 'btv1b85721948': 'Latin',\n",
       " 'btv1b9068358p': 'Latin',\n",
       " 'btv1b9078013b': 'Latin',\n",
       " 'btv1b10032724j': 'Latin',\n",
       " 'btv1b10511073x': 'Latin',\n",
       " 'btv1b10551126t': 'Latin',\n",
       " 'btv1b10035688g': 'Latin',\n",
       " 'btv1b10038571k': 'Latin',\n",
       " 'btv1b10547739m': 'Latin',\n",
       " 'btv1b90767119': 'Latin',\n",
       " 'btv1b9065983w': 'Latin',\n",
       " 'btv1b9076677q': 'Latin',\n",
       " 'btv1b100364524': 'Latin',\n",
       " 'btv1b10034550x': 'Latin',\n",
       " 'btv1b10720839h': 'Latin',\n",
       " 'btv1b10034419x': 'Latin',\n",
       " 'btv1b10551313t': 'Latin',\n",
       " 'btv1b105513148': 'Latin',\n",
       " 'btv1b8585603c': 'Latin',\n",
       " 'btv1b8541016k': 'Latin',\n",
       " 'btv1b100391002': 'Latin',\n",
       " 'btv1b10543781q': 'Latin',\n",
       " 'btv1b10032938h': 'Latin',\n",
       " 'btv1b105513237': 'Latin',\n",
       " 'btv1b100343416': 'Latin',\n",
       " 'btv1b90659137': 'Latin',\n",
       " 'btv1b100373523': 'Latin',\n",
       " 'btv1b9066163p': 'Latin',\n",
       " 'btv1b10033056c': 'Latin',\n",
       " 'btv1b90684069': 'Latin',\n",
       " 'btv1b9078359c': 'Latin',\n",
       " 'btv1b100386749': 'Latin',\n",
       " 'btv1b90671044': 'Latin',\n",
       " 'btv1b85855973': 'Latin',\n",
       " 'btv1b85388026': 'Latin',\n",
       " 'btv1b10543772r': 'Latin',\n",
       " 'btv1b9076880w': 'Latin',\n",
       " 'btv1b90668062': 'Latin',\n",
       " 'btv1b9078000q': 'Latin',\n",
       " 'btv1b100381892': 'Latin',\n",
       " 'btv1b9077824k': 'Latin',\n",
       " 'btv1b10551328g': 'Latin',\n",
       " 'btv1b84274376': 'Latin',\n",
       " 'btv1b100324714': 'Latin',\n",
       " 'btv1b9066987v': 'Latin',\n",
       " 'btv1b100352148': 'Latin',\n",
       " 'btv1b105420770': 'Latin',\n",
       " 'btv1b85409631': 'Latin',\n",
       " 'btv1b10033034n': 'Latin',\n",
       " 'btv1b100364418': 'Latin',\n",
       " 'btv1b84323046': 'Latin',\n",
       " 'btv1b10721285v': 'Latin',\n",
       " 'btv1b107212026': 'Latin',\n",
       " 'btv1b52507646c': 'Latin',\n",
       " 'btv1b10037019f': 'Latin',\n",
       " 'btv1b9066492f': 'Latin',\n",
       " 'btv1b10033075r': 'Latin',\n",
       " 'btv1b10036996g': 'Latin',\n",
       " 'btv1b525018769': 'Latin',\n",
       " 'btv1b10033027k': 'Latin',\n",
       " 'btv1b10033030v': 'Latin',\n",
       " 'btv1b9078274q': 'Latin',\n",
       " 'btv1b85511181': 'Latin',\n",
       " 'btv1b105511278': 'Latin',\n",
       " 'btv1b84559233': 'Latin',\n",
       " 'btv1b100370989': 'Latin',\n",
       " 'btv1b9077838m': 'Latin',\n",
       " 'btv1b84965538': 'Latin',\n",
       " 'btv1b10543441x': 'Latin',\n",
       " 'btv1b10546493x': 'Latin',\n",
       " 'btv1b90660440': 'Latin',\n",
       " 'btv1b105395592': 'Latin',\n",
       " 'btv1b10539558m': 'Latin',\n",
       " 'btv1b10539560f': 'Latin',\n",
       " 'btv1b10539554t': 'Latin',\n",
       " 'btv1b10546161n': 'Latin',\n",
       " 'btv1b105395681': 'Latin',\n",
       " 'btv1b8539721h': 'Latin',\n",
       " 'btv1b10539569g': 'Latin',\n",
       " 'btv1b10540990d': 'Latin',\n",
       " 'btv1b10543776j': 'Latin',\n",
       " 'btv1b105477296': 'Latin',\n",
       " 'btv1b100388920': 'Latin',\n",
       " 'btv1b10543237f': 'Latin',\n",
       " 'btv1b10542008j': 'Latin',\n",
       " 'btv1b10037089b': 'Latin',\n",
       " 'btv1b9068279h': 'Latin',\n",
       " 'btv1b9078408d': 'Latin',\n",
       " 'btv1b10543436r': 'Latin',\n",
       " 'btv1b10032842v': 'Latin',\n",
       " 'btv1b10539526g': 'Latin',\n",
       " 'btv1b100364380': 'Latin',\n",
       " 'btv1b105461697': 'Latin',\n",
       " 'btv1b90779935': 'Latin',\n",
       " 'btv1b8447773n': 'Latin',\n",
       " 'btv1b9078366h': 'Latin',\n",
       " 'btv1b8550862j': 'Latin',\n",
       " 'btv1b10544626f': 'Latin',\n",
       " 'btv1b90778057': 'Latin',\n",
       " 'btv1b10032267n': 'Latin',\n",
       " 'btv1b100389268': 'Latin',\n",
       " 'btv1b90679163': 'Latin',\n",
       " 'btv1b9066823k': 'Latin',\n",
       " 'btv1b90670004': 'Latin',\n",
       " 'btv1b9066091n': 'Latin',\n",
       " 'btv1b10035408d': 'Latin',\n",
       " 'btv1b9066670j': 'Latin',\n",
       " 'btv1b9077898w': 'Latin',\n",
       " 'btv1b105461769': 'Latin',\n",
       " 'btv1b10551326k': 'Latin',\n",
       " 'btv1b100351874': 'Latin',\n",
       " 'btv1b10038488r': 'Latin',\n",
       " 'btv1b107211591': 'Latin',\n",
       " 'btv1b8432279k': 'Latin',\n",
       " 'btv1b84324583': 'Latin',\n",
       " 'btv1b9066059f': 'Latin',\n",
       " 'btv1b8540948b': 'Latin',\n",
       " 'btv1b52505662q': 'Latin',\n",
       " 'btv1b8432477f': 'Latin',\n",
       " 'btv1b107208867': 'Latin',\n",
       " 'btv1b550059715': 'Latin',\n",
       " 'btv1b105484870': 'Latin',\n",
       " 'btv1b105442241': 'Latin',\n",
       " 'btv1b9066181m': 'Latin',\n",
       " 'btv1b90661910': 'Latin',\n",
       " 'btv1b9066622g': 'Latin',\n",
       " 'btv1b10020321p': 'Latin',\n",
       " 'btv1b105276457': 'Latin',\n",
       " 'btv1b85511166': 'Latin',\n",
       " 'btv1b10539533j': 'Latin',\n",
       " 'btv1b10509039d': 'Latin',\n",
       " 'btv1b105510987': 'Latin',\n",
       " 'btv1b9066894n': 'Latin',\n",
       " 'btv1b10544635d': 'Latin',\n",
       " 'btv1b9066599p': 'Latin',\n",
       " 'btv1b10541002h': 'Latin',\n",
       " 'btv1b100385276': 'Latin',\n",
       " 'btv1b10541999s': 'Latin',\n",
       " 'btv1b105458399': 'Latin',\n",
       " 'btv1b10544629s': 'Latin',\n",
       " 'btv1b10542083m': 'Latin',\n",
       " 'btv1b10033099c': 'Latin',\n",
       " 'btv1b100323298': 'Latin',\n",
       " 'btv1b105463673': 'Latin',\n",
       " 'btv1b85710847': 'Latin',\n",
       " 'btv1b10033706z': 'Latin',\n",
       " 'btv1b9066797j': 'Latin',\n",
       " 'btv1b90782969': 'Latin',\n",
       " 'btv1b52505617w': 'Latin',\n",
       " 'btv1b10544379q': 'Latin',\n",
       " 'btv1b10546177r': 'Latin',\n",
       " 'btv1b105445334': 'Latin',\n",
       " 'btv1b8422979q': 'Latin',\n",
       " 'btv1b9068079t': 'Latin',\n",
       " 'btv1b100365317': 'Latin',\n",
       " 'btv1b52510672q': 'Latin',\n",
       " 'btv1b10033025p': 'Latin',\n",
       " 'btv1b10033029g': 'Latin',\n",
       " 'btv1b10038889q': 'Latin',\n",
       " 'btv1b8422992k': 'Latin',\n",
       " 'btv1b100364613': 'Latin',\n",
       " 'btv1b90677402': 'Latin',\n",
       " 'btv1b84229878': 'Latin',\n",
       " 'btv1b9065879n': 'Latin',\n",
       " 'btv1b8422988p': 'Latin',\n",
       " 'btv1b105421993': 'Latin',\n",
       " 'btv1b100386499': 'Latin',\n",
       " 'btv1b10544529d': 'Latin',\n",
       " 'btv1b105511009': 'Latin',\n",
       " 'btv1b10546792m': 'Latin',\n",
       " 'btv1b100390929': 'Latin',\n",
       " 'btv1b100321784': 'Latin',\n",
       " 'btv1b105157428': 'Latin',\n",
       " 'btv1b84386117': 'Latin',\n",
       " 'btv1b10032328t': 'Latin',\n",
       " 'btv1b9077865h': 'Latin',\n",
       " 'btv1b8427235p': 'Latin',\n",
       " 'btv1b84683148': 'Latin',\n",
       " 'btv1b10539556q': 'Latin',\n",
       " 'btv1b8594598g': 'Latin',\n",
       " 'btv1b100372859': 'Latin',\n",
       " 'btv1b90778717': 'Latin',\n",
       " 'btv1b105477311': 'Latin',\n",
       " 'btv1b10543778f': 'Latin',\n",
       " 'btv1b10539944x': 'Latin',\n",
       " 'btv1b100383851': 'Latin',\n",
       " 'btv1b90809063': 'Latin',\n",
       " 'btv1b10539567k': 'Latin',\n",
       " 'btv1b85303480': 'Latin',\n",
       " 'btv1b9080980n': 'Latin',\n",
       " 'btv1b8438617q': 'Latin',\n",
       " 'btv1b10721160d': 'Latin',\n",
       " 'btv1b107209783': 'Latin',\n",
       " 'btv1b105446379': 'Latin',\n",
       " 'btv1b10038902n': 'Latin',\n",
       " 'btv1b10038722q': 'Latin',\n",
       " 'btv1b10548528b': 'Latin',\n",
       " 'btv1b90665595': 'Latin',\n",
       " 'btv1b9066783h': 'Latin',\n",
       " 'btv1b90783601': 'Latin',\n",
       " 'btv1b100385471': 'Latin',\n",
       " 'btv1b9078393d': 'Latin',\n",
       " 'btv1b90724697': 'Latin',\n",
       " 'btv1b10723828p': 'Latin',\n",
       " 'btv1b9080985q': 'Latin',\n",
       " 'btv1b8553005p': 'Latin',\n",
       " 'btv1b90807584': 'Latin',\n",
       " 'btv1b103088868': 'Latin',\n",
       " 'btv1b100364630': 'Latin',\n",
       " 'btv1b8530222d': 'Latin',\n",
       " 'btv1b10036464f': 'Latin',\n",
       " 'btv1b9067063n': 'Latin',\n",
       " 'btv1b52505788m': 'Latin',\n",
       " 'btv1b9065971p': 'Latin',\n",
       " 'btv1b100332814': 'Latin',\n",
       " 'btv1b100332670': 'Latin',\n",
       " 'btv1b90778376': 'Latin',\n",
       " 'btv1b52508475r': 'Latin',\n",
       " 'btv1b52510858b': 'Latin',\n",
       " 'btv1b10506225x': 'Latin',\n",
       " 'btv1b90810492': 'Latin',\n",
       " 'btv1b10039270b': 'Latin',\n",
       " 'btv1b10543246d': 'Latin',\n",
       " 'btv1b525088686': 'Latin',\n",
       " 'btv1b10039260x': 'Latin',\n",
       " 'btv1b525113345': 'Latin',\n",
       " 'btv1b8432301z': 'Latin',\n",
       " 'btv1b8479009h': 'Latin',\n",
       " 'btv1b105437753': 'Latin',\n",
       " 'btv1b90809048': 'Latin',\n",
       " 'btv1b10539531n': 'Latin',\n",
       " 'btv1b90778643': 'Latin',\n",
       " 'btv1b8530185k': 'Latin',\n",
       " 'btv1b10724081b': 'Latin',\n",
       " 'btv1b60011270': 'Latin',\n",
       " 'btv1b10037085j': 'Latin',\n",
       " 'btv1b90764897': 'Latin',\n",
       " 'btv1b525099449': 'Latin',\n",
       " 'btv1b10539561w': 'Latin',\n",
       " 'btv1b90764845': 'Latin',\n",
       " 'btv1b10546776k': 'Latin',\n",
       " 'btv1b10037047s': 'Latin',\n",
       " 'btv1b10024758z': 'Latin',\n",
       " 'btv1b9066579x': 'Latin',\n",
       " 'btv1b105513093': 'Latin',\n",
       " 'btv1b8432310x': 'Latin',\n",
       " 'btv1b10720810n': 'Latin',\n",
       " 'btv1b8540958q': 'Latin',\n",
       " 'btv1b52511536t': 'Latin',\n",
       " 'btv1b525113078': 'Latin',\n",
       " 'btv1b90778072': 'Latin',\n",
       " 'btv1b100391845': 'Latin',\n",
       " 'btv1b9081000t': 'Latin',\n",
       " 'btv1b100390427': 'Latin',\n",
       " 'btv1b100391684': 'Latin',\n",
       " 'btv1b90809938': 'Latin',\n",
       " 'btv1b105384884': 'Latin',\n",
       " 'btv1b8426046g': 'Latin',\n",
       " 'btv1b84262732': 'Latin',\n",
       " 'btv1b9076693t': 'Latin',\n",
       " 'btv1b52510066t': 'Latin',\n",
       " 'btv1b100353996': 'Latin',\n",
       " 'btv1b10032539f': 'Latin',\n",
       " 'btv1b9080957d': 'Latin',\n",
       " 'btv1b105420808': 'Latin',\n",
       " 'btv1b84546883': 'Latin',\n",
       " 'btv1b84260541': 'Latin',\n",
       " 'btv1b10039257n': 'Latin',\n",
       " 'btv1b100392299': 'Latin',\n",
       " 'btv1b10032706m': 'Latin',\n",
       " 'btv1b10036207j': 'Latin',\n",
       " 'btv1b8452643w': 'Latin',\n",
       " 'btv1b8455938j': 'Latin',\n",
       " 'btv1b90659367': 'Latin',\n",
       " 'btv1b8432457p': 'Latin',\n",
       " 'btv1b9068100s': 'Latin',\n",
       " 'btv1b8530343x': 'Latin',\n",
       " 'btv1b6000531z': 'Latin',\n",
       " 'btv1b9068350c': 'Latin',\n",
       " 'btv1b100331091': 'Latin',\n",
       " 'btv1b10542351m': 'Latin',\n",
       " 'btv1b10037127b': 'Latin',\n",
       " 'btv1b10035330p': 'Latin',\n",
       " 'btv1b84229752': 'Latin',\n",
       " 'btv1b10038830m': 'Latin',\n",
       " 'btv1b90808201': 'Latin',\n",
       " 'btv1b9067012b': 'Latin',\n",
       " 'btv1b100353744': 'Latin',\n",
       " 'btv1b10032952n': 'Latin',\n",
       " 'btv1b9066668g': 'Latin',\n",
       " 'btv1b10510335z': 'Latin',\n",
       " 'btv1b9077665t': 'Latin',\n",
       " 'btv1b100363106': 'Latin',\n",
       " 'btv1b10537361f': 'Latin',\n",
       " 'btv1b8442899p': 'Latin',\n",
       " 'btv1b9077900h': 'Latin',\n",
       " 'btv1b100369828': 'Latin',\n",
       " 'btv1b9080827x': 'Latin',\n",
       " 'btv1b9067088g': 'Latin',\n",
       " 'btv1b10036776w': 'Latin',\n",
       " 'btv1b9076779w': 'Latin',\n",
       " 'btv1b9078039k': 'Latin',\n",
       " 'btv1b100389374': 'Latin',\n",
       " 'btv1b90670872': 'Latin',\n",
       " 'btv1b10022500v': 'Latin',\n",
       " 'btv1b85410081': 'Latin',\n",
       " 'btv1b90660922': 'Latin',\n",
       " 'btv1b10038852b': 'Latin',\n",
       " 'btv1b100392672': 'Latin',\n",
       " 'btv1b53164667m': 'Latin',\n",
       " 'btv1b100346437': 'Latin',\n",
       " 'btv1b52504709d': 'Latin',\n",
       " 'btv1b10035267p': 'Latin',\n",
       " 'btv1b9067848q': 'Latin',\n",
       " 'btv1b90780882': 'Latin',\n",
       " 'btv1b9068379v': 'Latin',\n",
       " 'btv1b9066149d': 'Latin',\n",
       " 'btv1b9066039p': 'Latin',\n",
       " 'btv1b525113290': 'Latin',\n",
       " 'btv1b90660581': 'Latin',\n",
       " 'btv1b100365351': 'Latin',\n",
       " 'btv1b9066062x': 'Latin',\n",
       " 'btv1b100357073': 'Latin',\n",
       " 'btv1b10544217z': 'Latin',\n",
       " 'btv1b90669925': 'Latin',\n",
       " 'btv1b10035697f': 'Latin',\n",
       " 'btv1b10038298d': 'Latin',\n",
       " 'btv1b105467648': 'Latin',\n",
       " 'btv1b10037071b': 'Latin',\n",
       " 'btv1b9072638c': 'Latin',\n",
       " 'btv1b10036974r': 'Latin',\n",
       " 'btv1b10037076k': 'Latin',\n",
       " 'btv1b100364702': 'Latin',\n",
       " 'btv1b84514679': 'Latin',\n",
       " 'btv1b10038238x': 'Latin',\n",
       " 'btv1b10032488p': 'Latin',\n",
       " 'btv1b8422971d': 'Latin',\n",
       " 'btv1b9072580m': 'Latin',\n",
       " 'btv1b9076626d': 'Latin',\n",
       " 'btv1b90766287': 'Latin',\n",
       " 'btv1b100390338': 'Latin',\n",
       " 'btv1b100352254': 'Latin',\n",
       " 'btv1b9066851w': 'Latin',\n",
       " 'btv1b9077711m': 'Latin',\n",
       " 'btv1b100384750': 'Latin',\n",
       " 'btv1b10034353h': 'Latin',\n",
       " 'btv1b90807658': 'Latin',\n",
       " 'btv1b10032841d': 'Latin',\n",
       " 'btv1b100387129': 'Latin',\n",
       " 'btv1b10036591q': 'Latin',\n",
       " 'btv1b52508087j': 'Latin',\n",
       " 'btv1b9081073q': 'Latin',\n",
       " 'btv1b100364971': 'Latin',\n",
       " 'btv1b10721186x': 'Latin',\n",
       " 'btv1b100386086': 'Latin',\n",
       " 'btv1b10544532p': 'Latin',\n",
       " 'btv1b90665810': 'Latin',\n",
       " 'btv1b52509625s': 'Latin',\n",
       " 'btv1b100371458': 'Latin',\n",
       " 'btv1b100357681': 'Latin',\n",
       " 'btv1b10036629s': 'Latin',\n",
       " 'btv1b10034568x': 'Latin',\n",
       " 'btv1b10034529q': 'Latin',\n",
       " 'btv1b10543449h': 'Latin',\n",
       " 'btv1b10039259j': 'Latin',\n",
       " 'btv1b10036598v': 'Latin',\n",
       " 'btv1b10039133n': 'Latin',\n",
       " 'btv1b10035700z': 'Latin',\n",
       " 'btv1b8452657x': 'Latin',\n",
       " 'btv1b52510857w': 'Latin',\n",
       " 'btv1b52509947n': 'Latin',\n",
       " 'btv1b8442904j': 'Latin',\n",
       " 'btv1b9081019x': 'Latin',\n",
       " 'btv1b9068046f': 'Latin',\n",
       " 'btv1b8454689h': 'Latin',\n",
       " 'btv1b10039032t': 'Latin',\n",
       " 'btv1b10034707r': 'Latin',\n",
       " 'btv1b10039031c': 'Latin',\n",
       " 'btv1b90810351': 'Latin',\n",
       " 'btv1b9076492q': 'Latin',\n",
       " 'btv1b105452802': 'Latin',\n",
       " 'btv1b10546170m': 'Latin',\n",
       " 'btv1b100331000': 'Latin',\n",
       " 'btv1b10038614t': 'Latin',\n",
       " 'btv1b9066865x': 'Latin',\n",
       " 'btv1b10545835h': 'Latin',\n",
       " 'btv1b8452772z': 'Latin',\n",
       " 'btv1b9068281k': 'Latin',\n",
       " 'btv1b9078260p': 'Latin',\n",
       " 'btv1b84789952': 'Latin',\n",
       " 'btv1b9080965z': 'Latin',\n",
       " 'btv1b52500666s': 'Latin',\n",
       " 'btv1b10033032r': 'Latin',\n",
       " 'btv1b10036992p': 'Latin',\n",
       " 'btv1b100324017': 'Latin',\n",
       " 'btv1b10036997x': 'Latin',\n",
       " 'btv1b90670056': 'Latin',\n",
       " 'btv1b9080796t': 'Latin',\n",
       " 'btv1b10036859s': 'Latin',\n",
       " 'btv1b10035686k': 'Latin',\n",
       " 'btv1b9080795d': 'Latin',\n",
       " 'btv1b100328204': 'Latin',\n",
       " 'btv1b9077722d': 'Latin',\n",
       " 'btv1b9066751j': 'Latin',\n",
       " 'btv1b100356854': 'Latin',\n",
       " 'btv1b90678264': 'Latin',\n",
       " 'btv1b10036246r': 'Latin',\n",
       " 'btv1b9076624k': 'Latin',\n",
       " 'btv1b90808661': 'Latin',\n",
       " 'btv1b10038999h': 'Latin',\n",
       " 'btv1b100384214': 'Latin',\n",
       " 'btv1b100335907': 'Latin',\n",
       " 'btv1b10033405c': 'Latin',\n",
       " 'btv1b10036806c': 'Latin',\n",
       " 'btv1b10037293t': 'Latin',\n",
       " 'btv1b10039075t': 'Latin',\n",
       " 'btv1b10037110s': 'Latin',\n",
       " 'btv1b10036386s': 'Latin',\n",
       " 'btv1b10033183n': 'Latin',\n",
       " 'btv1b100343020': 'Latin',\n",
       " 'btv1b10036654s': 'Latin',\n",
       " 'btv1b10032657r': 'Latin',\n",
       " 'btv1b100327718': 'Latin',\n",
       " 'btv1b10720965b': 'Latin',\n",
       " 'btv1b9077863p': 'Latin',\n",
       " 'btv1b10035211x': 'Latin',\n",
       " 'btv1b10038553n': 'Latin',\n",
       " 'btv1b100334078': 'Latin',\n",
       " 'btv1b10036282m': 'Latin',\n",
       " 'btv1b10035270z': 'Latin',\n",
       " 'btv1b10039121b': 'Latin',\n",
       " 'btv1b8541012x': 'Latin',\n",
       " 'btv1b100385810': 'Latin',\n",
       " 'btv1b8496556h': 'Latin',\n",
       " 'btv1b100345911': 'Latin',\n",
       " 'btv1b6000034g': 'Latin',\n",
       " 'btv1b10516082m': 'Latin',\n",
       " 'btv1b10036356j': 'Latin',\n",
       " 'btv1b90680451': 'Latin',\n",
       " 'btv1b90684425': 'Latin',\n",
       " 'btv1b10039226z': 'Latin',\n",
       " 'btv1b90661628': 'Latin',\n",
       " 'btv1b10721194f': 'Latin',\n",
       " 'btv1b90659723': 'Latin',\n",
       " 'btv1b10039181t': 'Latin',\n",
       " 'btv1b10039011j': 'Latin',\n",
       " 'btv1b100390679': 'Latin',\n",
       " 'btv1b90665684': 'Latin',\n",
       " 'btv1b90764578': 'Latin',\n",
       " 'btv1b9065965z': 'Latin',\n",
       " 'btv1b10039183q': 'Latin',\n",
       " 'btv1b52507469s': 'Latin',\n",
       " 'btv1b9068062j': 'Latin',\n",
       " 'btv1b9066614x': 'Latin',\n",
       " 'btv1b9067774v': 'Latin',\n",
       " 'btv1b100334792': 'Latin',\n",
       " 'btv1b10038961p': 'Latin',\n",
       " 'btv1b100338678': 'Latin',\n",
       " 'btv1b10034292b': 'Latin',\n",
       " 'btv1b100372802': 'Latin',\n",
       " 'btv1b100365512': 'Latin',\n",
       " 'btv1b90783653': 'Latin',\n",
       " 'btv1b9077924x': 'Latin',\n",
       " 'btv1b100352504': 'Latin',\n",
       " 'btv1b90769733': 'Latin',\n",
       " 'btv1b100366557': 'Latin',\n",
       " 'btv1b9066190k': 'Latin',\n",
       " 'btv1b90782932': 'Latin',\n",
       " 'btv1b10036597d': 'Latin',\n",
       " 'btv1b90662060': 'Latin',\n",
       " 'btv1b90725292': 'Latin',\n",
       " 'btv1b90770042': 'Latin',\n",
       " 'btv1b10501688j': 'Latin',\n",
       " 'btv1b100329533': 'Latin',\n",
       " 'btv1b85530048': 'Latin',\n",
       " 'btv1b9077801k': 'Latin',\n",
       " 'btv1b9078122n': 'Latin',\n",
       " 'btv1b10038632r': 'Latin',\n",
       " 'btv1b10035835t': 'Latin',\n",
       " 'btv1b100390516': 'Latin',\n",
       " 'btv1b10039212r': 'Latin',\n",
       " 'btv1b10039245b': 'Latin',\n",
       " 'btv1b10039056f': 'Latin',\n",
       " 'btv1b9077804t': 'Latin',\n",
       " 'btv1b10038435b': 'Latin',\n",
       " 'btv1b10039236c': 'Latin',\n",
       " 'btv1b10038625p': 'Latin',\n",
       " 'btv1b10039228v': 'Latin',\n",
       " 'btv1b10039235x': 'Latin',\n",
       " 'btv1b100386319': 'Latin',\n",
       " 'btv1b10038445r': 'Latin',\n",
       " 'btv1b10038447n': 'Latin',\n",
       " 'btv1b10039232k': 'Latin',\n",
       " 'btv1b10038629g': 'Latin',\n",
       " 'btv1b10039047g': 'Latin',\n",
       " 'btv1b8426049q': 'Latin',\n",
       " 'btv1b100390533': 'Latin',\n",
       " 'btv1b10033137c': 'Latin',\n",
       " 'btv1b9076780j': 'Latin',\n",
       " 'btv1b100334184': 'Latin',\n",
       " 'btv1b525025038': 'Latin',\n",
       " 'btv1b100366485': 'Latin',\n",
       " 'btv1b10034659b': 'Latin',\n",
       " 'btv1b10036081d': 'Latin',\n",
       " 'btv1b100328367': 'Latin',\n",
       " 'btv1b100392583': 'Latin',\n",
       " 'btv1b100364185': 'Latin',\n",
       " 'btv1b90767987': 'Latin',\n",
       " 'btv1b9066127t': 'Latin',\n",
       " 'btv1b9067228w': 'Latin',\n",
       " 'btv1b10032188j': 'Latin',\n",
       " 'btv1b90808468': 'Latin',\n",
       " 'btv1b10034527t': 'Latin',\n",
       " 'btv1b10724251v': 'Latin',\n",
       " 'btv1b10036381j': 'Latin',\n",
       " 'btv1b10510321r': 'Latin',\n",
       " 'btv1b90726584': 'Latin',\n",
       " 'btv1b10032835s': 'Latin',\n",
       " 'btv1b10039264q': 'Latin',\n",
       " 'btv1b53173811k': 'Latin',\n",
       " 'btv1b9078043g': 'Latin',\n",
       " 'btv1b52510065c': 'Latin',\n",
       " 'btv1b9066606c': 'Latin',\n",
       " 'btv1b9066669w': 'Latin',\n",
       " 'btv1b10034741q': 'Latin',\n",
       " 'btv1b9077962m': 'Latin',\n",
       " 'btv1b9076756w': 'Latin',\n",
       " 'btv1b9076778g': 'Latin',\n",
       " 'btv1b10084093k': 'Latin',\n",
       " 'btv1b9068346g': 'Latin',\n",
       " 'btv1b52000441k': 'Latin',\n",
       " 'btv1b10036981t': 'Latin',\n",
       " 'btv1b100366396': 'Latin',\n",
       " 'btv1b9078036b': 'Latin',\n",
       " 'btv1b10036082v': 'Latin',\n",
       " 'btv1b9076755g': 'Latin',\n",
       " 'btv1b10036939b': 'Latin',\n",
       " 'btv1b100346526': 'Latin',\n",
       " 'btv1b10038677n': 'Latin',\n",
       " 'btv1b90726443': 'Latin',\n",
       " 'btv1b52508765g': 'Latin',\n",
       " 'btv1b90671489': 'Latin',\n",
       " 'btv1b10036103c': 'Latin',\n",
       " 'btv1b90670160': 'Latin',\n",
       " 'btv1b100329622': 'Latin',\n",
       " 'btv1b9067038k': 'Latin',\n",
       " 'btv1b9066175w': 'Latin',\n",
       " 'btv1b9080826h': 'Latin',\n",
       " 'btv1b100353549': 'Latin',\n",
       " 'btv1b90672440': 'Latin',\n",
       " 'btv1b525048552': 'Latin',\n",
       " 'btv1b10032174b': 'Latin',\n",
       " 'btv1b9078064n': 'Latin',\n",
       " 'btv1b90779668': 'Latin',\n",
       " 'btv1b10036178h': 'Latin',\n",
       " 'btv1b9080748r': 'Latin',\n",
       " 'btv1b10538487p': 'Latin',\n",
       " 'btv1b9077983s': 'Latin',\n",
       " 'btv1b9078048j': 'Latin',\n",
       " 'btv1b9076633j': 'Latin',\n",
       " 'btv1b90672744': 'Latin',\n",
       " 'btv1b90780867': 'Latin',\n",
       " 'btv1b90780459': 'Latin',\n",
       " 'btv1b10033356h': 'Latin',\n",
       " 'btv1b90672729': 'Latin',\n",
       " 'btv1b9076603d': 'Latin',\n",
       " 'btv1b90678531': 'Latin',\n",
       " 'btv1b9078071s': 'Latin',\n",
       " 'btv1b9077985m': 'Latin',\n",
       " 'btv1b52503514g': 'Latin',\n",
       " 'btv1b90776489': 'Latin',\n",
       " 'btv1b525108283': 'Latin',\n",
       " 'btv1b10038963k': 'Latin',\n",
       " 'btv1b10033363k': 'Latin',\n",
       " 'btv1b9068332f': 'Latin',\n",
       " 'btv1b10036073w': 'Latin',\n",
       " 'btv1b100337705': 'Latin',\n",
       " 'btv1b100324894': 'Latin',\n",
       " 'btv1b9065881q': 'Latin',\n",
       " 'btv1b10038460b': 'Latin',\n",
       " 'btv1b52511558j': 'Latin',\n",
       " 'btv1b100855893': 'Latin',\n",
       " 'btv1b10035443t': 'Latin',\n",
       " 'btv1b90807940': 'Latin',\n",
       " 'btv1b9077725n': 'Latin',\n",
       " 'btv1b10038957z': 'Latin',\n",
       " 'btv1b9078233s': 'Latin',\n",
       " 'btv1b10034757t': 'Latin',\n",
       " 'btv1b9078385v': 'Latin',\n",
       " 'btv1b90777210': 'Latin',\n",
       " 'btv1b10036189c': 'Latin',\n",
       " 'btv1b8442830p': 'Latin',\n",
       " 'btv1b107232057': 'Latin',\n",
       " 'btv1b10038370c': 'Latin',\n",
       " 'btv1b9067938p': 'Latin',\n",
       " 'btv1b9067712r': 'Latin',\n",
       " 'btv1b85856071': 'Latin',\n",
       " 'btv1b9072519p': 'Latin',\n",
       " 'btv1b10038368j': 'Latin',\n",
       " 'btv1b100321265': 'Latin',\n",
       " 'btv1b6000376v': 'Latin',\n",
       " 'btv1b10032547z': 'Latin',\n",
       " 'btv1b10033584m': 'Latin',\n",
       " 'btv1b100374138': 'Latin',\n",
       " 'btv1b10036814w': 'Latin',\n",
       " 'btv1b84546905': 'French',\n",
       " 'btv1b6000563x': 'Latin',\n",
       " 'btv1b10037257z': 'Latin',\n",
       " 'btv1b10037232w': 'Latin',\n",
       " 'btv1b90680258': 'Latin',\n",
       " 'btv1b525002791': 'Latin',\n",
       " 'btv1b10036584n': 'Latin',\n",
       " 'btv1b10033039w': 'Latin',\n",
       " 'btv1b84428380': 'Latin',\n",
       " 'btv1b10032523b': 'Latin',\n",
       " 'btv1b10033268f': 'Latin',\n",
       " 'btv1b10035413k': 'Latin',\n",
       " 'btv1b10032394x': 'Latin',\n",
       " 'btv1b100343935': 'Latin',\n",
       " 'btv1b100329461': 'Latin',\n",
       " 'btv1b9068026p': 'Latin',\n",
       " 'btv1b10038203f': 'Latin',\n",
       " 'btv1b10723112x': 'Latin',\n",
       " 'btv1b10721161v': 'Latin',\n",
       " 'btv1b550131402': 'Latin',\n",
       " 'btv1b52508515n': 'Latin',\n",
       " 'btv1b10038684q': 'Latin',\n",
       " 'btv1b84260452': 'Latin',\n",
       " 'btv1b10039103d': 'Latin',\n",
       " 'btv1b10035790p': 'Latin',\n",
       " 'btv1b10035450w': 'Latin',\n",
       " 'btv1b9066170t': 'Latin',\n",
       " 'btv1b85295093': 'Latin',\n",
       " 'btv1b100328310': 'Latin',\n",
       " 'btv1b90810262': 'Latin',\n",
       " 'btv1b100359284': 'Latin',\n",
       " 'btv1b9072539f': 'Latin',\n",
       " 'btv1b9080996h': 'Latin',\n",
       " 'btv1b8490082d': 'Latin',\n",
       " 'btv1b100365819': 'Latin',\n",
       " 'btv1b9080914n': 'Latin',\n",
       " 'btv1b9066916s': 'Latin',\n",
       " 'btv1b10032342z': 'Latin',\n",
       " 'btv1b10033296s': 'Latin',\n",
       " 'btv1b90665862': 'Latin',\n",
       " 'btv1b90777514': 'Latin',\n",
       " 'btv1b53157002b': 'Latin',\n",
       " 'btv1b90677810': 'Latin',\n",
       " 'btv1b10038882k': 'Latin',\n",
       " 'btv1b9066802d': 'Latin',\n",
       " 'btv1b90666108': 'Latin',\n",
       " 'btv1b9067728m': 'Latin',\n",
       " 'btv1b100372965': 'Latin',\n",
       " 'btv1b100337438': 'Latin',\n",
       " 'btv1b10036327r': 'Latin',\n",
       " 'btv1b90677528': 'Latin',\n",
       " 'btv1b8446934x': 'Latin',\n",
       " 'btv1b9076968s': 'Latin',\n",
       " 'btv1b10038540w': 'Latin',\n",
       " 'btv1b9067762n': 'Latin',\n",
       " 'btv1b107216213': 'Latin',\n",
       " 'btv1b84477727': 'Latin',\n",
       " 'btv1b9068392q': 'Latin',\n",
       " 'btv1b107211898': 'Latin',\n",
       " 'btv1b90668314': 'Latin',\n",
       " 'btv1b9080953r': 'Latin',\n",
       " 'btv1b9076924m': 'Latin',\n",
       " ...}"
      ]
     },
     "execution_count": 40,
     "metadata": {},
     "output_type": "execute_result"
    }
   ],
   "source": [
    "from pandas import read_csv\n",
    "\n",
    "MSS = read_csv(\"../state-of-htr/0- mss.csv\")\n",
    "MSS[\"btv\"] = MSS.apply(lambda row: row.uri.split(\"/\")[-2], axis=1)\n",
    "\n",
    "MSS = {\n",
    "    row.btv: (row.lang)\n",
    "    for _, row in MSS.iterrows()\n",
    "}"
   ]
  },
  {
   "cell_type": "code",
   "execution_count": 43,
   "id": "99508e08",
   "metadata": {},
   "outputs": [
    {
     "data": {
      "text/plain": [
       "{'lang': 'lat',\n",
       " 'century': '10',\n",
       " 'page': 'f14',\n",
       " 'manuscript': 'btv1b10032123t',\n",
       " 'text': 'apparente. Iuno .i. aer splendore eꝰ. illustrat᷑.'}"
      ]
     },
     "execution_count": 43,
     "metadata": {},
     "output_type": "execute_result"
    }
   ],
   "source": [
    "simplification = {\n",
    "    \"Latin\": \"lat\",\n",
    "    \"French\": \"fro\"\n",
    "}\n",
    "new_lines = [\n",
    "    {\"lang\": simplification[MSS[line[\"manuscript\"]]], **line}\n",
    "    for line in lines\n",
    "]\n",
    "new_lines[0]"
   ]
  },
  {
   "cell_type": "code",
   "execution_count": 45,
   "id": "2b482ddf",
   "metadata": {},
   "outputs": [],
   "source": [
    "from pandas import DataFrame\n",
    "\n",
    "df = DataFrame(new_lines)\n",
    "df.to_hdf(\"preds.hdf\", key=\"df\")"
   ]
  }
 ],
 "metadata": {
  "kernelspec": {
   "display_name": "Python 3 (ipykernel)",
   "language": "python",
   "name": "python3"
  },
  "language_info": {
   "codemirror_mode": {
    "name": "ipython",
    "version": 3
   },
   "file_extension": ".py",
   "mimetype": "text/x-python",
   "name": "python",
   "nbconvert_exporter": "python",
   "pygments_lexer": "ipython3",
   "version": "3.8.13"
  }
 },
 "nbformat": 4,
 "nbformat_minor": 5
}
