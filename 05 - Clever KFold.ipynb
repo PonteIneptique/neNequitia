{
 "cells": [
  {
   "cell_type": "code",
   "execution_count": 4,
   "id": "0985c57d",
   "metadata": {},
   "outputs": [],
   "source": [
    "import pandas as pd\n",
    "import numpy as np"
   ]
  },
  {
   "cell_type": "code",
   "execution_count": 5,
   "id": "5cdb2760",
   "metadata": {},
   "outputs": [],
   "source": [
    "df = pd.read_hdf(\"texts.hdf5\", key=\"df\", index_col=0)\n",
    "df[\"K\"] = 0"
   ]
  },
  {
   "cell_type": "code",
   "execution_count": 6,
   "id": "d22f87b5",
   "metadata": {},
   "outputs": [
    {
     "data": {
      "text/html": [
       "<div>\n",
       "<style scoped>\n",
       "    .dataframe tbody tr th:only-of-type {\n",
       "        vertical-align: middle;\n",
       "    }\n",
       "\n",
       "    .dataframe tbody tr th {\n",
       "        vertical-align: top;\n",
       "    }\n",
       "\n",
       "    .dataframe thead th {\n",
       "        text-align: right;\n",
       "    }\n",
       "</style>\n",
       "<table border=\"1\" class=\"dataframe\">\n",
       "  <thead>\n",
       "    <tr style=\"text-align: right;\">\n",
       "      <th></th>\n",
       "      <th>transcription</th>\n",
       "      <th>manuscript</th>\n",
       "      <th>page_id</th>\n",
       "      <th>line_id</th>\n",
       "      <th>CER</th>\n",
       "      <th>lang</th>\n",
       "      <th>K</th>\n",
       "    </tr>\n",
       "  </thead>\n",
       "  <tbody>\n",
       "    <tr>\n",
       "      <th>307823</th>\n",
       "      <td>bant ascamis lop.Si</td>\n",
       "      <td>bnf_fr_22549_sept_sages</td>\n",
       "      <td>0</td>\n",
       "      <td>97</td>\n",
       "      <td>25.0000</td>\n",
       "      <td>fro</td>\n",
       "      <td>0</td>\n",
       "    </tr>\n",
       "    <tr>\n",
       "      <th>253434</th>\n",
       "      <td>de tret qͥ se tenoiet anre seignor com</td>\n",
       "      <td>BnF_fr_411_saintLambert_microfilm</td>\n",
       "      <td>0</td>\n",
       "      <td>138</td>\n",
       "      <td>9.3023</td>\n",
       "      <td>fro</td>\n",
       "      <td>0</td>\n",
       "    </tr>\n",
       "    <tr>\n",
       "      <th>354634</th>\n",
       "      <td>C</td>\n",
       "      <td>bnf_fr_24428_bestiaire</td>\n",
       "      <td>13</td>\n",
       "      <td>19</td>\n",
       "      <td>0.0000</td>\n",
       "      <td>fro</td>\n",
       "      <td>0</td>\n",
       "    </tr>\n",
       "    <tr>\n",
       "      <th>155174</th>\n",
       "      <td>il ne vit goute. L adamo</td>\n",
       "      <td>bnf_fr_22549_sept_sages</td>\n",
       "      <td>11</td>\n",
       "      <td>139</td>\n",
       "      <td>8.3333</td>\n",
       "      <td>fro</td>\n",
       "      <td>0</td>\n",
       "    </tr>\n",
       "    <tr>\n",
       "      <th>110968</th>\n",
       "      <td></td>\n",
       "      <td>bnf_fr_22549_sept_sages</td>\n",
       "      <td>3</td>\n",
       "      <td>83</td>\n",
       "      <td>93.5484</td>\n",
       "      <td>fro</td>\n",
       "      <td>0</td>\n",
       "    </tr>\n",
       "  </tbody>\n",
       "</table>\n",
       "</div>"
      ],
      "text/plain": [
       "                                 transcription  \\\n",
       "307823                     bant ascamis lop.Si   \n",
       "253434  de tret qͥ se tenoiet anre seignor com   \n",
       "354634                                       C   \n",
       "155174                il ne vit goute. L adamo   \n",
       "110968                                           \n",
       "\n",
       "                               manuscript  page_id  line_id      CER lang  K  \n",
       "307823            bnf_fr_22549_sept_sages        0       97  25.0000  fro  0  \n",
       "253434  BnF_fr_411_saintLambert_microfilm        0      138   9.3023  fro  0  \n",
       "354634             bnf_fr_24428_bestiaire       13       19   0.0000  fro  0  \n",
       "155174            bnf_fr_22549_sept_sages       11      139   8.3333  fro  0  \n",
       "110968            bnf_fr_22549_sept_sages        3       83  93.5484  fro  0  "
      ]
     },
     "execution_count": 6,
     "metadata": {},
     "output_type": "execute_result"
    }
   ],
   "source": [
    "df.tail()"
   ]
  },
  {
   "cell_type": "markdown",
   "id": "71e7df1d",
   "metadata": {},
   "source": [
    "# Get all manuscripts"
   ]
  },
  {
   "cell_type": "code",
   "execution_count": 47,
   "id": "c9feb988",
   "metadata": {},
   "outputs": [],
   "source": [
    "import copy\n",
    "\n",
    "def get_manuscripts_and_lang_kfolds(dataframe, k=0, per_k=2):\n",
    "    all_data = {}\n",
    "    for lang, mss in dataframe.set_index(['lang', 'manuscript']).sort_index().index.unique():\n",
    "        if lang not in all_data:\n",
    "            all_data[lang] = []\n",
    "        all_data[lang].append(mss)\n",
    "\n",
    "    train, dev, test = [], [], []\n",
    "    local_data = copy.deepcopy(all_data)\n",
    "    for lang in all_data:\n",
    "        nb_mss = len(local_data[lang])\n",
    "\n",
    "        for i in range(per_k):\n",
    "            dev.append(local_data[lang].pop(k*per_k+i))\n",
    "\n",
    "        for i in range(per_k):\n",
    "            test.append(local_data[lang].pop(k*per_k+i))\n",
    "\n",
    "        train.extend(local_data[lang])\n",
    "    return (\n",
    "        df.loc[df.manuscript.isin(train)],\n",
    "        df.loc[df.manuscript.isin(dev)],\n",
    "        df.loc[df.manuscript.isin(test)]\n",
    "    )"
   ]
  },
  {
   "cell_type": "markdown",
   "id": "3ed1e4fd",
   "metadata": {},
   "source": [
    "# Generate K-Folds class"
   ]
  },
  {
   "cell_type": "code",
   "execution_count": 11,
   "id": "d429c12f",
   "metadata": {},
   "outputs": [
    {
     "data": {
      "text/html": [
       "<div>\n",
       "<style scoped>\n",
       "    .dataframe tbody tr th:only-of-type {\n",
       "        vertical-align: middle;\n",
       "    }\n",
       "\n",
       "    .dataframe tbody tr th {\n",
       "        vertical-align: top;\n",
       "    }\n",
       "\n",
       "    .dataframe thead th {\n",
       "        text-align: right;\n",
       "    }\n",
       "</style>\n",
       "<table border=\"1\" class=\"dataframe\">\n",
       "  <thead>\n",
       "    <tr style=\"text-align: right;\">\n",
       "      <th></th>\n",
       "      <th>idx</th>\n",
       "      <th>bin</th>\n",
       "      <th>transcription</th>\n",
       "      <th>manuscript</th>\n",
       "      <th>page_id</th>\n",
       "      <th>line_id</th>\n",
       "      <th>CER</th>\n",
       "      <th>K</th>\n",
       "    </tr>\n",
       "  </thead>\n",
       "  <tbody>\n",
       "    <tr>\n",
       "      <th>265020</th>\n",
       "      <td>70139</td>\n",
       "      <td>5</td>\n",
       "      <td>duigitee nt oi ntenꝰ solu põ sfista om̃ ideñ...</td>\n",
       "      <td>BIS-193</td>\n",
       "      <td>4</td>\n",
       "      <td>131</td>\n",
       "      <td>55.062500</td>\n",
       "      <td>9</td>\n",
       "    </tr>\n",
       "    <tr>\n",
       "      <th>265021</th>\n",
       "      <td>16376</td>\n",
       "      <td>0</td>\n",
       "      <td>ñ. qr forͣ eiꝰ nͨ re nͦ intłłcu ẽ młtiplił.</td>\n",
       "      <td>WettF0015</td>\n",
       "      <td>0</td>\n",
       "      <td>72</td>\n",
       "      <td>6.523438</td>\n",
       "      <td>9</td>\n",
       "    </tr>\n",
       "    <tr>\n",
       "      <th>265022</th>\n",
       "      <td>187671</td>\n",
       "      <td>1</td>\n",
       "      <td>qimout aenuis lidona.Et en la fin quͣ̃t</td>\n",
       "      <td>bnf_fr_412_wauchier</td>\n",
       "      <td>29</td>\n",
       "      <td>83</td>\n",
       "      <td>11.765625</td>\n",
       "      <td>9</td>\n",
       "    </tr>\n",
       "    <tr>\n",
       "      <th>265023</th>\n",
       "      <td>69102</td>\n",
       "      <td>3</td>\n",
       "      <td>pippuore lecit lie fa : tiste</td>\n",
       "      <td>Latin6395</td>\n",
       "      <td>1</td>\n",
       "      <td>112</td>\n",
       "      <td>39.281250</td>\n",
       "      <td>9</td>\n",
       "    </tr>\n",
       "    <tr>\n",
       "      <th>265024</th>\n",
       "      <td>299512</td>\n",
       "      <td>0</td>\n",
       "      <td>cist le cocatris ⁊ cue</td>\n",
       "      <td>bnf_fr_24428_bestiaire</td>\n",
       "      <td>13</td>\n",
       "      <td>2</td>\n",
       "      <td>9.523438</td>\n",
       "      <td>9</td>\n",
       "    </tr>\n",
       "  </tbody>\n",
       "</table>\n",
       "</div>"
      ],
      "text/plain": [
       "           idx  bin                                      transcription  \\\n",
       "265020   70139    5  duigitee nt oi ntenꝰ solu põ sfista om̃ ideñ...   \n",
       "265021   16376    0      ñ. qr forͣ eiꝰ nͨ re nͦ intłłcu ẽ młtiplił.   \n",
       "265022  187671    1            qimout aenuis lidona.Et en la fin quͣ̃t   \n",
       "265023   69102    3                      pippuore lecit lie fa : tiste   \n",
       "265024  299512    0                             cist le cocatris ⁊ cue   \n",
       "\n",
       "                    manuscript  page_id  line_id        CER  K  \n",
       "265020                 BIS-193        4      131  55.062500  9  \n",
       "265021               WettF0015        0       72   6.523438  9  \n",
       "265022     bnf_fr_412_wauchier       29       83  11.765625  9  \n",
       "265023               Latin6395        1      112  39.281250  9  \n",
       "265024  bnf_fr_24428_bestiaire       13        2   9.523438  9  "
      ]
     },
     "execution_count": 11,
     "metadata": {},
     "output_type": "execute_result"
    }
   ],
   "source": [
    "KS = 10\n",
    "\n",
    "#kf = KFold(n_splits=KS, shuffle = True, random_state = 2)\n",
    "\n",
    "for unique_bin in df.bin.unique():\n",
    "    ids = list(np.array_split(np.array(df[df.bin == unique_bin].index), KS))\n",
    "    for k, k_ids in enumerate(ids):\n",
    "        df.loc[k_ids, \"K\"] = k\n",
    "\n",
    "df.tail()"
   ]
  },
  {
   "cell_type": "code",
   "execution_count": 12,
   "id": "7897af1a",
   "metadata": {},
   "outputs": [
    {
     "data": {
      "text/plain": [
       "K  bin\n",
       "0  0      7248\n",
       "   1      3254\n",
       "   2      2387\n",
       "   3      2403\n",
       "   4      2980\n",
       "          ... \n",
       "9  5      2880\n",
       "   6      2348\n",
       "   7      1796\n",
       "   8       964\n",
       "   9       242\n",
       "Name: bin, Length: 100, dtype: int64"
      ]
     },
     "execution_count": 12,
     "metadata": {},
     "output_type": "execute_result"
    }
   ],
   "source": [
    "df.groupby(\"K\").bin.value_counts().sort_index()"
   ]
  },
  {
   "cell_type": "code",
   "execution_count": 18,
   "id": "c94ba70a",
   "metadata": {},
   "outputs": [],
   "source": [
    "def get_kfold_train_test(\n",
    "    dataframe: pd.DataFrame,\n",
    "    k=0\n",
    "):\n",
    "    # Right now only deal with train and test\n",
    "    ks = list(range(10))\n",
    "    test = ks[k]\n",
    "    train = ks[:k]+ks[k+1:]\n",
    "    dev = train.pop(0)\n",
    "    return (\n",
    "        dataframe[dataframe[\"K\"].isin(train)],\n",
    "        dataframe[dataframe['K'] == dev],\n",
    "        dataframe[dataframe['K'] == test]\n",
    "    )\n",
    "\n",
    "def get_features(\n",
    "    dataframe: pd.DataFrame\n",
    "):\n",
    "    return (\n",
    "        dataframe[\"bin\"].to_numpy().astype(int),\n",
    "        dataframe[\"transcription\"].tolist()\n",
    "    )\n",
    "    #p = np.random.permutation(len(i))\n",
    "    #return i[p], c[p], e[p], f[p]"
   ]
  },
  {
   "cell_type": "code",
   "execution_count": 21,
   "id": "44f89500",
   "metadata": {},
   "outputs": [],
   "source": [
    "import torch.nn as nn\n",
    "import torch\n",
    "from torch.autograd import Variable\n",
    "from torch.nn.utils.rnn import pack_padded_sequence, pad_packed_sequence, pad_sequence\n",
    "from sklearn.metrics import ConfusionMatrixDisplay, classification_report, accuracy_score\n",
    "import tqdm.autonotebook as tqdm\n",
    "import json\n",
    "\n",
    "        \n",
    "def var(X):\n",
    "    return torch.from_numpy(X).cuda()"
   ]
  },
  {
   "cell_type": "code",
   "execution_count": 24,
   "id": "0483ca74",
   "metadata": {
    "scrolled": false
   },
   "outputs": [
    {
     "name": "stderr",
     "output_type": "stream",
     "text": [
      "/tmp/ipykernel_493573/1196948295.py:37: VisibleDeprecationWarning: Creating an ndarray from ragged nested sequences (which is a list-or-tuple of lists-or-tuples-or ndarrays with different lengths or shapes) is deprecated. If you meant to do this, you must specify 'dtype=object' when creating the ndarray.\n",
      "  return np.array([self.encode(s) for s in string])\n"
     ]
    },
    {
     "data": {
      "application/json": {
       "ascii": false,
       "bar_format": null,
       "colour": null,
       "elapsed": 0.006821632385253906,
       "initial": 0,
       "n": 0,
       "ncols": null,
       "nrows": 54,
       "postfix": null,
       "prefix": "",
       "rate": null,
       "total": 1000,
       "unit": "it",
       "unit_divisor": 1000,
       "unit_scale": false
      },
      "application/vnd.jupyter.widget-view+json": {
       "model_id": "0644b758008c402d87aacaf28774c394",
       "version_major": 2,
       "version_minor": 0
      },
      "text/plain": [
       "  0%|          | 0/1000 [00:00<?, ?it/s]"
      ]
     },
     "metadata": {},
     "output_type": "display_data"
    },
    {
     "data": {
      "application/json": {
       "ascii": false,
       "bar_format": null,
       "colour": null,
       "elapsed": 0.010744571685791016,
       "initial": 0,
       "n": 0,
       "ncols": null,
       "nrows": 54,
       "postfix": null,
       "prefix": "Batch",
       "rate": null,
       "total": null,
       "unit": "it",
       "unit_divisor": 1000,
       "unit_scale": false
      },
      "application/vnd.jupyter.widget-view+json": {
       "model_id": "c1ff7fb0f1bc48678853def9302b1e60",
       "version_major": 2,
       "version_minor": 0
      },
      "text/plain": [
       "Batch: 0it [00:00, ?it/s]"
      ]
     },
     "metadata": {},
     "output_type": "display_data"
    },
    {
     "data": {
      "application/json": {
       "ascii": false,
       "bar_format": null,
       "colour": null,
       "elapsed": 0.007494926452636719,
       "initial": 0,
       "n": 0,
       "ncols": null,
       "nrows": 54,
       "postfix": null,
       "prefix": "Batch",
       "rate": null,
       "total": null,
       "unit": "it",
       "unit_divisor": 1000,
       "unit_scale": false
      },
      "application/vnd.jupyter.widget-view+json": {
       "model_id": "31c1814281554310b4a4a47cf42700c1",
       "version_major": 2,
       "version_minor": 0
      },
      "text/plain": [
       "Batch: 0it [00:00, ?it/s]"
      ]
     },
     "metadata": {},
     "output_type": "display_data"
    },
    {
     "data": {
      "application/json": {
       "ascii": false,
       "bar_format": null,
       "colour": null,
       "elapsed": 0.00748753547668457,
       "initial": 0,
       "n": 0,
       "ncols": null,
       "nrows": 54,
       "postfix": null,
       "prefix": "Batch",
       "rate": null,
       "total": null,
       "unit": "it",
       "unit_divisor": 1000,
       "unit_scale": false
      },
      "application/vnd.jupyter.widget-view+json": {
       "model_id": "3618d9789d7242f087a0ebcd3249738d",
       "version_major": 2,
       "version_minor": 0
      },
      "text/plain": [
       "Batch: 0it [00:00, ?it/s]"
      ]
     },
     "metadata": {},
     "output_type": "display_data"
    },
    {
     "data": {
      "application/json": {
       "ascii": false,
       "bar_format": null,
       "colour": null,
       "elapsed": 0.007315635681152344,
       "initial": 0,
       "n": 0,
       "ncols": null,
       "nrows": 54,
       "postfix": null,
       "prefix": "Batch",
       "rate": null,
       "total": null,
       "unit": "it",
       "unit_divisor": 1000,
       "unit_scale": false
      },
      "application/vnd.jupyter.widget-view+json": {
       "model_id": "572bbbffdea5445f9b71d813daf2d37e",
       "version_major": 2,
       "version_minor": 0
      },
      "text/plain": [
       "Batch: 0it [00:00, ?it/s]"
      ]
     },
     "metadata": {},
     "output_type": "display_data"
    },
    {
     "data": {
      "application/json": {
       "ascii": false,
       "bar_format": null,
       "colour": null,
       "elapsed": 0.007189035415649414,
       "initial": 0,
       "n": 0,
       "ncols": null,
       "nrows": 54,
       "postfix": null,
       "prefix": "Batch",
       "rate": null,
       "total": null,
       "unit": "it",
       "unit_divisor": 1000,
       "unit_scale": false
      },
      "application/vnd.jupyter.widget-view+json": {
       "model_id": "1a8a2cdb59fd4451842ab3b73ce4fec6",
       "version_major": 2,
       "version_minor": 0
      },
      "text/plain": [
       "Batch: 0it [00:00, ?it/s]"
      ]
     },
     "metadata": {},
     "output_type": "display_data"
    },
    {
     "data": {
      "application/json": {
       "ascii": false,
       "bar_format": null,
       "colour": null,
       "elapsed": 0.007256507873535156,
       "initial": 0,
       "n": 0,
       "ncols": null,
       "nrows": 54,
       "postfix": null,
       "prefix": "Batch",
       "rate": null,
       "total": null,
       "unit": "it",
       "unit_divisor": 1000,
       "unit_scale": false
      },
      "application/vnd.jupyter.widget-view+json": {
       "model_id": "229260e5f7ce4d5394667c725f424802",
       "version_major": 2,
       "version_minor": 0
      },
      "text/plain": [
       "Batch: 0it [00:00, ?it/s]"
      ]
     },
     "metadata": {},
     "output_type": "display_data"
    },
    {
     "data": {
      "application/json": {
       "ascii": false,
       "bar_format": null,
       "colour": null,
       "elapsed": 0.007898092269897461,
       "initial": 0,
       "n": 0,
       "ncols": null,
       "nrows": 54,
       "postfix": null,
       "prefix": "Batch",
       "rate": null,
       "total": null,
       "unit": "it",
       "unit_divisor": 1000,
       "unit_scale": false
      },
      "application/vnd.jupyter.widget-view+json": {
       "model_id": "c3b45932359c47d7ad7852e885e24a5a",
       "version_major": 2,
       "version_minor": 0
      },
      "text/plain": [
       "Batch: 0it [00:00, ?it/s]"
      ]
     },
     "metadata": {},
     "output_type": "display_data"
    },
    {
     "data": {
      "application/json": {
       "ascii": false,
       "bar_format": null,
       "colour": null,
       "elapsed": 0.00709986686706543,
       "initial": 0,
       "n": 0,
       "ncols": null,
       "nrows": 54,
       "postfix": null,
       "prefix": "Batch",
       "rate": null,
       "total": null,
       "unit": "it",
       "unit_divisor": 1000,
       "unit_scale": false
      },
      "application/vnd.jupyter.widget-view+json": {
       "model_id": "dffe8a07e0384d999bd71d093789417f",
       "version_major": 2,
       "version_minor": 0
      },
      "text/plain": [
       "Batch: 0it [00:00, ?it/s]"
      ]
     },
     "metadata": {},
     "output_type": "display_data"
    },
    {
     "data": {
      "application/json": {
       "ascii": false,
       "bar_format": null,
       "colour": null,
       "elapsed": 0.007830142974853516,
       "initial": 0,
       "n": 0,
       "ncols": null,
       "nrows": 54,
       "postfix": null,
       "prefix": "Batch",
       "rate": null,
       "total": null,
       "unit": "it",
       "unit_divisor": 1000,
       "unit_scale": false
      },
      "application/vnd.jupyter.widget-view+json": {
       "model_id": "62cedf8656a340a1b42ceb93855963e1",
       "version_major": 2,
       "version_minor": 0
      },
      "text/plain": [
       "Batch: 0it [00:00, ?it/s]"
      ]
     },
     "metadata": {},
     "output_type": "display_data"
    },
    {
     "data": {
      "application/json": {
       "ascii": false,
       "bar_format": null,
       "colour": null,
       "elapsed": 0.00721287727355957,
       "initial": 0,
       "n": 0,
       "ncols": null,
       "nrows": 54,
       "postfix": null,
       "prefix": "Batch",
       "rate": null,
       "total": null,
       "unit": "it",
       "unit_divisor": 1000,
       "unit_scale": false
      },
      "application/vnd.jupyter.widget-view+json": {
       "model_id": "da661569291746aeb9b39f5bd6752c21",
       "version_major": 2,
       "version_minor": 0
      },
      "text/plain": [
       "Batch: 0it [00:00, ?it/s]"
      ]
     },
     "metadata": {},
     "output_type": "display_data"
    },
    {
     "data": {
      "application/json": {
       "ascii": false,
       "bar_format": null,
       "colour": null,
       "elapsed": 0.0070917606353759766,
       "initial": 0,
       "n": 0,
       "ncols": null,
       "nrows": 54,
       "postfix": null,
       "prefix": "Batch",
       "rate": null,
       "total": null,
       "unit": "it",
       "unit_divisor": 1000,
       "unit_scale": false
      },
      "application/vnd.jupyter.widget-view+json": {
       "model_id": "459a947292e84931906ff47f3794d3fb",
       "version_major": 2,
       "version_minor": 0
      },
      "text/plain": [
       "Batch: 0it [00:00, ?it/s]"
      ]
     },
     "metadata": {},
     "output_type": "display_data"
    },
    {
     "data": {
      "application/json": {
       "ascii": false,
       "bar_format": null,
       "colour": null,
       "elapsed": 0.0076313018798828125,
       "initial": 0,
       "n": 0,
       "ncols": null,
       "nrows": 54,
       "postfix": null,
       "prefix": "Batch",
       "rate": null,
       "total": null,
       "unit": "it",
       "unit_divisor": 1000,
       "unit_scale": false
      },
      "application/vnd.jupyter.widget-view+json": {
       "model_id": "1d971c460db045d4ab1db219413154a2",
       "version_major": 2,
       "version_minor": 0
      },
      "text/plain": [
       "Batch: 0it [00:00, ?it/s]"
      ]
     },
     "metadata": {},
     "output_type": "display_data"
    },
    {
     "data": {
      "application/json": {
       "ascii": false,
       "bar_format": null,
       "colour": null,
       "elapsed": 0.007477521896362305,
       "initial": 0,
       "n": 0,
       "ncols": null,
       "nrows": 54,
       "postfix": null,
       "prefix": "Batch",
       "rate": null,
       "total": null,
       "unit": "it",
       "unit_divisor": 1000,
       "unit_scale": false
      },
      "application/vnd.jupyter.widget-view+json": {
       "model_id": "9b5c5f1048d04de5965b877d5be33227",
       "version_major": 2,
       "version_minor": 0
      },
      "text/plain": [
       "Batch: 0it [00:00, ?it/s]"
      ]
     },
     "metadata": {},
     "output_type": "display_data"
    },
    {
     "data": {
      "application/json": {
       "ascii": false,
       "bar_format": null,
       "colour": null,
       "elapsed": 0.007658481597900391,
       "initial": 0,
       "n": 0,
       "ncols": null,
       "nrows": 54,
       "postfix": null,
       "prefix": "Batch",
       "rate": null,
       "total": null,
       "unit": "it",
       "unit_divisor": 1000,
       "unit_scale": false
      },
      "application/vnd.jupyter.widget-view+json": {
       "model_id": "587f7dd7e71249f09abc560e9d385ab0",
       "version_major": 2,
       "version_minor": 0
      },
      "text/plain": [
       "Batch: 0it [00:00, ?it/s]"
      ]
     },
     "metadata": {},
     "output_type": "display_data"
    },
    {
     "data": {
      "application/json": {
       "ascii": false,
       "bar_format": null,
       "colour": null,
       "elapsed": 0.007209062576293945,
       "initial": 0,
       "n": 0,
       "ncols": null,
       "nrows": 54,
       "postfix": null,
       "prefix": "Batch",
       "rate": null,
       "total": null,
       "unit": "it",
       "unit_divisor": 1000,
       "unit_scale": false
      },
      "application/vnd.jupyter.widget-view+json": {
       "model_id": "2d62843f393941ee84f42d43b25da319",
       "version_major": 2,
       "version_minor": 0
      },
      "text/plain": [
       "Batch: 0it [00:00, ?it/s]"
      ]
     },
     "metadata": {},
     "output_type": "display_data"
    },
    {
     "data": {
      "application/json": {
       "ascii": false,
       "bar_format": null,
       "colour": null,
       "elapsed": 0.007591724395751953,
       "initial": 0,
       "n": 0,
       "ncols": null,
       "nrows": 54,
       "postfix": null,
       "prefix": "Batch",
       "rate": null,
       "total": null,
       "unit": "it",
       "unit_divisor": 1000,
       "unit_scale": false
      },
      "application/vnd.jupyter.widget-view+json": {
       "model_id": "9c2b27123e34431db562cc0924b628cf",
       "version_major": 2,
       "version_minor": 0
      },
      "text/plain": [
       "Batch: 0it [00:00, ?it/s]"
      ]
     },
     "metadata": {},
     "output_type": "display_data"
    },
    {
     "data": {
      "application/json": {
       "ascii": false,
       "bar_format": null,
       "colour": null,
       "elapsed": 0.007452249526977539,
       "initial": 0,
       "n": 0,
       "ncols": null,
       "nrows": 54,
       "postfix": null,
       "prefix": "Batch",
       "rate": null,
       "total": null,
       "unit": "it",
       "unit_divisor": 1000,
       "unit_scale": false
      },
      "application/vnd.jupyter.widget-view+json": {
       "model_id": "29fb177ba1e54e0f869343e00823e61b",
       "version_major": 2,
       "version_minor": 0
      },
      "text/plain": [
       "Batch: 0it [00:00, ?it/s]"
      ]
     },
     "metadata": {},
     "output_type": "display_data"
    },
    {
     "data": {
      "application/json": {
       "ascii": false,
       "bar_format": null,
       "colour": null,
       "elapsed": 0.007128000259399414,
       "initial": 0,
       "n": 0,
       "ncols": null,
       "nrows": 54,
       "postfix": null,
       "prefix": "Batch",
       "rate": null,
       "total": null,
       "unit": "it",
       "unit_divisor": 1000,
       "unit_scale": false
      },
      "application/vnd.jupyter.widget-view+json": {
       "model_id": "49d21d9cc730404dac2cfd6e16910b78",
       "version_major": 2,
       "version_minor": 0
      },
      "text/plain": [
       "Batch: 0it [00:00, ?it/s]"
      ]
     },
     "metadata": {},
     "output_type": "display_data"
    },
    {
     "data": {
      "application/json": {
       "ascii": false,
       "bar_format": null,
       "colour": null,
       "elapsed": 0.00841975212097168,
       "initial": 0,
       "n": 0,
       "ncols": null,
       "nrows": 54,
       "postfix": null,
       "prefix": "Batch",
       "rate": null,
       "total": null,
       "unit": "it",
       "unit_divisor": 1000,
       "unit_scale": false
      },
      "application/vnd.jupyter.widget-view+json": {
       "model_id": "616c8c6cf2964ef8a3117dc0897ca0ec",
       "version_major": 2,
       "version_minor": 0
      },
      "text/plain": [
       "Batch: 0it [00:00, ?it/s]"
      ]
     },
     "metadata": {},
     "output_type": "display_data"
    },
    {
     "data": {
      "application/json": {
       "ascii": false,
       "bar_format": null,
       "colour": null,
       "elapsed": 0.007185220718383789,
       "initial": 0,
       "n": 0,
       "ncols": null,
       "nrows": 54,
       "postfix": null,
       "prefix": "Batch",
       "rate": null,
       "total": null,
       "unit": "it",
       "unit_divisor": 1000,
       "unit_scale": false
      },
      "application/vnd.jupyter.widget-view+json": {
       "model_id": "0d1539522fd743d3bb9d958fa6c23fc0",
       "version_major": 2,
       "version_minor": 0
      },
      "text/plain": [
       "Batch: 0it [00:00, ?it/s]"
      ]
     },
     "metadata": {},
     "output_type": "display_data"
    },
    {
     "data": {
      "application/json": {
       "ascii": false,
       "bar_format": null,
       "colour": null,
       "elapsed": 0.007222175598144531,
       "initial": 0,
       "n": 0,
       "ncols": null,
       "nrows": 54,
       "postfix": null,
       "prefix": "Batch",
       "rate": null,
       "total": null,
       "unit": "it",
       "unit_divisor": 1000,
       "unit_scale": false
      },
      "application/vnd.jupyter.widget-view+json": {
       "model_id": "5c9a550ec4d545908296528021342ad0",
       "version_major": 2,
       "version_minor": 0
      },
      "text/plain": [
       "Batch: 0it [00:00, ?it/s]"
      ]
     },
     "metadata": {},
     "output_type": "display_data"
    },
    {
     "data": {
      "application/json": {
       "ascii": false,
       "bar_format": null,
       "colour": null,
       "elapsed": 0.011599063873291016,
       "initial": 0,
       "n": 0,
       "ncols": null,
       "nrows": 54,
       "postfix": null,
       "prefix": "Batch",
       "rate": null,
       "total": null,
       "unit": "it",
       "unit_divisor": 1000,
       "unit_scale": false
      },
      "application/vnd.jupyter.widget-view+json": {
       "model_id": "d14d207c331340faba77e9e18414c6b3",
       "version_major": 2,
       "version_minor": 0
      },
      "text/plain": [
       "Batch: 0it [00:00, ?it/s]"
      ]
     },
     "metadata": {},
     "output_type": "display_data"
    },
    {
     "data": {
      "application/json": {
       "ascii": false,
       "bar_format": null,
       "colour": null,
       "elapsed": 0.007230281829833984,
       "initial": 0,
       "n": 0,
       "ncols": null,
       "nrows": 54,
       "postfix": null,
       "prefix": "Batch",
       "rate": null,
       "total": null,
       "unit": "it",
       "unit_divisor": 1000,
       "unit_scale": false
      },
      "application/vnd.jupyter.widget-view+json": {
       "model_id": "28ec091fe9524ef7b9ec7d0571828e5e",
       "version_major": 2,
       "version_minor": 0
      },
      "text/plain": [
       "Batch: 0it [00:00, ?it/s]"
      ]
     },
     "metadata": {},
     "output_type": "display_data"
    },
    {
     "data": {
      "application/json": {
       "ascii": false,
       "bar_format": null,
       "colour": null,
       "elapsed": 0.007255077362060547,
       "initial": 0,
       "n": 0,
       "ncols": null,
       "nrows": 54,
       "postfix": null,
       "prefix": "Batch",
       "rate": null,
       "total": null,
       "unit": "it",
       "unit_divisor": 1000,
       "unit_scale": false
      },
      "application/vnd.jupyter.widget-view+json": {
       "model_id": "b4b50b46fce94aa2b16d28fa24436412",
       "version_major": 2,
       "version_minor": 0
      },
      "text/plain": [
       "Batch: 0it [00:00, ?it/s]"
      ]
     },
     "metadata": {},
     "output_type": "display_data"
    },
    {
     "data": {
      "application/json": {
       "ascii": false,
       "bar_format": null,
       "colour": null,
       "elapsed": 0.007378578186035156,
       "initial": 0,
       "n": 0,
       "ncols": null,
       "nrows": 54,
       "postfix": null,
       "prefix": "Batch",
       "rate": null,
       "total": null,
       "unit": "it",
       "unit_divisor": 1000,
       "unit_scale": false
      },
      "application/vnd.jupyter.widget-view+json": {
       "model_id": "746cc419e53540a6af10101c388a5d17",
       "version_major": 2,
       "version_minor": 0
      },
      "text/plain": [
       "Batch: 0it [00:00, ?it/s]"
      ]
     },
     "metadata": {},
     "output_type": "display_data"
    },
    {
     "data": {
      "application/json": {
       "ascii": false,
       "bar_format": null,
       "colour": null,
       "elapsed": 0.007252931594848633,
       "initial": 0,
       "n": 0,
       "ncols": null,
       "nrows": 54,
       "postfix": null,
       "prefix": "Batch",
       "rate": null,
       "total": null,
       "unit": "it",
       "unit_divisor": 1000,
       "unit_scale": false
      },
      "application/vnd.jupyter.widget-view+json": {
       "model_id": "fef043f2122743c0a1575bfc8592fc4d",
       "version_major": 2,
       "version_minor": 0
      },
      "text/plain": [
       "Batch: 0it [00:00, ?it/s]"
      ]
     },
     "metadata": {},
     "output_type": "display_data"
    },
    {
     "data": {
      "application/json": {
       "ascii": false,
       "bar_format": null,
       "colour": null,
       "elapsed": 0.007266521453857422,
       "initial": 0,
       "n": 0,
       "ncols": null,
       "nrows": 54,
       "postfix": null,
       "prefix": "Batch",
       "rate": null,
       "total": null,
       "unit": "it",
       "unit_divisor": 1000,
       "unit_scale": false
      },
      "application/vnd.jupyter.widget-view+json": {
       "model_id": "f0156638e10541c396f8f66b71c283ba",
       "version_major": 2,
       "version_minor": 0
      },
      "text/plain": [
       "Batch: 0it [00:00, ?it/s]"
      ]
     },
     "metadata": {},
     "output_type": "display_data"
    },
    {
     "data": {
      "application/json": {
       "ascii": false,
       "bar_format": null,
       "colour": null,
       "elapsed": 0.0073239803314208984,
       "initial": 0,
       "n": 0,
       "ncols": null,
       "nrows": 54,
       "postfix": null,
       "prefix": "Batch",
       "rate": null,
       "total": null,
       "unit": "it",
       "unit_divisor": 1000,
       "unit_scale": false
      },
      "application/vnd.jupyter.widget-view+json": {
       "model_id": "dacd7bd4df6843daaea768318c0fc929",
       "version_major": 2,
       "version_minor": 0
      },
      "text/plain": [
       "Batch: 0it [00:00, ?it/s]"
      ]
     },
     "metadata": {},
     "output_type": "display_data"
    },
    {
     "data": {
      "application/json": {
       "ascii": false,
       "bar_format": null,
       "colour": null,
       "elapsed": 0.007575511932373047,
       "initial": 0,
       "n": 0,
       "ncols": null,
       "nrows": 54,
       "postfix": null,
       "prefix": "Batch",
       "rate": null,
       "total": null,
       "unit": "it",
       "unit_divisor": 1000,
       "unit_scale": false
      },
      "application/vnd.jupyter.widget-view+json": {
       "model_id": "64ab9ed1bffc4197b222cfccb60ad56d",
       "version_major": 2,
       "version_minor": 0
      },
      "text/plain": [
       "Batch: 0it [00:00, ?it/s]"
      ]
     },
     "metadata": {},
     "output_type": "display_data"
    },
    {
     "data": {
      "application/json": {
       "ascii": false,
       "bar_format": null,
       "colour": null,
       "elapsed": 0.007230997085571289,
       "initial": 0,
       "n": 0,
       "ncols": null,
       "nrows": 54,
       "postfix": null,
       "prefix": "Batch",
       "rate": null,
       "total": null,
       "unit": "it",
       "unit_divisor": 1000,
       "unit_scale": false
      },
      "application/vnd.jupyter.widget-view+json": {
       "model_id": "b8d200d881084003a87ecb5761efaf4a",
       "version_major": 2,
       "version_minor": 0
      },
      "text/plain": [
       "Batch: 0it [00:00, ?it/s]"
      ]
     },
     "metadata": {},
     "output_type": "display_data"
    },
    {
     "data": {
      "application/json": {
       "ascii": false,
       "bar_format": null,
       "colour": null,
       "elapsed": 0.007391929626464844,
       "initial": 0,
       "n": 0,
       "ncols": null,
       "nrows": 54,
       "postfix": null,
       "prefix": "Batch",
       "rate": null,
       "total": null,
       "unit": "it",
       "unit_divisor": 1000,
       "unit_scale": false
      },
      "application/vnd.jupyter.widget-view+json": {
       "model_id": "8fbce9562f614809a0016f83a151e586",
       "version_major": 2,
       "version_minor": 0
      },
      "text/plain": [
       "Batch: 0it [00:00, ?it/s]"
      ]
     },
     "metadata": {},
     "output_type": "display_data"
    },
    {
     "data": {
      "application/json": {
       "ascii": false,
       "bar_format": null,
       "colour": null,
       "elapsed": 0.007189273834228516,
       "initial": 0,
       "n": 0,
       "ncols": null,
       "nrows": 54,
       "postfix": null,
       "prefix": "Batch",
       "rate": null,
       "total": null,
       "unit": "it",
       "unit_divisor": 1000,
       "unit_scale": false
      },
      "application/vnd.jupyter.widget-view+json": {
       "model_id": "731754e6d4d74f0e9909c089ecdd1828",
       "version_major": 2,
       "version_minor": 0
      },
      "text/plain": [
       "Batch: 0it [00:00, ?it/s]"
      ]
     },
     "metadata": {},
     "output_type": "display_data"
    },
    {
     "data": {
      "application/json": {
       "ascii": false,
       "bar_format": null,
       "colour": null,
       "elapsed": 0.007175445556640625,
       "initial": 0,
       "n": 0,
       "ncols": null,
       "nrows": 54,
       "postfix": null,
       "prefix": "Batch",
       "rate": null,
       "total": null,
       "unit": "it",
       "unit_divisor": 1000,
       "unit_scale": false
      },
      "application/vnd.jupyter.widget-view+json": {
       "model_id": "363b39b92f134246b979ef9ab5f0cd93",
       "version_major": 2,
       "version_minor": 0
      },
      "text/plain": [
       "Batch: 0it [00:00, ?it/s]"
      ]
     },
     "metadata": {},
     "output_type": "display_data"
    },
    {
     "data": {
      "application/json": {
       "ascii": false,
       "bar_format": null,
       "colour": null,
       "elapsed": 0.007712841033935547,
       "initial": 0,
       "n": 0,
       "ncols": null,
       "nrows": 54,
       "postfix": null,
       "prefix": "Batch",
       "rate": null,
       "total": null,
       "unit": "it",
       "unit_divisor": 1000,
       "unit_scale": false
      },
      "application/vnd.jupyter.widget-view+json": {
       "model_id": "18a277dbb5f448cfbdce4a45f414c770",
       "version_major": 2,
       "version_minor": 0
      },
      "text/plain": [
       "Batch: 0it [00:00, ?it/s]"
      ]
     },
     "metadata": {},
     "output_type": "display_data"
    },
    {
     "data": {
      "application/json": {
       "ascii": false,
       "bar_format": null,
       "colour": null,
       "elapsed": 0.007302522659301758,
       "initial": 0,
       "n": 0,
       "ncols": null,
       "nrows": 54,
       "postfix": null,
       "prefix": "Batch",
       "rate": null,
       "total": null,
       "unit": "it",
       "unit_divisor": 1000,
       "unit_scale": false
      },
      "application/vnd.jupyter.widget-view+json": {
       "model_id": "2e65a0725b4c4dcf88c0154a4d3dbe60",
       "version_major": 2,
       "version_minor": 0
      },
      "text/plain": [
       "Batch: 0it [00:00, ?it/s]"
      ]
     },
     "metadata": {},
     "output_type": "display_data"
    },
    {
     "data": {
      "application/json": {
       "ascii": false,
       "bar_format": null,
       "colour": null,
       "elapsed": 0.0071942806243896484,
       "initial": 0,
       "n": 0,
       "ncols": null,
       "nrows": 54,
       "postfix": null,
       "prefix": "Batch",
       "rate": null,
       "total": null,
       "unit": "it",
       "unit_divisor": 1000,
       "unit_scale": false
      },
      "application/vnd.jupyter.widget-view+json": {
       "model_id": "a64a6ae881c44060ac22056f41c1755c",
       "version_major": 2,
       "version_minor": 0
      },
      "text/plain": [
       "Batch: 0it [00:00, ?it/s]"
      ]
     },
     "metadata": {},
     "output_type": "display_data"
    },
    {
     "data": {
      "application/json": {
       "ascii": false,
       "bar_format": null,
       "colour": null,
       "elapsed": 0.00767970085144043,
       "initial": 0,
       "n": 0,
       "ncols": null,
       "nrows": 54,
       "postfix": null,
       "prefix": "Batch",
       "rate": null,
       "total": null,
       "unit": "it",
       "unit_divisor": 1000,
       "unit_scale": false
      },
      "application/vnd.jupyter.widget-view+json": {
       "model_id": "ba9bca0e266d44efb58bb080a22d774f",
       "version_major": 2,
       "version_minor": 0
      },
      "text/plain": [
       "Batch: 0it [00:00, ?it/s]"
      ]
     },
     "metadata": {},
     "output_type": "display_data"
    },
    {
     "data": {
      "application/json": {
       "ascii": false,
       "bar_format": null,
       "colour": null,
       "elapsed": 0.00757145881652832,
       "initial": 0,
       "n": 0,
       "ncols": null,
       "nrows": 54,
       "postfix": null,
       "prefix": "Batch",
       "rate": null,
       "total": null,
       "unit": "it",
       "unit_divisor": 1000,
       "unit_scale": false
      },
      "application/vnd.jupyter.widget-view+json": {
       "model_id": "26ca6a33cead4e0d94e60c7b8bb3ebd2",
       "version_major": 2,
       "version_minor": 0
      },
      "text/plain": [
       "Batch: 0it [00:00, ?it/s]"
      ]
     },
     "metadata": {},
     "output_type": "display_data"
    },
    {
     "data": {
      "application/json": {
       "ascii": false,
       "bar_format": null,
       "colour": null,
       "elapsed": 0.007421016693115234,
       "initial": 0,
       "n": 0,
       "ncols": null,
       "nrows": 54,
       "postfix": null,
       "prefix": "Batch",
       "rate": null,
       "total": null,
       "unit": "it",
       "unit_divisor": 1000,
       "unit_scale": false
      },
      "application/vnd.jupyter.widget-view+json": {
       "model_id": "9b88e265f1594d92be84209eff012e87",
       "version_major": 2,
       "version_minor": 0
      },
      "text/plain": [
       "Batch: 0it [00:00, ?it/s]"
      ]
     },
     "metadata": {},
     "output_type": "display_data"
    },
    {
     "data": {
      "application/json": {
       "ascii": false,
       "bar_format": null,
       "colour": null,
       "elapsed": 0.0076596736907958984,
       "initial": 0,
       "n": 0,
       "ncols": null,
       "nrows": 54,
       "postfix": null,
       "prefix": "Batch",
       "rate": null,
       "total": null,
       "unit": "it",
       "unit_divisor": 1000,
       "unit_scale": false
      },
      "application/vnd.jupyter.widget-view+json": {
       "model_id": "887941ffb5154c39a2ad7e846a9cd9f1",
       "version_major": 2,
       "version_minor": 0
      },
      "text/plain": [
       "Batch: 0it [00:00, ?it/s]"
      ]
     },
     "metadata": {},
     "output_type": "display_data"
    },
    {
     "data": {
      "application/json": {
       "ascii": false,
       "bar_format": null,
       "colour": null,
       "elapsed": 0.007749795913696289,
       "initial": 0,
       "n": 0,
       "ncols": null,
       "nrows": 54,
       "postfix": null,
       "prefix": "Batch",
       "rate": null,
       "total": null,
       "unit": "it",
       "unit_divisor": 1000,
       "unit_scale": false
      },
      "application/vnd.jupyter.widget-view+json": {
       "model_id": "56c554bc8ec046f7abbf4ed6aae81afe",
       "version_major": 2,
       "version_minor": 0
      },
      "text/plain": [
       "Batch: 0it [00:00, ?it/s]"
      ]
     },
     "metadata": {},
     "output_type": "display_data"
    },
    {
     "data": {
      "application/json": {
       "ascii": false,
       "bar_format": null,
       "colour": null,
       "elapsed": 0.007586479187011719,
       "initial": 0,
       "n": 0,
       "ncols": null,
       "nrows": 54,
       "postfix": null,
       "prefix": "Batch",
       "rate": null,
       "total": null,
       "unit": "it",
       "unit_divisor": 1000,
       "unit_scale": false
      },
      "application/vnd.jupyter.widget-view+json": {
       "model_id": "45211c6d0c06490ba2cca4fe67de5a6d",
       "version_major": 2,
       "version_minor": 0
      },
      "text/plain": [
       "Batch: 0it [00:00, ?it/s]"
      ]
     },
     "metadata": {},
     "output_type": "display_data"
    },
    {
     "data": {
      "application/json": {
       "ascii": false,
       "bar_format": null,
       "colour": null,
       "elapsed": 0.0076367855072021484,
       "initial": 0,
       "n": 0,
       "ncols": null,
       "nrows": 54,
       "postfix": null,
       "prefix": "Batch",
       "rate": null,
       "total": null,
       "unit": "it",
       "unit_divisor": 1000,
       "unit_scale": false
      },
      "application/vnd.jupyter.widget-view+json": {
       "model_id": "beed1d575bf9439f8bdcfb563bb391f4",
       "version_major": 2,
       "version_minor": 0
      },
      "text/plain": [
       "Batch: 0it [00:00, ?it/s]"
      ]
     },
     "metadata": {},
     "output_type": "display_data"
    },
    {
     "data": {
      "application/json": {
       "ascii": false,
       "bar_format": null,
       "colour": null,
       "elapsed": 0.007782459259033203,
       "initial": 0,
       "n": 0,
       "ncols": null,
       "nrows": 54,
       "postfix": null,
       "prefix": "Batch",
       "rate": null,
       "total": null,
       "unit": "it",
       "unit_divisor": 1000,
       "unit_scale": false
      },
      "application/vnd.jupyter.widget-view+json": {
       "model_id": "7471c8635b14458abffce0e1fc440abc",
       "version_major": 2,
       "version_minor": 0
      },
      "text/plain": [
       "Batch: 0it [00:00, ?it/s]"
      ]
     },
     "metadata": {},
     "output_type": "display_data"
    },
    {
     "data": {
      "application/json": {
       "ascii": false,
       "bar_format": null,
       "colour": null,
       "elapsed": 0.009442806243896484,
       "initial": 0,
       "n": 0,
       "ncols": null,
       "nrows": 54,
       "postfix": null,
       "prefix": "Batch",
       "rate": null,
       "total": null,
       "unit": "it",
       "unit_divisor": 1000,
       "unit_scale": false
      },
      "application/vnd.jupyter.widget-view+json": {
       "model_id": "21a0bfd3ae8e4c3280447647d7622e8c",
       "version_major": 2,
       "version_minor": 0
      },
      "text/plain": [
       "Batch: 0it [00:00, ?it/s]"
      ]
     },
     "metadata": {},
     "output_type": "display_data"
    },
    {
     "data": {
      "application/json": {
       "ascii": false,
       "bar_format": null,
       "colour": null,
       "elapsed": 0.007626533508300781,
       "initial": 0,
       "n": 0,
       "ncols": null,
       "nrows": 54,
       "postfix": null,
       "prefix": "Batch",
       "rate": null,
       "total": null,
       "unit": "it",
       "unit_divisor": 1000,
       "unit_scale": false
      },
      "application/vnd.jupyter.widget-view+json": {
       "model_id": "8895abfdee874f95ae2277e2086a9e09",
       "version_major": 2,
       "version_minor": 0
      },
      "text/plain": [
       "Batch: 0it [00:00, ?it/s]"
      ]
     },
     "metadata": {},
     "output_type": "display_data"
    },
    {
     "data": {
      "application/json": {
       "ascii": false,
       "bar_format": null,
       "colour": null,
       "elapsed": 0.007334232330322266,
       "initial": 0,
       "n": 0,
       "ncols": null,
       "nrows": 54,
       "postfix": null,
       "prefix": "Batch",
       "rate": null,
       "total": null,
       "unit": "it",
       "unit_divisor": 1000,
       "unit_scale": false
      },
      "application/vnd.jupyter.widget-view+json": {
       "model_id": "c6882e8ea62440459efd1bfd4e2795a3",
       "version_major": 2,
       "version_minor": 0
      },
      "text/plain": [
       "Batch: 0it [00:00, ?it/s]"
      ]
     },
     "metadata": {},
     "output_type": "display_data"
    },
    {
     "data": {
      "application/json": {
       "ascii": false,
       "bar_format": null,
       "colour": null,
       "elapsed": 0.007173299789428711,
       "initial": 0,
       "n": 0,
       "ncols": null,
       "nrows": 54,
       "postfix": null,
       "prefix": "Batch",
       "rate": null,
       "total": null,
       "unit": "it",
       "unit_divisor": 1000,
       "unit_scale": false
      },
      "application/vnd.jupyter.widget-view+json": {
       "model_id": "995f58ec2a8b4120b8cc5940d526b898",
       "version_major": 2,
       "version_minor": 0
      },
      "text/plain": [
       "Batch: 0it [00:00, ?it/s]"
      ]
     },
     "metadata": {},
     "output_type": "display_data"
    },
    {
     "data": {
      "application/json": {
       "ascii": false,
       "bar_format": null,
       "colour": null,
       "elapsed": 0.007155656814575195,
       "initial": 0,
       "n": 0,
       "ncols": null,
       "nrows": 54,
       "postfix": null,
       "prefix": "Batch",
       "rate": null,
       "total": null,
       "unit": "it",
       "unit_divisor": 1000,
       "unit_scale": false
      },
      "application/vnd.jupyter.widget-view+json": {
       "model_id": "e67a1e5b966b4f78aa8337a4a7f63dcc",
       "version_major": 2,
       "version_minor": 0
      },
      "text/plain": [
       "Batch: 0it [00:00, ?it/s]"
      ]
     },
     "metadata": {},
     "output_type": "display_data"
    },
    {
     "data": {
      "application/json": {
       "ascii": false,
       "bar_format": null,
       "colour": null,
       "elapsed": 0.0073359012603759766,
       "initial": 0,
       "n": 0,
       "ncols": null,
       "nrows": 54,
       "postfix": null,
       "prefix": "Batch",
       "rate": null,
       "total": null,
       "unit": "it",
       "unit_divisor": 1000,
       "unit_scale": false
      },
      "application/vnd.jupyter.widget-view+json": {
       "model_id": "7b1c869307a747aaa2747f06f40759bd",
       "version_major": 2,
       "version_minor": 0
      },
      "text/plain": [
       "Batch: 0it [00:00, ?it/s]"
      ]
     },
     "metadata": {},
     "output_type": "display_data"
    },
    {
     "data": {
      "application/json": {
       "ascii": false,
       "bar_format": null,
       "colour": null,
       "elapsed": 0.0073583126068115234,
       "initial": 0,
       "n": 0,
       "ncols": null,
       "nrows": 54,
       "postfix": null,
       "prefix": "Batch",
       "rate": null,
       "total": null,
       "unit": "it",
       "unit_divisor": 1000,
       "unit_scale": false
      },
      "application/vnd.jupyter.widget-view+json": {
       "model_id": "01b5e2700390400cac9eab1d4c5517f1",
       "version_major": 2,
       "version_minor": 0
      },
      "text/plain": [
       "Batch: 0it [00:00, ?it/s]"
      ]
     },
     "metadata": {},
     "output_type": "display_data"
    },
    {
     "data": {
      "application/json": {
       "ascii": false,
       "bar_format": null,
       "colour": null,
       "elapsed": 0.007325649261474609,
       "initial": 0,
       "n": 0,
       "ncols": null,
       "nrows": 54,
       "postfix": null,
       "prefix": "Batch",
       "rate": null,
       "total": null,
       "unit": "it",
       "unit_divisor": 1000,
       "unit_scale": false
      },
      "application/vnd.jupyter.widget-view+json": {
       "model_id": "d7e49baeaa78460ba123cfd24f012e99",
       "version_major": 2,
       "version_minor": 0
      },
      "text/plain": [
       "Batch: 0it [00:00, ?it/s]"
      ]
     },
     "metadata": {},
     "output_type": "display_data"
    },
    {
     "data": {
      "application/json": {
       "ascii": false,
       "bar_format": null,
       "colour": null,
       "elapsed": 0.0070514678955078125,
       "initial": 0,
       "n": 0,
       "ncols": null,
       "nrows": 54,
       "postfix": null,
       "prefix": "Batch",
       "rate": null,
       "total": null,
       "unit": "it",
       "unit_divisor": 1000,
       "unit_scale": false
      },
      "application/vnd.jupyter.widget-view+json": {
       "model_id": "97fe1cd1ef5c4d7ea1ba094938d20a3a",
       "version_major": 2,
       "version_minor": 0
      },
      "text/plain": [
       "Batch: 0it [00:00, ?it/s]"
      ]
     },
     "metadata": {},
     "output_type": "display_data"
    },
    {
     "data": {
      "application/json": {
       "ascii": false,
       "bar_format": null,
       "colour": null,
       "elapsed": 0.007074117660522461,
       "initial": 0,
       "n": 0,
       "ncols": null,
       "nrows": 54,
       "postfix": null,
       "prefix": "Batch",
       "rate": null,
       "total": null,
       "unit": "it",
       "unit_divisor": 1000,
       "unit_scale": false
      },
      "application/vnd.jupyter.widget-view+json": {
       "model_id": "590324c83b554980ae28098787525d56",
       "version_major": 2,
       "version_minor": 0
      },
      "text/plain": [
       "Batch: 0it [00:00, ?it/s]"
      ]
     },
     "metadata": {},
     "output_type": "display_data"
    },
    {
     "data": {
      "application/json": {
       "ascii": false,
       "bar_format": null,
       "colour": null,
       "elapsed": 0.0071163177490234375,
       "initial": 0,
       "n": 0,
       "ncols": null,
       "nrows": 54,
       "postfix": null,
       "prefix": "Batch",
       "rate": null,
       "total": null,
       "unit": "it",
       "unit_divisor": 1000,
       "unit_scale": false
      },
      "application/vnd.jupyter.widget-view+json": {
       "model_id": "55544b0b64164e06ab1c76674417386f",
       "version_major": 2,
       "version_minor": 0
      },
      "text/plain": [
       "Batch: 0it [00:00, ?it/s]"
      ]
     },
     "metadata": {},
     "output_type": "display_data"
    },
    {
     "data": {
      "application/json": {
       "ascii": false,
       "bar_format": null,
       "colour": null,
       "elapsed": 0.007145881652832031,
       "initial": 0,
       "n": 0,
       "ncols": null,
       "nrows": 54,
       "postfix": null,
       "prefix": "Batch",
       "rate": null,
       "total": null,
       "unit": "it",
       "unit_divisor": 1000,
       "unit_scale": false
      },
      "application/vnd.jupyter.widget-view+json": {
       "model_id": "4f0919e799ca45d6a59ed642399e7793",
       "version_major": 2,
       "version_minor": 0
      },
      "text/plain": [
       "Batch: 0it [00:00, ?it/s]"
      ]
     },
     "metadata": {},
     "output_type": "display_data"
    },
    {
     "data": {
      "application/json": {
       "ascii": false,
       "bar_format": null,
       "colour": null,
       "elapsed": 0.0070343017578125,
       "initial": 0,
       "n": 0,
       "ncols": null,
       "nrows": 54,
       "postfix": null,
       "prefix": "Batch",
       "rate": null,
       "total": null,
       "unit": "it",
       "unit_divisor": 1000,
       "unit_scale": false
      },
      "application/vnd.jupyter.widget-view+json": {
       "model_id": "73107d48f00e462ba05c7636df753332",
       "version_major": 2,
       "version_minor": 0
      },
      "text/plain": [
       "Batch: 0it [00:00, ?it/s]"
      ]
     },
     "metadata": {},
     "output_type": "display_data"
    },
    {
     "data": {
      "application/json": {
       "ascii": false,
       "bar_format": null,
       "colour": null,
       "elapsed": 0.0077745914459228516,
       "initial": 0,
       "n": 0,
       "ncols": null,
       "nrows": 54,
       "postfix": null,
       "prefix": "Batch",
       "rate": null,
       "total": null,
       "unit": "it",
       "unit_divisor": 1000,
       "unit_scale": false
      },
      "application/vnd.jupyter.widget-view+json": {
       "model_id": "4c0095502bc742f69df5aff18cb2d87f",
       "version_major": 2,
       "version_minor": 0
      },
      "text/plain": [
       "Batch: 0it [00:00, ?it/s]"
      ]
     },
     "metadata": {},
     "output_type": "display_data"
    },
    {
     "data": {
      "application/json": {
       "ascii": false,
       "bar_format": null,
       "colour": null,
       "elapsed": 0.007041215896606445,
       "initial": 0,
       "n": 0,
       "ncols": null,
       "nrows": 54,
       "postfix": null,
       "prefix": "Batch",
       "rate": null,
       "total": null,
       "unit": "it",
       "unit_divisor": 1000,
       "unit_scale": false
      },
      "application/vnd.jupyter.widget-view+json": {
       "model_id": "ccdb2422de634875a6c1b2b6136cd22e",
       "version_major": 2,
       "version_minor": 0
      },
      "text/plain": [
       "Batch: 0it [00:00, ?it/s]"
      ]
     },
     "metadata": {},
     "output_type": "display_data"
    },
    {
     "data": {
      "application/json": {
       "ascii": false,
       "bar_format": null,
       "colour": null,
       "elapsed": 0.007065296173095703,
       "initial": 0,
       "n": 0,
       "ncols": null,
       "nrows": 54,
       "postfix": null,
       "prefix": "Batch",
       "rate": null,
       "total": null,
       "unit": "it",
       "unit_divisor": 1000,
       "unit_scale": false
      },
      "application/vnd.jupyter.widget-view+json": {
       "model_id": "a55b73d4cf414e918d985d41c6e98a58",
       "version_major": 2,
       "version_minor": 0
      },
      "text/plain": [
       "Batch: 0it [00:00, ?it/s]"
      ]
     },
     "metadata": {},
     "output_type": "display_data"
    },
    {
     "data": {
      "application/json": {
       "ascii": false,
       "bar_format": null,
       "colour": null,
       "elapsed": 0.007057905197143555,
       "initial": 0,
       "n": 0,
       "ncols": null,
       "nrows": 54,
       "postfix": null,
       "prefix": "Batch",
       "rate": null,
       "total": null,
       "unit": "it",
       "unit_divisor": 1000,
       "unit_scale": false
      },
      "application/vnd.jupyter.widget-view+json": {
       "model_id": "68bd9825097b411daccea74c479bf408",
       "version_major": 2,
       "version_minor": 0
      },
      "text/plain": [
       "Batch: 0it [00:00, ?it/s]"
      ]
     },
     "metadata": {},
     "output_type": "display_data"
    },
    {
     "data": {
      "application/json": {
       "ascii": false,
       "bar_format": null,
       "colour": null,
       "elapsed": 0.007223844528198242,
       "initial": 0,
       "n": 0,
       "ncols": null,
       "nrows": 54,
       "postfix": null,
       "prefix": "Batch",
       "rate": null,
       "total": null,
       "unit": "it",
       "unit_divisor": 1000,
       "unit_scale": false
      },
      "application/vnd.jupyter.widget-view+json": {
       "model_id": "d1bf2e3542ec451796937b33fd25e77e",
       "version_major": 2,
       "version_minor": 0
      },
      "text/plain": [
       "Batch: 0it [00:00, ?it/s]"
      ]
     },
     "metadata": {},
     "output_type": "display_data"
    },
    {
     "data": {
      "application/json": {
       "ascii": false,
       "bar_format": null,
       "colour": null,
       "elapsed": 0.007096529006958008,
       "initial": 0,
       "n": 0,
       "ncols": null,
       "nrows": 54,
       "postfix": null,
       "prefix": "Batch",
       "rate": null,
       "total": null,
       "unit": "it",
       "unit_divisor": 1000,
       "unit_scale": false
      },
      "application/vnd.jupyter.widget-view+json": {
       "model_id": "2c63e33eb3804a2991fdacff4e443cdd",
       "version_major": 2,
       "version_minor": 0
      },
      "text/plain": [
       "Batch: 0it [00:00, ?it/s]"
      ]
     },
     "metadata": {},
     "output_type": "display_data"
    },
    {
     "data": {
      "application/json": {
       "ascii": false,
       "bar_format": null,
       "colour": null,
       "elapsed": 0.007096290588378906,
       "initial": 0,
       "n": 0,
       "ncols": null,
       "nrows": 54,
       "postfix": null,
       "prefix": "Batch",
       "rate": null,
       "total": null,
       "unit": "it",
       "unit_divisor": 1000,
       "unit_scale": false
      },
      "application/vnd.jupyter.widget-view+json": {
       "model_id": "e07cdb4f40f64aa0bc9423ded155fde0",
       "version_major": 2,
       "version_minor": 0
      },
      "text/plain": [
       "Batch: 0it [00:00, ?it/s]"
      ]
     },
     "metadata": {},
     "output_type": "display_data"
    },
    {
     "data": {
      "application/json": {
       "ascii": false,
       "bar_format": null,
       "colour": null,
       "elapsed": 0.007081031799316406,
       "initial": 0,
       "n": 0,
       "ncols": null,
       "nrows": 54,
       "postfix": null,
       "prefix": "Batch",
       "rate": null,
       "total": null,
       "unit": "it",
       "unit_divisor": 1000,
       "unit_scale": false
      },
      "application/vnd.jupyter.widget-view+json": {
       "model_id": "539efd2bdf984f0aa99d7beb727bc698",
       "version_major": 2,
       "version_minor": 0
      },
      "text/plain": [
       "Batch: 0it [00:00, ?it/s]"
      ]
     },
     "metadata": {},
     "output_type": "display_data"
    },
    {
     "data": {
      "application/json": {
       "ascii": false,
       "bar_format": null,
       "colour": null,
       "elapsed": 0.007120370864868164,
       "initial": 0,
       "n": 0,
       "ncols": null,
       "nrows": 54,
       "postfix": null,
       "prefix": "Batch",
       "rate": null,
       "total": null,
       "unit": "it",
       "unit_divisor": 1000,
       "unit_scale": false
      },
      "application/vnd.jupyter.widget-view+json": {
       "model_id": "6b7480a0bef14aaa866f29218bfc96d4",
       "version_major": 2,
       "version_minor": 0
      },
      "text/plain": [
       "Batch: 0it [00:00, ?it/s]"
      ]
     },
     "metadata": {},
     "output_type": "display_data"
    },
    {
     "data": {
      "application/json": {
       "ascii": false,
       "bar_format": null,
       "colour": null,
       "elapsed": 0.007071256637573242,
       "initial": 0,
       "n": 0,
       "ncols": null,
       "nrows": 54,
       "postfix": null,
       "prefix": "Batch",
       "rate": null,
       "total": null,
       "unit": "it",
       "unit_divisor": 1000,
       "unit_scale": false
      },
      "application/vnd.jupyter.widget-view+json": {
       "model_id": "c658eecf29ab44b7ac2cb3fbe25adf4c",
       "version_major": 2,
       "version_minor": 0
      },
      "text/plain": [
       "Batch: 0it [00:00, ?it/s]"
      ]
     },
     "metadata": {},
     "output_type": "display_data"
    },
    {
     "data": {
      "application/json": {
       "ascii": false,
       "bar_format": null,
       "colour": null,
       "elapsed": 0.007237434387207031,
       "initial": 0,
       "n": 0,
       "ncols": null,
       "nrows": 54,
       "postfix": null,
       "prefix": "Batch",
       "rate": null,
       "total": null,
       "unit": "it",
       "unit_divisor": 1000,
       "unit_scale": false
      },
      "application/vnd.jupyter.widget-view+json": {
       "model_id": "2218ab4418d0489f91b6ac761b3a806d",
       "version_major": 2,
       "version_minor": 0
      },
      "text/plain": [
       "Batch: 0it [00:00, ?it/s]"
      ]
     },
     "metadata": {},
     "output_type": "display_data"
    },
    {
     "data": {
      "application/json": {
       "ascii": false,
       "bar_format": null,
       "colour": null,
       "elapsed": 0.007252216339111328,
       "initial": 0,
       "n": 0,
       "ncols": null,
       "nrows": 54,
       "postfix": null,
       "prefix": "Batch",
       "rate": null,
       "total": null,
       "unit": "it",
       "unit_divisor": 1000,
       "unit_scale": false
      },
      "application/vnd.jupyter.widget-view+json": {
       "model_id": "374a52ab3e844bc7a38f40cda869b02c",
       "version_major": 2,
       "version_minor": 0
      },
      "text/plain": [
       "Batch: 0it [00:00, ?it/s]"
      ]
     },
     "metadata": {},
     "output_type": "display_data"
    },
    {
     "data": {
      "application/json": {
       "ascii": false,
       "bar_format": null,
       "colour": null,
       "elapsed": 0.0070819854736328125,
       "initial": 0,
       "n": 0,
       "ncols": null,
       "nrows": 54,
       "postfix": null,
       "prefix": "Batch",
       "rate": null,
       "total": null,
       "unit": "it",
       "unit_divisor": 1000,
       "unit_scale": false
      },
      "application/vnd.jupyter.widget-view+json": {
       "model_id": "d5fa32b44fd74523b6f473de4289d939",
       "version_major": 2,
       "version_minor": 0
      },
      "text/plain": [
       "Batch: 0it [00:00, ?it/s]"
      ]
     },
     "metadata": {},
     "output_type": "display_data"
    },
    {
     "data": {
      "application/json": {
       "ascii": false,
       "bar_format": null,
       "colour": null,
       "elapsed": 0.007155656814575195,
       "initial": 0,
       "n": 0,
       "ncols": null,
       "nrows": 54,
       "postfix": null,
       "prefix": "Batch",
       "rate": null,
       "total": null,
       "unit": "it",
       "unit_divisor": 1000,
       "unit_scale": false
      },
      "application/vnd.jupyter.widget-view+json": {
       "model_id": "471ae69082284f3bb6eaecb600cb4bfe",
       "version_major": 2,
       "version_minor": 0
      },
      "text/plain": [
       "Batch: 0it [00:00, ?it/s]"
      ]
     },
     "metadata": {},
     "output_type": "display_data"
    },
    {
     "data": {
      "application/json": {
       "ascii": false,
       "bar_format": null,
       "colour": null,
       "elapsed": 0.007083892822265625,
       "initial": 0,
       "n": 0,
       "ncols": null,
       "nrows": 54,
       "postfix": null,
       "prefix": "Batch",
       "rate": null,
       "total": null,
       "unit": "it",
       "unit_divisor": 1000,
       "unit_scale": false
      },
      "application/vnd.jupyter.widget-view+json": {
       "model_id": "29ee69f5fde245f0957a59e5e427da34",
       "version_major": 2,
       "version_minor": 0
      },
      "text/plain": [
       "Batch: 0it [00:00, ?it/s]"
      ]
     },
     "metadata": {},
     "output_type": "display_data"
    },
    {
     "data": {
      "application/json": {
       "ascii": false,
       "bar_format": null,
       "colour": null,
       "elapsed": 0.007136821746826172,
       "initial": 0,
       "n": 0,
       "ncols": null,
       "nrows": 54,
       "postfix": null,
       "prefix": "Batch",
       "rate": null,
       "total": null,
       "unit": "it",
       "unit_divisor": 1000,
       "unit_scale": false
      },
      "application/vnd.jupyter.widget-view+json": {
       "model_id": "f583116126924292ad9d2d28644c3ad8",
       "version_major": 2,
       "version_minor": 0
      },
      "text/plain": [
       "Batch: 0it [00:00, ?it/s]"
      ]
     },
     "metadata": {},
     "output_type": "display_data"
    },
    {
     "data": {
      "application/json": {
       "ascii": false,
       "bar_format": null,
       "colour": null,
       "elapsed": 0.007172584533691406,
       "initial": 0,
       "n": 0,
       "ncols": null,
       "nrows": 54,
       "postfix": null,
       "prefix": "Batch",
       "rate": null,
       "total": null,
       "unit": "it",
       "unit_divisor": 1000,
       "unit_scale": false
      },
      "application/vnd.jupyter.widget-view+json": {
       "model_id": "8dcfc665ea534111b6923d4c3dea8d8e",
       "version_major": 2,
       "version_minor": 0
      },
      "text/plain": [
       "Batch: 0it [00:00, ?it/s]"
      ]
     },
     "metadata": {},
     "output_type": "display_data"
    },
    {
     "data": {
      "application/json": {
       "ascii": false,
       "bar_format": null,
       "colour": null,
       "elapsed": 0.007002830505371094,
       "initial": 0,
       "n": 0,
       "ncols": null,
       "nrows": 54,
       "postfix": null,
       "prefix": "Batch",
       "rate": null,
       "total": null,
       "unit": "it",
       "unit_divisor": 1000,
       "unit_scale": false
      },
      "application/vnd.jupyter.widget-view+json": {
       "model_id": "c1abed9ae40e459b8d59c159f42221e5",
       "version_major": 2,
       "version_minor": 0
      },
      "text/plain": [
       "Batch: 0it [00:00, ?it/s]"
      ]
     },
     "metadata": {},
     "output_type": "display_data"
    },
    {
     "data": {
      "application/json": {
       "ascii": false,
       "bar_format": null,
       "colour": null,
       "elapsed": 0.007211208343505859,
       "initial": 0,
       "n": 0,
       "ncols": null,
       "nrows": 54,
       "postfix": null,
       "prefix": "Batch",
       "rate": null,
       "total": null,
       "unit": "it",
       "unit_divisor": 1000,
       "unit_scale": false
      },
      "application/vnd.jupyter.widget-view+json": {
       "model_id": "f9e69b65783b42c18a486aca1c04819e",
       "version_major": 2,
       "version_minor": 0
      },
      "text/plain": [
       "Batch: 0it [00:00, ?it/s]"
      ]
     },
     "metadata": {},
     "output_type": "display_data"
    },
    {
     "data": {
      "application/json": {
       "ascii": false,
       "bar_format": null,
       "colour": null,
       "elapsed": 0.0070612430572509766,
       "initial": 0,
       "n": 0,
       "ncols": null,
       "nrows": 54,
       "postfix": null,
       "prefix": "Batch",
       "rate": null,
       "total": null,
       "unit": "it",
       "unit_divisor": 1000,
       "unit_scale": false
      },
      "application/vnd.jupyter.widget-view+json": {
       "model_id": "6a344cdf91ba4e99a745dbb417000c6b",
       "version_major": 2,
       "version_minor": 0
      },
      "text/plain": [
       "Batch: 0it [00:00, ?it/s]"
      ]
     },
     "metadata": {},
     "output_type": "display_data"
    },
    {
     "data": {
      "application/json": {
       "ascii": false,
       "bar_format": null,
       "colour": null,
       "elapsed": 0.007127046585083008,
       "initial": 0,
       "n": 0,
       "ncols": null,
       "nrows": 54,
       "postfix": null,
       "prefix": "Batch",
       "rate": null,
       "total": null,
       "unit": "it",
       "unit_divisor": 1000,
       "unit_scale": false
      },
      "application/vnd.jupyter.widget-view+json": {
       "model_id": "63661fc72ff7482fac3f55c5e44943cd",
       "version_major": 2,
       "version_minor": 0
      },
      "text/plain": [
       "Batch: 0it [00:00, ?it/s]"
      ]
     },
     "metadata": {},
     "output_type": "display_data"
    },
    {
     "data": {
      "application/json": {
       "ascii": false,
       "bar_format": null,
       "colour": null,
       "elapsed": 0.00718235969543457,
       "initial": 0,
       "n": 0,
       "ncols": null,
       "nrows": 54,
       "postfix": null,
       "prefix": "Batch",
       "rate": null,
       "total": null,
       "unit": "it",
       "unit_divisor": 1000,
       "unit_scale": false
      },
      "application/vnd.jupyter.widget-view+json": {
       "model_id": "340492b5082e4b6fae2241ae00fe98be",
       "version_major": 2,
       "version_minor": 0
      },
      "text/plain": [
       "Batch: 0it [00:00, ?it/s]"
      ]
     },
     "metadata": {},
     "output_type": "display_data"
    },
    {
     "data": {
      "application/json": {
       "ascii": false,
       "bar_format": null,
       "colour": null,
       "elapsed": 0.007325410842895508,
       "initial": 0,
       "n": 0,
       "ncols": null,
       "nrows": 54,
       "postfix": null,
       "prefix": "Batch",
       "rate": null,
       "total": null,
       "unit": "it",
       "unit_divisor": 1000,
       "unit_scale": false
      },
      "application/vnd.jupyter.widget-view+json": {
       "model_id": "7be1b72d91cc49bcb90d2f7d5e4b568e",
       "version_major": 2,
       "version_minor": 0
      },
      "text/plain": [
       "Batch: 0it [00:00, ?it/s]"
      ]
     },
     "metadata": {},
     "output_type": "display_data"
    },
    {
     "data": {
      "application/json": {
       "ascii": false,
       "bar_format": null,
       "colour": null,
       "elapsed": 0.007266521453857422,
       "initial": 0,
       "n": 0,
       "ncols": null,
       "nrows": 54,
       "postfix": null,
       "prefix": "Batch",
       "rate": null,
       "total": null,
       "unit": "it",
       "unit_divisor": 1000,
       "unit_scale": false
      },
      "application/vnd.jupyter.widget-view+json": {
       "model_id": "949c898f60334f3282ec13503eeb007c",
       "version_major": 2,
       "version_minor": 0
      },
      "text/plain": [
       "Batch: 0it [00:00, ?it/s]"
      ]
     },
     "metadata": {},
     "output_type": "display_data"
    },
    {
     "data": {
      "application/json": {
       "ascii": false,
       "bar_format": null,
       "colour": null,
       "elapsed": 0.007189512252807617,
       "initial": 0,
       "n": 0,
       "ncols": null,
       "nrows": 54,
       "postfix": null,
       "prefix": "Batch",
       "rate": null,
       "total": null,
       "unit": "it",
       "unit_divisor": 1000,
       "unit_scale": false
      },
      "application/vnd.jupyter.widget-view+json": {
       "model_id": "f7262b1e675f47d596ddb4e1895390d9",
       "version_major": 2,
       "version_minor": 0
      },
      "text/plain": [
       "Batch: 0it [00:00, ?it/s]"
      ]
     },
     "metadata": {},
     "output_type": "display_data"
    },
    {
     "data": {
      "application/json": {
       "ascii": false,
       "bar_format": null,
       "colour": null,
       "elapsed": 0.007130146026611328,
       "initial": 0,
       "n": 0,
       "ncols": null,
       "nrows": 54,
       "postfix": null,
       "prefix": "Batch",
       "rate": null,
       "total": null,
       "unit": "it",
       "unit_divisor": 1000,
       "unit_scale": false
      },
      "application/vnd.jupyter.widget-view+json": {
       "model_id": "a3435d8a194b4b75839940acf1f24c3a",
       "version_major": 2,
       "version_minor": 0
      },
      "text/plain": [
       "Batch: 0it [00:00, ?it/s]"
      ]
     },
     "metadata": {},
     "output_type": "display_data"
    },
    {
     "data": {
      "application/json": {
       "ascii": false,
       "bar_format": null,
       "colour": null,
       "elapsed": 0.0073888301849365234,
       "initial": 0,
       "n": 0,
       "ncols": null,
       "nrows": 54,
       "postfix": null,
       "prefix": "Batch",
       "rate": null,
       "total": null,
       "unit": "it",
       "unit_divisor": 1000,
       "unit_scale": false
      },
      "application/vnd.jupyter.widget-view+json": {
       "model_id": "759f687bdd4d4d8194e3f48cf30549b9",
       "version_major": 2,
       "version_minor": 0
      },
      "text/plain": [
       "Batch: 0it [00:00, ?it/s]"
      ]
     },
     "metadata": {},
     "output_type": "display_data"
    },
    {
     "data": {
      "application/json": {
       "ascii": false,
       "bar_format": null,
       "colour": null,
       "elapsed": 0.007460355758666992,
       "initial": 0,
       "n": 0,
       "ncols": null,
       "nrows": 54,
       "postfix": null,
       "prefix": "Batch",
       "rate": null,
       "total": null,
       "unit": "it",
       "unit_divisor": 1000,
       "unit_scale": false
      },
      "application/vnd.jupyter.widget-view+json": {
       "model_id": "e8d7c7b09b5c4f0387b3ea8d8d1c764d",
       "version_major": 2,
       "version_minor": 0
      },
      "text/plain": [
       "Batch: 0it [00:00, ?it/s]"
      ]
     },
     "metadata": {},
     "output_type": "display_data"
    },
    {
     "data": {
      "application/json": {
       "ascii": false,
       "bar_format": null,
       "colour": null,
       "elapsed": 0.007418632507324219,
       "initial": 0,
       "n": 0,
       "ncols": null,
       "nrows": 54,
       "postfix": null,
       "prefix": "Batch",
       "rate": null,
       "total": null,
       "unit": "it",
       "unit_divisor": 1000,
       "unit_scale": false
      },
      "application/vnd.jupyter.widget-view+json": {
       "model_id": "e7a30163e89d4600ac99f835e4965779",
       "version_major": 2,
       "version_minor": 0
      },
      "text/plain": [
       "Batch: 0it [00:00, ?it/s]"
      ]
     },
     "metadata": {},
     "output_type": "display_data"
    },
    {
     "data": {
      "application/json": {
       "ascii": false,
       "bar_format": null,
       "colour": null,
       "elapsed": 0.007353305816650391,
       "initial": 0,
       "n": 0,
       "ncols": null,
       "nrows": 54,
       "postfix": null,
       "prefix": "Batch",
       "rate": null,
       "total": null,
       "unit": "it",
       "unit_divisor": 1000,
       "unit_scale": false
      },
      "application/vnd.jupyter.widget-view+json": {
       "model_id": "83e28a0ecd6f42fc89a9684f799c4952",
       "version_major": 2,
       "version_minor": 0
      },
      "text/plain": [
       "Batch: 0it [00:00, ?it/s]"
      ]
     },
     "metadata": {},
     "output_type": "display_data"
    },
    {
     "data": {
      "application/json": {
       "ascii": false,
       "bar_format": null,
       "colour": null,
       "elapsed": 0.0071125030517578125,
       "initial": 0,
       "n": 0,
       "ncols": null,
       "nrows": 54,
       "postfix": null,
       "prefix": "Batch",
       "rate": null,
       "total": null,
       "unit": "it",
       "unit_divisor": 1000,
       "unit_scale": false
      },
      "application/vnd.jupyter.widget-view+json": {
       "model_id": "040fcb16d7534e5c96f399484753b27f",
       "version_major": 2,
       "version_minor": 0
      },
      "text/plain": [
       "Batch: 0it [00:00, ?it/s]"
      ]
     },
     "metadata": {},
     "output_type": "display_data"
    },
    {
     "data": {
      "application/json": {
       "ascii": false,
       "bar_format": null,
       "colour": null,
       "elapsed": 0.0070798397064208984,
       "initial": 0,
       "n": 0,
       "ncols": null,
       "nrows": 54,
       "postfix": null,
       "prefix": "Batch",
       "rate": null,
       "total": null,
       "unit": "it",
       "unit_divisor": 1000,
       "unit_scale": false
      },
      "application/vnd.jupyter.widget-view+json": {
       "model_id": "f4e81b802d6340cbb655138752fc112b",
       "version_major": 2,
       "version_minor": 0
      },
      "text/plain": [
       "Batch: 0it [00:00, ?it/s]"
      ]
     },
     "metadata": {},
     "output_type": "display_data"
    },
    {
     "data": {
      "application/json": {
       "ascii": false,
       "bar_format": null,
       "colour": null,
       "elapsed": 0.007039308547973633,
       "initial": 0,
       "n": 0,
       "ncols": null,
       "nrows": 54,
       "postfix": null,
       "prefix": "Batch",
       "rate": null,
       "total": null,
       "unit": "it",
       "unit_divisor": 1000,
       "unit_scale": false
      },
      "application/vnd.jupyter.widget-view+json": {
       "model_id": "570a8448b88a422c9bdcb29966765a3b",
       "version_major": 2,
       "version_minor": 0
      },
      "text/plain": [
       "Batch: 0it [00:00, ?it/s]"
      ]
     },
     "metadata": {},
     "output_type": "display_data"
    },
    {
     "data": {
      "application/json": {
       "ascii": false,
       "bar_format": null,
       "colour": null,
       "elapsed": 0.007189035415649414,
       "initial": 0,
       "n": 0,
       "ncols": null,
       "nrows": 54,
       "postfix": null,
       "prefix": "Batch",
       "rate": null,
       "total": null,
       "unit": "it",
       "unit_divisor": 1000,
       "unit_scale": false
      },
      "application/vnd.jupyter.widget-view+json": {
       "model_id": "32efe65e89d440fb8c4b7032e4453ed2",
       "version_major": 2,
       "version_minor": 0
      },
      "text/plain": [
       "Batch: 0it [00:00, ?it/s]"
      ]
     },
     "metadata": {},
     "output_type": "display_data"
    },
    {
     "data": {
      "application/json": {
       "ascii": false,
       "bar_format": null,
       "colour": null,
       "elapsed": 0.007217884063720703,
       "initial": 0,
       "n": 0,
       "ncols": null,
       "nrows": 54,
       "postfix": null,
       "prefix": "Batch",
       "rate": null,
       "total": null,
       "unit": "it",
       "unit_divisor": 1000,
       "unit_scale": false
      },
      "application/vnd.jupyter.widget-view+json": {
       "model_id": "a5272e6a2ff64ea5abcc7c7d3b7c0027",
       "version_major": 2,
       "version_minor": 0
      },
      "text/plain": [
       "Batch: 0it [00:00, ?it/s]"
      ]
     },
     "metadata": {},
     "output_type": "display_data"
    },
    {
     "data": {
      "application/json": {
       "ascii": false,
       "bar_format": null,
       "colour": null,
       "elapsed": 0.007097959518432617,
       "initial": 0,
       "n": 0,
       "ncols": null,
       "nrows": 54,
       "postfix": null,
       "prefix": "Batch",
       "rate": null,
       "total": null,
       "unit": "it",
       "unit_divisor": 1000,
       "unit_scale": false
      },
      "application/vnd.jupyter.widget-view+json": {
       "model_id": "99159ac9615046fe82195c6a92256b3c",
       "version_major": 2,
       "version_minor": 0
      },
      "text/plain": [
       "Batch: 0it [00:00, ?it/s]"
      ]
     },
     "metadata": {},
     "output_type": "display_data"
    },
    {
     "data": {
      "application/json": {
       "ascii": false,
       "bar_format": null,
       "colour": null,
       "elapsed": 0.007909059524536133,
       "initial": 0,
       "n": 0,
       "ncols": null,
       "nrows": 54,
       "postfix": null,
       "prefix": "Batch",
       "rate": null,
       "total": null,
       "unit": "it",
       "unit_divisor": 1000,
       "unit_scale": false
      },
      "application/vnd.jupyter.widget-view+json": {
       "model_id": "e574672e368b498fb62695a1061a0eec",
       "version_major": 2,
       "version_minor": 0
      },
      "text/plain": [
       "Batch: 0it [00:00, ?it/s]"
      ]
     },
     "metadata": {},
     "output_type": "display_data"
    },
    {
     "data": {
      "application/json": {
       "ascii": false,
       "bar_format": null,
       "colour": null,
       "elapsed": 0.007348060607910156,
       "initial": 0,
       "n": 0,
       "ncols": null,
       "nrows": 54,
       "postfix": null,
       "prefix": "Batch",
       "rate": null,
       "total": null,
       "unit": "it",
       "unit_divisor": 1000,
       "unit_scale": false
      },
      "application/vnd.jupyter.widget-view+json": {
       "model_id": "b9d83296fc7648a7a7f4b19940be0cf2",
       "version_major": 2,
       "version_minor": 0
      },
      "text/plain": [
       "Batch: 0it [00:00, ?it/s]"
      ]
     },
     "metadata": {},
     "output_type": "display_data"
    },
    {
     "data": {
      "application/json": {
       "ascii": false,
       "bar_format": null,
       "colour": null,
       "elapsed": 0.00705718994140625,
       "initial": 0,
       "n": 0,
       "ncols": null,
       "nrows": 54,
       "postfix": null,
       "prefix": "Batch",
       "rate": null,
       "total": null,
       "unit": "it",
       "unit_divisor": 1000,
       "unit_scale": false
      },
      "application/vnd.jupyter.widget-view+json": {
       "model_id": "161ebe3e66494928b47909d501cef8d5",
       "version_major": 2,
       "version_minor": 0
      },
      "text/plain": [
       "Batch: 0it [00:00, ?it/s]"
      ]
     },
     "metadata": {},
     "output_type": "display_data"
    },
    {
     "data": {
      "application/json": {
       "ascii": false,
       "bar_format": null,
       "colour": null,
       "elapsed": 0.0070765018463134766,
       "initial": 0,
       "n": 0,
       "ncols": null,
       "nrows": 54,
       "postfix": null,
       "prefix": "Batch",
       "rate": null,
       "total": null,
       "unit": "it",
       "unit_divisor": 1000,
       "unit_scale": false
      },
      "application/vnd.jupyter.widget-view+json": {
       "model_id": "531832d4f5b74507b2ab625e23b4c8a1",
       "version_major": 2,
       "version_minor": 0
      },
      "text/plain": [
       "Batch: 0it [00:00, ?it/s]"
      ]
     },
     "metadata": {},
     "output_type": "display_data"
    },
    {
     "data": {
      "application/json": {
       "ascii": false,
       "bar_format": null,
       "colour": null,
       "elapsed": 0.0070667266845703125,
       "initial": 0,
       "n": 0,
       "ncols": null,
       "nrows": 54,
       "postfix": null,
       "prefix": "Batch",
       "rate": null,
       "total": null,
       "unit": "it",
       "unit_divisor": 1000,
       "unit_scale": false
      },
      "application/vnd.jupyter.widget-view+json": {
       "model_id": "18ed2bf7ea2e4c799d61921837bcb33c",
       "version_major": 2,
       "version_minor": 0
      },
      "text/plain": [
       "Batch: 0it [00:00, ?it/s]"
      ]
     },
     "metadata": {},
     "output_type": "display_data"
    },
    {
     "data": {
      "application/json": {
       "ascii": false,
       "bar_format": null,
       "colour": null,
       "elapsed": 0.0071561336517333984,
       "initial": 0,
       "n": 0,
       "ncols": null,
       "nrows": 54,
       "postfix": null,
       "prefix": "Batch",
       "rate": null,
       "total": null,
       "unit": "it",
       "unit_divisor": 1000,
       "unit_scale": false
      },
      "application/vnd.jupyter.widget-view+json": {
       "model_id": "d8e0d3abd04441f5b16793776c9a0014",
       "version_major": 2,
       "version_minor": 0
      },
      "text/plain": [
       "Batch: 0it [00:00, ?it/s]"
      ]
     },
     "metadata": {},
     "output_type": "display_data"
    },
    {
     "data": {
      "application/json": {
       "ascii": false,
       "bar_format": null,
       "colour": null,
       "elapsed": 0.007252216339111328,
       "initial": 0,
       "n": 0,
       "ncols": null,
       "nrows": 54,
       "postfix": null,
       "prefix": "Batch",
       "rate": null,
       "total": null,
       "unit": "it",
       "unit_divisor": 1000,
       "unit_scale": false
      },
      "application/vnd.jupyter.widget-view+json": {
       "model_id": "dc93463b161d46338cf22068e808105a",
       "version_major": 2,
       "version_minor": 0
      },
      "text/plain": [
       "Batch: 0it [00:00, ?it/s]"
      ]
     },
     "metadata": {},
     "output_type": "display_data"
    },
    {
     "data": {
      "application/json": {
       "ascii": false,
       "bar_format": null,
       "colour": null,
       "elapsed": 0.007029294967651367,
       "initial": 0,
       "n": 0,
       "ncols": null,
       "nrows": 54,
       "postfix": null,
       "prefix": "Batch",
       "rate": null,
       "total": null,
       "unit": "it",
       "unit_divisor": 1000,
       "unit_scale": false
      },
      "application/vnd.jupyter.widget-view+json": {
       "model_id": "c77286689d064fd48f2a0125b03c6ecf",
       "version_major": 2,
       "version_minor": 0
      },
      "text/plain": [
       "Batch: 0it [00:00, ?it/s]"
      ]
     },
     "metadata": {},
     "output_type": "display_data"
    },
    {
     "data": {
      "application/json": {
       "ascii": false,
       "bar_format": null,
       "colour": null,
       "elapsed": 0.007069826126098633,
       "initial": 0,
       "n": 0,
       "ncols": null,
       "nrows": 54,
       "postfix": null,
       "prefix": "Batch",
       "rate": null,
       "total": null,
       "unit": "it",
       "unit_divisor": 1000,
       "unit_scale": false
      },
      "application/vnd.jupyter.widget-view+json": {
       "model_id": "de0bad58774c4b5885448c5390daf335",
       "version_major": 2,
       "version_minor": 0
      },
      "text/plain": [
       "Batch: 0it [00:00, ?it/s]"
      ]
     },
     "metadata": {},
     "output_type": "display_data"
    },
    {
     "data": {
      "application/json": {
       "ascii": false,
       "bar_format": null,
       "colour": null,
       "elapsed": 0.007317543029785156,
       "initial": 0,
       "n": 0,
       "ncols": null,
       "nrows": 54,
       "postfix": null,
       "prefix": "Batch",
       "rate": null,
       "total": null,
       "unit": "it",
       "unit_divisor": 1000,
       "unit_scale": false
      },
      "application/vnd.jupyter.widget-view+json": {
       "model_id": "3fdeee5e957c4e49ad2f0223616641ac",
       "version_major": 2,
       "version_minor": 0
      },
      "text/plain": [
       "Batch: 0it [00:00, ?it/s]"
      ]
     },
     "metadata": {},
     "output_type": "display_data"
    },
    {
     "data": {
      "application/json": {
       "ascii": false,
       "bar_format": null,
       "colour": null,
       "elapsed": 0.007139921188354492,
       "initial": 0,
       "n": 0,
       "ncols": null,
       "nrows": 54,
       "postfix": null,
       "prefix": "Batch",
       "rate": null,
       "total": null,
       "unit": "it",
       "unit_divisor": 1000,
       "unit_scale": false
      },
      "application/vnd.jupyter.widget-view+json": {
       "model_id": "7119c42d9eff46a3bcc6dac28bbf5179",
       "version_major": 2,
       "version_minor": 0
      },
      "text/plain": [
       "Batch: 0it [00:00, ?it/s]"
      ]
     },
     "metadata": {},
     "output_type": "display_data"
    },
    {
     "data": {
      "application/json": {
       "ascii": false,
       "bar_format": null,
       "colour": null,
       "elapsed": 0.007322788238525391,
       "initial": 0,
       "n": 0,
       "ncols": null,
       "nrows": 54,
       "postfix": null,
       "prefix": "Batch",
       "rate": null,
       "total": null,
       "unit": "it",
       "unit_divisor": 1000,
       "unit_scale": false
      },
      "application/vnd.jupyter.widget-view+json": {
       "model_id": "58a3ab16b827447ca87708c1edb13f6f",
       "version_major": 2,
       "version_minor": 0
      },
      "text/plain": [
       "Batch: 0it [00:00, ?it/s]"
      ]
     },
     "metadata": {},
     "output_type": "display_data"
    },
    {
     "data": {
      "application/json": {
       "ascii": false,
       "bar_format": null,
       "colour": null,
       "elapsed": 0.007188320159912109,
       "initial": 0,
       "n": 0,
       "ncols": null,
       "nrows": 54,
       "postfix": null,
       "prefix": "Batch",
       "rate": null,
       "total": null,
       "unit": "it",
       "unit_divisor": 1000,
       "unit_scale": false
      },
      "application/vnd.jupyter.widget-view+json": {
       "model_id": "a7b252cc276049a09092741f04f766ed",
       "version_major": 2,
       "version_minor": 0
      },
      "text/plain": [
       "Batch: 0it [00:00, ?it/s]"
      ]
     },
     "metadata": {},
     "output_type": "display_data"
    },
    {
     "data": {
      "application/json": {
       "ascii": false,
       "bar_format": null,
       "colour": null,
       "elapsed": 0.0070760250091552734,
       "initial": 0,
       "n": 0,
       "ncols": null,
       "nrows": 54,
       "postfix": null,
       "prefix": "Batch",
       "rate": null,
       "total": null,
       "unit": "it",
       "unit_divisor": 1000,
       "unit_scale": false
      },
      "application/vnd.jupyter.widget-view+json": {
       "model_id": "895d95d80bdd4417a5558104ad71af68",
       "version_major": 2,
       "version_minor": 0
      },
      "text/plain": [
       "Batch: 0it [00:00, ?it/s]"
      ]
     },
     "metadata": {},
     "output_type": "display_data"
    },
    {
     "data": {
      "application/json": {
       "ascii": false,
       "bar_format": null,
       "colour": null,
       "elapsed": 0.00705409049987793,
       "initial": 0,
       "n": 0,
       "ncols": null,
       "nrows": 54,
       "postfix": null,
       "prefix": "Batch",
       "rate": null,
       "total": null,
       "unit": "it",
       "unit_divisor": 1000,
       "unit_scale": false
      },
      "application/vnd.jupyter.widget-view+json": {
       "model_id": "f856343b776b4f44b8ca39a37df22cf2",
       "version_major": 2,
       "version_minor": 0
      },
      "text/plain": [
       "Batch: 0it [00:00, ?it/s]"
      ]
     },
     "metadata": {},
     "output_type": "display_data"
    },
    {
     "data": {
      "application/json": {
       "ascii": false,
       "bar_format": null,
       "colour": null,
       "elapsed": 0.00716710090637207,
       "initial": 0,
       "n": 0,
       "ncols": null,
       "nrows": 54,
       "postfix": null,
       "prefix": "Batch",
       "rate": null,
       "total": null,
       "unit": "it",
       "unit_divisor": 1000,
       "unit_scale": false
      },
      "application/vnd.jupyter.widget-view+json": {
       "model_id": "d3c7d9d6c30f4d55b8c0b416869183e7",
       "version_major": 2,
       "version_minor": 0
      },
      "text/plain": [
       "Batch: 0it [00:00, ?it/s]"
      ]
     },
     "metadata": {},
     "output_type": "display_data"
    },
    {
     "data": {
      "application/json": {
       "ascii": false,
       "bar_format": null,
       "colour": null,
       "elapsed": 0.007519721984863281,
       "initial": 0,
       "n": 0,
       "ncols": null,
       "nrows": 54,
       "postfix": null,
       "prefix": "Batch",
       "rate": null,
       "total": null,
       "unit": "it",
       "unit_divisor": 1000,
       "unit_scale": false
      },
      "application/vnd.jupyter.widget-view+json": {
       "model_id": "45a9aaf748e2453f88ecc1a881a3a077",
       "version_major": 2,
       "version_minor": 0
      },
      "text/plain": [
       "Batch: 0it [00:00, ?it/s]"
      ]
     },
     "metadata": {},
     "output_type": "display_data"
    },
    {
     "data": {
      "application/json": {
       "ascii": false,
       "bar_format": null,
       "colour": null,
       "elapsed": 0.00714111328125,
       "initial": 0,
       "n": 0,
       "ncols": null,
       "nrows": 54,
       "postfix": null,
       "prefix": "Batch",
       "rate": null,
       "total": null,
       "unit": "it",
       "unit_divisor": 1000,
       "unit_scale": false
      },
      "application/vnd.jupyter.widget-view+json": {
       "model_id": "4734a2322a0b4d55a2c76470dbb2f4a8",
       "version_major": 2,
       "version_minor": 0
      },
      "text/plain": [
       "Batch: 0it [00:00, ?it/s]"
      ]
     },
     "metadata": {},
     "output_type": "display_data"
    },
    {
     "data": {
      "application/json": {
       "ascii": false,
       "bar_format": null,
       "colour": null,
       "elapsed": 0.007277250289916992,
       "initial": 0,
       "n": 0,
       "ncols": null,
       "nrows": 54,
       "postfix": null,
       "prefix": "Batch",
       "rate": null,
       "total": null,
       "unit": "it",
       "unit_divisor": 1000,
       "unit_scale": false
      },
      "application/vnd.jupyter.widget-view+json": {
       "model_id": "74e3b7fcf6bb4e7e914e3a4bdab84e33",
       "version_major": 2,
       "version_minor": 0
      },
      "text/plain": [
       "Batch: 0it [00:00, ?it/s]"
      ]
     },
     "metadata": {},
     "output_type": "display_data"
    },
    {
     "data": {
      "application/json": {
       "ascii": false,
       "bar_format": null,
       "colour": null,
       "elapsed": 0.007146120071411133,
       "initial": 0,
       "n": 0,
       "ncols": null,
       "nrows": 54,
       "postfix": null,
       "prefix": "Batch",
       "rate": null,
       "total": null,
       "unit": "it",
       "unit_divisor": 1000,
       "unit_scale": false
      },
      "application/vnd.jupyter.widget-view+json": {
       "model_id": "29720d343c804b15894f407d4a277dc1",
       "version_major": 2,
       "version_minor": 0
      },
      "text/plain": [
       "Batch: 0it [00:00, ?it/s]"
      ]
     },
     "metadata": {},
     "output_type": "display_data"
    },
    {
     "data": {
      "application/json": {
       "ascii": false,
       "bar_format": null,
       "colour": null,
       "elapsed": 0.0069522857666015625,
       "initial": 0,
       "n": 0,
       "ncols": null,
       "nrows": 54,
       "postfix": null,
       "prefix": "Batch",
       "rate": null,
       "total": null,
       "unit": "it",
       "unit_divisor": 1000,
       "unit_scale": false
      },
      "application/vnd.jupyter.widget-view+json": {
       "model_id": "08a46f9ade8b4d8caddd98d699d0cb63",
       "version_major": 2,
       "version_minor": 0
      },
      "text/plain": [
       "Batch: 0it [00:00, ?it/s]"
      ]
     },
     "metadata": {},
     "output_type": "display_data"
    },
    {
     "data": {
      "application/json": {
       "ascii": false,
       "bar_format": null,
       "colour": null,
       "elapsed": 0.007099151611328125,
       "initial": 0,
       "n": 0,
       "ncols": null,
       "nrows": 54,
       "postfix": null,
       "prefix": "Batch",
       "rate": null,
       "total": null,
       "unit": "it",
       "unit_divisor": 1000,
       "unit_scale": false
      },
      "application/vnd.jupyter.widget-view+json": {
       "model_id": "766d9e981eb243a4b18a6dc91ee7a1d9",
       "version_major": 2,
       "version_minor": 0
      },
      "text/plain": [
       "Batch: 0it [00:00, ?it/s]"
      ]
     },
     "metadata": {},
     "output_type": "display_data"
    },
    {
     "data": {
      "application/json": {
       "ascii": false,
       "bar_format": null,
       "colour": null,
       "elapsed": 0.007076740264892578,
       "initial": 0,
       "n": 0,
       "ncols": null,
       "nrows": 54,
       "postfix": null,
       "prefix": "Batch",
       "rate": null,
       "total": null,
       "unit": "it",
       "unit_divisor": 1000,
       "unit_scale": false
      },
      "application/vnd.jupyter.widget-view+json": {
       "model_id": "9932aded6646460ba1e5caf30f1fa3d7",
       "version_major": 2,
       "version_minor": 0
      },
      "text/plain": [
       "Batch: 0it [00:00, ?it/s]"
      ]
     },
     "metadata": {},
     "output_type": "display_data"
    },
    {
     "data": {
      "application/json": {
       "ascii": false,
       "bar_format": null,
       "colour": null,
       "elapsed": 0.007145881652832031,
       "initial": 0,
       "n": 0,
       "ncols": null,
       "nrows": 54,
       "postfix": null,
       "prefix": "Batch",
       "rate": null,
       "total": null,
       "unit": "it",
       "unit_divisor": 1000,
       "unit_scale": false
      },
      "application/vnd.jupyter.widget-view+json": {
       "model_id": "012c684422c3445ab0ea5b94ad6c4123",
       "version_major": 2,
       "version_minor": 0
      },
      "text/plain": [
       "Batch: 0it [00:00, ?it/s]"
      ]
     },
     "metadata": {},
     "output_type": "display_data"
    },
    {
     "data": {
      "application/json": {
       "ascii": false,
       "bar_format": null,
       "colour": null,
       "elapsed": 0.0072481632232666016,
       "initial": 0,
       "n": 0,
       "ncols": null,
       "nrows": 54,
       "postfix": null,
       "prefix": "Batch",
       "rate": null,
       "total": null,
       "unit": "it",
       "unit_divisor": 1000,
       "unit_scale": false
      },
      "application/vnd.jupyter.widget-view+json": {
       "model_id": "f6a8bbc23997478eb3222fb579a94458",
       "version_major": 2,
       "version_minor": 0
      },
      "text/plain": [
       "Batch: 0it [00:00, ?it/s]"
      ]
     },
     "metadata": {},
     "output_type": "display_data"
    },
    {
     "data": {
      "application/json": {
       "ascii": false,
       "bar_format": null,
       "colour": null,
       "elapsed": 0.007075071334838867,
       "initial": 0,
       "n": 0,
       "ncols": null,
       "nrows": 54,
       "postfix": null,
       "prefix": "Batch",
       "rate": null,
       "total": null,
       "unit": "it",
       "unit_divisor": 1000,
       "unit_scale": false
      },
      "application/vnd.jupyter.widget-view+json": {
       "model_id": "f1bb2db3e9df462388d10e469c6ea277",
       "version_major": 2,
       "version_minor": 0
      },
      "text/plain": [
       "Batch: 0it [00:00, ?it/s]"
      ]
     },
     "metadata": {},
     "output_type": "display_data"
    },
    {
     "data": {
      "application/json": {
       "ascii": false,
       "bar_format": null,
       "colour": null,
       "elapsed": 0.006982088088989258,
       "initial": 0,
       "n": 0,
       "ncols": null,
       "nrows": 54,
       "postfix": null,
       "prefix": "Batch",
       "rate": null,
       "total": null,
       "unit": "it",
       "unit_divisor": 1000,
       "unit_scale": false
      },
      "application/vnd.jupyter.widget-view+json": {
       "model_id": "2ae0c144b0714495a94466c2dfefa4ff",
       "version_major": 2,
       "version_minor": 0
      },
      "text/plain": [
       "Batch: 0it [00:00, ?it/s]"
      ]
     },
     "metadata": {},
     "output_type": "display_data"
    },
    {
     "data": {
      "application/json": {
       "ascii": false,
       "bar_format": null,
       "colour": null,
       "elapsed": 0.007157325744628906,
       "initial": 0,
       "n": 0,
       "ncols": null,
       "nrows": 54,
       "postfix": null,
       "prefix": "Batch",
       "rate": null,
       "total": null,
       "unit": "it",
       "unit_divisor": 1000,
       "unit_scale": false
      },
      "application/vnd.jupyter.widget-view+json": {
       "model_id": "e382f5df6b9f4417ac599e86dd79126b",
       "version_major": 2,
       "version_minor": 0
      },
      "text/plain": [
       "Batch: 0it [00:00, ?it/s]"
      ]
     },
     "metadata": {},
     "output_type": "display_data"
    },
    {
     "data": {
      "application/json": {
       "ascii": false,
       "bar_format": null,
       "colour": null,
       "elapsed": 0.007039070129394531,
       "initial": 0,
       "n": 0,
       "ncols": null,
       "nrows": 54,
       "postfix": null,
       "prefix": "Batch",
       "rate": null,
       "total": null,
       "unit": "it",
       "unit_divisor": 1000,
       "unit_scale": false
      },
      "application/vnd.jupyter.widget-view+json": {
       "model_id": "6652a30d6bc04121a2562a28eacd823b",
       "version_major": 2,
       "version_minor": 0
      },
      "text/plain": [
       "Batch: 0it [00:00, ?it/s]"
      ]
     },
     "metadata": {},
     "output_type": "display_data"
    },
    {
     "data": {
      "application/json": {
       "ascii": false,
       "bar_format": null,
       "colour": null,
       "elapsed": 0.007045745849609375,
       "initial": 0,
       "n": 0,
       "ncols": null,
       "nrows": 54,
       "postfix": null,
       "prefix": "Batch",
       "rate": null,
       "total": null,
       "unit": "it",
       "unit_divisor": 1000,
       "unit_scale": false
      },
      "application/vnd.jupyter.widget-view+json": {
       "model_id": "d67ebbc46265446d90619ca6b530da0d",
       "version_major": 2,
       "version_minor": 0
      },
      "text/plain": [
       "Batch: 0it [00:00, ?it/s]"
      ]
     },
     "metadata": {},
     "output_type": "display_data"
    },
    {
     "data": {
      "application/json": {
       "ascii": false,
       "bar_format": null,
       "colour": null,
       "elapsed": 0.007679462432861328,
       "initial": 0,
       "n": 0,
       "ncols": null,
       "nrows": 54,
       "postfix": null,
       "prefix": "Batch",
       "rate": null,
       "total": null,
       "unit": "it",
       "unit_divisor": 1000,
       "unit_scale": false
      },
      "application/vnd.jupyter.widget-view+json": {
       "model_id": "79ce9d8ad58f4b42a07eefd36390f858",
       "version_major": 2,
       "version_minor": 0
      },
      "text/plain": [
       "Batch: 0it [00:00, ?it/s]"
      ]
     },
     "metadata": {},
     "output_type": "display_data"
    },
    {
     "data": {
      "application/json": {
       "ascii": false,
       "bar_format": null,
       "colour": null,
       "elapsed": 0.007370471954345703,
       "initial": 0,
       "n": 0,
       "ncols": null,
       "nrows": 54,
       "postfix": null,
       "prefix": "Batch",
       "rate": null,
       "total": null,
       "unit": "it",
       "unit_divisor": 1000,
       "unit_scale": false
      },
      "application/vnd.jupyter.widget-view+json": {
       "model_id": "80c8bb64a4ce4748a1352061392a832e",
       "version_major": 2,
       "version_minor": 0
      },
      "text/plain": [
       "Batch: 0it [00:00, ?it/s]"
      ]
     },
     "metadata": {},
     "output_type": "display_data"
    },
    {
     "data": {
      "application/json": {
       "ascii": false,
       "bar_format": null,
       "colour": null,
       "elapsed": 0.007027626037597656,
       "initial": 0,
       "n": 0,
       "ncols": null,
       "nrows": 54,
       "postfix": null,
       "prefix": "Batch",
       "rate": null,
       "total": null,
       "unit": "it",
       "unit_divisor": 1000,
       "unit_scale": false
      },
      "application/vnd.jupyter.widget-view+json": {
       "model_id": "db6f70269e9643db90e12449ddd31250",
       "version_major": 2,
       "version_minor": 0
      },
      "text/plain": [
       "Batch: 0it [00:00, ?it/s]"
      ]
     },
     "metadata": {},
     "output_type": "display_data"
    },
    {
     "data": {
      "application/json": {
       "ascii": false,
       "bar_format": null,
       "colour": null,
       "elapsed": 0.0072345733642578125,
       "initial": 0,
       "n": 0,
       "ncols": null,
       "nrows": 54,
       "postfix": null,
       "prefix": "Batch",
       "rate": null,
       "total": null,
       "unit": "it",
       "unit_divisor": 1000,
       "unit_scale": false
      },
      "application/vnd.jupyter.widget-view+json": {
       "model_id": "76c53603a1744e3e9717b5009d862d71",
       "version_major": 2,
       "version_minor": 0
      },
      "text/plain": [
       "Batch: 0it [00:00, ?it/s]"
      ]
     },
     "metadata": {},
     "output_type": "display_data"
    },
    {
     "data": {
      "application/json": {
       "ascii": false,
       "bar_format": null,
       "colour": null,
       "elapsed": 0.007121086120605469,
       "initial": 0,
       "n": 0,
       "ncols": null,
       "nrows": 54,
       "postfix": null,
       "prefix": "Batch",
       "rate": null,
       "total": null,
       "unit": "it",
       "unit_divisor": 1000,
       "unit_scale": false
      },
      "application/vnd.jupyter.widget-view+json": {
       "model_id": "207bd6f3ddfa4222aabe556178c4cf04",
       "version_major": 2,
       "version_minor": 0
      },
      "text/plain": [
       "Batch: 0it [00:00, ?it/s]"
      ]
     },
     "metadata": {},
     "output_type": "display_data"
    },
    {
     "data": {
      "application/json": {
       "ascii": false,
       "bar_format": null,
       "colour": null,
       "elapsed": 0.007789134979248047,
       "initial": 0,
       "n": 0,
       "ncols": null,
       "nrows": 54,
       "postfix": null,
       "prefix": "Batch",
       "rate": null,
       "total": null,
       "unit": "it",
       "unit_divisor": 1000,
       "unit_scale": false
      },
      "application/vnd.jupyter.widget-view+json": {
       "model_id": "c2b923eff3ec44b9bf1a8ec3aba2a49d",
       "version_major": 2,
       "version_minor": 0
      },
      "text/plain": [
       "Batch: 0it [00:00, ?it/s]"
      ]
     },
     "metadata": {},
     "output_type": "display_data"
    },
    {
     "data": {
      "application/json": {
       "ascii": false,
       "bar_format": null,
       "colour": null,
       "elapsed": 0.007970809936523438,
       "initial": 0,
       "n": 0,
       "ncols": null,
       "nrows": 54,
       "postfix": null,
       "prefix": "Batch",
       "rate": null,
       "total": null,
       "unit": "it",
       "unit_divisor": 1000,
       "unit_scale": false
      },
      "application/vnd.jupyter.widget-view+json": {
       "model_id": "38788f4b245e46b7af60bdaaaed6eac3",
       "version_major": 2,
       "version_minor": 0
      },
      "text/plain": [
       "Batch: 0it [00:00, ?it/s]"
      ]
     },
     "metadata": {},
     "output_type": "display_data"
    },
    {
     "data": {
      "application/json": {
       "ascii": false,
       "bar_format": null,
       "colour": null,
       "elapsed": 0.007315874099731445,
       "initial": 0,
       "n": 0,
       "ncols": null,
       "nrows": 54,
       "postfix": null,
       "prefix": "Batch",
       "rate": null,
       "total": null,
       "unit": "it",
       "unit_divisor": 1000,
       "unit_scale": false
      },
      "application/vnd.jupyter.widget-view+json": {
       "model_id": "8f50eb26e8904c2e82190f06c02a29cb",
       "version_major": 2,
       "version_minor": 0
      },
      "text/plain": [
       "Batch: 0it [00:00, ?it/s]"
      ]
     },
     "metadata": {},
     "output_type": "display_data"
    },
    {
     "data": {
      "application/json": {
       "ascii": false,
       "bar_format": null,
       "colour": null,
       "elapsed": 0.009359598159790039,
       "initial": 0,
       "n": 0,
       "ncols": null,
       "nrows": 54,
       "postfix": null,
       "prefix": "Batch",
       "rate": null,
       "total": null,
       "unit": "it",
       "unit_divisor": 1000,
       "unit_scale": false
      },
      "application/vnd.jupyter.widget-view+json": {
       "model_id": "a73efede9b9b4c4bb404d4914c335734",
       "version_major": 2,
       "version_minor": 0
      },
      "text/plain": [
       "Batch: 0it [00:00, ?it/s]"
      ]
     },
     "metadata": {},
     "output_type": "display_data"
    },
    {
     "data": {
      "application/json": {
       "ascii": false,
       "bar_format": null,
       "colour": null,
       "elapsed": 0.0073642730712890625,
       "initial": 0,
       "n": 0,
       "ncols": null,
       "nrows": 54,
       "postfix": null,
       "prefix": "Batch",
       "rate": null,
       "total": null,
       "unit": "it",
       "unit_divisor": 1000,
       "unit_scale": false
      },
      "application/vnd.jupyter.widget-view+json": {
       "model_id": "e7d9e1582d0d410d9d2e74a5625ff5fb",
       "version_major": 2,
       "version_minor": 0
      },
      "text/plain": [
       "Batch: 0it [00:00, ?it/s]"
      ]
     },
     "metadata": {},
     "output_type": "display_data"
    },
    {
     "data": {
      "application/json": {
       "ascii": false,
       "bar_format": null,
       "colour": null,
       "elapsed": 0.007100343704223633,
       "initial": 0,
       "n": 0,
       "ncols": null,
       "nrows": 54,
       "postfix": null,
       "prefix": "Batch",
       "rate": null,
       "total": null,
       "unit": "it",
       "unit_divisor": 1000,
       "unit_scale": false
      },
      "application/vnd.jupyter.widget-view+json": {
       "model_id": "9aff6af0e2d14ecfab077165d7f545a2",
       "version_major": 2,
       "version_minor": 0
      },
      "text/plain": [
       "Batch: 0it [00:00, ?it/s]"
      ]
     },
     "metadata": {},
     "output_type": "display_data"
    },
    {
     "data": {
      "application/json": {
       "ascii": false,
       "bar_format": null,
       "colour": null,
       "elapsed": 0.00719141960144043,
       "initial": 0,
       "n": 0,
       "ncols": null,
       "nrows": 54,
       "postfix": null,
       "prefix": "Batch",
       "rate": null,
       "total": null,
       "unit": "it",
       "unit_divisor": 1000,
       "unit_scale": false
      },
      "application/vnd.jupyter.widget-view+json": {
       "model_id": "4d32dbbc4e834b78ba0be666cc3da674",
       "version_major": 2,
       "version_minor": 0
      },
      "text/plain": [
       "Batch: 0it [00:00, ?it/s]"
      ]
     },
     "metadata": {},
     "output_type": "display_data"
    },
    {
     "data": {
      "application/json": {
       "ascii": false,
       "bar_format": null,
       "colour": null,
       "elapsed": 0.007218360900878906,
       "initial": 0,
       "n": 0,
       "ncols": null,
       "nrows": 54,
       "postfix": null,
       "prefix": "Batch",
       "rate": null,
       "total": null,
       "unit": "it",
       "unit_divisor": 1000,
       "unit_scale": false
      },
      "application/vnd.jupyter.widget-view+json": {
       "model_id": "af6170f7d3324dbc82d9024612c8d70e",
       "version_major": 2,
       "version_minor": 0
      },
      "text/plain": [
       "Batch: 0it [00:00, ?it/s]"
      ]
     },
     "metadata": {},
     "output_type": "display_data"
    },
    {
     "data": {
      "application/json": {
       "ascii": false,
       "bar_format": null,
       "colour": null,
       "elapsed": 0.007236957550048828,
       "initial": 0,
       "n": 0,
       "ncols": null,
       "nrows": 54,
       "postfix": null,
       "prefix": "Batch",
       "rate": null,
       "total": null,
       "unit": "it",
       "unit_divisor": 1000,
       "unit_scale": false
      },
      "application/vnd.jupyter.widget-view+json": {
       "model_id": "734c0dadafe14a95a564155adc5c6850",
       "version_major": 2,
       "version_minor": 0
      },
      "text/plain": [
       "Batch: 0it [00:00, ?it/s]"
      ]
     },
     "metadata": {},
     "output_type": "display_data"
    },
    {
     "data": {
      "application/json": {
       "ascii": false,
       "bar_format": null,
       "colour": null,
       "elapsed": 0.007141828536987305,
       "initial": 0,
       "n": 0,
       "ncols": null,
       "nrows": 54,
       "postfix": null,
       "prefix": "Batch",
       "rate": null,
       "total": null,
       "unit": "it",
       "unit_divisor": 1000,
       "unit_scale": false
      },
      "application/vnd.jupyter.widget-view+json": {
       "model_id": "564f8d87f866433fb67254505e9d5674",
       "version_major": 2,
       "version_minor": 0
      },
      "text/plain": [
       "Batch: 0it [00:00, ?it/s]"
      ]
     },
     "metadata": {},
     "output_type": "display_data"
    },
    {
     "data": {
      "application/json": {
       "ascii": false,
       "bar_format": null,
       "colour": null,
       "elapsed": 0.007436275482177734,
       "initial": 0,
       "n": 0,
       "ncols": null,
       "nrows": 54,
       "postfix": null,
       "prefix": "Batch",
       "rate": null,
       "total": null,
       "unit": "it",
       "unit_divisor": 1000,
       "unit_scale": false
      },
      "application/vnd.jupyter.widget-view+json": {
       "model_id": "8117ab8fb4204e6eb041407bd97b871d",
       "version_major": 2,
       "version_minor": 0
      },
      "text/plain": [
       "Batch: 0it [00:00, ?it/s]"
      ]
     },
     "metadata": {},
     "output_type": "display_data"
    },
    {
     "data": {
      "application/json": {
       "ascii": false,
       "bar_format": null,
       "colour": null,
       "elapsed": 0.007266998291015625,
       "initial": 0,
       "n": 0,
       "ncols": null,
       "nrows": 54,
       "postfix": null,
       "prefix": "Batch",
       "rate": null,
       "total": null,
       "unit": "it",
       "unit_divisor": 1000,
       "unit_scale": false
      },
      "application/vnd.jupyter.widget-view+json": {
       "model_id": "d10f98bdabea44b980bd692db4484058",
       "version_major": 2,
       "version_minor": 0
      },
      "text/plain": [
       "Batch: 0it [00:00, ?it/s]"
      ]
     },
     "metadata": {},
     "output_type": "display_data"
    },
    {
     "data": {
      "application/json": {
       "ascii": false,
       "bar_format": null,
       "colour": null,
       "elapsed": 0.007177591323852539,
       "initial": 0,
       "n": 0,
       "ncols": null,
       "nrows": 54,
       "postfix": null,
       "prefix": "Batch",
       "rate": null,
       "total": null,
       "unit": "it",
       "unit_divisor": 1000,
       "unit_scale": false
      },
      "application/vnd.jupyter.widget-view+json": {
       "model_id": "9922b66db17448ad82d6647326c4d4cb",
       "version_major": 2,
       "version_minor": 0
      },
      "text/plain": [
       "Batch: 0it [00:00, ?it/s]"
      ]
     },
     "metadata": {},
     "output_type": "display_data"
    },
    {
     "data": {
      "application/json": {
       "ascii": false,
       "bar_format": null,
       "colour": null,
       "elapsed": 0.007202863693237305,
       "initial": 0,
       "n": 0,
       "ncols": null,
       "nrows": 54,
       "postfix": null,
       "prefix": "Batch",
       "rate": null,
       "total": null,
       "unit": "it",
       "unit_divisor": 1000,
       "unit_scale": false
      },
      "application/vnd.jupyter.widget-view+json": {
       "model_id": "2e5ab3fcf5e14c4488ae0d3b6f03c35d",
       "version_major": 2,
       "version_minor": 0
      },
      "text/plain": [
       "Batch: 0it [00:00, ?it/s]"
      ]
     },
     "metadata": {},
     "output_type": "display_data"
    },
    {
     "data": {
      "application/json": {
       "ascii": false,
       "bar_format": null,
       "colour": null,
       "elapsed": 0.00722956657409668,
       "initial": 0,
       "n": 0,
       "ncols": null,
       "nrows": 54,
       "postfix": null,
       "prefix": "Batch",
       "rate": null,
       "total": null,
       "unit": "it",
       "unit_divisor": 1000,
       "unit_scale": false
      },
      "application/vnd.jupyter.widget-view+json": {
       "model_id": "e40df06ff46e440fbd525dafe706dbb9",
       "version_major": 2,
       "version_minor": 0
      },
      "text/plain": [
       "Batch: 0it [00:00, ?it/s]"
      ]
     },
     "metadata": {},
     "output_type": "display_data"
    },
    {
     "data": {
      "application/json": {
       "ascii": false,
       "bar_format": null,
       "colour": null,
       "elapsed": 0.007192373275756836,
       "initial": 0,
       "n": 0,
       "ncols": null,
       "nrows": 54,
       "postfix": null,
       "prefix": "Batch",
       "rate": null,
       "total": null,
       "unit": "it",
       "unit_divisor": 1000,
       "unit_scale": false
      },
      "application/vnd.jupyter.widget-view+json": {
       "model_id": "32270e01e4c0494292e0036701da1da3",
       "version_major": 2,
       "version_minor": 0
      },
      "text/plain": [
       "Batch: 0it [00:00, ?it/s]"
      ]
     },
     "metadata": {},
     "output_type": "display_data"
    },
    {
     "data": {
      "application/json": {
       "ascii": false,
       "bar_format": null,
       "colour": null,
       "elapsed": 0.007333040237426758,
       "initial": 0,
       "n": 0,
       "ncols": null,
       "nrows": 54,
       "postfix": null,
       "prefix": "Batch",
       "rate": null,
       "total": null,
       "unit": "it",
       "unit_divisor": 1000,
       "unit_scale": false
      },
      "application/vnd.jupyter.widget-view+json": {
       "model_id": "26fb15fbf49545489042d4030c8f018d",
       "version_major": 2,
       "version_minor": 0
      },
      "text/plain": [
       "Batch: 0it [00:00, ?it/s]"
      ]
     },
     "metadata": {},
     "output_type": "display_data"
    },
    {
     "data": {
      "application/json": {
       "ascii": false,
       "bar_format": null,
       "colour": null,
       "elapsed": 0.007140159606933594,
       "initial": 0,
       "n": 0,
       "ncols": null,
       "nrows": 54,
       "postfix": null,
       "prefix": "Batch",
       "rate": null,
       "total": null,
       "unit": "it",
       "unit_divisor": 1000,
       "unit_scale": false
      },
      "application/vnd.jupyter.widget-view+json": {
       "model_id": "b3e9db67247f4cbfbf038174a381f569",
       "version_major": 2,
       "version_minor": 0
      },
      "text/plain": [
       "Batch: 0it [00:00, ?it/s]"
      ]
     },
     "metadata": {},
     "output_type": "display_data"
    },
    {
     "data": {
      "application/json": {
       "ascii": false,
       "bar_format": null,
       "colour": null,
       "elapsed": 0.007455110549926758,
       "initial": 0,
       "n": 0,
       "ncols": null,
       "nrows": 54,
       "postfix": null,
       "prefix": "Batch",
       "rate": null,
       "total": null,
       "unit": "it",
       "unit_divisor": 1000,
       "unit_scale": false
      },
      "application/vnd.jupyter.widget-view+json": {
       "model_id": "510dbdc9e49a4696b409eb89eece93b6",
       "version_major": 2,
       "version_minor": 0
      },
      "text/plain": [
       "Batch: 0it [00:00, ?it/s]"
      ]
     },
     "metadata": {},
     "output_type": "display_data"
    },
    {
     "data": {
      "application/json": {
       "ascii": false,
       "bar_format": null,
       "colour": null,
       "elapsed": 0.007246494293212891,
       "initial": 0,
       "n": 0,
       "ncols": null,
       "nrows": 54,
       "postfix": null,
       "prefix": "Batch",
       "rate": null,
       "total": null,
       "unit": "it",
       "unit_divisor": 1000,
       "unit_scale": false
      },
      "application/vnd.jupyter.widget-view+json": {
       "model_id": "2c9c2d5afc2d456b8cdf957a16bf4a9a",
       "version_major": 2,
       "version_minor": 0
      },
      "text/plain": [
       "Batch: 0it [00:00, ?it/s]"
      ]
     },
     "metadata": {},
     "output_type": "display_data"
    },
    {
     "data": {
      "application/json": {
       "ascii": false,
       "bar_format": null,
       "colour": null,
       "elapsed": 0.007175445556640625,
       "initial": 0,
       "n": 0,
       "ncols": null,
       "nrows": 54,
       "postfix": null,
       "prefix": "Batch",
       "rate": null,
       "total": null,
       "unit": "it",
       "unit_divisor": 1000,
       "unit_scale": false
      },
      "application/vnd.jupyter.widget-view+json": {
       "model_id": "7557d8dccc7a42188c85b1d0f60aba44",
       "version_major": 2,
       "version_minor": 0
      },
      "text/plain": [
       "Batch: 0it [00:00, ?it/s]"
      ]
     },
     "metadata": {},
     "output_type": "display_data"
    },
    {
     "data": {
      "application/json": {
       "ascii": false,
       "bar_format": null,
       "colour": null,
       "elapsed": 0.00712895393371582,
       "initial": 0,
       "n": 0,
       "ncols": null,
       "nrows": 54,
       "postfix": null,
       "prefix": "Batch",
       "rate": null,
       "total": null,
       "unit": "it",
       "unit_divisor": 1000,
       "unit_scale": false
      },
      "application/vnd.jupyter.widget-view+json": {
       "model_id": "ac3d142eb82a4c08ab8079b9298327ba",
       "version_major": 2,
       "version_minor": 0
      },
      "text/plain": [
       "Batch: 0it [00:00, ?it/s]"
      ]
     },
     "metadata": {},
     "output_type": "display_data"
    },
    {
     "data": {
      "application/json": {
       "ascii": false,
       "bar_format": null,
       "colour": null,
       "elapsed": 0.007371425628662109,
       "initial": 0,
       "n": 0,
       "ncols": null,
       "nrows": 54,
       "postfix": null,
       "prefix": "Batch",
       "rate": null,
       "total": null,
       "unit": "it",
       "unit_divisor": 1000,
       "unit_scale": false
      },
      "application/vnd.jupyter.widget-view+json": {
       "model_id": "948b66b37cb54d6d97cdc1422866ac49",
       "version_major": 2,
       "version_minor": 0
      },
      "text/plain": [
       "Batch: 0it [00:00, ?it/s]"
      ]
     },
     "metadata": {},
     "output_type": "display_data"
    },
    {
     "data": {
      "application/json": {
       "ascii": false,
       "bar_format": null,
       "colour": null,
       "elapsed": 0.007157564163208008,
       "initial": 0,
       "n": 0,
       "ncols": null,
       "nrows": 54,
       "postfix": null,
       "prefix": "Batch",
       "rate": null,
       "total": null,
       "unit": "it",
       "unit_divisor": 1000,
       "unit_scale": false
      },
      "application/vnd.jupyter.widget-view+json": {
       "model_id": "5a038d7ef8e14fe0bf1a2f9f013a544b",
       "version_major": 2,
       "version_minor": 0
      },
      "text/plain": [
       "Batch: 0it [00:00, ?it/s]"
      ]
     },
     "metadata": {},
     "output_type": "display_data"
    },
    {
     "name": "stdout",
     "output_type": "stream",
     "text": [
      "Loading best params...\n"
     ]
    }
   ],
   "source": [
    "class LstmModel(nn.Module):\n",
    "    def __init__(self, input_dim, output_dim, device=\"cuda:0\", features = None):\n",
    "        super(LstmModel, self).__init__()\n",
    "        self.inp = input_dim + 4\n",
    "        self.out = output_dim\n",
    "        self.features = (\"[UNK]\", \"[PAD]\", \"[BOS]\", \"[EOS]\", *features) or ()\n",
    "        \n",
    "        _EMB_SIZE = 100\n",
    "        _HID_SIZE = 128\n",
    "        \n",
    "        self._emb = nn.Sequential(nn.Embedding(self.inp, _EMB_SIZE), nn.Dropout(.1))\n",
    "        self._lstm = nn.LSTM(_EMB_SIZE, hidden_size=_HID_SIZE, bidirectional=True, batch_first=True)\n",
    "        # HID_SIZE*4 because CONCAT first and last\n",
    "        self._lin = nn.Sequential(nn.Dropout(.1), nn.Linear(_HID_SIZE*4, _HID_SIZE*2), nn.Linear(_HID_SIZE*2, self.out))\n",
    "        self.to(device)\n",
    "        \n",
    "        \n",
    "    @classmethod\n",
    "    def from_input(cls, transcriptions, classes, device=\"cuda:0\"):\n",
    "        features = tuple(set([char for sentence in transcriptions for char in sentence]))\n",
    "        input_dim = len(features)+2\n",
    "        output_dim = len(np.unique(classes))\n",
    "        return cls(features=features, input_dim=input_dim, output_dim=output_dim, device=device)\n",
    "        \n",
    "    def forward(self, matrix, lengths):\n",
    "        matrix = self._emb(matrix)\n",
    "        matrix = self.pack(matrix, lengths)\n",
    "        matrix, z = self._lstm(matrix)\n",
    "        matrix, _ = pad_packed_sequence(matrix, batch_first=True)\n",
    "        first = matrix[:, 0, :]\n",
    "        last = matrix[range(matrix.shape[0]), lengths-1, :]\n",
    "        \n",
    "        return self._lin(torch.cat([first, last], dim=-1))\n",
    "        \n",
    "    def encode(self, string):\n",
    "        if isinstance(string, list):\n",
    "            return np.array([self.encode(s) for s in string])\n",
    "        # Add BOS and EOS ([2] and [3])\n",
    "        return np.array([2] + list([self.features.index(c) if c in self.features else 0 for c in string]) + [3])\n",
    "        \n",
    "    def get_batches(self, X, Y=None, batch_size=256):\n",
    "        samples = X.shape[0]\n",
    "        for index in range(0, samples, batch_size):\n",
    "            matrix = X[index:min(index+batch_size,samples)]\n",
    "            lengths = [len(x) for x in matrix] # Add 2 for EOS/BOS\n",
    "            matrix = self.pad([torch.tensor(vector) for vector in matrix])\n",
    "            yield (\n",
    "                matrix.cuda(),\n",
    "                torch.tensor(lengths),\n",
    "                var(Y[index:min(index+batch_size,samples)]) if Y is not None else None\n",
    "            )\n",
    "    \n",
    "    def check_and_encode(self, inputs):\n",
    "        if isinstance(inputs, list):\n",
    "            # It's a raw input\n",
    "            return self.encode(inputs)\n",
    "        return inputs\n",
    "        \n",
    "    def fit(self, inputs, truthes, \n",
    "              dev_set,\n",
    "              epochs=1000, max_bad_epochs=10, batch_size=128, lr=5e-3,\n",
    "             delta=.005, use_loss=True):\n",
    "        \n",
    "        criterion = torch.nn.CrossEntropyLoss() \n",
    "        optimizer = torch.optim.Adam(self.parameters(), lr=lr)\n",
    "        \n",
    "        best = float(\"-inf\")\n",
    "        if use_loss:\n",
    "            best = float(\"inf\")\n",
    "        bad_epochs = 0\n",
    "        best_params = self.state_dict()\n",
    "        \n",
    "        dev_x, dev_y = dev_set\n",
    "        \n",
    "        inputs = self.check_and_encode(inputs)\n",
    "        dev_x = self.check_and_encode(dev_x)\n",
    "        \n",
    "        for epoch in (pbar := tqdm.tqdm(range(epochs), position=0, leave=True)):\n",
    "            nb_batches = truthes.shape[0] // batch_size + int(truthes.shape[0] % batch_size)\n",
    "            \n",
    "            # Shuffle input\n",
    "            shuffle_indices = np.random.permutation(truthes.shape[0])\n",
    "            \n",
    "            epoch_loss = torch.tensor(.0)\n",
    "            # ToDo : Start the fucking encoding of Transcription.\n",
    "            for batch_idx, (xs, length, ys) in enumerate(\n",
    "                tqdm.tqdm(\n",
    "                    self.get_batches(inputs[shuffle_indices], truthes[shuffle_indices], batch_size=batch_size),\n",
    "                    position=1, \n",
    "                    leave=True,\n",
    "                    desc=\"Batch (Train)\"\n",
    "                )\n",
    "            ):\n",
    "                outputs = self(xs, length)\n",
    "\n",
    "                loss = criterion(outputs, ys)\n",
    "                epoch_loss += loss.item()\n",
    "                loss.backward()\n",
    "\n",
    "            # update parameters\n",
    "            optimizer.step()\n",
    "            optimizer.zero_grad()\n",
    "            epoch_loss = epoch_loss / (batch_idx+1)\n",
    "\n",
    "            self.eval()\n",
    "            pred_dev = self.pred(dev_x, batch_size=batch_size, _verbose=False)\n",
    "            acc = accuracy_score(pred_dev, dev_y)\n",
    "            self.train()\n",
    "            \n",
    "            factor = 100\n",
    "            if use_loss:\n",
    "                factor = 1\n",
    "            \n",
    "            pbar.set_description(f'BAD:{bad_epochs:0>2} LOSS:{epoch_loss.item():.2f} ACC:{acc*100:.1f} BEST:{best*factor:.1f} ')\n",
    "            \n",
    "            if use_loss:\n",
    "                if abs(epoch_loss - best) > delta and epoch_loss < best:\n",
    "                    best = epoch_loss\n",
    "                    bad_epochs = 0\n",
    "                    best_params = self.state_dict()\n",
    "                else:\n",
    "                    bad_epochs += 1\n",
    "                    if bad_epochs == max_bad_epochs + 1:\n",
    "                        break\n",
    "            else:\n",
    "                if abs(acc - best) > delta and acc > best:\n",
    "                    best = acc\n",
    "                    bad_epochs = 0\n",
    "                    best_params = self.state_dict()\n",
    "                else:\n",
    "                    bad_epochs += 1\n",
    "                    if bad_epochs == max_bad_epochs + 1:\n",
    "                        break\n",
    "\n",
    "            #if accum_loss < 2e-5:\n",
    "            #    break\n",
    "        print(\"Loading best params...\")\n",
    "        self.load_state_dict(best_params)\n",
    "        self.eval()\n",
    "        \n",
    "    def pad(self, matrix):\n",
    "        return pad_sequence(matrix, batch_first=True, padding_value=self.features.index(\"[PAD]\"))\n",
    "    \n",
    "    def pack(self, matrix, lengths):\n",
    "        return pack_padded_sequence(matrix, lengths, batch_first=True, enforce_sorted=False)\n",
    "        \n",
    "    def pred(self, inputs, batch_size=256, _verbose: bool = False):\n",
    "        out = []\n",
    "        \n",
    "        if _verbose:\n",
    "            deco = tqdm.tqdm\n",
    "        else:\n",
    "            deco = lambda x: x\n",
    "        \n",
    "        inputs = self.check_and_encode(inputs)\n",
    "            \n",
    "        for (xs, length, _) in deco(self.get_batches(inputs, batch_size=batch_size)):\n",
    "            out.extend(self(xs, length).argmax(dim=-1).cpu().flatten().tolist())\n",
    "        return np.array(out)\n",
    "    \n",
    "    def save(self, name):\n",
    "        torch.save(self.state_dict(), f\"{name}.pt\")\n",
    "        with open(f\"{name}.json\", \"w\") as f:\n",
    "            json.dump(self.features, f)\n",
    "            \n",
    "train, dev, test = get_kfold_train_test(df, 4)\n",
    "\n",
    "YCs, XTranscriptions = get_features(train)\n",
    "YC3s, XTranscription3s = get_features(dev)\n",
    "YC2s, XTranscription2s = get_features(test)\n",
    "\n",
    "lstm = LstmModel.from_input(XTranscriptions, YCs)\n",
    "lstm.fit(XTranscriptions, YCs, (XTranscription3s, YC3s), delta=.01)\n"
   ]
  },
  {
   "cell_type": "code",
   "execution_count": 27,
   "id": "3ceaa9cf",
   "metadata": {},
   "outputs": [
    {
     "name": "stderr",
     "output_type": "stream",
     "text": [
      "/tmp/ipykernel_493573/1196948295.py:37: VisibleDeprecationWarning: Creating an ndarray from ragged nested sequences (which is a list-or-tuple of lists-or-tuples-or ndarrays with different lengths or shapes) is deprecated. If you meant to do this, you must specify 'dtype=object' when creating the ndarray.\n",
      "  return np.array([self.encode(s) for s in string])\n"
     ]
    },
    {
     "data": {
      "text/plain": [
       "0.7975399939631753"
      ]
     },
     "execution_count": 27,
     "metadata": {},
     "output_type": "execute_result"
    }
   ],
   "source": [
    "preds = lstm.pred(lstm.check_and_encode(XTranscription2s))\n",
    "((YC2s < 2) == (preds < 2)).sum() / len(preds)"
   ]
  },
  {
   "cell_type": "code",
   "execution_count": 28,
   "id": "6d8791e2",
   "metadata": {},
   "outputs": [],
   "source": [
    "lstm.save(\"good-model-lstm\")"
   ]
  }
 ],
 "metadata": {
  "kernelspec": {
   "display_name": "Python 3 (ipykernel)",
   "language": "python",
   "name": "python3"
  },
  "language_info": {
   "codemirror_mode": {
    "name": "ipython",
    "version": 3
   },
   "file_extension": ".py",
   "mimetype": "text/x-python",
   "name": "python",
   "nbconvert_exporter": "python",
   "pygments_lexer": "ipython3",
   "version": "3.8.13"
  }
 },
 "nbformat": 4,
 "nbformat_minor": 5
}
